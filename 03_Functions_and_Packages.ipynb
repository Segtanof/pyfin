{
 "cells": [
  {
   "cell_type": "markdown",
   "metadata": {
    "colab_type": "text",
    "id": "view-in-github"
   },
   "source": [
    "<a href=\"https://colab.research.google.com/github/Segtanof/pyfin/blob/main/03_Functions_and_Packages.ipynb\" target=\"_parent\"><img src=\"https://colab.research.google.com/assets/colab-badge.svg\" alt=\"Open In Colab\"/></a>"
   ]
  },
  {
   "cell_type": "markdown",
   "metadata": {
    "id": "xYAM9bE3UnOB"
   },
   "source": [
    "# Functions and Packages"
   ]
  },
  {
   "cell_type": "markdown",
   "metadata": {
    "id": "x5zMtO52UtCI"
   },
   "source": [
    "## Functions\n",
    "So far we have already used many functions, such as `print()` or `type()`, but we never discussed them in detail.\n",
    "\n",
    "> A function is an object that executes code with certain variables (arguments) when it is executed (called).\n",
    "\n",
    "Functions can be used to implement code that performs a specifically\n",
    "defined task. We use functions for two main reasons:\n",
    "\n",
    "1.  A function can be called multiple times, avoiding to\n",
    "    write code again and again.\n",
    "2.  Even if a function is not called frequently, functions\n",
    "    allow us to write code that is \"shielded\" from other code\n",
    "    we write and is called via a clean interface.\n",
    "    This helps to write more robust and error-free code.\n",
    "\n",
    "  To write a simple function, we\n",
    "  - Use the keyword `def` (short for \"define\"),\n",
    "  - The an (arbitary) function name and parentheses, i.e. `def function_name()`\n",
    "  - write expected arguments within the parentheses `def function_name(arg1, arg2, ...)`\n",
    "  - write the actual code block using indentation"
   ]
  },
  {
   "cell_type": "markdown",
   "metadata": {
    "id": "FYnOUMxmdyZI"
   },
   "source": [
    "Example: The blender in your kitchen could be considered a \"function\". You throw some fruit (arguments) into it and you get a smoothie back."
   ]
  },
  {
   "cell_type": "markdown",
   "metadata": {
    "id": "FIjJzLqHjHow"
   },
   "source": [
    "### A first function"
   ]
  },
  {
   "cell_type": "markdown",
   "metadata": {
    "id": "Y7lG2UejXuvr"
   },
   "source": [
    "For example, a function that adds one to the input number and prints the result:"
   ]
  },
  {
   "cell_type": "code",
   "execution_count": 2,
   "metadata": {
    "id": "XPRmT7GJUiSN"
   },
   "outputs": [],
   "source": [
    "def add_one(number): # Define a function named 'add_one', that has the argument 'number'...\n",
    "  print(number+1) # ...that adds one to the number and prints it"
   ]
  },
  {
   "cell_type": "code",
   "execution_count": 3,
   "metadata": {
    "id": "8tnAGoX5Kz0x"
   },
   "outputs": [
    {
     "data": {
      "text/plain": [
       "<function __main__.add_one(number)>"
      ]
     },
     "execution_count": 3,
     "metadata": {},
     "output_type": "execute_result"
    }
   ],
   "source": [
    "add_one\n",
    "# type(add_one) -> function"
   ]
  },
  {
   "cell_type": "markdown",
   "metadata": {
    "id": "O6YVEdJ2X6x2"
   },
   "source": [
    "The function is now stored like any other variable and we can access it in every code cell."
   ]
  },
  {
   "cell_type": "code",
   "execution_count": 4,
   "metadata": {
    "id": "zgYP3g2TF1iH"
   },
   "outputs": [
    {
     "name": "stdout",
     "output_type": "stream",
     "text": [
      "11\n"
     ]
    }
   ],
   "source": [
    "add_one(10) # Call the function (= execute it) and set the argument number = 10"
   ]
  },
  {
   "cell_type": "code",
   "execution_count": 5,
   "metadata": {
    "id": "IFit21TZYLU5"
   },
   "outputs": [
    {
     "name": "stdout",
     "output_type": "stream",
     "text": [
      "15\n",
      "3\n"
     ]
    }
   ],
   "source": [
    "add_one(14)\n",
    "add_one(2)"
   ]
  },
  {
   "cell_type": "markdown",
   "metadata": {
    "id": "Ejl68TVKK43o"
   },
   "source": [
    "We can (optionally) write `argument = value` for each of the function arguments:"
   ]
  },
  {
   "cell_type": "code",
   "execution_count": 6,
   "metadata": {
    "id": "XMvaNNDwF7sk"
   },
   "outputs": [
    {
     "name": "stdout",
     "output_type": "stream",
     "text": [
      "21\n"
     ]
    }
   ],
   "source": [
    "add_one(number = 20)"
   ]
  },
  {
   "cell_type": "code",
   "execution_count": 7,
   "metadata": {},
   "outputs": [
    {
     "name": "stdout",
     "output_type": "stream",
     "text": [
      "2\n"
     ]
    }
   ],
   "source": [
    "add_one(number= 1)"
   ]
  },
  {
   "cell_type": "markdown",
   "metadata": {
    "id": "LbdUthQeSaLX"
   },
   "source": [
    "**Quick exercise**\n",
    "\n",
    "Write a function that adds 0.543 to the number passed as argument and prints it rounded to 1 decimal place."
   ]
  },
  {
   "cell_type": "code",
   "execution_count": 11,
   "metadata": {},
   "outputs": [
    {
     "name": "stdout",
     "output_type": "stream",
     "text": [
      "4.5\n"
     ]
    }
   ],
   "source": [
    "def weird_func(i):\n",
    "    print(f\"{(i + .543):.1f}\")\n",
    "\n",
    "weird_func(4)"
   ]
  },
  {
   "cell_type": "markdown",
   "metadata": {
    "id": "qScv5AmMUN7d"
   },
   "source": [
    "### Name spaces\n",
    "\n",
    "Your brother is James.\n",
    "\n",
    "Assume you go to the office. Your colleagues are there. You walk into the room and say: \"Hi James, how are you?\"\n",
    "\n",
    "Later that day, you go to the gym. As you walk in, you greet someone \"Hi James, haven't seen you in a while!\"\n",
    "\n",
    "On your way home, in the bus, you meet a (random) person who recognizes you and asks: \"How is James these days?\"\n",
    "\n",
    "One was in the name space \"office\". The other was in the name space \"friends\". And your brother is probably the first person you think about if there is no clear indication otherwise."
   ]
  },
  {
   "cell_type": "code",
   "execution_count": 4,
   "metadata": {
    "id": "SKOv4kATYeMV"
   },
   "outputs": [
    {
     "name": "stdout",
     "output_type": "stream",
     "text": [
      "James, the brother\n",
      "My colleagues are Ms. Moneypenny and James, the colleague\n",
      "My friends are Elizabeth and James, the friend\n",
      "James, the brother\n"
     ]
    }
   ],
   "source": [
    "james = \"brother\" # Set James in the global name space\n",
    "\n",
    "def office(names):\n",
    "  james = \"colleague\" # Set James in the local name space\n",
    "  print(f\"My colleagues are {names} and James, the {james}\")\n",
    "\n",
    "def friends(names):\n",
    "  james = \"friend\" # Set James in the local name space\n",
    "  print(f\"My friends are {names} and James, the {james}\")\n",
    "\n",
    "# Let's check the global name space\n",
    "print(f\"James, the {james}\")\n",
    "\n",
    "# Let's check the office name space\n",
    "office(\"Ms. Moneypenny\")\n",
    "\n",
    "# Let's check the friends name space\n",
    "friends(\"Elizabeth\")\n",
    "\n",
    "# Double check that the global name space is unchanged\n",
    "print(f\"James, the {james}\")"
   ]
  },
  {
   "cell_type": "code",
   "execution_count": 9,
   "metadata": {},
   "outputs": [
    {
     "name": "stdout",
     "output_type": "stream",
     "text": [
      "My colleagues are eli and James, the colleague\n"
     ]
    }
   ],
   "source": [
    "a = office(\"eli\")\n",
    "b = str(a)\n",
    "\n"
   ]
  },
  {
   "cell_type": "code",
   "execution_count": 32,
   "metadata": {},
   "outputs": [
    {
     "name": "stdout",
     "output_type": "stream",
     "text": [
      "jamesjeam\n"
     ]
    }
   ],
   "source": [
    "print(\"james\" + \"jeam\")"
   ]
  },
  {
   "cell_type": "markdown",
   "metadata": {
    "id": "CAHAW42GZHmf"
   },
   "source": [
    "As you can see, the variable `james`, which is defined inside the function, overwrites the value from the global name space, but does not actually change the value globally.\n",
    "\n",
    "To pass a variable from the function back to the global name space, we use the `return` keyword. Note that every function can only have one return value (i.e. can only return one object) and that the function will stop execution after the keyword."
   ]
  },
  {
   "cell_type": "code",
   "execution_count": 10,
   "metadata": {
    "id": "x4bLG--OaTfJ"
   },
   "outputs": [
    {
     "name": "stdout",
     "output_type": "stream",
     "text": [
      "The value of 10 plus 5 is 15\n"
     ]
    },
    {
     "data": {
      "text/plain": [
       "15"
      ]
     },
     "execution_count": 10,
     "metadata": {},
     "output_type": "execute_result"
    }
   ],
   "source": [
    "def add_to_x(x):\n",
    "  y = 5\n",
    "  print(f\"The value of {x} plus {y} is {x+y}\")\n",
    "  return x+y # return the sum\n",
    "  print(\"this will not be executed (after the return)\")\n",
    "\n",
    "add_to_x(10)"
   ]
  },
  {
   "cell_type": "code",
   "execution_count": 16,
   "metadata": {},
   "outputs": [
    {
     "data": {
      "text/plain": [
       "str"
      ]
     },
     "execution_count": 16,
     "metadata": {},
     "output_type": "execute_result"
    }
   ],
   "source": [
    "def office(names):\n",
    "  james = \"colleague\" # Set James in the local name space\n",
    "  #print(f\"My colleagues are {names} and James, the {james}\")\n",
    "  return f\"My colleagues are {names} and James, the {james}\"\n",
    "\n",
    "type(office(\"eli\"))\n"
   ]
  },
  {
   "cell_type": "markdown",
   "metadata": {
    "id": "c5SBFCqH2TvG"
   },
   "source": [
    "The function `add_to_x` in the above example evaluates to 15 now. The function, after being called, behaves as if it was a variable with the value it returns.\n",
    "\n",
    "We can also assign the return value of the function to a variable:"
   ]
  },
  {
   "cell_type": "code",
   "execution_count": 17,
   "metadata": {
    "id": "ohrgHmBT2rJU"
   },
   "outputs": [
    {
     "name": "stdout",
     "output_type": "stream",
     "text": [
      "The value of 5 plus 5 is 10\n"
     ]
    },
    {
     "data": {
      "text/plain": [
       "10"
      ]
     },
     "execution_count": 17,
     "metadata": {},
     "output_type": "execute_result"
    }
   ],
   "source": [
    "val = add_to_x(5) # Assign what the function returns to the variable val\n",
    "val"
   ]
  },
  {
   "cell_type": "markdown",
   "metadata": {
    "id": "wuv3BT1UbeYS"
   },
   "source": [
    "We can, of course, return containers (such as `list`, `dict`, etc) if we want to return multiple objects to the global name space (or outer scope):"
   ]
  },
  {
   "cell_type": "code",
   "execution_count": 18,
   "metadata": {
    "id": "UJI0vQxzblVu"
   },
   "outputs": [
    {
     "data": {
      "text/plain": [
       "(4, 10, 14)"
      ]
     },
     "execution_count": 18,
     "metadata": {},
     "output_type": "execute_result"
    }
   ],
   "source": [
    "def add(x,y):\n",
    "  return (x, y, x+y) # return x, y and the sum as a tuple\n",
    "\n",
    "add(4, 10)"
   ]
  },
  {
   "cell_type": "markdown",
   "metadata": {
    "id": "X4sqfhdQcF2N"
   },
   "source": [
    "On the other hand, every variable in the global name space is also inside all the functions:"
   ]
  },
  {
   "cell_type": "code",
   "execution_count": 19,
   "metadata": {
    "id": "hBeEWtQjcOzy"
   },
   "outputs": [
    {
     "name": "stdout",
     "output_type": "stream",
     "text": [
      "1\n",
      "2\n"
     ]
    }
   ],
   "source": [
    "z = 1 # Assign 1 to z\n",
    "\n",
    "def print_z():\n",
    "  print(z) # the function can print z even though it is defined outside the function\n",
    "\n",
    "print_z()\n",
    "z = 2 # Assign 2 to z\n",
    "print_z()"
   ]
  },
  {
   "cell_type": "markdown",
   "metadata": {
    "id": "v3NAmUwlOp9F"
   },
   "source": [
    "More on name spaces: https://www.geeksforgeeks.org/namespaces-and-scope-in-python/\n",
    "\n",
    "and more on functions: https://www.geeksforgeeks.org/python-functions/"
   ]
  },
  {
   "cell_type": "markdown",
   "metadata": {
    "id": "ZtayhhWHa2Qt"
   },
   "source": [
    "**Quick exercise**\n",
    "\n",
    "Define a global variable `filename` and set it to *myfile.txt*. Write a function `open_file` that takes a filename and prints \"Opening file \\<filename\\>\". Set a variable `content` to *This is my file content*. The function then returns two values: The filename again and the file content.\n",
    "\n",
    "- Call the function with the variable `filename` as its argument.\n",
    "- Call the function with the argument `newfile.txt`."
   ]
  },
  {
   "cell_type": "code",
   "execution_count": 45,
   "metadata": {},
   "outputs": [
    {
     "name": "stdout",
     "output_type": "stream",
     "text": [
      "Opening file myfile.txt\n",
      "Opening file newfile.txt\n"
     ]
    },
    {
     "data": {
      "text/plain": [
       "['newfile.txt', 'this is my file content']"
      ]
     },
     "execution_count": 45,
     "metadata": {},
     "output_type": "execute_result"
    }
   ],
   "source": [
    "filename = \"myfile.txt\"\n",
    "\n",
    "def open_file(filename):\n",
    "    print(f\"Opening file {filename}\")\n",
    "    content = \"this is my file content\"\n",
    "    return [filename, content]\n",
    "\n",
    "open_file(filename)\n",
    "open_file(\"newfile.txt\")"
   ]
  },
  {
   "cell_type": "code",
   "execution_count": null,
   "metadata": {},
   "outputs": [],
   "source": []
  },
  {
   "cell_type": "markdown",
   "metadata": {
    "id": "2-TAamSpnXRb"
   },
   "source": [
    "### Functions and Arguments"
   ]
  },
  {
   "cell_type": "markdown",
   "metadata": {
    "id": "fjx2_I2HpCs9"
   },
   "source": [
    "We can distinguish arguments into **positional** and **keyword** arguments within a function call.\n",
    "- Positional arguments: are addressed by their position (like before)\n",
    "- Keyword arguments: are addressed by their name"
   ]
  },
  {
   "cell_type": "code",
   "execution_count": 29,
   "metadata": {
    "id": "MSC_nToVpi_X"
   },
   "outputs": [
    {
     "name": "stdout",
     "output_type": "stream",
     "text": [
      "Arg1: 1, Arg2: 2\n",
      "Arg1: 1, Arg2: 2\n"
     ]
    }
   ],
   "source": [
    "# This function takes 2 positional arguments\n",
    "def func(arg1, arg2):\n",
    "  print(f\"Arg1: {arg1}, Arg2: {arg2}\")\n",
    "\n",
    "func(1,2) # set arg1 to 1 and arg2 to 2 by position (positional arguments)\n",
    "func(arg2=2,arg1=1) # same result, even though the order is different (keyword arguments)"
   ]
  },
  {
   "cell_type": "markdown",
   "metadata": {
    "id": "quJHdp9ljp7T"
   },
   "source": [
    "We can also define \"default\" arguments. These are arguments that we can, but don't have to, specify. To assign a default to an argument simply set the argument equal to the default value when defining the function. Note that there must not be any non-default arguments after default arguments. The syntax hence is\n",
    "````\n",
    "def function(arg1, arg2, default_arg3 = default3, default_arg4 = default4)\n",
    "````\n",
    "For example a function that computes the return of a stock based on two prices and prints the return only if explicitly specified:"
   ]
  },
  {
   "cell_type": "code",
   "execution_count": 30,
   "metadata": {
    "id": "DMSERPkBj0_L"
   },
   "outputs": [],
   "source": [
    "def return_from_prices(price1, price2, print_return=False):\n",
    "  ret = (price2-price1)/price1 # Calculate the stock return\n",
    "  if print_return == True: # Print the return only if the print_return argument is True\n",
    "      print(f\"The return of the stock is {ret:.1%}\")\n",
    "  return ret"
   ]
  },
  {
   "cell_type": "code",
   "execution_count": 31,
   "metadata": {
    "id": "qHo-VebFIy6h"
   },
   "outputs": [
    {
     "name": "stdout",
     "output_type": "stream",
     "text": [
      "The return of the stock is 5.0%\n"
     ]
    },
    {
     "data": {
      "text/plain": [
       "0.05"
      ]
     },
     "execution_count": 31,
     "metadata": {},
     "output_type": "execute_result"
    }
   ],
   "source": [
    "return_from_prices(10,10.5, print_return=True) # Specified the argument print_return to be True\n",
    "return_from_prices(10,10.5) # Not specifying the print_return argument also works, but does not print the stock return, it simply returns it."
   ]
  },
  {
   "cell_type": "markdown",
   "metadata": {
    "id": "8gYRAorzlxex"
   },
   "source": [
    "Not specifying `print_return` means Python chooses the default option, in this case `False` and will not print the string inside the function."
   ]
  },
  {
   "cell_type": "markdown",
   "metadata": {
    "id": "bExbwvL-In0Z"
   },
   "source": [
    "**Quick exercise**\n",
    "\n",
    "- Modify the above function to add several `print` statements to clarify the value of the variables after being passed in.\n",
    "\n",
    "- Write a new function `multiply_name` that takes 2 arguments, a first positional argument \"name\" and a second argument, \"times\", with a default value of 2. The function should return the name as often as specified by \"times\". Try it out with the default for \"general electric\" and with times set to 10 for \"ge\"."
   ]
  },
  {
   "cell_type": "code",
   "execution_count": 52,
   "metadata": {},
   "outputs": [
    {
     "name": "stdout",
     "output_type": "stream",
     "text": [
      "price12, price24, printreturnFalse\n"
     ]
    },
    {
     "data": {
      "text/plain": [
       "1.0"
      ]
     },
     "execution_count": 52,
     "metadata": {},
     "output_type": "execute_result"
    }
   ],
   "source": [
    "def return_from_prices(price1, price2, print_return=False):\n",
    "  ret = (price2-price1)/price1 # Calculate the stock return\n",
    "  print(f\"price1{price1}, price2{price2}, printreturn{print_return}\")\n",
    "\n",
    "  if print_return == True: # Print the return only if the print_return argument is True\n",
    "      print(f\"The return of the stock is {ret:.1%}\")\n",
    "  return ret\n",
    "\n",
    "return_from_prices(2, 4)"
   ]
  },
  {
   "cell_type": "code",
   "execution_count": 49,
   "metadata": {},
   "outputs": [
    {
     "data": {
      "text/plain": [
       "'gegegegegegegegegege'"
      ]
     },
     "execution_count": 49,
     "metadata": {},
     "output_type": "execute_result"
    }
   ],
   "source": [
    "def multiply_name(name, times = 2):\n",
    "    return name * times\n",
    "\n",
    "multiply_name(\"general electric\")\n",
    "\n",
    "multiply_name(\"ge\", 10)"
   ]
  },
  {
   "cell_type": "markdown",
   "metadata": {
    "id": "xRW-u642HNGV"
   },
   "source": [
    "#### Lambda functions\n",
    "\n",
    "Additionally, Python has so-called `lambda` functions. These are temporary functions that are not given a name. They directly return the result of a computation.\n",
    "The syntax is\n",
    "```python\n",
    "lambda x: <do something with x>\n",
    "```\n",
    "There is no need (or possibility)\n",
    "to explicitly add a `return` statement.\n",
    "\n",
    "The argument name (`x` in this case) can be freely chosen.\n",
    "\n",
    "\n",
    "Lambda functions are very powerful can be applied in many situations.\n",
    "\n",
    "For example, even inside the argument of a function:"
   ]
  },
  {
   "cell_type": "code",
   "execution_count": null,
   "metadata": {
    "id": "vW_-OJSjRc1e"
   },
   "outputs": [
    {
     "name": "stdout",
     "output_type": "stream",
     "text": [
      "Microsoft \n",
      "lkswagen\n",
      "I like Volkswagen!\n"
     ]
    }
   ],
   "source": [
    "def clean_string(string, clean_func=lambda s: s):\n",
    "  cleaned_string = string[:10]\n",
    "  cleaned_string = clean_func(cleaned_string)\n",
    "  return cleaned_string\n",
    "\n",
    "print(clean_string(\"Microsoft Windows\"))\n",
    "\n",
    "print(clean_string(\"Volkswagen Beetle\", clean_func=lambda s: s[2:]))\n",
    "\n",
    "# The immense power becomes clear for more complex operations\n",
    "print(clean_string(\"Volkswagen Beetle\", clean_func=lambda s: \"I like \" + s + \"!\"))"
   ]
  },
  {
   "cell_type": "code",
   "execution_count": 61,
   "metadata": {},
   "outputs": [
    {
     "data": {
      "text/plain": [
       "'crosoft '"
      ]
     },
     "execution_count": 61,
     "metadata": {},
     "output_type": "execute_result"
    }
   ],
   "source": [
    "clean_string(\"microsoft 12345\", clean_func= lambda x: x[2:])"
   ]
  },
  {
   "cell_type": "markdown",
   "metadata": {
    "id": "pDsjKh4CJfnW"
   },
   "source": [
    "**Quick exercise**\n",
    "\n",
    "- Write a \"real\" function that returns the input string converted to lowercase. Hint: `.lower()`\n",
    "- Write a lambda function that does the same.\n",
    "- Try the \"real\" function on [\"Microsoft\", \"apple\", \"GoOgLe\"] in a list comprehension.\n",
    "- Check the in-built `map` function. Use this together with the lambda function. *Hint: type `map` in a cell, then hover your mouse over `map` to get some information about its usage.*"
   ]
  },
  {
   "cell_type": "code",
   "execution_count": 94,
   "metadata": {},
   "outputs": [
    {
     "name": "stdout",
     "output_type": "stream",
     "text": [
      "heheheh\n",
      "['microsoft', 'apple', 'google']\n"
     ]
    },
    {
     "data": {
      "text/plain": [
       "['microsoft', 'apple', 'google']"
      ]
     },
     "execution_count": 94,
     "metadata": {},
     "output_type": "execute_result"
    }
   ],
   "source": [
    "def real(name):\n",
    "    return name.lower()\n",
    "\n",
    "low = lambda x: x.lower()\n",
    "print(low(\"HEHEHEH\"))\n",
    "\n",
    "ln = [\"Microsoft\", \"apple\", \"GoOgLe\"]\n",
    "ln_low = [low(item) for item in ln]\n",
    "print(ln_low)\n",
    "\n",
    "list(map(low, ln))"
   ]
  },
  {
   "cell_type": "code",
   "execution_count": 95,
   "metadata": {},
   "outputs": [
    {
     "data": {
      "text/plain": [
       "['microsoft', 'apple', 'google']"
      ]
     },
     "execution_count": 95,
     "metadata": {},
     "output_type": "execute_result"
    }
   ],
   "source": [
    "[low(item) for item in ln]"
   ]
  },
  {
   "cell_type": "markdown",
   "metadata": {
    "id": "ago4eHfPZt1v"
   },
   "source": [
    "## Packages"
   ]
  },
  {
   "cell_type": "markdown",
   "metadata": {
    "id": "Ii0iXVaxiFCi"
   },
   "source": [
    "\n",
    "\n",
    "### Importing packages\n",
    "Many useful functions and data types come from already existing packages. To include the data types, functions, etc. of a package in our code, we use the `import` keyword.\n",
    "\n"
   ]
  },
  {
   "cell_type": "code",
   "execution_count": null,
   "metadata": {
    "id": "ufH9vD8crjWA"
   },
   "outputs": [],
   "source": [
    "import numpy"
   ]
  },
  {
   "cell_type": "markdown",
   "metadata": {
    "id": "XpAhC89mZif8"
   },
   "source": [
    "\n",
    "`NumPy` is a popular package that includes many mathematical functions like log, the $e$-function, random number generators and much more. You can find information on numpy here: https://numpy.org/doc/stable/user/basics.html"
   ]
  },
  {
   "cell_type": "markdown",
   "metadata": {
    "id": "j64mvMSzxZy3"
   },
   "source": [
    "To access a function from a package we write the package name followed by a dot and the function we want from the package (`package_name.function`)"
   ]
  },
  {
   "cell_type": "code",
   "execution_count": null,
   "metadata": {
    "id": "kneeg8rmxktX"
   },
   "outputs": [],
   "source": [
    "numpy.log(10)"
   ]
  },
  {
   "cell_type": "markdown",
   "metadata": {
    "id": "xDZz3zrQxnqS"
   },
   "source": [
    "For very frequently used packages (in our own code) we can also use shortcut names by importing the package followed by the keyword `as` and a different name. We are essentially renaming the package *in our code*.\n",
    "\n",
    "Many popular packages have commonly used shorthand names. It is recommended to follow the naming convention, as it makes searching for help online a lot easier.\n",
    "\n",
    "For example numpy is usually imported as `np`:"
   ]
  },
  {
   "cell_type": "code",
   "execution_count": null,
   "metadata": {
    "id": "liarqL8Dx2R_"
   },
   "outputs": [],
   "source": [
    "import numpy as np\n",
    "np.log(10) # shorter version of the above code"
   ]
  },
  {
   "cell_type": "markdown",
   "metadata": {
    "id": "OLVJ6r3I5Fvi"
   },
   "source": [
    "Or we only import a single function into the environment using the `from <package name> import <object name>` keywords:"
   ]
  },
  {
   "cell_type": "code",
   "execution_count": null,
   "metadata": {
    "id": "QB9w5v5g5NtO"
   },
   "outputs": [],
   "source": [
    "from numpy import log\n",
    "log(10)"
   ]
  },
  {
   "cell_type": "markdown",
   "metadata": {
    "id": "gBnThbqui-hX"
   },
   "source": [
    "**Quick exercise**\n",
    "\n",
    "Import only the log function and name it `ln`."
   ]
  },
  {
   "cell_type": "markdown",
   "metadata": {
    "id": "TPmj0kPcaru9"
   },
   "source": [
    "As we do not know which functions a package provides, we can check the documentation online.\n",
    "Everything is explained there in detail.\n",
    "\n",
    "If we just want to take a quick look at the names (and a short overview) we can use the autocomplete functionality.\n",
    "\n",
    "To use it, start typing `np.` and then press CTRL+SPACEBAR.\n",
    "If you keep typing, e.g. `np.si`, you will see suggestions such as `sin` or `sign`. These are functions provided in the numpy package that we can use."
   ]
  },
  {
   "cell_type": "code",
   "execution_count": null,
   "metadata": {
    "id": "ipLJ3mGYajRz"
   },
   "outputs": [],
   "source": [
    "np.sign"
   ]
  },
  {
   "cell_type": "markdown",
   "metadata": {
    "id": "3H4c5OGcZLos"
   },
   "source": [
    "### Installing packages\n",
    "\n",
    "Most packages we want to use are not part of the Python default library. The default library includes functions like `print`, `type`, ...\n",
    "\n",
    "Therefore we have to install them. On Google Colab, the most popular packages are already installed, e.g. `numpy`, so we directly `import` it.\n",
    "\n",
    "If it's not yet installed, we have to install it first.\n",
    "To install a package we need a package manager. This is essentially the \"App Store\".\n",
    "\n",
    "The default for Python is called 'pip'. We cannot use pip in Python itself, rather, pip is its own software which can be accessed via the command line.\n",
    "\n",
    "The basic command is `pip install <package name>`.\n",
    "\n",
    "In Google Colab we can execute terminal commands via an exclamation mark `!`.\n",
    "In the cell, we thus simply write `!pip install <package name>`.\n",
    "\n",
    "If you need to install multiple packages, you can do that in one line by writing `pip install package1 package2 package3...`. Remember to prefix with `!` if you are using Google Colab.\n",
    "\n"
   ]
  },
  {
   "cell_type": "markdown",
   "metadata": {
    "id": "LJBAjrqAc9D6"
   },
   "source": [
    "**Cleaning company names**\n",
    "\n",
    "Let's say that we have some company names that we want to clean. For example, instead of \"Google Inc\" we want to have \"Google\".\n",
    "\n",
    "By searching, we found the package [cleanco](https://pypi.org/project/cleanco/).\n",
    "\n",
    "We can try to import it:"
   ]
  },
  {
   "cell_type": "code",
   "execution_count": null,
   "metadata": {
    "id": "yAJdRIDbcRtU"
   },
   "outputs": [],
   "source": [
    "import cleanco"
   ]
  },
  {
   "cell_type": "markdown",
   "metadata": {
    "id": "w1GGDt1wdEx-"
   },
   "source": [
    "So we have to use our special command `!` combined with a `pip install ...` to download and install it."
   ]
  },
  {
   "cell_type": "code",
   "execution_count": null,
   "metadata": {
    "id": "Oyt00t8t4pmv"
   },
   "outputs": [],
   "source": [
    "!pip install cleanco"
   ]
  },
  {
   "cell_type": "code",
   "execution_count": null,
   "metadata": {
    "id": "oFaznZu3dSLa"
   },
   "outputs": [],
   "source": [
    "import cleanco"
   ]
  },
  {
   "cell_type": "markdown",
   "metadata": {
    "id": "C_ATlCsWdXKS"
   },
   "source": [
    "Now the import works and we can clean some company names:"
   ]
  },
  {
   "cell_type": "code",
   "execution_count": null,
   "metadata": {
    "id": "iJmK1_njdca2"
   },
   "outputs": [],
   "source": [
    "company_names = [\n",
    "    \"Google Inc\",\n",
    "    \"Microsoft Corp\",\n",
    "    \"Delta Airlines LLC\",\n",
    "]\n",
    "\n",
    "for company in company_names:\n",
    "  print(f\"{company} is now: {cleanco.basename(company)}\")"
   ]
  },
  {
   "cell_type": "markdown",
   "metadata": {
    "id": "1SfluQUkiBhD"
   },
   "source": [
    "**Quick exercise:**\n",
    "\n",
    "Import `cleanco` the way it is described in the [documentation](https://pypi.org/project/cleanco/).\n",
    "Use a list comprehension to apply the function to the `company_names` list."
   ]
  },
  {
   "cell_type": "markdown",
   "metadata": {
    "id": "ir_SmNNJiukr"
   },
   "source": [
    "### Using some common utility packages"
   ]
  },
  {
   "cell_type": "markdown",
   "metadata": {
    "id": "XyMvZJRZ22TO"
   },
   "source": [
    "You can search for packages on https://pypi.org/ or simply google for your specific coding problem.\n"
   ]
  },
  {
   "cell_type": "markdown",
   "metadata": {
    "id": "G_jM3aBSjG9h"
   },
   "source": [
    "Most tasks that we execute take some time to finish. For example reading an Excel file takes a few seconds. Reading hundreds or thousands of them will take significantly longer.\n",
    "\n",
    "Ideally, we would have a progress bar that tells us how many files are already processed. Let's use the package `tqdm` to show progress bars and the `time` package to simulate a slow task."
   ]
  },
  {
   "cell_type": "code",
   "execution_count": null,
   "metadata": {
    "id": "-kit_tBI6-rd"
   },
   "outputs": [],
   "source": [
    "from tqdm import tqdm # import the function tqdm from the package tqdm\n",
    "import time # This provides some time-related functionality"
   ]
  },
  {
   "cell_type": "markdown",
   "metadata": {
    "id": "osZD4h-ZjyCF"
   },
   "source": [
    "We can use the `time.sleep` function to tell Python to do nothing for the number of seconds we provide:"
   ]
  },
  {
   "cell_type": "code",
   "execution_count": null,
   "metadata": {
    "id": "AFNKInLEyRXJ"
   },
   "outputs": [],
   "source": [
    "seconds_to_sleep = 5\n",
    "time.sleep(seconds_to_sleep)"
   ]
  },
  {
   "cell_type": "markdown",
   "metadata": {
    "id": "EUdGcskbjxSf"
   },
   "source": [
    "Now that cell took a while to finish! In many applications, we use `for`-loops to repeat a task multiple times. We can use `tqdm` to provide simple progress bars for this:"
   ]
  },
  {
   "cell_type": "code",
   "execution_count": null,
   "metadata": {
    "id": "IBqaehyFjwuN"
   },
   "outputs": [],
   "source": [
    "seconds_to_sleep = 0.1\n",
    "things_to_do = range(125)\n",
    "\n",
    "for thing in tqdm(things_to_do):\n",
    "  time.sleep(seconds_to_sleep)"
   ]
  },
  {
   "cell_type": "markdown",
   "metadata": {
    "id": "mf_5rj6kM4LY"
   },
   "source": [
    "**Quick exercise:**\n",
    "\n",
    "- Create a longer list of company names by multiplying `company_names` with 50000 and storing it in a variable.\n",
    "- First apply `basename` and then convert it to lowercase. This should be done in a list comprehension with a progress bar.\n",
    "- SHOW ONLY THE FIRST 10 ELEMENTS OF THE RESULTING LIST!"
   ]
  },
  {
   "cell_type": "markdown",
   "metadata": {
    "id": "LY_HuKp-xBc5"
   },
   "source": [
    "## Exercises"
   ]
  },
  {
   "cell_type": "markdown",
   "metadata": {
    "id": "eQw3BMN2D2_g"
   },
   "source": [
    "### Exercise 1: Functions"
   ]
  },
  {
   "cell_type": "markdown",
   "metadata": {
    "id": "XbTRxBi1HTo3"
   },
   "source": [
    "(a) implement the sign function, which is 1 if the argument is greater than zero, zero if the argument is zero and minus one if the argument is less than zero. If there is an error (e.g. when passing a string), print that there is an error."
   ]
  },
  {
   "cell_type": "markdown",
   "metadata": {
    "id": "98DXc3mtD6mF"
   },
   "source": [
    "(b) implement a function that calculates the returns from a series of prices.\n",
    "Test the function using the prices `[1,1.3,1.2, 1.6]`\n",
    "\n",
    "By default, return the discrete return ($\\frac{P_{t+1} - P_t}{P_t}$).\n",
    "If the user requests, return the log return ($log(\\frac{P_{t+1}}{P_t})$).\n",
    "\n",
    "Hint: Make use of list comprehensions to divide the new price by the old price"
   ]
  },
  {
   "cell_type": "markdown",
   "metadata": {
    "id": "KtNgEvLTmHxr"
   },
   "source": [
    "### Exercise 2: Packages"
   ]
  },
  {
   "cell_type": "markdown",
   "metadata": {
    "id": "N_p30nFFk3NG"
   },
   "source": [
    "a)\n",
    "\n",
    "- Find a package on the internet that is able to generate random numbers. Do not use the functionality in numpy.\n",
    "- Import that package with the alias \"rng\".\n",
    "- Produce 10 random numbers from a uniform distribution between 1 and 3."
   ]
  },
  {
   "cell_type": "markdown",
   "metadata": {
    "id": "_U3exkI1mkl3"
   },
   "source": [
    "b)\n",
    "\n",
    "- Install and import the package `pingouin` with its common abbreviation.\n",
    "- Check the documentation to see how run a t-test.\n",
    "- Generate 50 random numbers using numpy with a normal distribution with mean 1 and standard deviation 2.\n",
    "- Use your t-test function to test whether the numbers are different from zero."
   ]
  }
 ],
 "metadata": {
  "colab": {
   "include_colab_link": true,
   "provenance": []
  },
  "kernelspec": {
   "display_name": "Python 3",
   "name": "python3"
  },
  "language_info": {
   "codemirror_mode": {
    "name": "ipython",
    "version": 3
   },
   "file_extension": ".py",
   "mimetype": "text/x-python",
   "name": "python",
   "nbconvert_exporter": "python",
   "pygments_lexer": "ipython3",
   "version": "3.12.4"
  }
 },
 "nbformat": 4,
 "nbformat_minor": 0
}
