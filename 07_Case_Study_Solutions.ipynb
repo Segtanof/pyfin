{
  "nbformat": 4,
  "nbformat_minor": 0,
  "metadata": {
    "colab": {
      "provenance": [],
      "include_colab_link": true
    },
    "kernelspec": {
      "name": "python3",
      "display_name": "Python 3"
    },
    "language_info": {
      "name": "python"
    }
  },
  "cells": [
    {
      "cell_type": "markdown",
      "metadata": {
        "id": "view-in-github",
        "colab_type": "text"
      },
      "source": [
        "<a href=\"https://colab.research.google.com/github/Segtanof/pyfin/blob/main/07_Case_Study_Solutions.ipynb\" target=\"_parent\"><img src=\"https://colab.research.google.com/assets/colab-badge.svg\" alt=\"Open In Colab\"/></a>"
      ]
    },
    {
      "cell_type": "markdown",
      "source": [
        "# Case Study"
      ],
      "metadata": {
        "id": "SwqogpuKhLNT"
      }
    },
    {
      "cell_type": "markdown",
      "source": [
        "The idea is that you will work on a case study to deepen (and expand!) your knowledge of Python, WRDS databases and all other concepts we have learned in the course up to this point.\n",
        "\n",
        "Unless the task explicitly says \"manually\" do something, you should solve all questions with code.\n",
        "\n",
        "The case study is similar to the take-home exam."
      ],
      "metadata": {
        "id": "2moRHNOBhNvI"
      }
    },
    {
      "cell_type": "markdown",
      "source": [
        "## Imports\n",
        "\n",
        "Please collect all imports in the cells below and do not import more packages further down in the notebook."
      ],
      "metadata": {
        "id": "eRaIa1NMhp9K"
      }
    },
    {
      "cell_type": "code",
      "source": [
        "!pip install pingouin"
      ],
      "metadata": {
        "colab": {
          "base_uri": "https://localhost:8080/"
        },
        "collapsed": true,
        "id": "9mZYCwAKfZmd",
        "outputId": "79518f99-502d-4975-f8d3-b312061bbe53"
      },
      "execution_count": null,
      "outputs": [
        {
          "output_type": "stream",
          "name": "stdout",
          "text": [
            "Collecting pingouin\n",
            "  Downloading pingouin-0.5.5-py3-none-any.whl.metadata (19 kB)\n",
            "Requirement already satisfied: matplotlib in /usr/local/lib/python3.10/dist-packages (from pingouin) (3.8.0)\n",
            "Requirement already satisfied: numpy in /usr/local/lib/python3.10/dist-packages (from pingouin) (1.26.4)\n",
            "Requirement already satisfied: pandas>=1.5 in /usr/local/lib/python3.10/dist-packages (from pingouin) (2.2.2)\n",
            "Collecting pandas-flavor (from pingouin)\n",
            "  Downloading pandas_flavor-0.6.0-py3-none-any.whl.metadata (6.3 kB)\n",
            "Requirement already satisfied: scikit-learn>=1.2 in /usr/local/lib/python3.10/dist-packages (from pingouin) (1.5.2)\n",
            "Requirement already satisfied: scipy in /usr/local/lib/python3.10/dist-packages (from pingouin) (1.13.1)\n",
            "Requirement already satisfied: seaborn in /usr/local/lib/python3.10/dist-packages (from pingouin) (0.13.2)\n",
            "Requirement already satisfied: statsmodels in /usr/local/lib/python3.10/dist-packages (from pingouin) (0.14.4)\n",
            "Requirement already satisfied: tabulate in /usr/local/lib/python3.10/dist-packages (from pingouin) (0.9.0)\n",
            "Requirement already satisfied: python-dateutil>=2.8.2 in /usr/local/lib/python3.10/dist-packages (from pandas>=1.5->pingouin) (2.8.2)\n",
            "Requirement already satisfied: pytz>=2020.1 in /usr/local/lib/python3.10/dist-packages (from pandas>=1.5->pingouin) (2024.2)\n",
            "Requirement already satisfied: tzdata>=2022.7 in /usr/local/lib/python3.10/dist-packages (from pandas>=1.5->pingouin) (2024.2)\n",
            "Requirement already satisfied: joblib>=1.2.0 in /usr/local/lib/python3.10/dist-packages (from scikit-learn>=1.2->pingouin) (1.4.2)\n",
            "Requirement already satisfied: threadpoolctl>=3.1.0 in /usr/local/lib/python3.10/dist-packages (from scikit-learn>=1.2->pingouin) (3.5.0)\n",
            "Requirement already satisfied: contourpy>=1.0.1 in /usr/local/lib/python3.10/dist-packages (from matplotlib->pingouin) (1.3.1)\n",
            "Requirement already satisfied: cycler>=0.10 in /usr/local/lib/python3.10/dist-packages (from matplotlib->pingouin) (0.12.1)\n",
            "Requirement already satisfied: fonttools>=4.22.0 in /usr/local/lib/python3.10/dist-packages (from matplotlib->pingouin) (4.54.1)\n",
            "Requirement already satisfied: kiwisolver>=1.0.1 in /usr/local/lib/python3.10/dist-packages (from matplotlib->pingouin) (1.4.7)\n",
            "Requirement already satisfied: packaging>=20.0 in /usr/local/lib/python3.10/dist-packages (from matplotlib->pingouin) (24.2)\n",
            "Requirement already satisfied: pillow>=6.2.0 in /usr/local/lib/python3.10/dist-packages (from matplotlib->pingouin) (11.0.0)\n",
            "Requirement already satisfied: pyparsing>=2.3.1 in /usr/local/lib/python3.10/dist-packages (from matplotlib->pingouin) (3.2.0)\n",
            "Requirement already satisfied: xarray in /usr/local/lib/python3.10/dist-packages (from pandas-flavor->pingouin) (2024.10.0)\n",
            "Requirement already satisfied: patsy>=0.5.6 in /usr/local/lib/python3.10/dist-packages (from statsmodels->pingouin) (1.0.1)\n",
            "Requirement already satisfied: six>=1.5 in /usr/local/lib/python3.10/dist-packages (from python-dateutil>=2.8.2->pandas>=1.5->pingouin) (1.16.0)\n",
            "Downloading pingouin-0.5.5-py3-none-any.whl (204 kB)\n",
            "\u001b[2K   \u001b[90m━━━━━━━━━━━━━━━━━━━━━━━━━━━━━━━━━━━━━━━━\u001b[0m \u001b[32m204.4/204.4 kB\u001b[0m \u001b[31m3.8 MB/s\u001b[0m eta \u001b[36m0:00:00\u001b[0m\n",
            "\u001b[?25hDownloading pandas_flavor-0.6.0-py3-none-any.whl (7.2 kB)\n",
            "Installing collected packages: pandas-flavor, pingouin\n",
            "Successfully installed pandas-flavor-0.6.0 pingouin-0.5.5\n"
          ]
        }
      ]
    },
    {
      "cell_type": "code",
      "execution_count": null,
      "metadata": {
        "id": "HkQeOb9WhILT"
      },
      "outputs": [],
      "source": [
        "import pandas as pd\n",
        "import numpy as np\n",
        "import seaborn as sns\n",
        "import pingouin as pg"
      ]
    },
    {
      "cell_type": "code",
      "source": [
        "# from google.colab import drive\n",
        "# drive.mount('/content/drive')"
      ],
      "metadata": {
        "id": "nFEc_gX9i8qH"
      },
      "execution_count": null,
      "outputs": []
    },
    {
      "cell_type": "markdown",
      "source": [
        "## Introductory exercises"
      ],
      "metadata": {
        "id": "icH7LuAVZ6Pq"
      }
    },
    {
      "cell_type": "markdown",
      "source": [
        "In the following, you have a list of tickers.\n",
        "\n",
        "- Manually comment out the ticker with length 3.\n",
        "- How many tickers are in the list?\n",
        "- Collect the second-to-last character of all tickers in a list.\n",
        "- Collect all tickers in a list that contain the letter \"i\" (case insensitive).\n",
        "- How many letters \"S\" are in all of the tickers together?\n",
        "- Make a list that has tuples as elements. The first element in each tuple should be the ticker. The second element in each tuple should be the index position of the ticker in the list, squared."
      ],
      "metadata": {
        "id": "AK8esEWBZ-Jr"
      }
    },
    {
      "cell_type": "code",
      "source": [
        "list_of_tickers = [\n",
        "    'ISDS',\n",
        "    'ISDX',\n",
        "    'FLSA',\n",
        "    'GTiP',\n",
        "    'BSDE',\n",
        "    'XKCP',\n",
        "    # 'SWI',\n",
        "]\n"
      ],
      "metadata": {
        "id": "41KeurQ6Z9fC"
      },
      "execution_count": null,
      "outputs": []
    },
    {
      "cell_type": "code",
      "source": [
        "len(list_of_tickers)"
      ],
      "metadata": {
        "colab": {
          "base_uri": "https://localhost:8080/"
        },
        "id": "fJ0TW2rRc_AA",
        "outputId": "afcacaf3-3bc5-4308-c3e4-ee20940ee2a3"
      },
      "execution_count": null,
      "outputs": [
        {
          "output_type": "execute_result",
          "data": {
            "text/plain": [
              "6"
            ]
          },
          "metadata": {},
          "execution_count": 5
        }
      ]
    },
    {
      "cell_type": "code",
      "source": [
        "[ticker[-2] for ticker in list_of_tickers]"
      ],
      "metadata": {
        "colab": {
          "base_uri": "https://localhost:8080/"
        },
        "id": "WrBT_u3bZ8iW",
        "outputId": "5f1ac50c-67ee-41c4-e9f4-0fde7e1fbc38"
      },
      "execution_count": null,
      "outputs": [
        {
          "output_type": "execute_result",
          "data": {
            "text/plain": [
              "['D', 'D', 'S', 'i', 'D', 'C']"
            ]
          },
          "metadata": {},
          "execution_count": 6
        }
      ]
    },
    {
      "cell_type": "code",
      "source": [
        "[ticker for ticker in list_of_tickers if \"i\" in ticker.lower()]"
      ],
      "metadata": {
        "colab": {
          "base_uri": "https://localhost:8080/"
        },
        "id": "HGN4AmOqbvbE",
        "outputId": "43a6e947-13a9-411c-f9ec-90a45eeab678"
      },
      "execution_count": null,
      "outputs": [
        {
          "output_type": "execute_result",
          "data": {
            "text/plain": [
              "['ISDS', 'ISDX', 'GTiP']"
            ]
          },
          "metadata": {},
          "execution_count": 7
        }
      ]
    },
    {
      "cell_type": "code",
      "source": [
        "# As a list comprehension\n",
        "sum([1 for ticker in list_of_tickers for c in ticker if c==\"S\"])\n",
        "\n",
        "\n",
        "# As a written out for loop\n",
        "counter = 0\n",
        "for ticker in list_of_tickers:\n",
        "  for character in ticker:\n",
        "    if character == \"S\":\n",
        "      counter = counter + 1\n",
        "\n",
        "counter"
      ],
      "metadata": {
        "colab": {
          "base_uri": "https://localhost:8080/"
        },
        "id": "_KP5RruCcGVZ",
        "outputId": "5a305405-284e-4e33-8c47-ed57d9ad04d6"
      },
      "execution_count": null,
      "outputs": [
        {
          "output_type": "execute_result",
          "data": {
            "text/plain": [
              "5"
            ]
          },
          "metadata": {},
          "execution_count": 8
        }
      ]
    },
    {
      "cell_type": "code",
      "source": [
        "[(ticker, i**2) for i, ticker in enumerate(list_of_tickers)]"
      ],
      "metadata": {
        "colab": {
          "base_uri": "https://localhost:8080/"
        },
        "id": "mD-qb1EVdV0k",
        "outputId": "3d6bcd07-26d7-4cb7-abf3-179b32fa34ac"
      },
      "execution_count": null,
      "outputs": [
        {
          "output_type": "execute_result",
          "data": {
            "text/plain": [
              "[('ISDS', 0),\n",
              " ('ISDX', 1),\n",
              " ('FLSA', 4),\n",
              " ('GTiP', 9),\n",
              " ('BSDE', 16),\n",
              " ('XKCP', 25)]"
            ]
          },
          "metadata": {},
          "execution_count": 9
        }
      ]
    },
    {
      "cell_type": "markdown",
      "source": [
        "## Downloading and preparing data"
      ],
      "metadata": {
        "id": "ha-NAxFwh23j"
      }
    },
    {
      "cell_type": "markdown",
      "source": [
        "Download CRSP data from WRDS. Download daily stock price data for the period from 2019-01-01 to 2019-12-31 for all companies.\n",
        "\n",
        "Select the following columns:\n",
        "- permco\n",
        "- ticker\n",
        "- siccd\n",
        "- prc\n",
        "- ret\n",
        "- shrout\n",
        "- vwretd\n",
        "\n",
        "Note that permno (a share class identifier) will be downloaded automatically.\n",
        "\n",
        "- Upload it to your Google Drive.\n",
        "- Load it into Colab.\n",
        "- Clean the column names by converting them to lowercase.\n",
        "\n",
        "**IF YOU DO NOT (YET) HAVE ACCESS TO WRDS**\n",
        "\n",
        "Uncomment the lines below to load provided data.\n",
        "\n",
        "- [Variable descriptions](https://drive.google.com/file/d/1TRNV8KZBMk6bwHFJgDxtFdUHMPHLYerE/view?usp=sharing)\n",
        "- [shrout details](https://drive.google.com/file/d/1puGQXoAnRdu3rfpYg3KPWZXuLGUokARB/view?usp=sharing)"
      ],
      "metadata": {
        "id": "udWDOCe7iP6H"
      }
    },
    {
      "cell_type": "code",
      "source": [
        "crsp_file = \"/content/drive/MyDrive/Colab Notebooks/Python course 2024-11/data/crsp_casestudy.csv.gz\"\n",
        "\n",
        "# If you do not have access to WRDS yet, uncomment the following lines\n",
        "!gdown 163Xu08XdGnFeMxCf7yOeirm3Uj_Mx2W5\n",
        "crsp_file = \"/content/crsp_casestudy.csv.gz\""
      ],
      "metadata": {
        "colab": {
          "base_uri": "https://localhost:8080/"
        },
        "id": "Zp5Pmy0qMdEZ",
        "outputId": "88892d5e-6ad8-4df5-a392-8ae85f00a322"
      },
      "execution_count": null,
      "outputs": [
        {
          "output_type": "stream",
          "name": "stdout",
          "text": [
            "Downloading...\n",
            "From: https://drive.google.com/uc?id=163Xu08XdGnFeMxCf7yOeirm3Uj_Mx2W5\n",
            "To: /content/crsp_casestudy.csv.gz\n",
            "100% 26.2M/26.2M [00:00<00:00, 81.0MB/s]\n"
          ]
        }
      ]
    },
    {
      "cell_type": "code",
      "source": [
        "crsp_unclean = pd.read_csv(crsp_file, low_memory=False, parse_dates=['date'])\n",
        "\n",
        "# Let's rename the columns to lowercase to save us the shift key\n",
        "crsp_unclean.columns = crsp_unclean.columns.str.lower()"
      ],
      "metadata": {
        "id": "_AsEF2zbh0XN"
      },
      "execution_count": null,
      "outputs": []
    },
    {
      "cell_type": "markdown",
      "source": [
        "Ensure we have numeric datatypes for the relevant variables."
      ],
      "metadata": {
        "id": "7a4j-gW1jVJI"
      }
    },
    {
      "cell_type": "code",
      "source": [
        "crsp = crsp_unclean.assign(ret = lambda x: pd.to_numeric(x['ret'], errors='coerce'))"
      ],
      "metadata": {
        "id": "0q_KthMCtHY3"
      },
      "execution_count": null,
      "outputs": []
    },
    {
      "cell_type": "code",
      "source": [
        "crsp.info()"
      ],
      "metadata": {
        "colab": {
          "base_uri": "https://localhost:8080/"
        },
        "id": "qR_qXrBut9ly",
        "outputId": "6c31303a-0172-406f-c1b7-d7c3d45d1b7a"
      },
      "execution_count": null,
      "outputs": [
        {
          "output_type": "stream",
          "name": "stdout",
          "text": [
            "<class 'pandas.core.frame.DataFrame'>\n",
            "RangeIndex: 1912001 entries, 0 to 1912000\n",
            "Data columns (total 9 columns):\n",
            " #   Column  Dtype         \n",
            "---  ------  -----         \n",
            " 0   permno  int64         \n",
            " 1   date    datetime64[ns]\n",
            " 2   siccd   object        \n",
            " 3   ticker  object        \n",
            " 4   permco  int64         \n",
            " 5   prc     float64       \n",
            " 6   ret     float64       \n",
            " 7   shrout  float64       \n",
            " 8   vwretd  float64       \n",
            "dtypes: datetime64[ns](1), float64(4), int64(2), object(2)\n",
            "memory usage: 131.3+ MB\n"
          ]
        }
      ]
    },
    {
      "cell_type": "markdown",
      "source": [
        "Show the first 3 rows"
      ],
      "metadata": {
        "id": "XEfgpH2HPrRf"
      }
    },
    {
      "cell_type": "code",
      "source": [
        "crsp.head(3)"
      ],
      "metadata": {
        "colab": {
          "base_uri": "https://localhost:8080/",
          "height": 143
        },
        "id": "_e1JYq5fPtcD",
        "outputId": "40f39f7e-8e1f-4ee6-d9c7-6dc62a518b12"
      },
      "execution_count": null,
      "outputs": [
        {
          "output_type": "execute_result",
          "data": {
            "text/plain": [
              "   permno       date siccd ticker  permco     prc       ret   shrout    vwretd\n",
              "0   10026 2019-01-02  2052   JJSF    7976  141.00 -0.024829  18774.0  0.001796\n",
              "1   10026 2019-01-03  2052   JJSF    7976  143.02  0.014326  18774.0 -0.021043\n",
              "2   10026 2019-01-04  2052   JJSF    7976  144.84  0.012725  18774.0  0.033410"
            ],
            "text/html": [
              "\n",
              "  <div id=\"df-3c8b4d30-d953-4d78-9db8-353357a2bd53\" class=\"colab-df-container\">\n",
              "    <div>\n",
              "<style scoped>\n",
              "    .dataframe tbody tr th:only-of-type {\n",
              "        vertical-align: middle;\n",
              "    }\n",
              "\n",
              "    .dataframe tbody tr th {\n",
              "        vertical-align: top;\n",
              "    }\n",
              "\n",
              "    .dataframe thead th {\n",
              "        text-align: right;\n",
              "    }\n",
              "</style>\n",
              "<table border=\"1\" class=\"dataframe\">\n",
              "  <thead>\n",
              "    <tr style=\"text-align: right;\">\n",
              "      <th></th>\n",
              "      <th>permno</th>\n",
              "      <th>date</th>\n",
              "      <th>siccd</th>\n",
              "      <th>ticker</th>\n",
              "      <th>permco</th>\n",
              "      <th>prc</th>\n",
              "      <th>ret</th>\n",
              "      <th>shrout</th>\n",
              "      <th>vwretd</th>\n",
              "    </tr>\n",
              "  </thead>\n",
              "  <tbody>\n",
              "    <tr>\n",
              "      <th>0</th>\n",
              "      <td>10026</td>\n",
              "      <td>2019-01-02</td>\n",
              "      <td>2052</td>\n",
              "      <td>JJSF</td>\n",
              "      <td>7976</td>\n",
              "      <td>141.00</td>\n",
              "      <td>-0.024829</td>\n",
              "      <td>18774.0</td>\n",
              "      <td>0.001796</td>\n",
              "    </tr>\n",
              "    <tr>\n",
              "      <th>1</th>\n",
              "      <td>10026</td>\n",
              "      <td>2019-01-03</td>\n",
              "      <td>2052</td>\n",
              "      <td>JJSF</td>\n",
              "      <td>7976</td>\n",
              "      <td>143.02</td>\n",
              "      <td>0.014326</td>\n",
              "      <td>18774.0</td>\n",
              "      <td>-0.021043</td>\n",
              "    </tr>\n",
              "    <tr>\n",
              "      <th>2</th>\n",
              "      <td>10026</td>\n",
              "      <td>2019-01-04</td>\n",
              "      <td>2052</td>\n",
              "      <td>JJSF</td>\n",
              "      <td>7976</td>\n",
              "      <td>144.84</td>\n",
              "      <td>0.012725</td>\n",
              "      <td>18774.0</td>\n",
              "      <td>0.033410</td>\n",
              "    </tr>\n",
              "  </tbody>\n",
              "</table>\n",
              "</div>\n",
              "    <div class=\"colab-df-buttons\">\n",
              "\n",
              "  <div class=\"colab-df-container\">\n",
              "    <button class=\"colab-df-convert\" onclick=\"convertToInteractive('df-3c8b4d30-d953-4d78-9db8-353357a2bd53')\"\n",
              "            title=\"Convert this dataframe to an interactive table.\"\n",
              "            style=\"display:none;\">\n",
              "\n",
              "  <svg xmlns=\"http://www.w3.org/2000/svg\" height=\"24px\" viewBox=\"0 -960 960 960\">\n",
              "    <path d=\"M120-120v-720h720v720H120Zm60-500h600v-160H180v160Zm220 220h160v-160H400v160Zm0 220h160v-160H400v160ZM180-400h160v-160H180v160Zm440 0h160v-160H620v160ZM180-180h160v-160H180v160Zm440 0h160v-160H620v160Z\"/>\n",
              "  </svg>\n",
              "    </button>\n",
              "\n",
              "  <style>\n",
              "    .colab-df-container {\n",
              "      display:flex;\n",
              "      gap: 12px;\n",
              "    }\n",
              "\n",
              "    .colab-df-convert {\n",
              "      background-color: #E8F0FE;\n",
              "      border: none;\n",
              "      border-radius: 50%;\n",
              "      cursor: pointer;\n",
              "      display: none;\n",
              "      fill: #1967D2;\n",
              "      height: 32px;\n",
              "      padding: 0 0 0 0;\n",
              "      width: 32px;\n",
              "    }\n",
              "\n",
              "    .colab-df-convert:hover {\n",
              "      background-color: #E2EBFA;\n",
              "      box-shadow: 0px 1px 2px rgba(60, 64, 67, 0.3), 0px 1px 3px 1px rgba(60, 64, 67, 0.15);\n",
              "      fill: #174EA6;\n",
              "    }\n",
              "\n",
              "    .colab-df-buttons div {\n",
              "      margin-bottom: 4px;\n",
              "    }\n",
              "\n",
              "    [theme=dark] .colab-df-convert {\n",
              "      background-color: #3B4455;\n",
              "      fill: #D2E3FC;\n",
              "    }\n",
              "\n",
              "    [theme=dark] .colab-df-convert:hover {\n",
              "      background-color: #434B5C;\n",
              "      box-shadow: 0px 1px 3px 1px rgba(0, 0, 0, 0.15);\n",
              "      filter: drop-shadow(0px 1px 2px rgba(0, 0, 0, 0.3));\n",
              "      fill: #FFFFFF;\n",
              "    }\n",
              "  </style>\n",
              "\n",
              "    <script>\n",
              "      const buttonEl =\n",
              "        document.querySelector('#df-3c8b4d30-d953-4d78-9db8-353357a2bd53 button.colab-df-convert');\n",
              "      buttonEl.style.display =\n",
              "        google.colab.kernel.accessAllowed ? 'block' : 'none';\n",
              "\n",
              "      async function convertToInteractive(key) {\n",
              "        const element = document.querySelector('#df-3c8b4d30-d953-4d78-9db8-353357a2bd53');\n",
              "        const dataTable =\n",
              "          await google.colab.kernel.invokeFunction('convertToInteractive',\n",
              "                                                    [key], {});\n",
              "        if (!dataTable) return;\n",
              "\n",
              "        const docLinkHtml = 'Like what you see? Visit the ' +\n",
              "          '<a target=\"_blank\" href=https://colab.research.google.com/notebooks/data_table.ipynb>data table notebook</a>'\n",
              "          + ' to learn more about interactive tables.';\n",
              "        element.innerHTML = '';\n",
              "        dataTable['output_type'] = 'display_data';\n",
              "        await google.colab.output.renderOutput(dataTable, element);\n",
              "        const docLink = document.createElement('div');\n",
              "        docLink.innerHTML = docLinkHtml;\n",
              "        element.appendChild(docLink);\n",
              "      }\n",
              "    </script>\n",
              "  </div>\n",
              "\n",
              "\n",
              "<div id=\"df-035f0456-0e0e-4835-a449-8ad3981202b1\">\n",
              "  <button class=\"colab-df-quickchart\" onclick=\"quickchart('df-035f0456-0e0e-4835-a449-8ad3981202b1')\"\n",
              "            title=\"Suggest charts\"\n",
              "            style=\"display:none;\">\n",
              "\n",
              "<svg xmlns=\"http://www.w3.org/2000/svg\" height=\"24px\"viewBox=\"0 0 24 24\"\n",
              "     width=\"24px\">\n",
              "    <g>\n",
              "        <path d=\"M19 3H5c-1.1 0-2 .9-2 2v14c0 1.1.9 2 2 2h14c1.1 0 2-.9 2-2V5c0-1.1-.9-2-2-2zM9 17H7v-7h2v7zm4 0h-2V7h2v10zm4 0h-2v-4h2v4z\"/>\n",
              "    </g>\n",
              "</svg>\n",
              "  </button>\n",
              "\n",
              "<style>\n",
              "  .colab-df-quickchart {\n",
              "      --bg-color: #E8F0FE;\n",
              "      --fill-color: #1967D2;\n",
              "      --hover-bg-color: #E2EBFA;\n",
              "      --hover-fill-color: #174EA6;\n",
              "      --disabled-fill-color: #AAA;\n",
              "      --disabled-bg-color: #DDD;\n",
              "  }\n",
              "\n",
              "  [theme=dark] .colab-df-quickchart {\n",
              "      --bg-color: #3B4455;\n",
              "      --fill-color: #D2E3FC;\n",
              "      --hover-bg-color: #434B5C;\n",
              "      --hover-fill-color: #FFFFFF;\n",
              "      --disabled-bg-color: #3B4455;\n",
              "      --disabled-fill-color: #666;\n",
              "  }\n",
              "\n",
              "  .colab-df-quickchart {\n",
              "    background-color: var(--bg-color);\n",
              "    border: none;\n",
              "    border-radius: 50%;\n",
              "    cursor: pointer;\n",
              "    display: none;\n",
              "    fill: var(--fill-color);\n",
              "    height: 32px;\n",
              "    padding: 0;\n",
              "    width: 32px;\n",
              "  }\n",
              "\n",
              "  .colab-df-quickchart:hover {\n",
              "    background-color: var(--hover-bg-color);\n",
              "    box-shadow: 0 1px 2px rgba(60, 64, 67, 0.3), 0 1px 3px 1px rgba(60, 64, 67, 0.15);\n",
              "    fill: var(--button-hover-fill-color);\n",
              "  }\n",
              "\n",
              "  .colab-df-quickchart-complete:disabled,\n",
              "  .colab-df-quickchart-complete:disabled:hover {\n",
              "    background-color: var(--disabled-bg-color);\n",
              "    fill: var(--disabled-fill-color);\n",
              "    box-shadow: none;\n",
              "  }\n",
              "\n",
              "  .colab-df-spinner {\n",
              "    border: 2px solid var(--fill-color);\n",
              "    border-color: transparent;\n",
              "    border-bottom-color: var(--fill-color);\n",
              "    animation:\n",
              "      spin 1s steps(1) infinite;\n",
              "  }\n",
              "\n",
              "  @keyframes spin {\n",
              "    0% {\n",
              "      border-color: transparent;\n",
              "      border-bottom-color: var(--fill-color);\n",
              "      border-left-color: var(--fill-color);\n",
              "    }\n",
              "    20% {\n",
              "      border-color: transparent;\n",
              "      border-left-color: var(--fill-color);\n",
              "      border-top-color: var(--fill-color);\n",
              "    }\n",
              "    30% {\n",
              "      border-color: transparent;\n",
              "      border-left-color: var(--fill-color);\n",
              "      border-top-color: var(--fill-color);\n",
              "      border-right-color: var(--fill-color);\n",
              "    }\n",
              "    40% {\n",
              "      border-color: transparent;\n",
              "      border-right-color: var(--fill-color);\n",
              "      border-top-color: var(--fill-color);\n",
              "    }\n",
              "    60% {\n",
              "      border-color: transparent;\n",
              "      border-right-color: var(--fill-color);\n",
              "    }\n",
              "    80% {\n",
              "      border-color: transparent;\n",
              "      border-right-color: var(--fill-color);\n",
              "      border-bottom-color: var(--fill-color);\n",
              "    }\n",
              "    90% {\n",
              "      border-color: transparent;\n",
              "      border-bottom-color: var(--fill-color);\n",
              "    }\n",
              "  }\n",
              "</style>\n",
              "\n",
              "  <script>\n",
              "    async function quickchart(key) {\n",
              "      const quickchartButtonEl =\n",
              "        document.querySelector('#' + key + ' button');\n",
              "      quickchartButtonEl.disabled = true;  // To prevent multiple clicks.\n",
              "      quickchartButtonEl.classList.add('colab-df-spinner');\n",
              "      try {\n",
              "        const charts = await google.colab.kernel.invokeFunction(\n",
              "            'suggestCharts', [key], {});\n",
              "      } catch (error) {\n",
              "        console.error('Error during call to suggestCharts:', error);\n",
              "      }\n",
              "      quickchartButtonEl.classList.remove('colab-df-spinner');\n",
              "      quickchartButtonEl.classList.add('colab-df-quickchart-complete');\n",
              "    }\n",
              "    (() => {\n",
              "      let quickchartButtonEl =\n",
              "        document.querySelector('#df-035f0456-0e0e-4835-a449-8ad3981202b1 button');\n",
              "      quickchartButtonEl.style.display =\n",
              "        google.colab.kernel.accessAllowed ? 'block' : 'none';\n",
              "    })();\n",
              "  </script>\n",
              "</div>\n",
              "\n",
              "    </div>\n",
              "  </div>\n"
            ],
            "application/vnd.google.colaboratory.intrinsic+json": {
              "type": "dataframe",
              "variable_name": "crsp"
            }
          },
          "metadata": {},
          "execution_count": 14
        }
      ]
    },
    {
      "cell_type": "markdown",
      "source": [
        "## Adding market capitalization and industry"
      ],
      "metadata": {
        "id": "S7Ali0EPrKlv"
      }
    },
    {
      "cell_type": "markdown",
      "source": [
        "### Industry"
      ],
      "metadata": {
        "id": "FSwxcl1O7dUw"
      }
    },
    {
      "cell_type": "markdown",
      "source": [
        "Add the 2-digit SIC code industry as a column to your data.\n",
        "\n",
        "A 2-digit SIC code industry means that the first 2 numbers in the SIC code are considered to be the same industry.\n",
        "\n",
        "Note that these should be strings!"
      ],
      "metadata": {
        "id": "51kZD1c_7p9E"
      }
    },
    {
      "cell_type": "code",
      "source": [
        "crsp = crsp.assign(industry = lambda x: x['siccd'].str.slice(0,2))\n",
        "# slice is essentially equal to [:2] on a regular string (remember we called this 'slicing')"
      ],
      "metadata": {
        "id": "Qi44-tTw7h0d"
      },
      "execution_count": null,
      "outputs": []
    },
    {
      "cell_type": "markdown",
      "source": [
        "### Market capitalization"
      ],
      "metadata": {
        "id": "sVJp2Nx87bN2"
      }
    },
    {
      "cell_type": "markdown",
      "source": [
        "Calculate the market capitalization `mcap` from `prc` and `shrout` and add it to the DataFrame as a new column.\n",
        "\n",
        "Check the variable description of `shrout` to avoid mistakes."
      ],
      "metadata": {
        "id": "so2UsZHjrPKM"
      }
    },
    {
      "cell_type": "code",
      "source": [
        "# Shares outstanding are in USD thousands. So to get the accurate dollar values, multiply it with 1000\n",
        "crsp = crsp.assign(mcap = lambda x: x['prc'].multiply(x['shrout']*1000))"
      ],
      "metadata": {
        "id": "j7solgfWrWl9"
      },
      "execution_count": null,
      "outputs": []
    },
    {
      "cell_type": "markdown",
      "source": [
        "## Getting an overview"
      ],
      "metadata": {
        "id": "bDN2gDPCjhgA"
      }
    },
    {
      "cell_type": "markdown",
      "source": [
        "How many unique companies do we have? Print it in a nice format with a comma `,` as the thousands separator."
      ],
      "metadata": {
        "id": "-sdFjcgGjnFt"
      }
    },
    {
      "cell_type": "code",
      "source": [
        "print(f\"We have {crsp['permco'].nunique():,} unique companies\")\n",
        "#                                         ^ Note the comma here for the thousands separator"
      ],
      "metadata": {
        "colab": {
          "base_uri": "https://localhost:8080/"
        },
        "id": "OsPKeIUijg3W",
        "outputId": "89e3fd2a-78ee-48c0-8f20-5168eb214451"
      },
      "execution_count": null,
      "outputs": [
        {
          "output_type": "stream",
          "name": "stdout",
          "text": [
            "We have 5,922 unique companies\n"
          ]
        }
      ]
    },
    {
      "cell_type": "markdown",
      "source": [
        "How many share classes `permno` does each company have on average? Print it in a nice format rounded to two decimal places."
      ],
      "metadata": {
        "id": "MywE0IltkCDc"
      }
    },
    {
      "cell_type": "code",
      "source": [
        "print(f\"Each company has {crsp.groupby('permco')['permno'].nunique().mean():.2f} share classes on average\")"
      ],
      "metadata": {
        "colab": {
          "base_uri": "https://localhost:8080/"
        },
        "id": "yfRcbVfgjxt-",
        "outputId": "536e141c-0a39-408b-b829-7ff1c76c1b4f"
      },
      "execution_count": null,
      "outputs": [
        {
          "output_type": "stream",
          "name": "stdout",
          "text": [
            "Each company has 1.37 share classes on average\n"
          ]
        }
      ]
    },
    {
      "cell_type": "markdown",
      "source": [
        "Plot a bar chart that shows how many companies are in each 2-digit SIC code industry. Plot only industries with more than 50 companies. Sort the values, so that the industry with the most companies is on the left."
      ],
      "metadata": {
        "id": "aNgHajrzks-5"
      }
    },
    {
      "cell_type": "code",
      "source": [
        "ind = crsp.groupby(\"industry\")['permco'].nunique().sort_values(ascending=False)\n",
        "#                                                  ^ Sort the values descending\n",
        "\n",
        "ind[ind>50].plot.bar() # We cannot use .query() here, because ind is a Series, not a DataFrame"
      ],
      "metadata": {
        "colab": {
          "base_uri": "https://localhost:8080/",
          "height": 470
        },
        "id": "rIyQkI_OkYNv",
        "outputId": "e911292e-e4e3-4513-e0ec-3f63f1634df3"
      },
      "execution_count": null,
      "outputs": [
        {
          "output_type": "execute_result",
          "data": {
            "text/plain": [
              "<Axes: xlabel='industry'>"
            ]
          },
          "metadata": {},
          "execution_count": 19
        },
        {
          "output_type": "display_data",
          "data": {
            "text/plain": [
              "<Figure size 640x480 with 1 Axes>"
            ],
            "image/png": "[encoded data removed]"
          },
          "metadata": {}
        }
      ]
    },
    {
      "cell_type": "markdown",
      "source": [
        "## Price plot"
      ],
      "metadata": {
        "id": "dB1n740ZtYLO"
      }
    },
    {
      "cell_type": "markdown",
      "source": [
        "Consider data as of 2019-05-16. Get the companies that satisfy the following conditions:\n",
        "- Market cap greater or equal to USD 2.5 billion\n",
        "- Not in the industry \"99\"\n",
        "- Return greater than 0.05\n",
        "\n",
        "How many are there?\n",
        "\n",
        "**For the rest of the case study, we will only work with these companies.**\n",
        "\n",
        "If you can't solve it, pick 10 companies however you like and work with them going forward."
      ],
      "metadata": {
        "id": "n5FtQEyNr2qw"
      }
    },
    {
      "cell_type": "code",
      "source": [
        "mcrsp = crsp.query('(date == \"2019-05-16\") & (mcap >= 2.5e9) & (ret > 0.05) & (industry != \"99\")')\n",
        "#                                          ^ and             ^ and          ^ and\n",
        "# Join all four conditions by and's"
      ],
      "metadata": {
        "id": "CG_Jom7Sr2Wq",
        "colab": {
          "base_uri": "https://localhost:8080/"
        },
        "outputId": "8933a199-43d7-4d85-eff6-636ef02890f4"
      },
      "execution_count": null,
      "outputs": [
        {
          "output_type": "stream",
          "name": "stderr",
          "text": [
            "<ipython-input-20-b34b7aec0c4f>:1: FutureWarning: The behavior of 'isin' with dtype=datetime64[ns] and castable values (e.g. strings) is deprecated. In a future version, these will not be considered matching by isin. Explicitly cast to the appropriate dtype before calling isin instead.\n",
            "  mcrsp = crsp.query('(date == \"2019-05-16\") & (mcap >= 2.5e9) & (ret > 0.05) & (industry != \"99\")')\n"
          ]
        }
      ]
    },
    {
      "cell_type": "code",
      "source": [
        "print(f\"There are {len(mcrsp)} companies that satisfy the filters.\")"
      ],
      "metadata": {
        "colab": {
          "base_uri": "https://localhost:8080/"
        },
        "id": "A09ft0vAtk_k",
        "outputId": "63deabb3-4c8c-422f-d3c5-f847b3d2093d"
      },
      "execution_count": null,
      "outputs": [
        {
          "output_type": "stream",
          "name": "stdout",
          "text": [
            "There are 13 companies that satisfy the filters.\n"
          ]
        }
      ]
    },
    {
      "cell_type": "markdown",
      "source": [
        "Plot these companies' share price development over the entire year."
      ],
      "metadata": {
        "id": "r34DLJrMtcCJ"
      }
    },
    {
      "cell_type": "code",
      "source": [
        "# Extract the tickers\n",
        "companies = mcrsp.loc[:,'ticker']\n",
        "companies"
      ],
      "metadata": {
        "id": "vcEFWTS9tb1T",
        "colab": {
          "base_uri": "https://localhost:8080/",
          "height": 491
        },
        "outputId": "fd6a1280-660c-4929-b961-bf2a896b0193"
      },
      "execution_count": null,
      "outputs": [
        {
          "output_type": "execute_result",
          "data": {
            "text/plain": [
              "427016     SHOP\n",
              "472379      PEN\n",
              "531283     TWLO\n",
              "587028     SNAP\n",
              "596304     CVNA\n",
              "696621     PAGS\n",
              "929310     BYND\n",
              "1033264    IMMU\n",
              "1152334    CSCO\n",
              "1270290    PENN\n",
              "1315660    NICE\n",
              "1472972    NTES\n",
              "1498133     FLO\n",
              "Name: ticker, dtype: object"
            ],
            "text/html": [
              "<div>\n",
              "<style scoped>\n",
              "    .dataframe tbody tr th:only-of-type {\n",
              "        vertical-align: middle;\n",
              "    }\n",
              "\n",
              "    .dataframe tbody tr th {\n",
              "        vertical-align: top;\n",
              "    }\n",
              "\n",
              "    .dataframe thead th {\n",
              "        text-align: right;\n",
              "    }\n",
              "</style>\n",
              "<table border=\"1\" class=\"dataframe\">\n",
              "  <thead>\n",
              "    <tr style=\"text-align: right;\">\n",
              "      <th></th>\n",
              "      <th>ticker</th>\n",
              "    </tr>\n",
              "  </thead>\n",
              "  <tbody>\n",
              "    <tr>\n",
              "      <th>427016</th>\n",
              "      <td>SHOP</td>\n",
              "    </tr>\n",
              "    <tr>\n",
              "      <th>472379</th>\n",
              "      <td>PEN</td>\n",
              "    </tr>\n",
              "    <tr>\n",
              "      <th>531283</th>\n",
              "      <td>TWLO</td>\n",
              "    </tr>\n",
              "    <tr>\n",
              "      <th>587028</th>\n",
              "      <td>SNAP</td>\n",
              "    </tr>\n",
              "    <tr>\n",
              "      <th>596304</th>\n",
              "      <td>CVNA</td>\n",
              "    </tr>\n",
              "    <tr>\n",
              "      <th>696621</th>\n",
              "      <td>PAGS</td>\n",
              "    </tr>\n",
              "    <tr>\n",
              "      <th>929310</th>\n",
              "      <td>BYND</td>\n",
              "    </tr>\n",
              "    <tr>\n",
              "      <th>1033264</th>\n",
              "      <td>IMMU</td>\n",
              "    </tr>\n",
              "    <tr>\n",
              "      <th>1152334</th>\n",
              "      <td>CSCO</td>\n",
              "    </tr>\n",
              "    <tr>\n",
              "      <th>1270290</th>\n",
              "      <td>PENN</td>\n",
              "    </tr>\n",
              "    <tr>\n",
              "      <th>1315660</th>\n",
              "      <td>NICE</td>\n",
              "    </tr>\n",
              "    <tr>\n",
              "      <th>1472972</th>\n",
              "      <td>NTES</td>\n",
              "    </tr>\n",
              "    <tr>\n",
              "      <th>1498133</th>\n",
              "      <td>FLO</td>\n",
              "    </tr>\n",
              "  </tbody>\n",
              "</table>\n",
              "</div><br><label><b>dtype:</b> object</label>"
            ]
          },
          "metadata": {},
          "execution_count": 22
        }
      ]
    },
    {
      "cell_type": "code",
      "source": [
        "# Filter the dataframe to the relevant companies\n",
        "filtered_crsp = crsp.query(\"ticker in @companies\")"
      ],
      "metadata": {
        "id": "I5B1V7NKt-0o"
      },
      "execution_count": null,
      "outputs": []
    },
    {
      "cell_type": "code",
      "source": [
        "sns.lineplot(\n",
        "    data = filtered_crsp, # Use our filtered data set\n",
        "    x = 'date',\n",
        "    y = 'prc',\n",
        "    hue = 'ticker', # Make sure we get separate lines for each company ticker\n",
        ")"
      ],
      "metadata": {
        "colab": {
          "base_uri": "https://localhost:8080/",
          "height": 466
        },
        "id": "JKjhEOTtuClG",
        "outputId": "2e9ad3b6-94e1-42e0-afa4-a6136b0cc234"
      },
      "execution_count": null,
      "outputs": [
        {
          "output_type": "execute_result",
          "data": {
            "text/plain": [
              "<Axes: xlabel='date', ylabel='prc'>"
            ]
          },
          "metadata": {},
          "execution_count": 24
        },
        {
          "output_type": "display_data",
          "data": {
            "text/plain": [
              "<Figure size 640x480 with 1 Axes>"
            ],
            "image/png": "[encoded data removed]"
          },
          "metadata": {}
        }
      ]
    },
    {
      "cell_type": "markdown",
      "source": [
        "## Analyzing the data"
      ],
      "metadata": {
        "id": "22aKryJQmUXz"
      }
    },
    {
      "cell_type": "markdown",
      "source": [
        "Now `pivot` (hint!) the (filtered) data to get the `ret` as values, the `date` as index and the `ticker` in the columns."
      ],
      "metadata": {
        "id": "GHQXD1kloEdB"
      }
    },
    {
      "cell_type": "code",
      "source": [
        "ret_crsp = filtered_crsp.pivot(values='ret',index='date',columns='ticker')"
      ],
      "metadata": {
        "id": "wBfp5xjznzZn"
      },
      "execution_count": null,
      "outputs": []
    },
    {
      "cell_type": "markdown",
      "source": [
        "Calculate the return correlations of the companies."
      ],
      "metadata": {
        "id": "NEyn6OIbopy7"
      }
    },
    {
      "cell_type": "code",
      "source": [
        "ret_crsp.corr()"
      ],
      "metadata": {
        "colab": {
          "base_uri": "https://localhost:8080/",
          "height": 488
        },
        "id": "USN9b-d0oHZb",
        "outputId": "892d7712-d025-4996-aee0-2b0337d528d5"
      },
      "execution_count": null,
      "outputs": [
        {
          "output_type": "execute_result",
          "data": {
            "text/plain": [
              "ticker      BYND      CSCO      CVNA       FLO      IMMU      NICE      NTES  \\\n",
              "ticker                                                                         \n",
              "BYND    1.000000  0.049800  0.074979 -0.059052  0.064882  0.036255  0.032718   \n",
              "CSCO    0.049800  1.000000  0.273580  0.119127  0.268072  0.366504  0.373534   \n",
              "CVNA    0.074979  0.273580  1.000000 -0.067208  0.100040  0.234808  0.377455   \n",
              "FLO    -0.059052  0.119127 -0.067208  1.000000 -0.008814  0.231748 -0.003245   \n",
              "IMMU    0.064882  0.268072  0.100040 -0.008814  1.000000  0.079985  0.112642   \n",
              "NICE    0.036255  0.366504  0.234808  0.231748  0.079985  1.000000  0.310164   \n",
              "NTES    0.032718  0.373534  0.377455 -0.003245  0.112642  0.310164  1.000000   \n",
              "PAGS    0.118552  0.319379  0.305583  0.119066  0.050894  0.282450  0.250849   \n",
              "PEN     0.065577  0.352558  0.148325  0.125730  0.183331  0.234178  0.150691   \n",
              "PENN    0.098288  0.381565  0.322322  0.054178  0.326259  0.268875  0.271268   \n",
              "SHOP    0.119422  0.289350  0.349180  0.096771  0.068805  0.334109  0.304190   \n",
              "SNAP    0.143152  0.290844  0.235900  0.023068  0.019465  0.224826  0.156481   \n",
              "TWLO    0.238840  0.385083  0.411872  0.123079  0.139239  0.426178  0.323231   \n",
              "\n",
              "ticker      PAGS       PEN      PENN      SHOP      SNAP      TWLO  \n",
              "ticker                                                              \n",
              "BYND    0.118552  0.065577  0.098288  0.119422  0.143152  0.238840  \n",
              "CSCO    0.319379  0.352558  0.381565  0.289350  0.290844  0.385083  \n",
              "CVNA    0.305583  0.148325  0.322322  0.349180  0.235900  0.411872  \n",
              "FLO     0.119066  0.125730  0.054178  0.096771  0.023068  0.123079  \n",
              "IMMU    0.050894  0.183331  0.326259  0.068805  0.019465  0.139239  \n",
              "NICE    0.282450  0.234178  0.268875  0.334109  0.224826  0.426178  \n",
              "NTES    0.250849  0.150691  0.271268  0.304190  0.156481  0.323231  \n",
              "PAGS    1.000000  0.162545  0.285559  0.404234  0.241107  0.450641  \n",
              "PEN     0.162545  1.000000  0.197485  0.152200  0.198086  0.316963  \n",
              "PENN    0.285559  0.197485  1.000000  0.185187  0.247472  0.289452  \n",
              "SHOP    0.404234  0.152200  0.185187  1.000000  0.229875  0.664686  \n",
              "SNAP    0.241107  0.198086  0.247472  0.229875  1.000000  0.298781  \n",
              "TWLO    0.450641  0.316963  0.289452  0.664686  0.298781  1.000000  "
            ],
            "text/html": [
              "\n",
              "  <div id=\"df-fddac6c7-d5e6-4e52-914c-15abe2f4538c\" class=\"colab-df-container\">\n",
              "    <div>\n",
              "<style scoped>\n",
              "    .dataframe tbody tr th:only-of-type {\n",
              "        vertical-align: middle;\n",
              "    }\n",
              "\n",
              "    .dataframe tbody tr th {\n",
              "        vertical-align: top;\n",
              "    }\n",
              "\n",
              "    .dataframe thead th {\n",
              "        text-align: right;\n",
              "    }\n",
              "</style>\n",
              "<table border=\"1\" class=\"dataframe\">\n",
              "  <thead>\n",
              "    <tr style=\"text-align: right;\">\n",
              "      <th>ticker</th>\n",
              "      <th>BYND</th>\n",
              "      <th>CSCO</th>\n",
              "      <th>CVNA</th>\n",
              "      <th>FLO</th>\n",
              "      <th>IMMU</th>\n",
              "      <th>NICE</th>\n",
              "      <th>NTES</th>\n",
              "      <th>PAGS</th>\n",
              "      <th>PEN</th>\n",
              "      <th>PENN</th>\n",
              "      <th>SHOP</th>\n",
              "      <th>SNAP</th>\n",
              "      <th>TWLO</th>\n",
              "    </tr>\n",
              "    <tr>\n",
              "      <th>ticker</th>\n",
              "      <th></th>\n",
              "      <th></th>\n",
              "      <th></th>\n",
              "      <th></th>\n",
              "      <th></th>\n",
              "      <th></th>\n",
              "      <th></th>\n",
              "      <th></th>\n",
              "      <th></th>\n",
              "      <th></th>\n",
              "      <th></th>\n",
              "      <th></th>\n",
              "      <th></th>\n",
              "    </tr>\n",
              "  </thead>\n",
              "  <tbody>\n",
              "    <tr>\n",
              "      <th>BYND</th>\n",
              "      <td>1.000000</td>\n",
              "      <td>0.049800</td>\n",
              "      <td>0.074979</td>\n",
              "      <td>-0.059052</td>\n",
              "      <td>0.064882</td>\n",
              "      <td>0.036255</td>\n",
              "      <td>0.032718</td>\n",
              "      <td>0.118552</td>\n",
              "      <td>0.065577</td>\n",
              "      <td>0.098288</td>\n",
              "      <td>0.119422</td>\n",
              "      <td>0.143152</td>\n",
              "      <td>0.238840</td>\n",
              "    </tr>\n",
              "    <tr>\n",
              "      <th>CSCO</th>\n",
              "      <td>0.049800</td>\n",
              "      <td>1.000000</td>\n",
              "      <td>0.273580</td>\n",
              "      <td>0.119127</td>\n",
              "      <td>0.268072</td>\n",
              "      <td>0.366504</td>\n",
              "      <td>0.373534</td>\n",
              "      <td>0.319379</td>\n",
              "      <td>0.352558</td>\n",
              "      <td>0.381565</td>\n",
              "      <td>0.289350</td>\n",
              "      <td>0.290844</td>\n",
              "      <td>0.385083</td>\n",
              "    </tr>\n",
              "    <tr>\n",
              "      <th>CVNA</th>\n",
              "      <td>0.074979</td>\n",
              "      <td>0.273580</td>\n",
              "      <td>1.000000</td>\n",
              "      <td>-0.067208</td>\n",
              "      <td>0.100040</td>\n",
              "      <td>0.234808</td>\n",
              "      <td>0.377455</td>\n",
              "      <td>0.305583</td>\n",
              "      <td>0.148325</td>\n",
              "      <td>0.322322</td>\n",
              "      <td>0.349180</td>\n",
              "      <td>0.235900</td>\n",
              "      <td>0.411872</td>\n",
              "    </tr>\n",
              "    <tr>\n",
              "      <th>FLO</th>\n",
              "      <td>-0.059052</td>\n",
              "      <td>0.119127</td>\n",
              "      <td>-0.067208</td>\n",
              "      <td>1.000000</td>\n",
              "      <td>-0.008814</td>\n",
              "      <td>0.231748</td>\n",
              "      <td>-0.003245</td>\n",
              "      <td>0.119066</td>\n",
              "      <td>0.125730</td>\n",
              "      <td>0.054178</td>\n",
              "      <td>0.096771</td>\n",
              "      <td>0.023068</td>\n",
              "      <td>0.123079</td>\n",
              "    </tr>\n",
              "    <tr>\n",
              "      <th>IMMU</th>\n",
              "      <td>0.064882</td>\n",
              "      <td>0.268072</td>\n",
              "      <td>0.100040</td>\n",
              "      <td>-0.008814</td>\n",
              "      <td>1.000000</td>\n",
              "      <td>0.079985</td>\n",
              "      <td>0.112642</td>\n",
              "      <td>0.050894</td>\n",
              "      <td>0.183331</td>\n",
              "      <td>0.326259</td>\n",
              "      <td>0.068805</td>\n",
              "      <td>0.019465</td>\n",
              "      <td>0.139239</td>\n",
              "    </tr>\n",
              "    <tr>\n",
              "      <th>NICE</th>\n",
              "      <td>0.036255</td>\n",
              "      <td>0.366504</td>\n",
              "      <td>0.234808</td>\n",
              "      <td>0.231748</td>\n",
              "      <td>0.079985</td>\n",
              "      <td>1.000000</td>\n",
              "      <td>0.310164</td>\n",
              "      <td>0.282450</td>\n",
              "      <td>0.234178</td>\n",
              "      <td>0.268875</td>\n",
              "      <td>0.334109</td>\n",
              "      <td>0.224826</td>\n",
              "      <td>0.426178</td>\n",
              "    </tr>\n",
              "    <tr>\n",
              "      <th>NTES</th>\n",
              "      <td>0.032718</td>\n",
              "      <td>0.373534</td>\n",
              "      <td>0.377455</td>\n",
              "      <td>-0.003245</td>\n",
              "      <td>0.112642</td>\n",
              "      <td>0.310164</td>\n",
              "      <td>1.000000</td>\n",
              "      <td>0.250849</td>\n",
              "      <td>0.150691</td>\n",
              "      <td>0.271268</td>\n",
              "      <td>0.304190</td>\n",
              "      <td>0.156481</td>\n",
              "      <td>0.323231</td>\n",
              "    </tr>\n",
              "    <tr>\n",
              "      <th>PAGS</th>\n",
              "      <td>0.118552</td>\n",
              "      <td>0.319379</td>\n",
              "      <td>0.305583</td>\n",
              "      <td>0.119066</td>\n",
              "      <td>0.050894</td>\n",
              "      <td>0.282450</td>\n",
              "      <td>0.250849</td>\n",
              "      <td>1.000000</td>\n",
              "      <td>0.162545</td>\n",
              "      <td>0.285559</td>\n",
              "      <td>0.404234</td>\n",
              "      <td>0.241107</td>\n",
              "      <td>0.450641</td>\n",
              "    </tr>\n",
              "    <tr>\n",
              "      <th>PEN</th>\n",
              "      <td>0.065577</td>\n",
              "      <td>0.352558</td>\n",
              "      <td>0.148325</td>\n",
              "      <td>0.125730</td>\n",
              "      <td>0.183331</td>\n",
              "      <td>0.234178</td>\n",
              "      <td>0.150691</td>\n",
              "      <td>0.162545</td>\n",
              "      <td>1.000000</td>\n",
              "      <td>0.197485</td>\n",
              "      <td>0.152200</td>\n",
              "      <td>0.198086</td>\n",
              "      <td>0.316963</td>\n",
              "    </tr>\n",
              "    <tr>\n",
              "      <th>PENN</th>\n",
              "      <td>0.098288</td>\n",
              "      <td>0.381565</td>\n",
              "      <td>0.322322</td>\n",
              "      <td>0.054178</td>\n",
              "      <td>0.326259</td>\n",
              "      <td>0.268875</td>\n",
              "      <td>0.271268</td>\n",
              "      <td>0.285559</td>\n",
              "      <td>0.197485</td>\n",
              "      <td>1.000000</td>\n",
              "      <td>0.185187</td>\n",
              "      <td>0.247472</td>\n",
              "      <td>0.289452</td>\n",
              "    </tr>\n",
              "    <tr>\n",
              "      <th>SHOP</th>\n",
              "      <td>0.119422</td>\n",
              "      <td>0.289350</td>\n",
              "      <td>0.349180</td>\n",
              "      <td>0.096771</td>\n",
              "      <td>0.068805</td>\n",
              "      <td>0.334109</td>\n",
              "      <td>0.304190</td>\n",
              "      <td>0.404234</td>\n",
              "      <td>0.152200</td>\n",
              "      <td>0.185187</td>\n",
              "      <td>1.000000</td>\n",
              "      <td>0.229875</td>\n",
              "      <td>0.664686</td>\n",
              "    </tr>\n",
              "    <tr>\n",
              "      <th>SNAP</th>\n",
              "      <td>0.143152</td>\n",
              "      <td>0.290844</td>\n",
              "      <td>0.235900</td>\n",
              "      <td>0.023068</td>\n",
              "      <td>0.019465</td>\n",
              "      <td>0.224826</td>\n",
              "      <td>0.156481</td>\n",
              "      <td>0.241107</td>\n",
              "      <td>0.198086</td>\n",
              "      <td>0.247472</td>\n",
              "      <td>0.229875</td>\n",
              "      <td>1.000000</td>\n",
              "      <td>0.298781</td>\n",
              "    </tr>\n",
              "    <tr>\n",
              "      <th>TWLO</th>\n",
              "      <td>0.238840</td>\n",
              "      <td>0.385083</td>\n",
              "      <td>0.411872</td>\n",
              "      <td>0.123079</td>\n",
              "      <td>0.139239</td>\n",
              "      <td>0.426178</td>\n",
              "      <td>0.323231</td>\n",
              "      <td>0.450641</td>\n",
              "      <td>0.316963</td>\n",
              "      <td>0.289452</td>\n",
              "      <td>0.664686</td>\n",
              "      <td>0.298781</td>\n",
              "      <td>1.000000</td>\n",
              "    </tr>\n",
              "  </tbody>\n",
              "</table>\n",
              "</div>\n",
              "    <div class=\"colab-df-buttons\">\n",
              "\n",
              "  <div class=\"colab-df-container\">\n",
              "    <button class=\"colab-df-convert\" onclick=\"convertToInteractive('df-fddac6c7-d5e6-4e52-914c-15abe2f4538c')\"\n",
              "            title=\"Convert this dataframe to an interactive table.\"\n",
              "            style=\"display:none;\">\n",
              "\n",
              "  <svg xmlns=\"http://www.w3.org/2000/svg\" height=\"24px\" viewBox=\"0 -960 960 960\">\n",
              "    <path d=\"M120-120v-720h720v720H120Zm60-500h600v-160H180v160Zm220 220h160v-160H400v160Zm0 220h160v-160H400v160ZM180-400h160v-160H180v160Zm440 0h160v-160H620v160ZM180-180h160v-160H180v160Zm440 0h160v-160H620v160Z\"/>\n",
              "  </svg>\n",
              "    </button>\n",
              "\n",
              "  <style>\n",
              "    .colab-df-container {\n",
              "      display:flex;\n",
              "      gap: 12px;\n",
              "    }\n",
              "\n",
              "    .colab-df-convert {\n",
              "      background-color: #E8F0FE;\n",
              "      border: none;\n",
              "      border-radius: 50%;\n",
              "      cursor: pointer;\n",
              "      display: none;\n",
              "      fill: #1967D2;\n",
              "      height: 32px;\n",
              "      padding: 0 0 0 0;\n",
              "      width: 32px;\n",
              "    }\n",
              "\n",
              "    .colab-df-convert:hover {\n",
              "      background-color: #E2EBFA;\n",
              "      box-shadow: 0px 1px 2px rgba(60, 64, 67, 0.3), 0px 1px 3px 1px rgba(60, 64, 67, 0.15);\n",
              "      fill: #174EA6;\n",
              "    }\n",
              "\n",
              "    .colab-df-buttons div {\n",
              "      margin-bottom: 4px;\n",
              "    }\n",
              "\n",
              "    [theme=dark] .colab-df-convert {\n",
              "      background-color: #3B4455;\n",
              "      fill: #D2E3FC;\n",
              "    }\n",
              "\n",
              "    [theme=dark] .colab-df-convert:hover {\n",
              "      background-color: #434B5C;\n",
              "      box-shadow: 0px 1px 3px 1px rgba(0, 0, 0, 0.15);\n",
              "      filter: drop-shadow(0px 1px 2px rgba(0, 0, 0, 0.3));\n",
              "      fill: #FFFFFF;\n",
              "    }\n",
              "  </style>\n",
              "\n",
              "    <script>\n",
              "      const buttonEl =\n",
              "        document.querySelector('#df-fddac6c7-d5e6-4e52-914c-15abe2f4538c button.colab-df-convert');\n",
              "      buttonEl.style.display =\n",
              "        google.colab.kernel.accessAllowed ? 'block' : 'none';\n",
              "\n",
              "      async function convertToInteractive(key) {\n",
              "        const element = document.querySelector('#df-fddac6c7-d5e6-4e52-914c-15abe2f4538c');\n",
              "        const dataTable =\n",
              "          await google.colab.kernel.invokeFunction('convertToInteractive',\n",
              "                                                    [key], {});\n",
              "        if (!dataTable) return;\n",
              "\n",
              "        const docLinkHtml = 'Like what you see? Visit the ' +\n",
              "          '<a target=\"_blank\" href=https://colab.research.google.com/notebooks/data_table.ipynb>data table notebook</a>'\n",
              "          + ' to learn more about interactive tables.';\n",
              "        element.innerHTML = '';\n",
              "        dataTable['output_type'] = 'display_data';\n",
              "        await google.colab.output.renderOutput(dataTable, element);\n",
              "        const docLink = document.createElement('div');\n",
              "        docLink.innerHTML = docLinkHtml;\n",
              "        element.appendChild(docLink);\n",
              "      }\n",
              "    </script>\n",
              "  </div>\n",
              "\n",
              "\n",
              "<div id=\"df-c291ce26-961b-4f8b-8ab1-14dfa0cfe67b\">\n",
              "  <button class=\"colab-df-quickchart\" onclick=\"quickchart('df-c291ce26-961b-4f8b-8ab1-14dfa0cfe67b')\"\n",
              "            title=\"Suggest charts\"\n",
              "            style=\"display:none;\">\n",
              "\n",
              "<svg xmlns=\"http://www.w3.org/2000/svg\" height=\"24px\"viewBox=\"0 0 24 24\"\n",
              "     width=\"24px\">\n",
              "    <g>\n",
              "        <path d=\"M19 3H5c-1.1 0-2 .9-2 2v14c0 1.1.9 2 2 2h14c1.1 0 2-.9 2-2V5c0-1.1-.9-2-2-2zM9 17H7v-7h2v7zm4 0h-2V7h2v10zm4 0h-2v-4h2v4z\"/>\n",
              "    </g>\n",
              "</svg>\n",
              "  </button>\n",
              "\n",
              "<style>\n",
              "  .colab-df-quickchart {\n",
              "      --bg-color: #E8F0FE;\n",
              "      --fill-color: #1967D2;\n",
              "      --hover-bg-color: #E2EBFA;\n",
              "      --hover-fill-color: #174EA6;\n",
              "      --disabled-fill-color: #AAA;\n",
              "      --disabled-bg-color: #DDD;\n",
              "  }\n",
              "\n",
              "  [theme=dark] .colab-df-quickchart {\n",
              "      --bg-color: #3B4455;\n",
              "      --fill-color: #D2E3FC;\n",
              "      --hover-bg-color: #434B5C;\n",
              "      --hover-fill-color: #FFFFFF;\n",
              "      --disabled-bg-color: #3B4455;\n",
              "      --disabled-fill-color: #666;\n",
              "  }\n",
              "\n",
              "  .colab-df-quickchart {\n",
              "    background-color: var(--bg-color);\n",
              "    border: none;\n",
              "    border-radius: 50%;\n",
              "    cursor: pointer;\n",
              "    display: none;\n",
              "    fill: var(--fill-color);\n",
              "    height: 32px;\n",
              "    padding: 0;\n",
              "    width: 32px;\n",
              "  }\n",
              "\n",
              "  .colab-df-quickchart:hover {\n",
              "    background-color: var(--hover-bg-color);\n",
              "    box-shadow: 0 1px 2px rgba(60, 64, 67, 0.3), 0 1px 3px 1px rgba(60, 64, 67, 0.15);\n",
              "    fill: var(--button-hover-fill-color);\n",
              "  }\n",
              "\n",
              "  .colab-df-quickchart-complete:disabled,\n",
              "  .colab-df-quickchart-complete:disabled:hover {\n",
              "    background-color: var(--disabled-bg-color);\n",
              "    fill: var(--disabled-fill-color);\n",
              "    box-shadow: none;\n",
              "  }\n",
              "\n",
              "  .colab-df-spinner {\n",
              "    border: 2px solid var(--fill-color);\n",
              "    border-color: transparent;\n",
              "    border-bottom-color: var(--fill-color);\n",
              "    animation:\n",
              "      spin 1s steps(1) infinite;\n",
              "  }\n",
              "\n",
              "  @keyframes spin {\n",
              "    0% {\n",
              "      border-color: transparent;\n",
              "      border-bottom-color: var(--fill-color);\n",
              "      border-left-color: var(--fill-color);\n",
              "    }\n",
              "    20% {\n",
              "      border-color: transparent;\n",
              "      border-left-color: var(--fill-color);\n",
              "      border-top-color: var(--fill-color);\n",
              "    }\n",
              "    30% {\n",
              "      border-color: transparent;\n",
              "      border-left-color: var(--fill-color);\n",
              "      border-top-color: var(--fill-color);\n",
              "      border-right-color: var(--fill-color);\n",
              "    }\n",
              "    40% {\n",
              "      border-color: transparent;\n",
              "      border-right-color: var(--fill-color);\n",
              "      border-top-color: var(--fill-color);\n",
              "    }\n",
              "    60% {\n",
              "      border-color: transparent;\n",
              "      border-right-color: var(--fill-color);\n",
              "    }\n",
              "    80% {\n",
              "      border-color: transparent;\n",
              "      border-right-color: var(--fill-color);\n",
              "      border-bottom-color: var(--fill-color);\n",
              "    }\n",
              "    90% {\n",
              "      border-color: transparent;\n",
              "      border-bottom-color: var(--fill-color);\n",
              "    }\n",
              "  }\n",
              "</style>\n",
              "\n",
              "  <script>\n",
              "    async function quickchart(key) {\n",
              "      const quickchartButtonEl =\n",
              "        document.querySelector('#' + key + ' button');\n",
              "      quickchartButtonEl.disabled = true;  // To prevent multiple clicks.\n",
              "      quickchartButtonEl.classList.add('colab-df-spinner');\n",
              "      try {\n",
              "        const charts = await google.colab.kernel.invokeFunction(\n",
              "            'suggestCharts', [key], {});\n",
              "      } catch (error) {\n",
              "        console.error('Error during call to suggestCharts:', error);\n",
              "      }\n",
              "      quickchartButtonEl.classList.remove('colab-df-spinner');\n",
              "      quickchartButtonEl.classList.add('colab-df-quickchart-complete');\n",
              "    }\n",
              "    (() => {\n",
              "      let quickchartButtonEl =\n",
              "        document.querySelector('#df-c291ce26-961b-4f8b-8ab1-14dfa0cfe67b button');\n",
              "      quickchartButtonEl.style.display =\n",
              "        google.colab.kernel.accessAllowed ? 'block' : 'none';\n",
              "    })();\n",
              "  </script>\n",
              "</div>\n",
              "\n",
              "    </div>\n",
              "  </div>\n"
            ],
            "application/vnd.google.colaboratory.intrinsic+json": {
              "type": "dataframe",
              "summary": "{\n  \"name\": \"ret_crsp\",\n  \"rows\": 13,\n  \"fields\": [\n    {\n      \"column\": \"ticker\",\n      \"properties\": {\n        \"dtype\": \"string\",\n        \"num_unique_values\": 13,\n        \"samples\": [\n          \"SNAP\",\n          \"PENN\",\n          \"BYND\"\n        ],\n        \"semantic_type\": \"\",\n        \"description\": \"\"\n      }\n    },\n    {\n      \"column\": \"BYND\",\n      \"properties\": {\n        \"dtype\": \"number\",\n        \"std\": 0.263847800510248,\n        \"min\": -0.059051941205774616,\n        \"max\": 1.0,\n        \"num_unique_values\": 13,\n        \"samples\": [\n          0.14315172756977243,\n          0.098288456354864,\n          1.0\n        ],\n        \"semantic_type\": \"\",\n        \"description\": \"\"\n      }\n    },\n    {\n      \"column\": \"CSCO\",\n      \"properties\": {\n        \"dtype\": \"number\",\n        \"std\": 0.22157586010671013,\n        \"min\": 0.049799675595454895,\n        \"max\": 1.0,\n        \"num_unique_values\": 13,\n        \"samples\": [\n          0.2908439900336559,\n          0.38156488113304265,\n          0.049799675595454895\n        ],\n        \"semantic_type\": \"\",\n        \"description\": \"\"\n      }\n    },\n    {\n      \"column\": \"CVNA\",\n      \"properties\": {\n        \"dtype\": \"number\",\n        \"std\": 0.2529197691803235,\n        \"min\": -0.06720771382750461,\n        \"max\": 1.0,\n        \"num_unique_values\": 13,\n        \"samples\": [\n          0.23590042642655895,\n          0.3223224499088883,\n          0.07497903338421334\n        ],\n        \"semantic_type\": \"\",\n        \"description\": \"\"\n      }\n    },\n    {\n      \"column\": \"FLO\",\n      \"properties\": {\n        \"dtype\": \"number\",\n        \"std\": 0.2734318576055627,\n        \"min\": -0.06720771382750461,\n        \"max\": 1.0,\n        \"num_unique_values\": 13,\n        \"samples\": [\n          0.02306769944363788,\n          0.05417834307053301,\n          -0.059051941205774616\n        ],\n        \"semantic_type\": \"\",\n        \"description\": \"\"\n      }\n    },\n    {\n      \"column\": \"IMMU\",\n      \"properties\": {\n        \"dtype\": \"number\",\n        \"std\": 0.2626053862160482,\n        \"min\": -0.008814331718161516,\n        \"max\": 1.0,\n        \"num_unique_values\": 13,\n        \"samples\": [\n          0.01946485332581349,\n          0.32625896994642783,\n          0.0648822138933043\n        ],\n        \"semantic_type\": \"\",\n        \"description\": \"\"\n      }\n    },\n    {\n      \"column\": \"NICE\",\n      \"properties\": {\n        \"dtype\": \"number\",\n        \"std\": 0.2324588484638485,\n        \"min\": 0.036254929022931814,\n        \"max\": 1.0,\n        \"num_unique_values\": 13,\n        \"samples\": [\n          0.22482563182105775,\n          0.268875320917592,\n          0.036254929022931814\n        ],\n        \"semantic_type\": \"\",\n        \"description\": \"\"\n      }\n    },\n    {\n      \"column\": \"NTES\",\n      \"properties\": {\n        \"dtype\": \"number\",\n        \"std\": 0.24870799684915024,\n        \"min\": -0.0032447353538902495,\n        \"max\": 1.0,\n        \"num_unique_values\": 13,\n        \"samples\": [\n          0.15648117350240953,\n          0.2712675276637537,\n          0.03271765057768007\n        ],\n        \"semantic_type\": \"\",\n        \"description\": \"\"\n      }\n    },\n    {\n      \"column\": \"PAGS\",\n      \"properties\": {\n        \"dtype\": \"number\",\n        \"std\": 0.23740579605784137,\n        \"min\": 0.050893512143830595,\n        \"max\": 1.0,\n        \"num_unique_values\": 13,\n        \"samples\": [\n          0.24110668875328903,\n          0.28555892979504416,\n          0.11855165080952479\n        ],\n        \"semantic_type\": \"\",\n        \"description\": \"\"\n      }\n    },\n    {\n      \"column\": \"PEN\",\n      \"properties\": {\n        \"dtype\": \"number\",\n        \"std\": 0.23706698601702164,\n        \"min\": 0.06557699872507593,\n        \"max\": 1.0,\n        \"num_unique_values\": 13,\n        \"samples\": [\n          0.19808603958378912,\n          0.1974851801671351,\n          0.06557699872507593\n        ],\n        \"semantic_type\": \"\",\n        \"description\": \"\"\n      }\n    },\n    {\n      \"column\": \"PENN\",\n      \"properties\": {\n        \"dtype\": \"number\",\n        \"std\": 0.22866661441561678,\n        \"min\": 0.05417834307053301,\n        \"max\": 1.0,\n        \"num_unique_values\": 13,\n        \"samples\": [\n          0.24747219768517245,\n          1.0,\n          0.098288456354864\n        ],\n        \"semantic_type\": \"\",\n        \"description\": \"\"\n      }\n    },\n    {\n      \"column\": \"SHOP\",\n      \"properties\": {\n        \"dtype\": \"number\",\n        \"std\": 0.2578837215152333,\n        \"min\": 0.06880495609075224,\n        \"max\": 1.0,\n        \"num_unique_values\": 13,\n        \"samples\": [\n          0.22987534756668754,\n          0.18518740947103265,\n          0.11942186379823683\n        ],\n        \"semantic_type\": \"\",\n        \"description\": \"\"\n      }\n    },\n    {\n      \"column\": \"SNAP\",\n      \"properties\": {\n        \"dtype\": \"number\",\n        \"std\": 0.24067693374225413,\n        \"min\": 0.01946485332581349,\n        \"max\": 1.0,\n        \"num_unique_values\": 13,\n        \"samples\": [\n          1.0,\n          0.24747219768517245,\n          0.14315172756977243\n        ],\n        \"semantic_type\": \"\",\n        \"description\": \"\"\n      }\n    },\n    {\n      \"column\": \"TWLO\",\n      \"properties\": {\n        \"dtype\": \"number\",\n        \"std\": 0.2306227150733123,\n        \"min\": 0.1230785421599274,\n        \"max\": 1.0,\n        \"num_unique_values\": 13,\n        \"samples\": [\n          0.2987806493232126,\n          0.2894523654116199,\n          0.23883960692039852\n        ],\n        \"semantic_type\": \"\",\n        \"description\": \"\"\n      }\n    }\n  ]\n}"
            }
          },
          "metadata": {},
          "execution_count": 26
        }
      ]
    },
    {
      "cell_type": "markdown",
      "source": [
        "Since that's hard to grasp quickly, plot a heatmap. Choose a diverging colormap from the [available ones](https://seaborn.pydata.org/tutorial/color_palettes.html)."
      ],
      "metadata": {
        "id": "fdXqqghUpNJy"
      }
    },
    {
      "cell_type": "code",
      "source": [
        "sns.heatmap(\n",
        "    data = ret_crsp.corr(),\n",
        "    vmin = -1,\n",
        "    vmax = 1,\n",
        "    cmap = \"vlag\",\n",
        ")"
      ],
      "metadata": {
        "colab": {
          "base_uri": "https://localhost:8080/",
          "height": 498
        },
        "id": "YMLIcPLiouyR",
        "outputId": "4c2d23db-93e0-475a-cc0d-ddcc94207397"
      },
      "execution_count": null,
      "outputs": [
        {
          "output_type": "execute_result",
          "data": {
            "text/plain": [
              "<Axes: xlabel='ticker', ylabel='ticker'>"
            ]
          },
          "metadata": {},
          "execution_count": 27
        },
        {
          "output_type": "display_data",
          "data": {
            "text/plain": [
              "<Figure size 640x480 with 2 Axes>"
            ],
            "image/png": "[encoded data removed]"
          },
          "metadata": {}
        }
      ]
    },
    {
      "cell_type": "markdown",
      "source": [
        "Which company pair has the highest correlation? Get it via code. Ignore correlations of the companies with themselves. [Difficult task!]"
      ],
      "metadata": {
        "id": "YGH6ZcN5P7lO"
      }
    },
    {
      "cell_type": "code",
      "source": [
        "# The simple approach\n",
        "correlations = ret_crsp.corr().replace(1.0, 0.0) # We know that the values on the diagonal are exact 1.0, which don't occur anywhere else -> replace with 0, so it's no longer the highest.\n",
        "\n",
        "# Solve it stepwise. Get row and column with highest correlation separately.\n",
        "column_with_highest_correlation = correlations.abs().max().idxmax() # Get the column with the highest value\n",
        "row_with_highest_correlation = correlations.loc[:,column_with_highest_correlation].idxmax() # Get the row with the highest value in the column with the highest correlation\n",
        "\n",
        "# Print it in a nice way\n",
        "print(f\"The company pair with the highest correlation is {column_with_highest_correlation}-{row_with_highest_correlation}\")"
      ],
      "metadata": {
        "colab": {
          "base_uri": "https://localhost:8080/"
        },
        "id": "yRZxvuxMQKOe",
        "outputId": "548d1d7d-0b2a-4044-a335-578a05021287"
      },
      "execution_count": null,
      "outputs": [
        {
          "output_type": "stream",
          "name": "stdout",
          "text": [
            "The company pair with the highest correlation is SHOP-TWLO\n"
          ]
        }
      ]
    },
    {
      "cell_type": "code",
      "source": [
        "# The more elegant approach\n",
        "correlations = ret_crsp.corr()\n",
        "\n",
        "pair = correlations.where(np.triu(np.ones(correlations.shape), k=1).astype(bool)).stack().abs().idxmax()\n",
        "#                                 ^ create a matrix of 1 in the same shape as the original data\n",
        "#                            ^ upper triangular                ^ with offset from diagonal of 1 -> excludes the diagonal itself -> keeps only the 1's from before that in the upper triangular\n",
        "#                                                                  ^ convert 1.0 and 0.0 to True and False\n",
        "#                  ^ Essentially delete all cell values where the condition is False -> deletes the lower triangular and the diagonal\n",
        "#                                                                                ^ Pull the columns into the index, so that we have ticker pairs in the index now (and have a pd.Series, no pd.DataFrame anymore)\n",
        "#                                                                                        ^ Take absolute values\n",
        "#                                                                                              ^ Get the index (where we now have the ticker pairs) with the highest value\n",
        "\n",
        "\n",
        "print(f\"The company pair with the highest correlation is {'-'.join(pair)}\")\n",
        "#                                                             ^ puts a '-' between all elements of the tuple pairs -> from ('SHOP','TWLO') to 'SHOP-TWLO'"
      ],
      "metadata": {
        "colab": {
          "base_uri": "https://localhost:8080/"
        },
        "id": "OFM_-CBaRioX",
        "outputId": "0047593c-29f7-4685-c62c-56d9f8ca4b59"
      },
      "execution_count": null,
      "outputs": [
        {
          "output_type": "stream",
          "name": "stdout",
          "text": [
            "The company pair with the highest correlation is SHOP-TWLO\n"
          ]
        }
      ]
    },
    {
      "cell_type": "markdown",
      "source": [
        "## Portfolio weighting schemes"
      ],
      "metadata": {
        "id": "koqvcH_dvtg6"
      }
    },
    {
      "cell_type": "markdown",
      "source": [
        "In many scenarios, we want to build portfolios of companies. When combining them, a choice has to be made on how to weight them.\n",
        "\n",
        "The easiest way is equal weighting. A very popular way is value weighting."
      ],
      "metadata": {
        "id": "ax_dOiHlySXJ"
      }
    },
    {
      "cell_type": "markdown",
      "source": [
        "In the following, we will want to convert from returns to prices in order to plot meaningful stock price developments. Write a function that takes a return column as input and returns a column of prices as output.\n",
        "\n",
        "The function should have a keyword argument `initial_value` that is set to `100` by default and is the amount of money invested in the first period."
      ],
      "metadata": {
        "id": "p278JX91y5HT"
      }
    },
    {
      "cell_type": "code",
      "source": [
        "# Test your function with these returns\n",
        "test_returns = pd.Series([0.1, -0.1, 0.2, -0.2])"
      ],
      "metadata": {
        "id": "VpagvMB1zo59"
      },
      "execution_count": null,
      "outputs": []
    },
    {
      "cell_type": "code",
      "source": [
        "def returns_to_prices(returns, initial_value = 100):\n",
        "  return returns.add(1).cumprod().multiply(initial_value)"
      ],
      "metadata": {
        "id": "FIKSyd9OzWMp"
      },
      "execution_count": null,
      "outputs": []
    },
    {
      "cell_type": "code",
      "source": [
        "returns_to_prices(test_returns)"
      ],
      "metadata": {
        "colab": {
          "base_uri": "https://localhost:8080/",
          "height": 209
        },
        "id": "WP42PA_Rzw2g",
        "outputId": "e9f71904-3478-4d67-eba9-6198abe7ef3d"
      },
      "execution_count": null,
      "outputs": [
        {
          "output_type": "execute_result",
          "data": {
            "text/plain": [
              "0    110.00\n",
              "1     99.00\n",
              "2    118.80\n",
              "3     95.04\n",
              "dtype: float64"
            ],
            "text/html": [
              "<div>\n",
              "<style scoped>\n",
              "    .dataframe tbody tr th:only-of-type {\n",
              "        vertical-align: middle;\n",
              "    }\n",
              "\n",
              "    .dataframe tbody tr th {\n",
              "        vertical-align: top;\n",
              "    }\n",
              "\n",
              "    .dataframe thead th {\n",
              "        text-align: right;\n",
              "    }\n",
              "</style>\n",
              "<table border=\"1\" class=\"dataframe\">\n",
              "  <thead>\n",
              "    <tr style=\"text-align: right;\">\n",
              "      <th></th>\n",
              "      <th>0</th>\n",
              "    </tr>\n",
              "  </thead>\n",
              "  <tbody>\n",
              "    <tr>\n",
              "      <th>0</th>\n",
              "      <td>110.00</td>\n",
              "    </tr>\n",
              "    <tr>\n",
              "      <th>1</th>\n",
              "      <td>99.00</td>\n",
              "    </tr>\n",
              "    <tr>\n",
              "      <th>2</th>\n",
              "      <td>118.80</td>\n",
              "    </tr>\n",
              "    <tr>\n",
              "      <th>3</th>\n",
              "      <td>95.04</td>\n",
              "    </tr>\n",
              "  </tbody>\n",
              "</table>\n",
              "</div><br><label><b>dtype:</b> float64</label>"
            ]
          },
          "metadata": {},
          "execution_count": 32
        }
      ]
    },
    {
      "cell_type": "markdown",
      "source": [
        "### Equal weighting"
      ],
      "metadata": {
        "id": "SjSwVA_Jyi-y"
      }
    },
    {
      "cell_type": "markdown",
      "source": [
        "Equal weighting means that all stocks in a portfolio have the same weight.\n",
        "\n",
        "Calculate an equal weighted portfolio return and plot the portfolio value over the year."
      ],
      "metadata": {
        "id": "AF8vuCr9ypIm"
      }
    },
    {
      "cell_type": "code",
      "source": [
        "ewret = ret_crsp.mean(axis=1)\n",
        "#                     ^ specify the axis keyword so that we don't take means per column, but per row (we want the returns to be averaged per time period)"
      ],
      "metadata": {
        "id": "8mnEj7jX6tZi"
      },
      "execution_count": null,
      "outputs": []
    },
    {
      "cell_type": "code",
      "source": [
        "returns_to_prices(ewret).plot()"
      ],
      "metadata": {
        "colab": {
          "base_uri": "https://localhost:8080/",
          "height": 450
        },
        "id": "VVtK6Y1kpXdD",
        "outputId": "09257a4f-f2ff-4430-8382-5525f9e95af4"
      },
      "execution_count": null,
      "outputs": [
        {
          "output_type": "execute_result",
          "data": {
            "text/plain": [
              "<Axes: xlabel='date'>"
            ]
          },
          "metadata": {},
          "execution_count": 34
        },
        {
          "output_type": "display_data",
          "data": {
            "text/plain": [
              "<Figure size 640x480 with 1 Axes>"
            ],
            "image/png": "[encoded data removed]"
          },
          "metadata": {}
        }
      ]
    },
    {
      "cell_type": "markdown",
      "source": [
        "### Value weighting"
      ],
      "metadata": {
        "id": "X-VSPphi0GfR"
      }
    },
    {
      "cell_type": "markdown",
      "source": [
        "Value weighting means that stocks are weighted proportionally to their market capitalization. Thus, we need to calculate their percentage of the total market cap at each point in time. This does not require a loop!\n",
        "\n",
        "Hint: We can split the problem into two parts. A returns DataFrame and a weights DataFrame, which we can then multiply with each other.\n",
        "\n"
      ],
      "metadata": {
        "id": "_Zwg7dyU0Jb2"
      }
    },
    {
      "cell_type": "markdown",
      "source": [
        "Get a market capitalization DataFrame similar to the returns data via `pivot`."
      ],
      "metadata": {
        "id": "a0ZwtaBb0p7Y"
      }
    },
    {
      "cell_type": "code",
      "source": [
        "wcrsp = filtered_crsp.pivot(values='mcap',index='date',columns='ticker')"
      ],
      "metadata": {
        "id": "_D-Q804qv9k9"
      },
      "execution_count": null,
      "outputs": []
    },
    {
      "cell_type": "markdown",
      "source": [
        "Now we can divide the individual market caps by the row-wise (point in time) total market capitalization. Giving us the percentage market share of each stock at each point in time."
      ],
      "metadata": {
        "id": "Nd766VUL0xlX"
      }
    },
    {
      "cell_type": "code",
      "source": [
        "wcrsp = wcrsp.divide(wcrsp.sum(axis=1),axis=0)\n",
        "#                          ^ get the total market share at each point in time\n",
        "#             ^ Divide the individual values by the sum to get the percentage"
      ],
      "metadata": {
        "id": "X1qsZn8o0971"
      },
      "execution_count": null,
      "outputs": []
    },
    {
      "cell_type": "code",
      "source": [
        "wcrsp.head(2)"
      ],
      "metadata": {
        "colab": {
          "base_uri": "https://localhost:8080/",
          "height": 143
        },
        "id": "t-wupXQgRAEC",
        "outputId": "5046e1a5-cab1-4e04-c3b3-e476a793fb8f"
      },
      "execution_count": null,
      "outputs": [
        {
          "output_type": "execute_result",
          "data": {
            "text/plain": [
              "ticker      BYND      CSCO      CVNA       FLO      IMMU      NICE      NTES  \\\n",
              "date                                                                           \n",
              "2019-01-02   NaN  0.748879  0.004860  0.015016  0.011062  0.017388  0.065230   \n",
              "2019-01-03   NaN  0.747564  0.004748  0.015847  0.011448  0.017831  0.065476   \n",
              "\n",
              "ticker          PAGS       PEN      PENN      SHOP      SNAP      TWLO  \n",
              "date                                                                    \n",
              "2019-01-02  0.012174  0.016468  0.008802  0.050912  0.022001  0.027208  \n",
              "2019-01-03  0.012285  0.016181  0.009420  0.050132  0.022531  0.026535  "
            ],
            "text/html": [
              "\n",
              "  <div id=\"df-41e21bf7-eb4d-4565-97ce-c787014729a1\" class=\"colab-df-container\">\n",
              "    <div>\n",
              "<style scoped>\n",
              "    .dataframe tbody tr th:only-of-type {\n",
              "        vertical-align: middle;\n",
              "    }\n",
              "\n",
              "    .dataframe tbody tr th {\n",
              "        vertical-align: top;\n",
              "    }\n",
              "\n",
              "    .dataframe thead th {\n",
              "        text-align: right;\n",
              "    }\n",
              "</style>\n",
              "<table border=\"1\" class=\"dataframe\">\n",
              "  <thead>\n",
              "    <tr style=\"text-align: right;\">\n",
              "      <th>ticker</th>\n",
              "      <th>BYND</th>\n",
              "      <th>CSCO</th>\n",
              "      <th>CVNA</th>\n",
              "      <th>FLO</th>\n",
              "      <th>IMMU</th>\n",
              "      <th>NICE</th>\n",
              "      <th>NTES</th>\n",
              "      <th>PAGS</th>\n",
              "      <th>PEN</th>\n",
              "      <th>PENN</th>\n",
              "      <th>SHOP</th>\n",
              "      <th>SNAP</th>\n",
              "      <th>TWLO</th>\n",
              "    </tr>\n",
              "    <tr>\n",
              "      <th>date</th>\n",
              "      <th></th>\n",
              "      <th></th>\n",
              "      <th></th>\n",
              "      <th></th>\n",
              "      <th></th>\n",
              "      <th></th>\n",
              "      <th></th>\n",
              "      <th></th>\n",
              "      <th></th>\n",
              "      <th></th>\n",
              "      <th></th>\n",
              "      <th></th>\n",
              "      <th></th>\n",
              "    </tr>\n",
              "  </thead>\n",
              "  <tbody>\n",
              "    <tr>\n",
              "      <th>2019-01-02</th>\n",
              "      <td>NaN</td>\n",
              "      <td>0.748879</td>\n",
              "      <td>0.004860</td>\n",
              "      <td>0.015016</td>\n",
              "      <td>0.011062</td>\n",
              "      <td>0.017388</td>\n",
              "      <td>0.065230</td>\n",
              "      <td>0.012174</td>\n",
              "      <td>0.016468</td>\n",
              "      <td>0.008802</td>\n",
              "      <td>0.050912</td>\n",
              "      <td>0.022001</td>\n",
              "      <td>0.027208</td>\n",
              "    </tr>\n",
              "    <tr>\n",
              "      <th>2019-01-03</th>\n",
              "      <td>NaN</td>\n",
              "      <td>0.747564</td>\n",
              "      <td>0.004748</td>\n",
              "      <td>0.015847</td>\n",
              "      <td>0.011448</td>\n",
              "      <td>0.017831</td>\n",
              "      <td>0.065476</td>\n",
              "      <td>0.012285</td>\n",
              "      <td>0.016181</td>\n",
              "      <td>0.009420</td>\n",
              "      <td>0.050132</td>\n",
              "      <td>0.022531</td>\n",
              "      <td>0.026535</td>\n",
              "    </tr>\n",
              "  </tbody>\n",
              "</table>\n",
              "</div>\n",
              "    <div class=\"colab-df-buttons\">\n",
              "\n",
              "  <div class=\"colab-df-container\">\n",
              "    <button class=\"colab-df-convert\" onclick=\"convertToInteractive('df-41e21bf7-eb4d-4565-97ce-c787014729a1')\"\n",
              "            title=\"Convert this dataframe to an interactive table.\"\n",
              "            style=\"display:none;\">\n",
              "\n",
              "  <svg xmlns=\"http://www.w3.org/2000/svg\" height=\"24px\" viewBox=\"0 -960 960 960\">\n",
              "    <path d=\"M120-120v-720h720v720H120Zm60-500h600v-160H180v160Zm220 220h160v-160H400v160Zm0 220h160v-160H400v160ZM180-400h160v-160H180v160Zm440 0h160v-160H620v160ZM180-180h160v-160H180v160Zm440 0h160v-160H620v160Z\"/>\n",
              "  </svg>\n",
              "    </button>\n",
              "\n",
              "  <style>\n",
              "    .colab-df-container {\n",
              "      display:flex;\n",
              "      gap: 12px;\n",
              "    }\n",
              "\n",
              "    .colab-df-convert {\n",
              "      background-color: #E8F0FE;\n",
              "      border: none;\n",
              "      border-radius: 50%;\n",
              "      cursor: pointer;\n",
              "      display: none;\n",
              "      fill: #1967D2;\n",
              "      height: 32px;\n",
              "      padding: 0 0 0 0;\n",
              "      width: 32px;\n",
              "    }\n",
              "\n",
              "    .colab-df-convert:hover {\n",
              "      background-color: #E2EBFA;\n",
              "      box-shadow: 0px 1px 2px rgba(60, 64, 67, 0.3), 0px 1px 3px 1px rgba(60, 64, 67, 0.15);\n",
              "      fill: #174EA6;\n",
              "    }\n",
              "\n",
              "    .colab-df-buttons div {\n",
              "      margin-bottom: 4px;\n",
              "    }\n",
              "\n",
              "    [theme=dark] .colab-df-convert {\n",
              "      background-color: #3B4455;\n",
              "      fill: #D2E3FC;\n",
              "    }\n",
              "\n",
              "    [theme=dark] .colab-df-convert:hover {\n",
              "      background-color: #434B5C;\n",
              "      box-shadow: 0px 1px 3px 1px rgba(0, 0, 0, 0.15);\n",
              "      filter: drop-shadow(0px 1px 2px rgba(0, 0, 0, 0.3));\n",
              "      fill: #FFFFFF;\n",
              "    }\n",
              "  </style>\n",
              "\n",
              "    <script>\n",
              "      const buttonEl =\n",
              "        document.querySelector('#df-41e21bf7-eb4d-4565-97ce-c787014729a1 button.colab-df-convert');\n",
              "      buttonEl.style.display =\n",
              "        google.colab.kernel.accessAllowed ? 'block' : 'none';\n",
              "\n",
              "      async function convertToInteractive(key) {\n",
              "        const element = document.querySelector('#df-41e21bf7-eb4d-4565-97ce-c787014729a1');\n",
              "        const dataTable =\n",
              "          await google.colab.kernel.invokeFunction('convertToInteractive',\n",
              "                                                    [key], {});\n",
              "        if (!dataTable) return;\n",
              "\n",
              "        const docLinkHtml = 'Like what you see? Visit the ' +\n",
              "          '<a target=\"_blank\" href=https://colab.research.google.com/notebooks/data_table.ipynb>data table notebook</a>'\n",
              "          + ' to learn more about interactive tables.';\n",
              "        element.innerHTML = '';\n",
              "        dataTable['output_type'] = 'display_data';\n",
              "        await google.colab.output.renderOutput(dataTable, element);\n",
              "        const docLink = document.createElement('div');\n",
              "        docLink.innerHTML = docLinkHtml;\n",
              "        element.appendChild(docLink);\n",
              "      }\n",
              "    </script>\n",
              "  </div>\n",
              "\n",
              "\n",
              "<div id=\"df-48a62028-4f63-4392-8a65-652cb2cb0a80\">\n",
              "  <button class=\"colab-df-quickchart\" onclick=\"quickchart('df-48a62028-4f63-4392-8a65-652cb2cb0a80')\"\n",
              "            title=\"Suggest charts\"\n",
              "            style=\"display:none;\">\n",
              "\n",
              "<svg xmlns=\"http://www.w3.org/2000/svg\" height=\"24px\"viewBox=\"0 0 24 24\"\n",
              "     width=\"24px\">\n",
              "    <g>\n",
              "        <path d=\"M19 3H5c-1.1 0-2 .9-2 2v14c0 1.1.9 2 2 2h14c1.1 0 2-.9 2-2V5c0-1.1-.9-2-2-2zM9 17H7v-7h2v7zm4 0h-2V7h2v10zm4 0h-2v-4h2v4z\"/>\n",
              "    </g>\n",
              "</svg>\n",
              "  </button>\n",
              "\n",
              "<style>\n",
              "  .colab-df-quickchart {\n",
              "      --bg-color: #E8F0FE;\n",
              "      --fill-color: #1967D2;\n",
              "      --hover-bg-color: #E2EBFA;\n",
              "      --hover-fill-color: #174EA6;\n",
              "      --disabled-fill-color: #AAA;\n",
              "      --disabled-bg-color: #DDD;\n",
              "  }\n",
              "\n",
              "  [theme=dark] .colab-df-quickchart {\n",
              "      --bg-color: #3B4455;\n",
              "      --fill-color: #D2E3FC;\n",
              "      --hover-bg-color: #434B5C;\n",
              "      --hover-fill-color: #FFFFFF;\n",
              "      --disabled-bg-color: #3B4455;\n",
              "      --disabled-fill-color: #666;\n",
              "  }\n",
              "\n",
              "  .colab-df-quickchart {\n",
              "    background-color: var(--bg-color);\n",
              "    border: none;\n",
              "    border-radius: 50%;\n",
              "    cursor: pointer;\n",
              "    display: none;\n",
              "    fill: var(--fill-color);\n",
              "    height: 32px;\n",
              "    padding: 0;\n",
              "    width: 32px;\n",
              "  }\n",
              "\n",
              "  .colab-df-quickchart:hover {\n",
              "    background-color: var(--hover-bg-color);\n",
              "    box-shadow: 0 1px 2px rgba(60, 64, 67, 0.3), 0 1px 3px 1px rgba(60, 64, 67, 0.15);\n",
              "    fill: var(--button-hover-fill-color);\n",
              "  }\n",
              "\n",
              "  .colab-df-quickchart-complete:disabled,\n",
              "  .colab-df-quickchart-complete:disabled:hover {\n",
              "    background-color: var(--disabled-bg-color);\n",
              "    fill: var(--disabled-fill-color);\n",
              "    box-shadow: none;\n",
              "  }\n",
              "\n",
              "  .colab-df-spinner {\n",
              "    border: 2px solid var(--fill-color);\n",
              "    border-color: transparent;\n",
              "    border-bottom-color: var(--fill-color);\n",
              "    animation:\n",
              "      spin 1s steps(1) infinite;\n",
              "  }\n",
              "\n",
              "  @keyframes spin {\n",
              "    0% {\n",
              "      border-color: transparent;\n",
              "      border-bottom-color: var(--fill-color);\n",
              "      border-left-color: var(--fill-color);\n",
              "    }\n",
              "    20% {\n",
              "      border-color: transparent;\n",
              "      border-left-color: var(--fill-color);\n",
              "      border-top-color: var(--fill-color);\n",
              "    }\n",
              "    30% {\n",
              "      border-color: transparent;\n",
              "      border-left-color: var(--fill-color);\n",
              "      border-top-color: var(--fill-color);\n",
              "      border-right-color: var(--fill-color);\n",
              "    }\n",
              "    40% {\n",
              "      border-color: transparent;\n",
              "      border-right-color: var(--fill-color);\n",
              "      border-top-color: var(--fill-color);\n",
              "    }\n",
              "    60% {\n",
              "      border-color: transparent;\n",
              "      border-right-color: var(--fill-color);\n",
              "    }\n",
              "    80% {\n",
              "      border-color: transparent;\n",
              "      border-right-color: var(--fill-color);\n",
              "      border-bottom-color: var(--fill-color);\n",
              "    }\n",
              "    90% {\n",
              "      border-color: transparent;\n",
              "      border-bottom-color: var(--fill-color);\n",
              "    }\n",
              "  }\n",
              "</style>\n",
              "\n",
              "  <script>\n",
              "    async function quickchart(key) {\n",
              "      const quickchartButtonEl =\n",
              "        document.querySelector('#' + key + ' button');\n",
              "      quickchartButtonEl.disabled = true;  // To prevent multiple clicks.\n",
              "      quickchartButtonEl.classList.add('colab-df-spinner');\n",
              "      try {\n",
              "        const charts = await google.colab.kernel.invokeFunction(\n",
              "            'suggestCharts', [key], {});\n",
              "      } catch (error) {\n",
              "        console.error('Error during call to suggestCharts:', error);\n",
              "      }\n",
              "      quickchartButtonEl.classList.remove('colab-df-spinner');\n",
              "      quickchartButtonEl.classList.add('colab-df-quickchart-complete');\n",
              "    }\n",
              "    (() => {\n",
              "      let quickchartButtonEl =\n",
              "        document.querySelector('#df-48a62028-4f63-4392-8a65-652cb2cb0a80 button');\n",
              "      quickchartButtonEl.style.display =\n",
              "        google.colab.kernel.accessAllowed ? 'block' : 'none';\n",
              "    })();\n",
              "  </script>\n",
              "</div>\n",
              "\n",
              "    </div>\n",
              "  </div>\n"
            ],
            "application/vnd.google.colaboratory.intrinsic+json": {
              "type": "dataframe",
              "variable_name": "wcrsp",
              "summary": "{\n  \"name\": \"wcrsp\",\n  \"rows\": 252,\n  \"fields\": [\n    {\n      \"column\": \"date\",\n      \"properties\": {\n        \"dtype\": \"date\",\n        \"min\": \"2019-01-02 00:00:00\",\n        \"max\": \"2019-12-31 00:00:00\",\n        \"num_unique_values\": 252,\n        \"samples\": [\n          \"2019-08-28 00:00:00\",\n          \"2019-01-10 00:00:00\",\n          \"2019-06-12 00:00:00\"\n        ],\n        \"semantic_type\": \"\",\n        \"description\": \"\"\n      }\n    },\n    {\n      \"column\": \"BYND\",\n      \"properties\": {\n        \"dtype\": \"number\",\n        \"std\": 0.0065825215035438915,\n        \"min\": 0.011270344707555783,\n        \"max\": 0.03756817605720054,\n        \"num_unique_values\": 169,\n        \"samples\": [\n          0.01596616203567035,\n          0.025702863407649414,\n          0.02074229331085092\n        ],\n        \"semantic_type\": \"\",\n        \"description\": \"\"\n      }\n    },\n    {\n      \"column\": \"CSCO\",\n      \"properties\": {\n        \"dtype\": \"number\",\n        \"std\": 0.0507515478054714,\n        \"min\": 0.591489148974246,\n        \"max\": 0.748878650721899,\n        \"num_unique_values\": 252,\n        \"samples\": [\n          0.5997427508047861,\n          0.733015890847595,\n          0.6653316957776274\n        ],\n        \"semantic_type\": \"\",\n        \"description\": \"\"\n      }\n    },\n    {\n      \"column\": \"CVNA\",\n      \"properties\": {\n        \"dtype\": \"number\",\n        \"std\": 0.0029706417666606807,\n        \"min\": 0.004322574672034419,\n        \"max\": 0.01519408024229481,\n        \"num_unique_values\": 252,\n        \"samples\": [\n          0.012232156991963686,\n          0.0050023678531523185,\n          0.008339592440535863\n        ],\n        \"semantic_type\": \"\",\n        \"description\": \"\"\n      }\n    },\n    {\n      \"column\": \"FLO\",\n      \"properties\": {\n        \"dtype\": \"number\",\n        \"std\": 0.0006161289442339825,\n        \"min\": 0.013086316470414076,\n        \"max\": 0.015846939332800288,\n        \"num_unique_values\": 252,\n        \"samples\": [\n          0.01462565110641427,\n          0.015188144597438185,\n          0.01362655031743067\n        ],\n        \"semantic_type\": \"\",\n        \"description\": \"\"\n      }\n    },\n    {\n      \"column\": \"IMMU\",\n      \"properties\": {\n        \"dtype\": \"number\",\n        \"std\": 0.0016343223087238387,\n        \"min\": 0.006583525095155198,\n        \"max\": 0.013319171362145422,\n        \"num_unique_values\": 252,\n        \"samples\": [\n          0.007520639053516618,\n          0.01275805688341065,\n          0.006693626287957477\n        ],\n        \"semantic_type\": \"\",\n        \"description\": \"\"\n      }\n    },\n    {\n      \"column\": \"NICE\",\n      \"properties\": {\n        \"dtype\": \"number\",\n        \"std\": 0.002120754658225352,\n        \"min\": 0.01516682737467255,\n        \"max\": 0.022441353043404094,\n        \"num_unique_values\": 252,\n        \"samples\": [\n          0.01991153003984191,\n          0.01696750778975455,\n          0.016336583798362697\n        ],\n        \"semantic_type\": \"\",\n        \"description\": \"\"\n      }\n    },\n    {\n      \"column\": \"NTES\",\n      \"properties\": {\n        \"dtype\": \"number\",\n        \"std\": 0.006765839903099375,\n        \"min\": 0.04470007981726424,\n        \"max\": 0.07376793634826287,\n        \"num_unique_values\": 252,\n        \"samples\": [\n          0.05502719950312865,\n          0.07043505063746323,\n          0.0543066039969628\n        ],\n        \"semantic_type\": \"\",\n        \"description\": \"\"\n      }\n    },\n    {\n      \"column\": \"PAGS\",\n      \"properties\": {\n        \"dtype\": \"number\",\n        \"std\": 0.003721550195671638,\n        \"min\": 0.011936230769574124,\n        \"max\": 0.025434637399719337,\n        \"num_unique_values\": 252,\n        \"samples\": [\n          0.02460990647996312,\n          0.013384900380211265,\n          0.016353596930712005\n        ],\n        \"semantic_type\": \"\",\n        \"description\": \"\"\n      }\n    },\n    {\n      \"column\": \"PEN\",\n      \"properties\": {\n        \"dtype\": \"number\",\n        \"std\": 0.0014895817660872668,\n        \"min\": 0.012882003389826932,\n        \"max\": 0.019371945522486,\n        \"num_unique_values\": 252,\n        \"samples\": [\n          0.014943741260435189,\n          0.01686556726432483,\n          0.015762996629167268\n        ],\n        \"semantic_type\": \"\",\n        \"description\": \"\"\n      }\n    },\n    {\n      \"column\": \"PENN\",\n      \"properties\": {\n        \"dtype\": \"number\",\n        \"std\": 0.0013749442918895701,\n        \"min\": 0.005449234002016582,\n        \"max\": 0.010913759280313611,\n        \"num_unique_values\": 252,\n        \"samples\": [\n          0.006388300508558972,\n          0.010805867331131602,\n          0.006466396359958012\n        ],\n        \"semantic_type\": \"\",\n        \"description\": \"\"\n      }\n    },\n    {\n      \"column\": \"SHOP\",\n      \"properties\": {\n        \"dtype\": \"number\",\n        \"std\": 0.021713871564454992,\n        \"min\": 0.050132345834941396,\n        \"max\": 0.1252478849065015,\n        \"num_unique_values\": 252,\n        \"samples\": [\n          0.11791790810417148,\n          0.05333767097715478,\n          0.08559602262352534\n        ],\n        \"semantic_type\": \"\",\n        \"description\": \"\"\n      }\n    },\n    {\n      \"column\": \"SNAP\",\n      \"properties\": {\n        \"dtype\": \"number\",\n        \"std\": 0.01019847740213336,\n        \"min\": 0.02053495436219666,\n        \"max\": 0.05691642789071693,\n        \"num_unique_values\": 252,\n        \"samples\": [\n          0.05168190418508478,\n          0.022978858975049123,\n          0.040744462476154215\n        ],\n        \"semantic_type\": \"\",\n        \"description\": \"\"\n      }\n    },\n    {\n      \"column\": \"TWLO\",\n      \"properties\": {\n        \"dtype\": \"number\",\n        \"std\": 0.005073862823243431,\n        \"min\": 0.026535080869338076,\n        \"max\": 0.04781008819385208,\n        \"num_unique_values\": 252,\n        \"samples\": [\n          0.04622909164476368,\n          0.02926011646331453,\n          0.04669226870145972\n        ],\n        \"semantic_type\": \"\",\n        \"description\": \"\"\n      }\n    }\n  ]\n}"
            }
          },
          "metadata": {},
          "execution_count": 37
        }
      ]
    },
    {
      "cell_type": "markdown",
      "source": [
        "Plot a stacked barchart that shows the average proportion invested in each company in each month."
      ],
      "metadata": {
        "id": "67eo7Py23lkW"
      }
    },
    {
      "cell_type": "markdown",
      "source": [
        "Check the documentation for [pd.Grouper](https://pandas.pydata.org/docs/reference/api/pandas.Grouper.html), which is used for advanced grouping. It is particularly useful for grouping based on time frequencies."
      ],
      "metadata": {
        "id": "UlVnd7QSRLBg"
      }
    },
    {
      "cell_type": "code",
      "source": [
        "wcrsp.groupby(pd.Grouper(freq='ME')).mean().plot.bar(stacked=True)\n",
        "#             ^ by default groups the index. we have dates there. group them by calendar month.\n",
        "#                                  ^ Take the average\n",
        "#                                          ^ Plot a bar chart with the keyword argument stacked so that we stack them"
      ],
      "metadata": {
        "colab": {
          "base_uri": "https://localhost:8080/",
          "height": 599
        },
        "id": "DmrBkQzc4rB6",
        "outputId": "6a6a0327-65bc-4081-a611-212c2b86ef1d"
      },
      "execution_count": null,
      "outputs": [
        {
          "output_type": "execute_result",
          "data": {
            "text/plain": [
              "<Axes: xlabel='date'>"
            ]
          },
          "metadata": {},
          "execution_count": 38
        },
        {
          "output_type": "display_data",
          "data": {
            "text/plain": [
              "<Figure size 640x480 with 1 Axes>"
            ],
            "image/png": "[encoded data removed]"
          },
          "metadata": {}
        }
      ]
    },
    {
      "cell_type": "markdown",
      "source": [
        "Now let's value-weight the returns."
      ],
      "metadata": {
        "id": "WqJiYTFj58-G"
      }
    },
    {
      "cell_type": "markdown",
      "source": [
        "If we use `.multiply()`, we can perform an element-wise multiplication if both dataframes have the same size (which we have).\n",
        "So we are multiplying the return with the weight of that return.\n",
        "\n",
        "Then we take the sum for each row, meaning for each point in time. Now we have our portfolio return."
      ],
      "metadata": {
        "id": "cHsqmLv7RldT"
      }
    },
    {
      "cell_type": "code",
      "source": [
        "vwret = ret_crsp.multiply(wcrsp).sum(axis=1)"
      ],
      "metadata": {
        "id": "IX90zfwp6CNS"
      },
      "execution_count": null,
      "outputs": []
    },
    {
      "cell_type": "markdown",
      "source": [
        "Plot the performance of the value weighted portfolio over the year."
      ],
      "metadata": {
        "id": "bnm2qWQvZVZL"
      }
    },
    {
      "cell_type": "code",
      "source": [
        "# Convert the portfolio returns to prices, then plot\n",
        "returns_to_prices(vwret).plot()"
      ],
      "metadata": {
        "colab": {
          "base_uri": "https://localhost:8080/",
          "height": 450
        },
        "id": "MN-w57tP5Nzf",
        "outputId": "7ba9fc1b-a9e1-42c4-b08a-2dc177acdb3f"
      },
      "execution_count": null,
      "outputs": [
        {
          "output_type": "execute_result",
          "data": {
            "text/plain": [
              "<Axes: xlabel='date'>"
            ]
          },
          "metadata": {},
          "execution_count": 40
        },
        {
          "output_type": "display_data",
          "data": {
            "text/plain": [
              "<Figure size 640x480 with 1 Axes>"
            ],
            "image/png": "[encoded data removed]"
          },
          "metadata": {}
        }
      ]
    },
    {
      "cell_type": "markdown",
      "source": [
        "### Comparison"
      ],
      "metadata": {
        "id": "OUbDS3V66jCZ"
      }
    },
    {
      "cell_type": "markdown",
      "source": [
        "It's hard to tell the difference between the performance and the equal-weighted portfolio and the value-weighted porfolio, so let's plot both lines in one chart and label them accordingly. Hint: Use `pd.concat` for this."
      ],
      "metadata": {
        "id": "qD-SMyoJ6ag4"
      }
    },
    {
      "cell_type": "code",
      "source": [
        "comparison = pd.concat([returns_to_prices(vwret),returns_to_prices(ewret)],axis=1)\n",
        "#               ^ Concatenate all DataFrames in the list                   ^ along axis 1 -> along columns -> essentially add new columns\n",
        "\n",
        "# Rename the columns to something useful.\n",
        "comparison.columns = ['vw','ew']\n"
      ],
      "metadata": {
        "id": "Auk_8irS6N1M"
      },
      "execution_count": null,
      "outputs": []
    },
    {
      "cell_type": "code",
      "source": [
        "comparison.plot()"
      ],
      "metadata": {
        "colab": {
          "base_uri": "https://localhost:8080/",
          "height": 450
        },
        "id": "quk1E90z63xw",
        "outputId": "3534b907-0745-4f80-c035-9f889f09a64b"
      },
      "execution_count": null,
      "outputs": [
        {
          "output_type": "execute_result",
          "data": {
            "text/plain": [
              "<Axes: xlabel='date'>"
            ]
          },
          "metadata": {},
          "execution_count": 42
        },
        {
          "output_type": "display_data",
          "data": {
            "text/plain": [
              "<Figure size 640x480 with 1 Axes>"
            ],
            "image/png": "[encoded data removed]"
          },
          "metadata": {}
        }
      ]
    },
    {
      "cell_type": "markdown",
      "source": [
        "Which one performs better?"
      ],
      "metadata": {
        "id": "zCTAhuAHVkX5"
      }
    },
    {
      "cell_type": "markdown",
      "source": [
        "The equal weighted portfolio."
      ],
      "metadata": {
        "id": "QULYEcXyVnmp"
      }
    },
    {
      "cell_type": "markdown",
      "source": [
        "## Statistical tests"
      ],
      "metadata": {
        "id": "r2bTToTGfJmS"
      }
    },
    {
      "cell_type": "markdown",
      "source": [
        "Extract the values from the `vwretd` column of the data and merge them with the equal-weighted and value-weighted returns into one dataframe that has 3 columns, `['ewret','vwret','vwretd']`.\n",
        "Look at WRDS to find out what the `vwretd` column means.\n",
        "\n",
        "We now have returns on 3 different portfolios in one dataframe."
      ],
      "metadata": {
        "id": "SsbET9vxjxHt"
      }
    },
    {
      "cell_type": "code",
      "source": [
        "vwretd = filtered_crsp[['date','vwretd']].drop_duplicates().set_index('date')\n",
        "portfolio_ret_with_benchmark = pd.concat([ewret, vwret, vwretd], axis=1)\n",
        "portfolio_ret_with_benchmark.columns = ['ewret','vwret','vwretd']\n",
        "\n",
        "# VWRETD is the value-weighted market portfolio\n",
        "# Details:\n",
        "# VWRETD indices contain either the daily or monthly returns, including all distributions, on a value-weighted market portfolio (excluding American Depository Receipts (ADRs))."
      ],
      "metadata": {
        "id": "M4VaAwF7g2Ya"
      },
      "execution_count": null,
      "outputs": []
    },
    {
      "cell_type": "markdown",
      "source": [
        "What is the mean return for each portfolio?"
      ],
      "metadata": {
        "id": "oZbdIfc4kOga"
      }
    },
    {
      "cell_type": "code",
      "source": [
        "portfolio_ret_with_benchmark.mean()"
      ],
      "metadata": {
        "colab": {
          "base_uri": "https://localhost:8080/",
          "height": 178
        },
        "id": "rfTYknlXjZ6-",
        "outputId": "1ef3095a-1df6-419a-c30c-a406b0c19fc1"
      },
      "execution_count": null,
      "outputs": [
        {
          "output_type": "execute_result",
          "data": {
            "text/plain": [
              "ewret     0.002378\n",
              "vwret     0.001460\n",
              "vwretd    0.001051\n",
              "dtype: float64"
            ],
            "text/html": [
              "<div>\n",
              "<style scoped>\n",
              "    .dataframe tbody tr th:only-of-type {\n",
              "        vertical-align: middle;\n",
              "    }\n",
              "\n",
              "    .dataframe tbody tr th {\n",
              "        vertical-align: top;\n",
              "    }\n",
              "\n",
              "    .dataframe thead th {\n",
              "        text-align: right;\n",
              "    }\n",
              "</style>\n",
              "<table border=\"1\" class=\"dataframe\">\n",
              "  <thead>\n",
              "    <tr style=\"text-align: right;\">\n",
              "      <th></th>\n",
              "      <th>0</th>\n",
              "    </tr>\n",
              "  </thead>\n",
              "  <tbody>\n",
              "    <tr>\n",
              "      <th>ewret</th>\n",
              "      <td>0.002378</td>\n",
              "    </tr>\n",
              "    <tr>\n",
              "      <th>vwret</th>\n",
              "      <td>0.001460</td>\n",
              "    </tr>\n",
              "    <tr>\n",
              "      <th>vwretd</th>\n",
              "      <td>0.001051</td>\n",
              "    </tr>\n",
              "  </tbody>\n",
              "</table>\n",
              "</div><br><label><b>dtype:</b> float64</label>"
            ]
          },
          "metadata": {},
          "execution_count": 44
        }
      ]
    },
    {
      "cell_type": "markdown",
      "source": [
        "Run pairwise ttests for equality of means between all column combinations. Which portfolio combination is the most likely to have similar means (check manually)?\n",
        "\n",
        "*Hint: Check the documentation, there is a shortcut.*"
      ],
      "metadata": {
        "id": "seWQjFsFkFQQ"
      }
    },
    {
      "cell_type": "code",
      "source": [
        "portfolio_ret_with_benchmark.ptests(stars=False) # Note that this DataFrame method is added by pingouin\n",
        "# vwret and vwretd are the most likely to have the same mean"
      ],
      "metadata": {
        "colab": {
          "base_uri": "https://localhost:8080/",
          "height": 143
        },
        "id": "RIjURpmCiUDy",
        "outputId": "7d6458e8-bdf3-44b5-9717-7a01fb8b7cf3"
      },
      "execution_count": null,
      "outputs": [
        {
          "output_type": "execute_result",
          "data": {
            "text/plain": [
              "        ewret  vwret vwretd\n",
              "ewret       -  0.467  0.201\n",
              "vwret   0.729      -  0.678\n",
              "vwretd   1.28  0.415      -"
            ],
            "text/html": [
              "\n",
              "  <div id=\"df-086cc47f-4406-4d3c-8f5b-692131026581\" class=\"colab-df-container\">\n",
              "    <div>\n",
              "<style scoped>\n",
              "    .dataframe tbody tr th:only-of-type {\n",
              "        vertical-align: middle;\n",
              "    }\n",
              "\n",
              "    .dataframe tbody tr th {\n",
              "        vertical-align: top;\n",
              "    }\n",
              "\n",
              "    .dataframe thead th {\n",
              "        text-align: right;\n",
              "    }\n",
              "</style>\n",
              "<table border=\"1\" class=\"dataframe\">\n",
              "  <thead>\n",
              "    <tr style=\"text-align: right;\">\n",
              "      <th></th>\n",
              "      <th>ewret</th>\n",
              "      <th>vwret</th>\n",
              "      <th>vwretd</th>\n",
              "    </tr>\n",
              "  </thead>\n",
              "  <tbody>\n",
              "    <tr>\n",
              "      <th>ewret</th>\n",
              "      <td>-</td>\n",
              "      <td>0.467</td>\n",
              "      <td>0.201</td>\n",
              "    </tr>\n",
              "    <tr>\n",
              "      <th>vwret</th>\n",
              "      <td>0.729</td>\n",
              "      <td>-</td>\n",
              "      <td>0.678</td>\n",
              "    </tr>\n",
              "    <tr>\n",
              "      <th>vwretd</th>\n",
              "      <td>1.28</td>\n",
              "      <td>0.415</td>\n",
              "      <td>-</td>\n",
              "    </tr>\n",
              "  </tbody>\n",
              "</table>\n",
              "</div>\n",
              "    <div class=\"colab-df-buttons\">\n",
              "\n",
              "  <div class=\"colab-df-container\">\n",
              "    <button class=\"colab-df-convert\" onclick=\"convertToInteractive('df-086cc47f-4406-4d3c-8f5b-692131026581')\"\n",
              "            title=\"Convert this dataframe to an interactive table.\"\n",
              "            style=\"display:none;\">\n",
              "\n",
              "  <svg xmlns=\"http://www.w3.org/2000/svg\" height=\"24px\" viewBox=\"0 -960 960 960\">\n",
              "    <path d=\"M120-120v-720h720v720H120Zm60-500h600v-160H180v160Zm220 220h160v-160H400v160Zm0 220h160v-160H400v160ZM180-400h160v-160H180v160Zm440 0h160v-160H620v160ZM180-180h160v-160H180v160Zm440 0h160v-160H620v160Z\"/>\n",
              "  </svg>\n",
              "    </button>\n",
              "\n",
              "  <style>\n",
              "    .colab-df-container {\n",
              "      display:flex;\n",
              "      gap: 12px;\n",
              "    }\n",
              "\n",
              "    .colab-df-convert {\n",
              "      background-color: #E8F0FE;\n",
              "      border: none;\n",
              "      border-radius: 50%;\n",
              "      cursor: pointer;\n",
              "      display: none;\n",
              "      fill: #1967D2;\n",
              "      height: 32px;\n",
              "      padding: 0 0 0 0;\n",
              "      width: 32px;\n",
              "    }\n",
              "\n",
              "    .colab-df-convert:hover {\n",
              "      background-color: #E2EBFA;\n",
              "      box-shadow: 0px 1px 2px rgba(60, 64, 67, 0.3), 0px 1px 3px 1px rgba(60, 64, 67, 0.15);\n",
              "      fill: #174EA6;\n",
              "    }\n",
              "\n",
              "    .colab-df-buttons div {\n",
              "      margin-bottom: 4px;\n",
              "    }\n",
              "\n",
              "    [theme=dark] .colab-df-convert {\n",
              "      background-color: #3B4455;\n",
              "      fill: #D2E3FC;\n",
              "    }\n",
              "\n",
              "    [theme=dark] .colab-df-convert:hover {\n",
              "      background-color: #434B5C;\n",
              "      box-shadow: 0px 1px 3px 1px rgba(0, 0, 0, 0.15);\n",
              "      filter: drop-shadow(0px 1px 2px rgba(0, 0, 0, 0.3));\n",
              "      fill: #FFFFFF;\n",
              "    }\n",
              "  </style>\n",
              "\n",
              "    <script>\n",
              "      const buttonEl =\n",
              "        document.querySelector('#df-086cc47f-4406-4d3c-8f5b-692131026581 button.colab-df-convert');\n",
              "      buttonEl.style.display =\n",
              "        google.colab.kernel.accessAllowed ? 'block' : 'none';\n",
              "\n",
              "      async function convertToInteractive(key) {\n",
              "        const element = document.querySelector('#df-086cc47f-4406-4d3c-8f5b-692131026581');\n",
              "        const dataTable =\n",
              "          await google.colab.kernel.invokeFunction('convertToInteractive',\n",
              "                                                    [key], {});\n",
              "        if (!dataTable) return;\n",
              "\n",
              "        const docLinkHtml = 'Like what you see? Visit the ' +\n",
              "          '<a target=\"_blank\" href=https://colab.research.google.com/notebooks/data_table.ipynb>data table notebook</a>'\n",
              "          + ' to learn more about interactive tables.';\n",
              "        element.innerHTML = '';\n",
              "        dataTable['output_type'] = 'display_data';\n",
              "        await google.colab.output.renderOutput(dataTable, element);\n",
              "        const docLink = document.createElement('div');\n",
              "        docLink.innerHTML = docLinkHtml;\n",
              "        element.appendChild(docLink);\n",
              "      }\n",
              "    </script>\n",
              "  </div>\n",
              "\n",
              "\n",
              "<div id=\"df-b4270ede-cec4-4bbc-8c35-4b708331756e\">\n",
              "  <button class=\"colab-df-quickchart\" onclick=\"quickchart('df-b4270ede-cec4-4bbc-8c35-4b708331756e')\"\n",
              "            title=\"Suggest charts\"\n",
              "            style=\"display:none;\">\n",
              "\n",
              "<svg xmlns=\"http://www.w3.org/2000/svg\" height=\"24px\"viewBox=\"0 0 24 24\"\n",
              "     width=\"24px\">\n",
              "    <g>\n",
              "        <path d=\"M19 3H5c-1.1 0-2 .9-2 2v14c0 1.1.9 2 2 2h14c1.1 0 2-.9 2-2V5c0-1.1-.9-2-2-2zM9 17H7v-7h2v7zm4 0h-2V7h2v10zm4 0h-2v-4h2v4z\"/>\n",
              "    </g>\n",
              "</svg>\n",
              "  </button>\n",
              "\n",
              "<style>\n",
              "  .colab-df-quickchart {\n",
              "      --bg-color: #E8F0FE;\n",
              "      --fill-color: #1967D2;\n",
              "      --hover-bg-color: #E2EBFA;\n",
              "      --hover-fill-color: #174EA6;\n",
              "      --disabled-fill-color: #AAA;\n",
              "      --disabled-bg-color: #DDD;\n",
              "  }\n",
              "\n",
              "  [theme=dark] .colab-df-quickchart {\n",
              "      --bg-color: #3B4455;\n",
              "      --fill-color: #D2E3FC;\n",
              "      --hover-bg-color: #434B5C;\n",
              "      --hover-fill-color: #FFFFFF;\n",
              "      --disabled-bg-color: #3B4455;\n",
              "      --disabled-fill-color: #666;\n",
              "  }\n",
              "\n",
              "  .colab-df-quickchart {\n",
              "    background-color: var(--bg-color);\n",
              "    border: none;\n",
              "    border-radius: 50%;\n",
              "    cursor: pointer;\n",
              "    display: none;\n",
              "    fill: var(--fill-color);\n",
              "    height: 32px;\n",
              "    padding: 0;\n",
              "    width: 32px;\n",
              "  }\n",
              "\n",
              "  .colab-df-quickchart:hover {\n",
              "    background-color: var(--hover-bg-color);\n",
              "    box-shadow: 0 1px 2px rgba(60, 64, 67, 0.3), 0 1px 3px 1px rgba(60, 64, 67, 0.15);\n",
              "    fill: var(--button-hover-fill-color);\n",
              "  }\n",
              "\n",
              "  .colab-df-quickchart-complete:disabled,\n",
              "  .colab-df-quickchart-complete:disabled:hover {\n",
              "    background-color: var(--disabled-bg-color);\n",
              "    fill: var(--disabled-fill-color);\n",
              "    box-shadow: none;\n",
              "  }\n",
              "\n",
              "  .colab-df-spinner {\n",
              "    border: 2px solid var(--fill-color);\n",
              "    border-color: transparent;\n",
              "    border-bottom-color: var(--fill-color);\n",
              "    animation:\n",
              "      spin 1s steps(1) infinite;\n",
              "  }\n",
              "\n",
              "  @keyframes spin {\n",
              "    0% {\n",
              "      border-color: transparent;\n",
              "      border-bottom-color: var(--fill-color);\n",
              "      border-left-color: var(--fill-color);\n",
              "    }\n",
              "    20% {\n",
              "      border-color: transparent;\n",
              "      border-left-color: var(--fill-color);\n",
              "      border-top-color: var(--fill-color);\n",
              "    }\n",
              "    30% {\n",
              "      border-color: transparent;\n",
              "      border-left-color: var(--fill-color);\n",
              "      border-top-color: var(--fill-color);\n",
              "      border-right-color: var(--fill-color);\n",
              "    }\n",
              "    40% {\n",
              "      border-color: transparent;\n",
              "      border-right-color: var(--fill-color);\n",
              "      border-top-color: var(--fill-color);\n",
              "    }\n",
              "    60% {\n",
              "      border-color: transparent;\n",
              "      border-right-color: var(--fill-color);\n",
              "    }\n",
              "    80% {\n",
              "      border-color: transparent;\n",
              "      border-right-color: var(--fill-color);\n",
              "      border-bottom-color: var(--fill-color);\n",
              "    }\n",
              "    90% {\n",
              "      border-color: transparent;\n",
              "      border-bottom-color: var(--fill-color);\n",
              "    }\n",
              "  }\n",
              "</style>\n",
              "\n",
              "  <script>\n",
              "    async function quickchart(key) {\n",
              "      const quickchartButtonEl =\n",
              "        document.querySelector('#' + key + ' button');\n",
              "      quickchartButtonEl.disabled = true;  // To prevent multiple clicks.\n",
              "      quickchartButtonEl.classList.add('colab-df-spinner');\n",
              "      try {\n",
              "        const charts = await google.colab.kernel.invokeFunction(\n",
              "            'suggestCharts', [key], {});\n",
              "      } catch (error) {\n",
              "        console.error('Error during call to suggestCharts:', error);\n",
              "      }\n",
              "      quickchartButtonEl.classList.remove('colab-df-spinner');\n",
              "      quickchartButtonEl.classList.add('colab-df-quickchart-complete');\n",
              "    }\n",
              "    (() => {\n",
              "      let quickchartButtonEl =\n",
              "        document.querySelector('#df-b4270ede-cec4-4bbc-8c35-4b708331756e button');\n",
              "      quickchartButtonEl.style.display =\n",
              "        google.colab.kernel.accessAllowed ? 'block' : 'none';\n",
              "    })();\n",
              "  </script>\n",
              "</div>\n",
              "\n",
              "    </div>\n",
              "  </div>\n"
            ],
            "application/vnd.google.colaboratory.intrinsic+json": {
              "type": "dataframe",
              "summary": "{\n  \"name\": \"# vwret and vwretd are the most likely to have the same mean\",\n  \"rows\": 3,\n  \"fields\": [\n    {\n      \"column\": \"ewret\",\n      \"properties\": {\n        \"dtype\": \"string\",\n        \"num_unique_values\": 3,\n        \"samples\": [\n          \"-\",\n          \"0.729\",\n          \"1.28\"\n        ],\n        \"semantic_type\": \"\",\n        \"description\": \"\"\n      }\n    },\n    {\n      \"column\": \"vwret\",\n      \"properties\": {\n        \"dtype\": \"string\",\n        \"num_unique_values\": 3,\n        \"samples\": [\n          \"0.467\",\n          \"-\",\n          \"0.415\"\n        ],\n        \"semantic_type\": \"\",\n        \"description\": \"\"\n      }\n    },\n    {\n      \"column\": \"vwretd\",\n      \"properties\": {\n        \"dtype\": \"string\",\n        \"num_unique_values\": 3,\n        \"samples\": [\n          \"0.201\",\n          \"0.678\",\n          \"-\"\n        ],\n        \"semantic_type\": \"\",\n        \"description\": \"\"\n      }\n    }\n  ]\n}"
            }
          },
          "metadata": {},
          "execution_count": 45
        }
      ]
    },
    {
      "cell_type": "code",
      "source": [
        "# Equivalent way using pg.ttest\n",
        "test_results = []\n",
        "for x,y in [(0,1), (0,2), (1,2)]: # You could build these combinations with itertools\n",
        "  test_results.append(\n",
        "      pg.ttest(\n",
        "        portfolio_ret_with_benchmark.iloc[:,x],\n",
        "        portfolio_ret_with_benchmark.iloc[:,y],\n",
        "        ).rename(index={'T-test':f'{x}-{y}'})\n",
        "  )\n",
        "test_results = pd.concat(test_results)\n",
        "test_results"
      ],
      "metadata": {
        "colab": {
          "base_uri": "https://localhost:8080/",
          "height": 143
        },
        "id": "olovKXJRiqI1",
        "outputId": "9b6ce4c5-0c86-4dbc-e605-2d86eb239fc7"
      },
      "execution_count": null,
      "outputs": [
        {
          "output_type": "execute_result",
          "data": {
            "text/plain": [
              "            T  dof alternative     p-val        CI95%   cohen-d   BF10  \\\n",
              "0-1  0.728669  502   two-sided  0.466544  [-0.0, 0.0]  0.064915  0.128   \n",
              "0-2  1.279812  502   two-sided  0.201202  [-0.0, 0.0]  0.114015  0.219   \n",
              "1-2  0.415126  502   two-sided  0.678227  [-0.0, 0.0]  0.036982  0.108   \n",
              "\n",
              "        power  \n",
              "0-1  0.112448  \n",
              "0-2  0.248033  \n",
              "1-2  0.069888  "
            ],
            "text/html": [
              "\n",
              "  <div id=\"df-6782e820-ec86-4210-be59-c85fbfcf9b32\" class=\"colab-df-container\">\n",
              "    <div>\n",
              "<style scoped>\n",
              "    .dataframe tbody tr th:only-of-type {\n",
              "        vertical-align: middle;\n",
              "    }\n",
              "\n",
              "    .dataframe tbody tr th {\n",
              "        vertical-align: top;\n",
              "    }\n",
              "\n",
              "    .dataframe thead th {\n",
              "        text-align: right;\n",
              "    }\n",
              "</style>\n",
              "<table border=\"1\" class=\"dataframe\">\n",
              "  <thead>\n",
              "    <tr style=\"text-align: right;\">\n",
              "      <th></th>\n",
              "      <th>T</th>\n",
              "      <th>dof</th>\n",
              "      <th>alternative</th>\n",
              "      <th>p-val</th>\n",
              "      <th>CI95%</th>\n",
              "      <th>cohen-d</th>\n",
              "      <th>BF10</th>\n",
              "      <th>power</th>\n",
              "    </tr>\n",
              "  </thead>\n",
              "  <tbody>\n",
              "    <tr>\n",
              "      <th>0-1</th>\n",
              "      <td>0.728669</td>\n",
              "      <td>502</td>\n",
              "      <td>two-sided</td>\n",
              "      <td>0.466544</td>\n",
              "      <td>[-0.0, 0.0]</td>\n",
              "      <td>0.064915</td>\n",
              "      <td>0.128</td>\n",
              "      <td>0.112448</td>\n",
              "    </tr>\n",
              "    <tr>\n",
              "      <th>0-2</th>\n",
              "      <td>1.279812</td>\n",
              "      <td>502</td>\n",
              "      <td>two-sided</td>\n",
              "      <td>0.201202</td>\n",
              "      <td>[-0.0, 0.0]</td>\n",
              "      <td>0.114015</td>\n",
              "      <td>0.219</td>\n",
              "      <td>0.248033</td>\n",
              "    </tr>\n",
              "    <tr>\n",
              "      <th>1-2</th>\n",
              "      <td>0.415126</td>\n",
              "      <td>502</td>\n",
              "      <td>two-sided</td>\n",
              "      <td>0.678227</td>\n",
              "      <td>[-0.0, 0.0]</td>\n",
              "      <td>0.036982</td>\n",
              "      <td>0.108</td>\n",
              "      <td>0.069888</td>\n",
              "    </tr>\n",
              "  </tbody>\n",
              "</table>\n",
              "</div>\n",
              "    <div class=\"colab-df-buttons\">\n",
              "\n",
              "  <div class=\"colab-df-container\">\n",
              "    <button class=\"colab-df-convert\" onclick=\"convertToInteractive('df-6782e820-ec86-4210-be59-c85fbfcf9b32')\"\n",
              "            title=\"Convert this dataframe to an interactive table.\"\n",
              "            style=\"display:none;\">\n",
              "\n",
              "  <svg xmlns=\"http://www.w3.org/2000/svg\" height=\"24px\" viewBox=\"0 -960 960 960\">\n",
              "    <path d=\"M120-120v-720h720v720H120Zm60-500h600v-160H180v160Zm220 220h160v-160H400v160Zm0 220h160v-160H400v160ZM180-400h160v-160H180v160Zm440 0h160v-160H620v160ZM180-180h160v-160H180v160Zm440 0h160v-160H620v160Z\"/>\n",
              "  </svg>\n",
              "    </button>\n",
              "\n",
              "  <style>\n",
              "    .colab-df-container {\n",
              "      display:flex;\n",
              "      gap: 12px;\n",
              "    }\n",
              "\n",
              "    .colab-df-convert {\n",
              "      background-color: #E8F0FE;\n",
              "      border: none;\n",
              "      border-radius: 50%;\n",
              "      cursor: pointer;\n",
              "      display: none;\n",
              "      fill: #1967D2;\n",
              "      height: 32px;\n",
              "      padding: 0 0 0 0;\n",
              "      width: 32px;\n",
              "    }\n",
              "\n",
              "    .colab-df-convert:hover {\n",
              "      background-color: #E2EBFA;\n",
              "      box-shadow: 0px 1px 2px rgba(60, 64, 67, 0.3), 0px 1px 3px 1px rgba(60, 64, 67, 0.15);\n",
              "      fill: #174EA6;\n",
              "    }\n",
              "\n",
              "    .colab-df-buttons div {\n",
              "      margin-bottom: 4px;\n",
              "    }\n",
              "\n",
              "    [theme=dark] .colab-df-convert {\n",
              "      background-color: #3B4455;\n",
              "      fill: #D2E3FC;\n",
              "    }\n",
              "\n",
              "    [theme=dark] .colab-df-convert:hover {\n",
              "      background-color: #434B5C;\n",
              "      box-shadow: 0px 1px 3px 1px rgba(0, 0, 0, 0.15);\n",
              "      filter: drop-shadow(0px 1px 2px rgba(0, 0, 0, 0.3));\n",
              "      fill: #FFFFFF;\n",
              "    }\n",
              "  </style>\n",
              "\n",
              "    <script>\n",
              "      const buttonEl =\n",
              "        document.querySelector('#df-6782e820-ec86-4210-be59-c85fbfcf9b32 button.colab-df-convert');\n",
              "      buttonEl.style.display =\n",
              "        google.colab.kernel.accessAllowed ? 'block' : 'none';\n",
              "\n",
              "      async function convertToInteractive(key) {\n",
              "        const element = document.querySelector('#df-6782e820-ec86-4210-be59-c85fbfcf9b32');\n",
              "        const dataTable =\n",
              "          await google.colab.kernel.invokeFunction('convertToInteractive',\n",
              "                                                    [key], {});\n",
              "        if (!dataTable) return;\n",
              "\n",
              "        const docLinkHtml = 'Like what you see? Visit the ' +\n",
              "          '<a target=\"_blank\" href=https://colab.research.google.com/notebooks/data_table.ipynb>data table notebook</a>'\n",
              "          + ' to learn more about interactive tables.';\n",
              "        element.innerHTML = '';\n",
              "        dataTable['output_type'] = 'display_data';\n",
              "        await google.colab.output.renderOutput(dataTable, element);\n",
              "        const docLink = document.createElement('div');\n",
              "        docLink.innerHTML = docLinkHtml;\n",
              "        element.appendChild(docLink);\n",
              "      }\n",
              "    </script>\n",
              "  </div>\n",
              "\n",
              "\n",
              "<div id=\"df-f6c6123c-c800-44d3-8f13-f0fa72973f57\">\n",
              "  <button class=\"colab-df-quickchart\" onclick=\"quickchart('df-f6c6123c-c800-44d3-8f13-f0fa72973f57')\"\n",
              "            title=\"Suggest charts\"\n",
              "            style=\"display:none;\">\n",
              "\n",
              "<svg xmlns=\"http://www.w3.org/2000/svg\" height=\"24px\"viewBox=\"0 0 24 24\"\n",
              "     width=\"24px\">\n",
              "    <g>\n",
              "        <path d=\"M19 3H5c-1.1 0-2 .9-2 2v14c0 1.1.9 2 2 2h14c1.1 0 2-.9 2-2V5c0-1.1-.9-2-2-2zM9 17H7v-7h2v7zm4 0h-2V7h2v10zm4 0h-2v-4h2v4z\"/>\n",
              "    </g>\n",
              "</svg>\n",
              "  </button>\n",
              "\n",
              "<style>\n",
              "  .colab-df-quickchart {\n",
              "      --bg-color: #E8F0FE;\n",
              "      --fill-color: #1967D2;\n",
              "      --hover-bg-color: #E2EBFA;\n",
              "      --hover-fill-color: #174EA6;\n",
              "      --disabled-fill-color: #AAA;\n",
              "      --disabled-bg-color: #DDD;\n",
              "  }\n",
              "\n",
              "  [theme=dark] .colab-df-quickchart {\n",
              "      --bg-color: #3B4455;\n",
              "      --fill-color: #D2E3FC;\n",
              "      --hover-bg-color: #434B5C;\n",
              "      --hover-fill-color: #FFFFFF;\n",
              "      --disabled-bg-color: #3B4455;\n",
              "      --disabled-fill-color: #666;\n",
              "  }\n",
              "\n",
              "  .colab-df-quickchart {\n",
              "    background-color: var(--bg-color);\n",
              "    border: none;\n",
              "    border-radius: 50%;\n",
              "    cursor: pointer;\n",
              "    display: none;\n",
              "    fill: var(--fill-color);\n",
              "    height: 32px;\n",
              "    padding: 0;\n",
              "    width: 32px;\n",
              "  }\n",
              "\n",
              "  .colab-df-quickchart:hover {\n",
              "    background-color: var(--hover-bg-color);\n",
              "    box-shadow: 0 1px 2px rgba(60, 64, 67, 0.3), 0 1px 3px 1px rgba(60, 64, 67, 0.15);\n",
              "    fill: var(--button-hover-fill-color);\n",
              "  }\n",
              "\n",
              "  .colab-df-quickchart-complete:disabled,\n",
              "  .colab-df-quickchart-complete:disabled:hover {\n",
              "    background-color: var(--disabled-bg-color);\n",
              "    fill: var(--disabled-fill-color);\n",
              "    box-shadow: none;\n",
              "  }\n",
              "\n",
              "  .colab-df-spinner {\n",
              "    border: 2px solid var(--fill-color);\n",
              "    border-color: transparent;\n",
              "    border-bottom-color: var(--fill-color);\n",
              "    animation:\n",
              "      spin 1s steps(1) infinite;\n",
              "  }\n",
              "\n",
              "  @keyframes spin {\n",
              "    0% {\n",
              "      border-color: transparent;\n",
              "      border-bottom-color: var(--fill-color);\n",
              "      border-left-color: var(--fill-color);\n",
              "    }\n",
              "    20% {\n",
              "      border-color: transparent;\n",
              "      border-left-color: var(--fill-color);\n",
              "      border-top-color: var(--fill-color);\n",
              "    }\n",
              "    30% {\n",
              "      border-color: transparent;\n",
              "      border-left-color: var(--fill-color);\n",
              "      border-top-color: var(--fill-color);\n",
              "      border-right-color: var(--fill-color);\n",
              "    }\n",
              "    40% {\n",
              "      border-color: transparent;\n",
              "      border-right-color: var(--fill-color);\n",
              "      border-top-color: var(--fill-color);\n",
              "    }\n",
              "    60% {\n",
              "      border-color: transparent;\n",
              "      border-right-color: var(--fill-color);\n",
              "    }\n",
              "    80% {\n",
              "      border-color: transparent;\n",
              "      border-right-color: var(--fill-color);\n",
              "      border-bottom-color: var(--fill-color);\n",
              "    }\n",
              "    90% {\n",
              "      border-color: transparent;\n",
              "      border-bottom-color: var(--fill-color);\n",
              "    }\n",
              "  }\n",
              "</style>\n",
              "\n",
              "  <script>\n",
              "    async function quickchart(key) {\n",
              "      const quickchartButtonEl =\n",
              "        document.querySelector('#' + key + ' button');\n",
              "      quickchartButtonEl.disabled = true;  // To prevent multiple clicks.\n",
              "      quickchartButtonEl.classList.add('colab-df-spinner');\n",
              "      try {\n",
              "        const charts = await google.colab.kernel.invokeFunction(\n",
              "            'suggestCharts', [key], {});\n",
              "      } catch (error) {\n",
              "        console.error('Error during call to suggestCharts:', error);\n",
              "      }\n",
              "      quickchartButtonEl.classList.remove('colab-df-spinner');\n",
              "      quickchartButtonEl.classList.add('colab-df-quickchart-complete');\n",
              "    }\n",
              "    (() => {\n",
              "      let quickchartButtonEl =\n",
              "        document.querySelector('#df-f6c6123c-c800-44d3-8f13-f0fa72973f57 button');\n",
              "      quickchartButtonEl.style.display =\n",
              "        google.colab.kernel.accessAllowed ? 'block' : 'none';\n",
              "    })();\n",
              "  </script>\n",
              "</div>\n",
              "\n",
              "  <div id=\"id_05816ea8-5b0e-4705-841a-9e96b7442d06\">\n",
              "    <style>\n",
              "      .colab-df-generate {\n",
              "        background-color: #E8F0FE;\n",
              "        border: none;\n",
              "        border-radius: 50%;\n",
              "        cursor: pointer;\n",
              "        display: none;\n",
              "        fill: #1967D2;\n",
              "        height: 32px;\n",
              "        padding: 0 0 0 0;\n",
              "        width: 32px;\n",
              "      }\n",
              "\n",
              "      .colab-df-generate:hover {\n",
              "        background-color: #E2EBFA;\n",
              "        box-shadow: 0px 1px 2px rgba(60, 64, 67, 0.3), 0px 1px 3px 1px rgba(60, 64, 67, 0.15);\n",
              "        fill: #174EA6;\n",
              "      }\n",
              "\n",
              "      [theme=dark] .colab-df-generate {\n",
              "        background-color: #3B4455;\n",
              "        fill: #D2E3FC;\n",
              "      }\n",
              "\n",
              "      [theme=dark] .colab-df-generate:hover {\n",
              "        background-color: #434B5C;\n",
              "        box-shadow: 0px 1px 3px 1px rgba(0, 0, 0, 0.15);\n",
              "        filter: drop-shadow(0px 1px 2px rgba(0, 0, 0, 0.3));\n",
              "        fill: #FFFFFF;\n",
              "      }\n",
              "    </style>\n",
              "    <button class=\"colab-df-generate\" onclick=\"generateWithVariable('test_results')\"\n",
              "            title=\"Generate code using this dataframe.\"\n",
              "            style=\"display:none;\">\n",
              "\n",
              "  <svg xmlns=\"http://www.w3.org/2000/svg\" height=\"24px\"viewBox=\"0 0 24 24\"\n",
              "       width=\"24px\">\n",
              "    <path d=\"M7,19H8.4L18.45,9,17,7.55,7,17.6ZM5,21V16.75L18.45,3.32a2,2,0,0,1,2.83,0l1.4,1.43a1.91,1.91,0,0,1,.58,1.4,1.91,1.91,0,0,1-.58,1.4L9.25,21ZM18.45,9,17,7.55Zm-12,3A5.31,5.31,0,0,0,4.9,8.1,5.31,5.31,0,0,0,1,6.5,5.31,5.31,0,0,0,4.9,4.9,5.31,5.31,0,0,0,6.5,1,5.31,5.31,0,0,0,8.1,4.9,5.31,5.31,0,0,0,12,6.5,5.46,5.46,0,0,0,6.5,12Z\"/>\n",
              "  </svg>\n",
              "    </button>\n",
              "    <script>\n",
              "      (() => {\n",
              "      const buttonEl =\n",
              "        document.querySelector('#id_05816ea8-5b0e-4705-841a-9e96b7442d06 button.colab-df-generate');\n",
              "      buttonEl.style.display =\n",
              "        google.colab.kernel.accessAllowed ? 'block' : 'none';\n",
              "\n",
              "      buttonEl.onclick = () => {\n",
              "        google.colab.notebook.generateWithVariable('test_results');\n",
              "      }\n",
              "      })();\n",
              "    </script>\n",
              "  </div>\n",
              "\n",
              "    </div>\n",
              "  </div>\n"
            ],
            "application/vnd.google.colaboratory.intrinsic+json": {
              "type": "dataframe",
              "variable_name": "test_results",
              "summary": "{\n  \"name\": \"test_results\",\n  \"rows\": 3,\n  \"fields\": [\n    {\n      \"column\": \"T\",\n      \"properties\": {\n        \"dtype\": \"number\",\n        \"std\": 0.4377497247979743,\n        \"min\": 0.41512636402970543,\n        \"max\": 1.2798120613331676,\n        \"num_unique_values\": 3,\n        \"samples\": [\n          0.7286691775752724,\n          1.2798120613331676,\n          0.41512636402970543\n        ],\n        \"semantic_type\": \"\",\n        \"description\": \"\"\n      }\n    },\n    {\n      \"column\": \"dof\",\n      \"properties\": {\n        \"dtype\": \"number\",\n        \"std\": 0,\n        \"min\": 502,\n        \"max\": 502,\n        \"num_unique_values\": 1,\n        \"samples\": [\n          502\n        ],\n        \"semantic_type\": \"\",\n        \"description\": \"\"\n      }\n    },\n    {\n      \"column\": \"alternative\",\n      \"properties\": {\n        \"dtype\": \"category\",\n        \"num_unique_values\": 1,\n        \"samples\": [\n          \"two-sided\"\n        ],\n        \"semantic_type\": \"\",\n        \"description\": \"\"\n      }\n    },\n    {\n      \"column\": \"p-val\",\n      \"properties\": {\n        \"dtype\": \"number\",\n        \"std\": 0.23901465119152746,\n        \"min\": 0.2012023735179679,\n        \"max\": 0.6782267625446046,\n        \"num_unique_values\": 3,\n        \"samples\": [\n          0.46654383671206845\n        ],\n        \"semantic_type\": \"\",\n        \"description\": \"\"\n      }\n    },\n    {\n      \"column\": \"CI95%\",\n      \"properties\": {\n        \"dtype\": \"object\",\n        \"semantic_type\": \"\",\n        \"description\": \"\"\n      }\n    },\n    {\n      \"column\": \"cohen-d\",\n      \"properties\": {\n        \"dtype\": \"number\",\n        \"std\": 0.03899784503210953,\n        \"min\": 0.03698239586705608,\n        \"max\": 0.11401472030880072,\n        \"num_unique_values\": 3,\n        \"samples\": [\n          0.06491500978069073\n        ],\n        \"semantic_type\": \"\",\n        \"description\": \"\"\n      }\n    },\n    {\n      \"column\": \"BF10\",\n      \"properties\": {\n        \"dtype\": \"string\",\n        \"num_unique_values\": 3,\n        \"samples\": [\n          \"0.128\"\n        ],\n        \"semantic_type\": \"\",\n        \"description\": \"\"\n      }\n    },\n    {\n      \"column\": \"power\",\n      \"properties\": {\n        \"dtype\": \"number\",\n        \"std\": 0.09303254542518259,\n        \"min\": 0.0698880334678964,\n        \"max\": 0.24803319164150645,\n        \"num_unique_values\": 3,\n        \"samples\": [\n          0.11244835084512017\n        ],\n        \"semantic_type\": \"\",\n        \"description\": \"\"\n      }\n    }\n  ]\n}"
            }
          },
          "metadata": {},
          "execution_count": 46
        }
      ]
    },
    {
      "cell_type": "markdown",
      "source": [
        "Check whether the return correlation between the different portfolios is statistically significant."
      ],
      "metadata": {
        "id": "0Tc5iwJrkxJ5"
      }
    },
    {
      "cell_type": "code",
      "source": [
        "pg.pairwise_corr(portfolio_ret_with_benchmark)\n",
        "# They are all statistically significant."
      ],
      "metadata": {
        "colab": {
          "base_uri": "https://localhost:8080/",
          "height": 143
        },
        "id": "RyOrSAuygMH7",
        "outputId": "a98cec15-8ce6-4973-d33c-fa95871106c2"
      },
      "execution_count": null,
      "outputs": [
        {
          "output_type": "execute_result",
          "data": {
            "text/plain": [
              "       X       Y   method alternative    n         r         CI95%  \\\n",
              "0  ewret   vwret  pearson   two-sided  252  0.818792  [0.77, 0.86]   \n",
              "1  ewret  vwretd  pearson   two-sided  252  0.734540  [0.67, 0.79]   \n",
              "2  vwret  vwretd  pearson   two-sided  252  0.760018   [0.7, 0.81]   \n",
              "\n",
              "          p-unc       BF10  power  \n",
              "0  3.416035e-62  4.733e+58    1.0  \n",
              "1  5.407445e-44  4.638e+40    1.0  \n",
              "2  1.077298e-48  2.066e+45    1.0  "
            ],
            "text/html": [
              "\n",
              "  <div id=\"df-0c8d5d7b-70a7-4bd0-8065-e772a418a862\" class=\"colab-df-container\">\n",
              "    <div>\n",
              "<style scoped>\n",
              "    .dataframe tbody tr th:only-of-type {\n",
              "        vertical-align: middle;\n",
              "    }\n",
              "\n",
              "    .dataframe tbody tr th {\n",
              "        vertical-align: top;\n",
              "    }\n",
              "\n",
              "    .dataframe thead th {\n",
              "        text-align: right;\n",
              "    }\n",
              "</style>\n",
              "<table border=\"1\" class=\"dataframe\">\n",
              "  <thead>\n",
              "    <tr style=\"text-align: right;\">\n",
              "      <th></th>\n",
              "      <th>X</th>\n",
              "      <th>Y</th>\n",
              "      <th>method</th>\n",
              "      <th>alternative</th>\n",
              "      <th>n</th>\n",
              "      <th>r</th>\n",
              "      <th>CI95%</th>\n",
              "      <th>p-unc</th>\n",
              "      <th>BF10</th>\n",
              "      <th>power</th>\n",
              "    </tr>\n",
              "  </thead>\n",
              "  <tbody>\n",
              "    <tr>\n",
              "      <th>0</th>\n",
              "      <td>ewret</td>\n",
              "      <td>vwret</td>\n",
              "      <td>pearson</td>\n",
              "      <td>two-sided</td>\n",
              "      <td>252</td>\n",
              "      <td>0.818792</td>\n",
              "      <td>[0.77, 0.86]</td>\n",
              "      <td>3.416035e-62</td>\n",
              "      <td>4.733e+58</td>\n",
              "      <td>1.0</td>\n",
              "    </tr>\n",
              "    <tr>\n",
              "      <th>1</th>\n",
              "      <td>ewret</td>\n",
              "      <td>vwretd</td>\n",
              "      <td>pearson</td>\n",
              "      <td>two-sided</td>\n",
              "      <td>252</td>\n",
              "      <td>0.734540</td>\n",
              "      <td>[0.67, 0.79]</td>\n",
              "      <td>5.407445e-44</td>\n",
              "      <td>4.638e+40</td>\n",
              "      <td>1.0</td>\n",
              "    </tr>\n",
              "    <tr>\n",
              "      <th>2</th>\n",
              "      <td>vwret</td>\n",
              "      <td>vwretd</td>\n",
              "      <td>pearson</td>\n",
              "      <td>two-sided</td>\n",
              "      <td>252</td>\n",
              "      <td>0.760018</td>\n",
              "      <td>[0.7, 0.81]</td>\n",
              "      <td>1.077298e-48</td>\n",
              "      <td>2.066e+45</td>\n",
              "      <td>1.0</td>\n",
              "    </tr>\n",
              "  </tbody>\n",
              "</table>\n",
              "</div>\n",
              "    <div class=\"colab-df-buttons\">\n",
              "\n",
              "  <div class=\"colab-df-container\">\n",
              "    <button class=\"colab-df-convert\" onclick=\"convertToInteractive('df-0c8d5d7b-70a7-4bd0-8065-e772a418a862')\"\n",
              "            title=\"Convert this dataframe to an interactive table.\"\n",
              "            style=\"display:none;\">\n",
              "\n",
              "  <svg xmlns=\"http://www.w3.org/2000/svg\" height=\"24px\" viewBox=\"0 -960 960 960\">\n",
              "    <path d=\"M120-120v-720h720v720H120Zm60-500h600v-160H180v160Zm220 220h160v-160H400v160Zm0 220h160v-160H400v160ZM180-400h160v-160H180v160Zm440 0h160v-160H620v160ZM180-180h160v-160H180v160Zm440 0h160v-160H620v160Z\"/>\n",
              "  </svg>\n",
              "    </button>\n",
              "\n",
              "  <style>\n",
              "    .colab-df-container {\n",
              "      display:flex;\n",
              "      gap: 12px;\n",
              "    }\n",
              "\n",
              "    .colab-df-convert {\n",
              "      background-color: #E8F0FE;\n",
              "      border: none;\n",
              "      border-radius: 50%;\n",
              "      cursor: pointer;\n",
              "      display: none;\n",
              "      fill: #1967D2;\n",
              "      height: 32px;\n",
              "      padding: 0 0 0 0;\n",
              "      width: 32px;\n",
              "    }\n",
              "\n",
              "    .colab-df-convert:hover {\n",
              "      background-color: #E2EBFA;\n",
              "      box-shadow: 0px 1px 2px rgba(60, 64, 67, 0.3), 0px 1px 3px 1px rgba(60, 64, 67, 0.15);\n",
              "      fill: #174EA6;\n",
              "    }\n",
              "\n",
              "    .colab-df-buttons div {\n",
              "      margin-bottom: 4px;\n",
              "    }\n",
              "\n",
              "    [theme=dark] .colab-df-convert {\n",
              "      background-color: #3B4455;\n",
              "      fill: #D2E3FC;\n",
              "    }\n",
              "\n",
              "    [theme=dark] .colab-df-convert:hover {\n",
              "      background-color: #434B5C;\n",
              "      box-shadow: 0px 1px 3px 1px rgba(0, 0, 0, 0.15);\n",
              "      filter: drop-shadow(0px 1px 2px rgba(0, 0, 0, 0.3));\n",
              "      fill: #FFFFFF;\n",
              "    }\n",
              "  </style>\n",
              "\n",
              "    <script>\n",
              "      const buttonEl =\n",
              "        document.querySelector('#df-0c8d5d7b-70a7-4bd0-8065-e772a418a862 button.colab-df-convert');\n",
              "      buttonEl.style.display =\n",
              "        google.colab.kernel.accessAllowed ? 'block' : 'none';\n",
              "\n",
              "      async function convertToInteractive(key) {\n",
              "        const element = document.querySelector('#df-0c8d5d7b-70a7-4bd0-8065-e772a418a862');\n",
              "        const dataTable =\n",
              "          await google.colab.kernel.invokeFunction('convertToInteractive',\n",
              "                                                    [key], {});\n",
              "        if (!dataTable) return;\n",
              "\n",
              "        const docLinkHtml = 'Like what you see? Visit the ' +\n",
              "          '<a target=\"_blank\" href=https://colab.research.google.com/notebooks/data_table.ipynb>data table notebook</a>'\n",
              "          + ' to learn more about interactive tables.';\n",
              "        element.innerHTML = '';\n",
              "        dataTable['output_type'] = 'display_data';\n",
              "        await google.colab.output.renderOutput(dataTable, element);\n",
              "        const docLink = document.createElement('div');\n",
              "        docLink.innerHTML = docLinkHtml;\n",
              "        element.appendChild(docLink);\n",
              "      }\n",
              "    </script>\n",
              "  </div>\n",
              "\n",
              "\n",
              "<div id=\"df-e9f2d122-48b6-4fe2-a03f-99677b27aeda\">\n",
              "  <button class=\"colab-df-quickchart\" onclick=\"quickchart('df-e9f2d122-48b6-4fe2-a03f-99677b27aeda')\"\n",
              "            title=\"Suggest charts\"\n",
              "            style=\"display:none;\">\n",
              "\n",
              "<svg xmlns=\"http://www.w3.org/2000/svg\" height=\"24px\"viewBox=\"0 0 24 24\"\n",
              "     width=\"24px\">\n",
              "    <g>\n",
              "        <path d=\"M19 3H5c-1.1 0-2 .9-2 2v14c0 1.1.9 2 2 2h14c1.1 0 2-.9 2-2V5c0-1.1-.9-2-2-2zM9 17H7v-7h2v7zm4 0h-2V7h2v10zm4 0h-2v-4h2v4z\"/>\n",
              "    </g>\n",
              "</svg>\n",
              "  </button>\n",
              "\n",
              "<style>\n",
              "  .colab-df-quickchart {\n",
              "      --bg-color: #E8F0FE;\n",
              "      --fill-color: #1967D2;\n",
              "      --hover-bg-color: #E2EBFA;\n",
              "      --hover-fill-color: #174EA6;\n",
              "      --disabled-fill-color: #AAA;\n",
              "      --disabled-bg-color: #DDD;\n",
              "  }\n",
              "\n",
              "  [theme=dark] .colab-df-quickchart {\n",
              "      --bg-color: #3B4455;\n",
              "      --fill-color: #D2E3FC;\n",
              "      --hover-bg-color: #434B5C;\n",
              "      --hover-fill-color: #FFFFFF;\n",
              "      --disabled-bg-color: #3B4455;\n",
              "      --disabled-fill-color: #666;\n",
              "  }\n",
              "\n",
              "  .colab-df-quickchart {\n",
              "    background-color: var(--bg-color);\n",
              "    border: none;\n",
              "    border-radius: 50%;\n",
              "    cursor: pointer;\n",
              "    display: none;\n",
              "    fill: var(--fill-color);\n",
              "    height: 32px;\n",
              "    padding: 0;\n",
              "    width: 32px;\n",
              "  }\n",
              "\n",
              "  .colab-df-quickchart:hover {\n",
              "    background-color: var(--hover-bg-color);\n",
              "    box-shadow: 0 1px 2px rgba(60, 64, 67, 0.3), 0 1px 3px 1px rgba(60, 64, 67, 0.15);\n",
              "    fill: var(--button-hover-fill-color);\n",
              "  }\n",
              "\n",
              "  .colab-df-quickchart-complete:disabled,\n",
              "  .colab-df-quickchart-complete:disabled:hover {\n",
              "    background-color: var(--disabled-bg-color);\n",
              "    fill: var(--disabled-fill-color);\n",
              "    box-shadow: none;\n",
              "  }\n",
              "\n",
              "  .colab-df-spinner {\n",
              "    border: 2px solid var(--fill-color);\n",
              "    border-color: transparent;\n",
              "    border-bottom-color: var(--fill-color);\n",
              "    animation:\n",
              "      spin 1s steps(1) infinite;\n",
              "  }\n",
              "\n",
              "  @keyframes spin {\n",
              "    0% {\n",
              "      border-color: transparent;\n",
              "      border-bottom-color: var(--fill-color);\n",
              "      border-left-color: var(--fill-color);\n",
              "    }\n",
              "    20% {\n",
              "      border-color: transparent;\n",
              "      border-left-color: var(--fill-color);\n",
              "      border-top-color: var(--fill-color);\n",
              "    }\n",
              "    30% {\n",
              "      border-color: transparent;\n",
              "      border-left-color: var(--fill-color);\n",
              "      border-top-color: var(--fill-color);\n",
              "      border-right-color: var(--fill-color);\n",
              "    }\n",
              "    40% {\n",
              "      border-color: transparent;\n",
              "      border-right-color: var(--fill-color);\n",
              "      border-top-color: var(--fill-color);\n",
              "    }\n",
              "    60% {\n",
              "      border-color: transparent;\n",
              "      border-right-color: var(--fill-color);\n",
              "    }\n",
              "    80% {\n",
              "      border-color: transparent;\n",
              "      border-right-color: var(--fill-color);\n",
              "      border-bottom-color: var(--fill-color);\n",
              "    }\n",
              "    90% {\n",
              "      border-color: transparent;\n",
              "      border-bottom-color: var(--fill-color);\n",
              "    }\n",
              "  }\n",
              "</style>\n",
              "\n",
              "  <script>\n",
              "    async function quickchart(key) {\n",
              "      const quickchartButtonEl =\n",
              "        document.querySelector('#' + key + ' button');\n",
              "      quickchartButtonEl.disabled = true;  // To prevent multiple clicks.\n",
              "      quickchartButtonEl.classList.add('colab-df-spinner');\n",
              "      try {\n",
              "        const charts = await google.colab.kernel.invokeFunction(\n",
              "            'suggestCharts', [key], {});\n",
              "      } catch (error) {\n",
              "        console.error('Error during call to suggestCharts:', error);\n",
              "      }\n",
              "      quickchartButtonEl.classList.remove('colab-df-spinner');\n",
              "      quickchartButtonEl.classList.add('colab-df-quickchart-complete');\n",
              "    }\n",
              "    (() => {\n",
              "      let quickchartButtonEl =\n",
              "        document.querySelector('#df-e9f2d122-48b6-4fe2-a03f-99677b27aeda button');\n",
              "      quickchartButtonEl.style.display =\n",
              "        google.colab.kernel.accessAllowed ? 'block' : 'none';\n",
              "    })();\n",
              "  </script>\n",
              "</div>\n",
              "\n",
              "    </div>\n",
              "  </div>\n"
            ],
            "application/vnd.google.colaboratory.intrinsic+json": {
              "type": "dataframe",
              "summary": "{\n  \"name\": \"# They are all statistically significant\",\n  \"rows\": 3,\n  \"fields\": [\n    {\n      \"column\": \"X\",\n      \"properties\": {\n        \"dtype\": \"string\",\n        \"num_unique_values\": 2,\n        \"samples\": [\n          \"vwret\",\n          \"ewret\"\n        ],\n        \"semantic_type\": \"\",\n        \"description\": \"\"\n      }\n    },\n    {\n      \"column\": \"Y\",\n      \"properties\": {\n        \"dtype\": \"string\",\n        \"num_unique_values\": 2,\n        \"samples\": [\n          \"vwretd\",\n          \"vwret\"\n        ],\n        \"semantic_type\": \"\",\n        \"description\": \"\"\n      }\n    },\n    {\n      \"column\": \"method\",\n      \"properties\": {\n        \"dtype\": \"category\",\n        \"num_unique_values\": 1,\n        \"samples\": [\n          \"pearson\"\n        ],\n        \"semantic_type\": \"\",\n        \"description\": \"\"\n      }\n    },\n    {\n      \"column\": \"alternative\",\n      \"properties\": {\n        \"dtype\": \"category\",\n        \"num_unique_values\": 1,\n        \"samples\": [\n          \"two-sided\"\n        ],\n        \"semantic_type\": \"\",\n        \"description\": \"\"\n      }\n    },\n    {\n      \"column\": \"n\",\n      \"properties\": {\n        \"dtype\": \"number\",\n        \"std\": 0,\n        \"min\": 252,\n        \"max\": 252,\n        \"num_unique_values\": 1,\n        \"samples\": [\n          252\n        ],\n        \"semantic_type\": \"\",\n        \"description\": \"\"\n      }\n    },\n    {\n      \"column\": \"r\",\n      \"properties\": {\n        \"dtype\": \"number\",\n        \"std\": 0.04320866638918674,\n        \"min\": 0.7345399759171415,\n        \"max\": 0.8187921738512703,\n        \"num_unique_values\": 3,\n        \"samples\": [\n          0.8187921738512703\n        ],\n        \"semantic_type\": \"\",\n        \"description\": \"\"\n      }\n    },\n    {\n      \"column\": \"CI95%\",\n      \"properties\": {\n        \"dtype\": \"object\",\n        \"semantic_type\": \"\",\n        \"description\": \"\"\n      }\n    },\n    {\n      \"column\": \"p-unc\",\n      \"properties\": {\n        \"dtype\": \"number\",\n        \"std\": 3.121958565694358e-44,\n        \"min\": 3.4160350252131587e-62,\n        \"max\": 5.407444719002484e-44,\n        \"num_unique_values\": 3,\n        \"samples\": [\n          3.4160350252131587e-62\n        ],\n        \"semantic_type\": \"\",\n        \"description\": \"\"\n      }\n    },\n    {\n      \"column\": \"BF10\",\n      \"properties\": {\n        \"dtype\": \"string\",\n        \"num_unique_values\": 3,\n        \"samples\": [\n          \"4.733e+58\"\n        ],\n        \"semantic_type\": \"\",\n        \"description\": \"\"\n      }\n    },\n    {\n      \"column\": \"power\",\n      \"properties\": {\n        \"dtype\": \"number\",\n        \"std\": 0.0,\n        \"min\": 1.0,\n        \"max\": 1.0,\n        \"num_unique_values\": 1,\n        \"samples\": [\n          1.0\n        ],\n        \"semantic_type\": \"\",\n        \"description\": \"\"\n      }\n    }\n  ]\n}"
            }
          },
          "metadata": {},
          "execution_count": 47
        }
      ]
    },
    {
      "cell_type": "code",
      "source": [],
      "metadata": {
        "id": "5v41NsV-yE2_"
      },
      "execution_count": null,
      "outputs": []
    }
  ]
}