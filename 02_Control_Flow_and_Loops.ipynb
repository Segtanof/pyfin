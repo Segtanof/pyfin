{
  "nbformat": 4,
  "nbformat_minor": 0,
  "metadata": {
    "colab": {
      "provenance": [],
      "include_colab_link": true
    },
    "kernelspec": {
      "name": "python3",
      "display_name": "Python 3"
    },
    "language_info": {
      "name": "python"
    }
  },
  "cells": [
    {
      "cell_type": "markdown",
      "metadata": {
        "id": "view-in-github",
        "colab_type": "text"
      },
      "source": [
        "<a href=\"https://colab.research.google.com/github/Segtanof/pyfin/blob/main/02_Control_Flow_and_Loops.ipynb\" target=\"_parent\"><img src=\"https://colab.research.google.com/assets/colab-badge.svg\" alt=\"Open In Colab\"/></a>"
      ]
    },
    {
      "cell_type": "markdown",
      "source": [
        "# Control Flow and Loops\n",
        "In this part of the course we deal with the role of indentation, if/else statements, loops, list comprehensions and error handling."
      ],
      "metadata": {
        "id": "EIJo66tfwnbe"
      }
    },
    {
      "cell_type": "markdown",
      "source": [
        "## If/else statements\n",
        "> An `if` statement executes code if some condition is met.\n",
        "\n",
        "To write an if statement, we use the keyword `if` followed by a condition and a colon (i.e. `if condition:`). This is followed by a code block that has **indentation**. Indentation here means one tab or two empty spaces. This is the code that will be executed only if the condition is met."
      ],
      "metadata": {
        "id": "4_7tHJ84xnMy"
      }
    },
    {
      "cell_type": "code",
      "execution_count": null,
      "metadata": {
        "id": "5cNMXOuEwNob",
        "colab": {
          "base_uri": "https://localhost:8080/"
        },
        "outputId": "cf0ea877-a416-4f28-c544-9fcb098c8e35"
      },
      "outputs": [
        {
          "output_type": "stream",
          "name": "stdout",
          "text": [
            "The stock had a positive return\n"
          ]
        }
      ],
      "source": [
        "stock_return = 0.1\n",
        "if stock_return > 0:\n",
        "  print(\"The stock had a positive return\")"
      ]
    },
    {
      "cell_type": "markdown",
      "source": [
        "\n",
        "If we do not have an indented code block after the if statement, we will get an `IndentationError`:"
      ],
      "metadata": {
        "id": "B_gEtmkmyfxt"
      }
    },
    {
      "cell_type": "code",
      "source": [
        "if stock_return < 0:\n",
        "  print(\"The stock had a negative return\")"
      ],
      "metadata": {
        "id": "cnZNp38Wy0Pn"
      },
      "execution_count": null,
      "outputs": []
    },
    {
      "cell_type": "markdown",
      "source": [
        "If we wish to have multiple possible options, we can add else if (`elif`) block(s). The code in the else if statement will only be executed if two conditions are met\n",
        "- There was no previously executed code block in the current `if` statement\n",
        "- The condition of the `elif` is `True`"
      ],
      "metadata": {
        "id": "Wv6fDVq4z0G7"
      }
    },
    {
      "cell_type": "code",
      "source": [
        "stock_return = 0.1\n",
        "if stock_return > 0:\n",
        "  print(\"The stock had a positive return\")\n",
        "elif stock_return < 0:\n",
        "  print(\"The stock had a negative return\")"
      ],
      "metadata": {
        "id": "9NStHanQ0AoK"
      },
      "execution_count": null,
      "outputs": []
    },
    {
      "cell_type": "markdown",
      "source": [
        "So to summarize, if we have two true conditions in one `if` statement, only the first is executed:"
      ],
      "metadata": {
        "id": "JaMHn5cH0jSj"
      }
    },
    {
      "cell_type": "code",
      "source": [
        "if True:\n",
        "  print(\"First\")\n",
        "elif True:\n",
        "  print(\"Second\") # Not executed since a previous code block is executed (if True)"
      ],
      "metadata": {
        "id": "0U3DQ0op0O7R"
      },
      "execution_count": null,
      "outputs": []
    },
    {
      "cell_type": "markdown",
      "source": [
        "Finally, we can use an `else` at the end of our `if` statement to write a code block that is only executed if no other code block in the current if statement was executed:"
      ],
      "metadata": {
        "id": "IjllrB6Z0wNL"
      }
    },
    {
      "cell_type": "code",
      "source": [
        "stock_return = 0\n",
        "if stock_return > 0:\n",
        "  print(\"The stock had a positive return\")\n",
        "elif stock_return < 0:\n",
        "  print(\"The stock had a negative return\")\n",
        "else:\n",
        "  print(\"The stock had a return of zero\")"
      ],
      "metadata": {
        "id": "h_Ko2ROf0707"
      },
      "execution_count": null,
      "outputs": []
    },
    {
      "cell_type": "markdown",
      "source": [
        "We can of course include a computation inside the condition, for example to check if a number is even or odd:"
      ],
      "metadata": {
        "id": "yhNJObnO2-Pj"
      }
    },
    {
      "cell_type": "code",
      "source": [
        "x = 1\n",
        "if x % 2 == 0:\n",
        "  print(\"The variable is even\")\n",
        "elif x % 2 == 1:\n",
        "  print(\"The variable is odd\")"
      ],
      "metadata": {
        "id": "iuXodl722_oc"
      },
      "execution_count": null,
      "outputs": []
    },
    {
      "cell_type": "markdown",
      "source": [
        "You can find more on if/else statements here: https://www.geeksforgeeks.org/python-if-else/"
      ],
      "metadata": {
        "id": "j8zXT5SNQy0R"
      }
    },
    {
      "cell_type": "markdown",
      "source": [
        "**Quick exercise**\n",
        "\n",
        "Write an if statement that checks whether the length of the string \"hello, how are you?\" is longer than 5 characters. `print` \"this is a long string\". Else, `print` \"this is a short string\"."
      ],
      "metadata": {
        "id": "ePAmZ_lRPoXg"
      }
    },
    {
      "cell_type": "markdown",
      "source": [
        "## Loops"
      ],
      "metadata": {
        "id": "14cqIZ263UZX"
      }
    },
    {
      "cell_type": "markdown",
      "source": [
        "\n",
        "### For Loops\n",
        "When programming, we often want to iterate over several elements.\n",
        "\n",
        "**Example use case:**\n",
        "\n",
        "> You have many companies in your dataset and you want to download all of their SEC filings.\n",
        "\n",
        "\n",
        "If we have specific elements we want to iterate over, the `for` loop is the most appropriate choice. The syntax is as follows:\n",
        "- We use the *fixed* keyword (`for`)\n",
        "- Then we *come up with* a name for the (individual) element in the iterable (`for i`)\n",
        "- Then we use the *fixed* keyword `in` (`for i in`)\n",
        "- Then we specify the object we iterate over (`for i in iterable_object`)\n",
        "- We close with a colon `:`\n",
        "- In the next line, indented, the code block that will be executed for each of the elements in the object we iterate over"
      ],
      "metadata": {
        "id": "R7p4aEwYDmLC"
      }
    },
    {
      "cell_type": "code",
      "source": [
        "for i in (0,1,2):\n",
        "  print(i)"
      ],
      "metadata": {
        "id": "rDoO1jBF5N9e"
      },
      "execution_count": null,
      "outputs": []
    },
    {
      "cell_type": "markdown",
      "source": [
        "This is equivalent to writing the following, but much less cumbersome to program, understand and maintain:"
      ],
      "metadata": {
        "id": "3TdASUVbjh0M"
      }
    },
    {
      "cell_type": "code",
      "source": [
        "i = 0\n",
        "print(i)\n",
        "\n",
        "i = 1\n",
        "print(i)\n",
        "\n",
        "i = 2\n",
        "print(i)"
      ],
      "metadata": {
        "id": "6hr4qmYnjiFg"
      },
      "execution_count": null,
      "outputs": []
    },
    {
      "cell_type": "markdown",
      "source": [
        "Often we want to perform something N times. Instead of typing out the list, we use the `range()` function. It simply counts to the value you pass it minus one (starting from zero):"
      ],
      "metadata": {
        "id": "NddWj22J6J62"
      }
    },
    {
      "cell_type": "code",
      "source": [
        "for i in range(3):\n",
        "  print(i)"
      ],
      "metadata": {
        "id": "MHk2a5ZQ6eUv"
      },
      "execution_count": null,
      "outputs": []
    },
    {
      "cell_type": "markdown",
      "source": [
        "The for loop in Python allows to iterate over all types of data, not just integers.\n",
        "`for` also works with lists, for example:"
      ],
      "metadata": {
        "id": "7aDYjwqs5JJg"
      }
    },
    {
      "cell_type": "code",
      "source": [
        "stock_tickers = [\"AAPL\", \"MSFT\", \"ABEA\"]\n",
        "\n",
        "for i in stock_tickers:\n",
        "  print(i)\n",
        "\n",
        "# # NOT good\n",
        "# for i in range(3):\n",
        "#   print(stock_tickers[i])"
      ],
      "metadata": {
        "id": "VMptl9gd61el"
      },
      "execution_count": null,
      "outputs": []
    },
    {
      "cell_type": "markdown",
      "source": [
        "The element name `i` is typically used for integer indices and not for other things. In Python it is more common to assign a more human-readable variable name. For example:"
      ],
      "metadata": {
        "id": "dB0SojA-hs5x"
      }
    },
    {
      "cell_type": "code",
      "source": [
        "stock_tickers = [\"AAPL\", \"MSFT\", \"ABEA\"]\n",
        "\n",
        "for ticker in stock_tickers:\n",
        "  print(ticker)"
      ],
      "metadata": {
        "id": "Ib1ibNVjhtOB"
      },
      "execution_count": null,
      "outputs": []
    },
    {
      "cell_type": "markdown",
      "source": [
        "We can also terminate a loop using the `break` keyword. This is often done in combination with `if` statements:"
      ],
      "metadata": {
        "id": "MnjcFd6S7XIq"
      }
    },
    {
      "cell_type": "code",
      "source": [
        "stock_tickers = [\"AAPL\", \"MSFT\", \"ABEA\"]\n",
        "\n",
        "for ticker in stock_tickers:\n",
        "  print(ticker)\n",
        "  if ticker == \"MSFT\": # Checking if we are at MSFT\n",
        "    print(\"Found ticker MSFT\")\n",
        "    break # stop the loop when MSFT is reached"
      ],
      "metadata": {
        "id": "wqF9WwGm7ooZ"
      },
      "execution_count": null,
      "outputs": []
    },
    {
      "cell_type": "markdown",
      "source": [
        "Note that, in the previous code, we do not see the \"ABEA\" printed, since the execution was halted as soon as MSFT is reached. Also note that we need **two indentations** in the if statement (one for the loop and one for the if statement code itself)"
      ],
      "metadata": {
        "id": "G3XU-1yM0C_A"
      }
    },
    {
      "cell_type": "markdown",
      "source": [
        "In some cases, we want to `continue` with our loop and not execute the rest of the code block. This often happens to skip elements we already processed."
      ],
      "metadata": {
        "id": "GssVp99q0IgB"
      }
    },
    {
      "cell_type": "code",
      "source": [
        "stock_tickers = [\"AAPL\", \"MSFT\", \"ABEA\"]\n",
        "already_done = [\"MSFT\"]\n",
        "\n",
        "for ticker in stock_tickers:\n",
        "  if ticker in already_done: # Checking if we already processed the ticker (hypothetically)\n",
        "    print(f\"{ticker} already done\")\n",
        "    continue\n",
        "  print(ticker)"
      ],
      "metadata": {
        "id": "C9dB08KJ0CrM"
      },
      "execution_count": null,
      "outputs": []
    },
    {
      "cell_type": "markdown",
      "source": [
        "\n",
        "Oftentimes, we want to iterate over a list of items and\n",
        "at the same time keep track of an item's index. We can\n",
        "do this elegantly using the `enumerate()` function and specifying two variable names in the for: `for index, value in enumerate(...)`:"
      ],
      "metadata": {
        "id": "BIR8MOq17zBU"
      }
    },
    {
      "cell_type": "code",
      "source": [
        "stock_tickers = [\"AAPL\", \"MSFT\", \"ABEA\"]\n",
        "\n",
        "for i, ticker in enumerate(stock_tickers):\n",
        "  print(f\"Stock {i} has the ticker {ticker}\")"
      ],
      "metadata": {
        "id": "GOxYWJfE8L16"
      },
      "execution_count": null,
      "outputs": []
    },
    {
      "cell_type": "markdown",
      "source": [
        "We can also put a loop inside a loop. This is called a **nested loop**\n",
        "\n",
        "For example to loop over strings inside a list:"
      ],
      "metadata": {
        "id": "J3rmwdpELrPG"
      }
    },
    {
      "cell_type": "code",
      "source": [
        "strings = [\"xxxx1\", \"x2xxxx\", \"xx3x\"] # List of strings that contain integers\n",
        "\n",
        "for string in strings: # Loop over each string in the list\n",
        "  for character in string: # Loop over each letter in the string\n",
        "    if character != \"x\": # If the letter is not an x, print it\n",
        "      print(character)"
      ],
      "metadata": {
        "id": "7iUeBf8iNdUO"
      },
      "execution_count": null,
      "outputs": []
    },
    {
      "cell_type": "markdown",
      "source": [
        "So far, we have been looping over lists. We can also loop over dictionaries by using the `.items()` method. Because dictionaries have both `keys` and `values`, the `.items()` method will return two values. The first value is the `key` and the second value is the `value`."
      ],
      "metadata": {
        "id": "rXtllG3koGMk"
      }
    },
    {
      "cell_type": "code",
      "source": [
        "current_stock_prices = {'AAPL': 102.32, 'MSFT': 84.58} # Create a dictionary\n",
        "\n",
        "for key, value in current_stock_prices.items(): # Loop over both: the dictionary keys and values\n",
        "  print(f\"{key} has the price {value}\")\n",
        "\n",
        "# More human-readable variable names could be:\n",
        "\n",
        "# for ticker, stock_price in current_stock_prices.items():\n",
        "#   print(f\"{ticker} has the price {stock_price}\")"
      ],
      "metadata": {
        "id": "LFV7chXeoLLt"
      },
      "execution_count": null,
      "outputs": []
    },
    {
      "cell_type": "markdown",
      "source": [
        "Here you can learn more about for loops: https://www.geeksforgeeks.org/python-for-loops/"
      ],
      "metadata": {
        "id": "YqGtIPXO9C_o"
      }
    },
    {
      "cell_type": "markdown",
      "source": [
        "**Quick exercise**\n",
        "\n",
        "Iterate over the list\n",
        "`[\"AAPL\", \"MSFT\", \"ABEA\", \"MMM\", \"ABC\", \"UPS\", \"CAR\"]`.\n",
        "\n",
        "Every second element (i.e. every even index), print the current index and the current company.\n"
      ],
      "metadata": {
        "id": "RFyoIorsfbq9"
      }
    },
    {
      "cell_type": "markdown",
      "source": [
        "### While Loops\n",
        "> When the set of items we want to iterate over is not known ex ante, we use a [`while`](https://www.geeksforgeeks.org/python-while-loop/?ref=lbp) loop. The while loop executes the code block as long as some condition is `True`\n",
        "\n",
        "While loops are less common than for loops. In most instances, a for loop is the better choice.\n",
        "You need to be careful not to end up in a `while True` loop! That might crash your computer.\n",
        "\n",
        "**Example use case:**\n",
        "\n",
        "> You want to download data from a website. The website only allows you to go to the \"next page\" and does not provide information on how many pages there are.\n",
        "\n",
        "The while loop is structured as follows:\n",
        "- First we declare a while loop with the keyword (`while`)\n",
        "- Then follows some condition. The iteration continues until the condition is `False` (`while condition:`)\n",
        "- Then follows the code block"
      ],
      "metadata": {
        "id": "uKfR7CtODgY9"
      }
    },
    {
      "cell_type": "code",
      "source": [
        "x = 1.001\n",
        "i = 0\n",
        "\n",
        "while x < 1.1: # While loop that executes until x >= 1.1\n",
        "  i = i + 1 # This is just for keeping track of the iterations\n",
        "  x += 0.05 # This is the \"main calculation\"\n",
        "  print(x)\n",
        "\n",
        "print(f\"the iteration took {i} steps\")"
      ],
      "metadata": {
        "id": "2ltAfCNCFujo"
      },
      "execution_count": null,
      "outputs": []
    },
    {
      "cell_type": "markdown",
      "source": [
        "You can find more on while loops here: https://www.geeksforgeeks.org/python-while-loop/?ref=lbp"
      ],
      "metadata": {
        "id": "bUrBpTMgRDa2"
      }
    },
    {
      "cell_type": "markdown",
      "source": [
        "## List comprehensions\n",
        "List comprehensions are shortcuts for certain types of frequently used loop statements on Lists, Tuples and Dictionaries.\n",
        "\n",
        "The structure is as follows, example for a `list`:\n",
        "- We use parentheses/brackets depending on the type of container: `[`\n",
        "- Inside the parentheses/brackets you first write the code that is executed for each element `[element+1`\n",
        "- Then you write for and the iterable object `[element+1 for i in iterable]`\n",
        "\n",
        "For example, if we want to square each number from a list, we could use a for statement:"
      ],
      "metadata": {
        "id": "HQdjymUMGrVU"
      }
    },
    {
      "cell_type": "code",
      "source": [
        "numbers = range(5) # the numbers we want (this is 0,1,2,3,4)\n",
        "squared_numbers = [] # empty list which we will fill with the squared numbers\n",
        "\n",
        "for i in numbers:\n",
        "  squared_numbers.append(i**2) # add the squared numbers to the list\n",
        "\n",
        "print(squared_numbers)"
      ],
      "metadata": {
        "id": "WcqW6k_XHEVO"
      },
      "execution_count": null,
      "outputs": []
    },
    {
      "cell_type": "markdown",
      "source": [
        "As we see, this is somewhat complicated. We need an empty list, a loop to fill the empty list and the `append()` function.\n",
        "\n",
        "Instead, we can write a list comprehension:"
      ],
      "metadata": {
        "id": "y6CbFbxbIZvc"
      }
    },
    {
      "cell_type": "code",
      "source": [
        "squared_numbers = [i**2 for i in numbers] # List comprehension variant of the above code cell\n",
        "print(squared_numbers)"
      ],
      "metadata": {
        "id": "VKM-Jj4iIkgH"
      },
      "execution_count": null,
      "outputs": []
    },
    {
      "cell_type": "markdown",
      "source": [
        "The list comprehension automatically creates a `list`, `tuple` or `dict`  using a for loop. You can use parentheses (`tuple`), square brackets (`list`) or curly braces (`dict`)."
      ],
      "metadata": {
        "id": "nOIG4spHIqpA"
      }
    },
    {
      "cell_type": "markdown",
      "source": [
        "Example with a `dict`:"
      ],
      "metadata": {
        "id": "EBE8_R1-JSRb"
      }
    },
    {
      "cell_type": "code",
      "source": [
        "{f\"Number {i}\": i**2 for i in numbers} # Dictionary comprehension"
      ],
      "metadata": {
        "id": "0U6CS6enJP-U"
      },
      "execution_count": null,
      "outputs": []
    },
    {
      "cell_type": "markdown",
      "source": [
        "**Quick exercise**\n",
        "\n",
        "Run the same list comprehension as above, but only for odd numbers. Drop even numbers.\n",
        "Hint: You can use an if statement within the square brackets after the for loop.\n",
        "\n",
        "Check [this link](https://www.geeksforgeeks.org/python-list-comprehension-using-if-else/) for examples."
      ],
      "metadata": {
        "id": "HkB-3w_34StX"
      }
    },
    {
      "cell_type": "markdown",
      "source": [
        "## Exception Handling\n",
        "Sometimes, we run into errors. So far we have seen only the standard error messages and our code stopped.\n",
        "\n",
        "**Example use case:**\n",
        "\n",
        "> Let's imagine you are loading many Excel files from your computer and merging them. Unfortunately, some of them are encrypted and you cannot read them without a password. Of course, you don't want to check every single one manually before running your code, so you can use error handling to handle the error that the code will produce.\n",
        "\n",
        "\n",
        "\n",
        "Using the `try` and `except` keywords allows us to do so.\n",
        "- Python first will try to execute the (indented) code block of the try statement\n",
        "- If in that code block there is an error of the type we specify, Python will execute the (indented) exception code.\n",
        "- If you do not specify a specific error (`except:`), Python will catch *all errors*. **This is not recommended** and can hide issues or crash your computer!\n",
        "\n",
        "If we for example do not know if a variable is a string but use it in a computation, we can write:"
      ],
      "metadata": {
        "id": "c_zT9W13Supy"
      }
    },
    {
      "cell_type": "code",
      "source": [
        "x = \"string 1\"\n",
        "try:\n",
        "  print(x + 1) # String plus int does not work (TypeError)\n",
        "except TypeError:\n",
        "  print(\"x is not a number\")\n",
        "\n",
        "print(x) # After the error occurred, the code execution will continue"
      ],
      "metadata": {
        "id": "hofAplsGTXOd"
      },
      "execution_count": null,
      "outputs": []
    },
    {
      "cell_type": "markdown",
      "source": [
        "A few important notes on this:\n",
        "\n",
        "- If you want to specify the error, but you don't know the type, just run your code. When it crashes, it will show the error type in the error message (`NameError` in this case):\n",
        "  ```python\n",
        "  undefined_variable + 1\n",
        "  > NameError: name 'undefined_variable' is not defined\n",
        "  ```\n",
        "- When you interrupt your code, a `KeyboardInterrupt` is raised. Thus, if you start a very long-running process and you want to interrupt it, you need to handle the `KeyboardInterrupt`. Otherwise, (if you catch all errors by using `except:`) you are not able to interrupt your code and need to restart Python!\n",
        "- Recommendation:\n",
        "  ```python\n",
        "  # Recommendation\n",
        "  try:\n",
        "    ...your code...\n",
        "  except KeyboardInterrupt:\n",
        "    raise # This will make sure the code stops when you want to manually stop it\n",
        "  except Exception as e:\n",
        "    print(f\"An Exception of type {type(e)} has occured\")\n",
        "  finally:\n",
        "    # This is always executed, whether the code succeeds or fails\n",
        "    ...save your work...\n",
        "  ```\n"
      ],
      "metadata": {
        "id": "AjhZROowp-U7"
      }
    },
    {
      "cell_type": "markdown",
      "source": [
        "Note that the code after the error is still executed in that case. More on exception handling: https://www.geeksforgeeks.org/python-exception-handling/?ref=lbp"
      ],
      "metadata": {
        "id": "1OSkpfabTr7r"
      }
    },
    {
      "cell_type": "markdown",
      "source": [
        "\n",
        "\n",
        "---\n",
        "\n"
      ],
      "metadata": {
        "id": "IuKeKFlKOl7X"
      }
    },
    {
      "cell_type": "markdown",
      "source": [
        "## Exercises"
      ],
      "metadata": {
        "id": "x5gwawCNOX1M"
      }
    },
    {
      "cell_type": "markdown",
      "source": [
        "### Exercise 1: Loops\n"
      ],
      "metadata": {
        "id": "3y2IQ6xLOgSl"
      }
    },
    {
      "cell_type": "markdown",
      "source": [
        "(a) Approximate Euler's number. \\\\\n",
        "Euler's number is defined as\n",
        "$$e = \\lim_{n\\to\\infty} \\left(1+\\frac{1}{n}\\right)^n$$ \\\\\n",
        "Create a sequence of the approximations to $e$ for $n=10,20,30,\\dots,100$\n",
        "    using a for loop.\n"
      ],
      "metadata": {
        "id": "YGL4fnp_OvZm"
      }
    },
    {
      "cell_type": "markdown",
      "source": [
        "(b) Write a loop that extracts each stock ticker from this list which starts with an A or B.\n",
        "- First, use a written out loop\n",
        "- Second, use a list comprehension"
      ],
      "metadata": {
        "id": "JaZIdGUfQZTq"
      }
    },
    {
      "cell_type": "code",
      "source": [
        "ticker_list = [\"AAPL\", \"ABEA\", \"XYZ\", \"MST\", \"BABL\", \"AMZN\", \"SPY\"]"
      ],
      "metadata": {
        "id": "rYWsMu7iQjVI"
      },
      "execution_count": null,
      "outputs": []
    },
    {
      "cell_type": "markdown",
      "source": [
        "### Exercise 2: List comprehensions"
      ],
      "metadata": {
        "id": "yXbpFrBlOsEV"
      }
    },
    {
      "cell_type": "markdown",
      "source": [
        "(a) Similar to exercise 1 (a), approximate Euler's number, but this time store each approximation in a list using list comprehensions"
      ],
      "metadata": {
        "id": "plIB699SPlPN"
      }
    },
    {
      "cell_type": "markdown",
      "source": [
        "### Exercise 3: Exception handling\n",
        "\n",
        "See the provided code below. Just accept it as given and know that it will take 15 seconds to run.\n",
        "\n",
        "Modify the code so that:\n",
        "- The `ValueError` is handled by printing. `Error in iteration <iteration number>`\n",
        "- You can interrupt the code by pressing the stop button. The loop should be stopped by the `break` keyword and no error should be raised.\n",
        "- Each iteration, regardless of whether an error occured or not, we want to save our work. Thus, we `+1` the `saved_work` variable."
      ],
      "metadata": {
        "id": "RtDPrYiS6E53"
      }
    },
    {
      "cell_type": "code",
      "source": [
        "from tqdm import trange # For the progress bar\n",
        "from time import sleep # To simulate a long-running task\n",
        "\n",
        "saved_work = 0\n",
        "\n",
        "for i, val in enumerate(trange(15)):\n",
        "\n",
        "  # This is your task here\n",
        "  # <task start>\n",
        "  sleep(1) # Wait 1 second\n",
        "  if i > 0 and i % 4 == 0:\n",
        "    raise ValueError(\"I'm an error\")\n",
        "  # <task end>\n",
        "\n",
        "print(f\"Work saved {saved_work} times.\")"
      ],
      "metadata": {
        "id": "7SYPBOV36Usv"
      },
      "execution_count": null,
      "outputs": []
    },
    {
      "cell_type": "code",
      "source": [],
      "metadata": {
        "id": "jRS56Tav9NgJ"
      },
      "execution_count": null,
      "outputs": []
    }
  ]
}