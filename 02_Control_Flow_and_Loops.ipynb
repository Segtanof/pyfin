{
 "cells": [
  {
   "cell_type": "markdown",
   "metadata": {
    "colab_type": "text",
    "id": "view-in-github"
   },
   "source": [
    "<a href=\"https://colab.research.google.com/github/Segtanof/pyfin/blob/main/02_Control_Flow_and_Loops.ipynb\" target=\"_parent\"><img src=\"https://colab.research.google.com/assets/colab-badge.svg\" alt=\"Open In Colab\"/></a>"
   ]
  },
  {
   "cell_type": "markdown",
   "metadata": {
    "id": "EIJo66tfwnbe"
   },
   "source": [
    "# Control Flow and Loops\n",
    "In this part of the course we deal with the role of indentation, if/else statements, loops, list comprehensions and error handling."
   ]
  },
  {
   "cell_type": "markdown",
   "metadata": {
    "id": "4_7tHJ84xnMy"
   },
   "source": [
    "## If/else statements\n",
    "> An `if` statement executes code if some condition is met.\n",
    "\n",
    "To write an if statement, we use the keyword `if` followed by a condition and a colon (i.e. `if condition:`). This is followed by a code block that has **indentation**. Indentation here means one tab or two empty spaces. This is the code that will be executed only if the condition is met."
   ]
  },
  {
   "cell_type": "code",
   "execution_count": 1,
   "metadata": {
    "colab": {
     "base_uri": "https://localhost:8080/"
    },
    "id": "5cNMXOuEwNob",
    "outputId": "cf0ea877-a416-4f28-c544-9fcb098c8e35"
   },
   "outputs": [
    {
     "name": "stdout",
     "output_type": "stream",
     "text": [
      "The stock had a positive return\n"
     ]
    }
   ],
   "source": [
    "stock_return = 0.1\n",
    "if stock_return > 0:\n",
    "  print(\"The stock had a positive return\")"
   ]
  },
  {
   "cell_type": "markdown",
   "metadata": {
    "id": "B_gEtmkmyfxt"
   },
   "source": [
    "\n",
    "If we do not have an indented code block after the if statement, we will get an `IndentationError`:"
   ]
  },
  {
   "cell_type": "code",
   "execution_count": 2,
   "metadata": {
    "id": "cnZNp38Wy0Pn"
   },
   "outputs": [],
   "source": [
    "if stock_return < 0:\n",
    "  print(\"The stock had a negative return\")"
   ]
  },
  {
   "cell_type": "markdown",
   "metadata": {
    "id": "Wv6fDVq4z0G7"
   },
   "source": [
    "If we wish to have multiple possible options, we can add else if (`elif`) block(s). The code in the else if statement will only be executed if two conditions are met\n",
    "- There was no previously executed code block in the current `if` statement\n",
    "- The condition of the `elif` is `True`"
   ]
  },
  {
   "cell_type": "code",
   "execution_count": 5,
   "metadata": {
    "id": "9NStHanQ0AoK"
   },
   "outputs": [
    {
     "name": "stdout",
     "output_type": "stream",
     "text": [
      "The stock had a negative return\n"
     ]
    }
   ],
   "source": [
    "stock_return = -2\n",
    "if stock_return > 0:\n",
    "  print(\"The stock had a positive return\")\n",
    "elif stock_return < 0:\n",
    "  print(\"The stock had a negative return\")"
   ]
  },
  {
   "cell_type": "markdown",
   "metadata": {
    "id": "JaMHn5cH0jSj"
   },
   "source": [
    "So to summarize, if we have two true conditions in one `if` statement, only the first is executed:"
   ]
  },
  {
   "cell_type": "code",
   "execution_count": 6,
   "metadata": {
    "id": "0U3DQ0op0O7R"
   },
   "outputs": [
    {
     "name": "stdout",
     "output_type": "stream",
     "text": [
      "First\n"
     ]
    }
   ],
   "source": [
    "if True:\n",
    "  print(\"First\")\n",
    "elif True:\n",
    "  print(\"Second\") # Not executed since a previous code block is executed (if True)"
   ]
  },
  {
   "cell_type": "markdown",
   "metadata": {
    "id": "IjllrB6Z0wNL"
   },
   "source": [
    "Finally, we can use an `else` at the end of our `if` statement to write a code block that is only executed if no other code block in the current if statement was executed:"
   ]
  },
  {
   "cell_type": "code",
   "execution_count": 7,
   "metadata": {
    "id": "h_Ko2ROf0707"
   },
   "outputs": [
    {
     "name": "stdout",
     "output_type": "stream",
     "text": [
      "The stock had a return of zero\n"
     ]
    }
   ],
   "source": [
    "stock_return = 0\n",
    "if stock_return > 0:\n",
    "  print(\"The stock had a positive return\")\n",
    "elif stock_return < 0:\n",
    "  print(\"The stock had a negative return\")\n",
    "else:\n",
    "  print(\"The stock had a return of zero\")"
   ]
  },
  {
   "cell_type": "markdown",
   "metadata": {
    "id": "yhNJObnO2-Pj"
   },
   "source": [
    "We can of course include a computation inside the condition, for example to check if a number is even or odd:"
   ]
  },
  {
   "cell_type": "code",
   "execution_count": 12,
   "metadata": {
    "id": "iuXodl722_oc"
   },
   "outputs": [
    {
     "name": "stdout",
     "output_type": "stream",
     "text": [
      "The variable is odd\n"
     ]
    }
   ],
   "source": [
    "x = 1\n",
    "if x % 2 == 0:\n",
    "  print(\"The variable is even\")\n",
    "elif x % 2 == 1:\n",
    "  print(\"The variable is odd\")"
   ]
  },
  {
   "cell_type": "markdown",
   "metadata": {
    "id": "j8zXT5SNQy0R"
   },
   "source": [
    "You can find more on if/else statements here: https://www.geeksforgeeks.org/python-if-else/"
   ]
  },
  {
   "cell_type": "markdown",
   "metadata": {
    "id": "ePAmZ_lRPoXg"
   },
   "source": [
    "**Quick exercise**\n",
    "\n",
    "Write an if statement that checks whether the length of the string \"hello, how are you?\" is longer than 5 characters. `print` \"this is a long string\". Else, `print` \"this is a short string\"."
   ]
  },
  {
   "cell_type": "code",
   "execution_count": 13,
   "metadata": {},
   "outputs": [
    {
     "name": "stdout",
     "output_type": "stream",
     "text": [
      "this is a long string\n"
     ]
    }
   ],
   "source": [
    "sen = \"hello, how are you?\"\n",
    "\n",
    "if len(sen) > 5:\n",
    "    print(\"this is a long string\")\n",
    "else:\n",
    "    print(\"this is a short string\")"
   ]
  },
  {
   "cell_type": "markdown",
   "metadata": {
    "id": "14cqIZ263UZX"
   },
   "source": [
    "## Loops"
   ]
  },
  {
   "cell_type": "markdown",
   "metadata": {
    "id": "R7p4aEwYDmLC"
   },
   "source": [
    "\n",
    "### For Loops\n",
    "When programming, we often want to iterate over several elements.\n",
    "\n",
    "**Example use case:**\n",
    "\n",
    "> You have many companies in your dataset and you want to download all of their SEC filings.\n",
    "\n",
    "\n",
    "If we have specific elements we want to iterate over, the `for` loop is the most appropriate choice. The syntax is as follows:\n",
    "- We use the *fixed* keyword (`for`)\n",
    "- Then we *come up with* a name for the (individual) element in the iterable (`for i`)\n",
    "- Then we use the *fixed* keyword `in` (`for i in`)\n",
    "- Then we specify the object we iterate over (`for i in iterable_object`)\n",
    "- We close with a colon `:`\n",
    "- In the next line, indented, the code block that will be executed for each of the elements in the object we iterate over"
   ]
  },
  {
   "cell_type": "code",
   "execution_count": 14,
   "metadata": {
    "id": "rDoO1jBF5N9e"
   },
   "outputs": [
    {
     "name": "stdout",
     "output_type": "stream",
     "text": [
      "0\n",
      "1\n",
      "2\n"
     ]
    }
   ],
   "source": [
    "for i in (0,1,2):\n",
    "  print(i)"
   ]
  },
  {
   "cell_type": "markdown",
   "metadata": {
    "id": "3TdASUVbjh0M"
   },
   "source": [
    "This is equivalent to writing the following, but much less cumbersome to program, understand and maintain:"
   ]
  },
  {
   "cell_type": "code",
   "execution_count": 15,
   "metadata": {
    "id": "6hr4qmYnjiFg"
   },
   "outputs": [
    {
     "name": "stdout",
     "output_type": "stream",
     "text": [
      "0\n",
      "1\n",
      "2\n"
     ]
    }
   ],
   "source": [
    "i = 0\n",
    "print(i)\n",
    "\n",
    "i = 1\n",
    "print(i)\n",
    "\n",
    "i = 2\n",
    "print(i)"
   ]
  },
  {
   "cell_type": "markdown",
   "metadata": {
    "id": "NddWj22J6J62"
   },
   "source": [
    "Often we want to perform something N times. Instead of typing out the list, we use the `range()` function. It simply counts to the value you pass it minus one (starting from zero):"
   ]
  },
  {
   "cell_type": "code",
   "execution_count": 16,
   "metadata": {
    "id": "MHk2a5ZQ6eUv"
   },
   "outputs": [
    {
     "name": "stdout",
     "output_type": "stream",
     "text": [
      "0\n",
      "1\n",
      "2\n"
     ]
    }
   ],
   "source": [
    "for i in range(3):\n",
    "  print(i)"
   ]
  },
  {
   "cell_type": "markdown",
   "metadata": {
    "id": "7aDYjwqs5JJg"
   },
   "source": [
    "The for loop in Python allows to iterate over all types of data, not just integers.\n",
    "`for` also works with lists, for example:"
   ]
  },
  {
   "cell_type": "code",
   "execution_count": 17,
   "metadata": {
    "id": "VMptl9gd61el"
   },
   "outputs": [
    {
     "name": "stdout",
     "output_type": "stream",
     "text": [
      "AAPL\n",
      "MSFT\n",
      "ABEA\n"
     ]
    }
   ],
   "source": [
    "stock_tickers = [\"AAPL\", \"MSFT\", \"ABEA\"]\n",
    "\n",
    "for i in stock_tickers:\n",
    "  print(i)\n",
    "\n",
    "# # NOT good\n",
    "# for i in range(3):\n",
    "#   print(stock_tickers[i])"
   ]
  },
  {
   "cell_type": "code",
   "execution_count": 18,
   "metadata": {},
   "outputs": [
    {
     "name": "stdout",
     "output_type": "stream",
     "text": [
      "AAPL\n",
      "MSFT\n",
      "ABEA\n"
     ]
    }
   ],
   "source": [
    "for i in range(3):\n",
    "   print(stock_tickers[i])"
   ]
  },
  {
   "cell_type": "code",
   "execution_count": 19,
   "metadata": {},
   "outputs": [
    {
     "name": "stdout",
     "output_type": "stream",
     "text": [
      "AAPL\n",
      "MSFT\n",
      "ABEA\n"
     ]
    }
   ],
   "source": [
    "for i in stock_tickers:\n",
    "    print(i)"
   ]
  },
  {
   "cell_type": "markdown",
   "metadata": {
    "id": "dB0SojA-hs5x"
   },
   "source": [
    "The element name `i` is typically used for integer indices and not for other things. In Python it is more common to assign a more human-readable variable name. For example:"
   ]
  },
  {
   "cell_type": "code",
   "execution_count": 20,
   "metadata": {
    "id": "Ib1ibNVjhtOB"
   },
   "outputs": [
    {
     "name": "stdout",
     "output_type": "stream",
     "text": [
      "AAPL\n",
      "MSFT\n",
      "ABEA\n"
     ]
    }
   ],
   "source": [
    "stock_tickers = [\"AAPL\", \"MSFT\", \"ABEA\"]\n",
    "\n",
    "for ticker in stock_tickers:\n",
    "  print(ticker)"
   ]
  },
  {
   "cell_type": "markdown",
   "metadata": {
    "id": "MnjcFd6S7XIq"
   },
   "source": [
    "We can also terminate a loop using the `break` keyword. This is often done in combination with `if` statements:"
   ]
  },
  {
   "cell_type": "code",
   "execution_count": 21,
   "metadata": {
    "id": "wqF9WwGm7ooZ"
   },
   "outputs": [
    {
     "name": "stdout",
     "output_type": "stream",
     "text": [
      "AAPL\n",
      "MSFT\n",
      "Found ticker MSFT\n"
     ]
    }
   ],
   "source": [
    "stock_tickers = [\"AAPL\", \"MSFT\", \"ABEA\"]\n",
    "\n",
    "for ticker in stock_tickers:\n",
    "  print(ticker)\n",
    "  if ticker == \"MSFT\": # Checking if we are at MSFT\n",
    "    print(\"Found ticker MSFT\")\n",
    "    break # stop the loop when MSFT is reached"
   ]
  },
  {
   "cell_type": "markdown",
   "metadata": {
    "id": "G3XU-1yM0C_A"
   },
   "source": [
    "Note that, in the previous code, we do not see the \"ABEA\" printed, since the execution was halted as soon as MSFT is reached. Also note that we need **two indentations** in the if statement (one for the loop and one for the if statement code itself)"
   ]
  },
  {
   "cell_type": "markdown",
   "metadata": {
    "id": "GssVp99q0IgB"
   },
   "source": [
    "In some cases, we want to `continue` with our loop and not execute the rest of the code block. This often happens to skip elements we already processed."
   ]
  },
  {
   "cell_type": "code",
   "execution_count": 22,
   "metadata": {
    "id": "C9dB08KJ0CrM"
   },
   "outputs": [
    {
     "name": "stdout",
     "output_type": "stream",
     "text": [
      "AAPL\n",
      "MSFT already done\n",
      "ABEA\n"
     ]
    }
   ],
   "source": [
    "stock_tickers = [\"AAPL\", \"MSFT\", \"ABEA\"]\n",
    "already_done = [\"MSFT\"]\n",
    "\n",
    "for ticker in stock_tickers:\n",
    "  if ticker in already_done: # Checking if we already processed the ticker (hypothetically)\n",
    "    print(f\"{ticker} already done\")\n",
    "    continue\n",
    "  print(ticker)"
   ]
  },
  {
   "cell_type": "markdown",
   "metadata": {
    "id": "BIR8MOq17zBU"
   },
   "source": [
    "\n",
    "Oftentimes, we want to iterate over a list of items and\n",
    "at the same time keep track of an item's index. We can\n",
    "do this elegantly using the `enumerate()` function and specifying two variable names in the for: `for index, value in enumerate(...)`:"
   ]
  },
  {
   "cell_type": "code",
   "execution_count": 27,
   "metadata": {
    "id": "GOxYWJfE8L16"
   },
   "outputs": [
    {
     "name": "stdout",
     "output_type": "stream",
     "text": [
      "Stock 0 has the ticker AAPL\n",
      "Stock 1 has the ticker MSFT\n",
      "Stock 2 has the ticker ABEA\n"
     ]
    }
   ],
   "source": [
    "stock_tickers = [\"AAPL\", \"MSFT\", \"ABEA\"]\n",
    "\n",
    "for i, ticker in enumerate(stock_tickers):\n",
    "  print(f\"Stock {i} has the ticker {ticker}\")\n",
    "\n"
   ]
  },
  {
   "cell_type": "code",
   "execution_count": null,
   "metadata": {},
   "outputs": [
    {
     "ename": "NameError",
     "evalue": "name 'g' is not defined",
     "output_type": "error",
     "traceback": [
      "\u001b[1;31m---------------------------------------------------------------------------\u001b[0m",
      "\u001b[1;31mNameError\u001b[0m                                 Traceback (most recent call last)",
      "Cell \u001b[1;32mIn[24], line 1\u001b[0m\n\u001b[1;32m----> 1\u001b[0m i, \u001b[38;5;124m\"\u001b[39m\u001b[38;5;124mgg\u001b[39m\u001b[38;5;124m\"\u001b[39m \u001b[38;5;129;01min\u001b[39;00m \u001b[38;5;28menumerate\u001b[39m(\u001b[43mg\u001b[49m)\n",
      "\u001b[1;31mNameError\u001b[0m: name 'g' is not defined"
     ]
    }
   ],
   "source": []
  },
  {
   "cell_type": "markdown",
   "metadata": {
    "id": "J3rmwdpELrPG"
   },
   "source": [
    "We can also put a loop inside a loop. This is called a **nested loop**\n",
    "\n",
    "For example to loop over strings inside a list:"
   ]
  },
  {
   "cell_type": "code",
   "execution_count": 28,
   "metadata": {
    "id": "7iUeBf8iNdUO"
   },
   "outputs": [
    {
     "name": "stdout",
     "output_type": "stream",
     "text": [
      "1\n",
      "2\n",
      "3\n"
     ]
    }
   ],
   "source": [
    "strings = [\"xxxx1\", \"x2xxxx\", \"xx3x\"] # List of strings that contain integers\n",
    "\n",
    "for string in strings: # Loop over each string in the list\n",
    "  for character in string: # Loop over each letter in the string\n",
    "    if character != \"x\": # If the letter is not an x, print it\n",
    "      print(character)"
   ]
  },
  {
   "cell_type": "markdown",
   "metadata": {
    "id": "rXtllG3koGMk"
   },
   "source": [
    "So far, we have been looping over lists. We can also loop over dictionaries by using the `.items()` method. Because dictionaries have both `keys` and `values`, the `.items()` method will return two values. The first value is the `key` and the second value is the `value`."
   ]
  },
  {
   "cell_type": "code",
   "execution_count": 29,
   "metadata": {
    "id": "LFV7chXeoLLt"
   },
   "outputs": [
    {
     "name": "stdout",
     "output_type": "stream",
     "text": [
      "AAPL has the price 102.32\n",
      "MSFT has the price 84.58\n",
      "AAPL has the price 102.32\n",
      "MSFT has the price 84.58\n"
     ]
    }
   ],
   "source": [
    "current_stock_prices = {'AAPL': 102.32, 'MSFT': 84.58} # Create a dictionary\n",
    "\n",
    "for key, value in current_stock_prices.items(): # Loop over both: the dictionary keys and values\n",
    "  print(f\"{key} has the price {value}\")\n",
    "\n",
    "# More human-readable variable names could be:\n",
    "\n",
    "for ticker, stock_price in current_stock_prices.items():\n",
    "   print(f\"{ticker} has the price {stock_price}\")"
   ]
  },
  {
   "cell_type": "markdown",
   "metadata": {
    "id": "YqGtIPXO9C_o"
   },
   "source": [
    "Here you can learn more about for loops: https://www.geeksforgeeks.org/python-for-loops/"
   ]
  },
  {
   "cell_type": "markdown",
   "metadata": {
    "id": "RFyoIorsfbq9"
   },
   "source": [
    "**Quick exercise**\n",
    "\n",
    "Iterate over the list\n",
    "`[\"AAPL\", \"MSFT\", \"ABEA\", \"MMM\", \"ABC\", \"UPS\", \"CAR\"]`.\n",
    "\n",
    "Every second element (i.e. every even index), print the current index and the current company.\n"
   ]
  },
  {
   "cell_type": "code",
   "execution_count": 42,
   "metadata": {},
   "outputs": [
    {
     "name": "stdout",
     "output_type": "stream",
     "text": [
      "1 MSFT\n",
      "3 MMM\n",
      "5 UPS\n"
     ]
    }
   ],
   "source": [
    "ticker = [\"AAPL\", \"MSFT\", \"ABEA\", \"MMM\", \"ABC\", \"UPS\", \"CAR\"]\n",
    "i = 1\n",
    "\n",
    "for index, ticker in enumerate(ticker):\n",
    "    if index % 2 == 1 and index != 0:\n",
    "        print(index, ticker)\n"
   ]
  },
  {
   "cell_type": "markdown",
   "metadata": {
    "id": "uKfR7CtODgY9"
   },
   "source": [
    "### While Loops\n",
    "> When the set of items we want to iterate over is not known ex ante, we use a [`while`](https://www.geeksforgeeks.org/python-while-loop/?ref=lbp) loop. The while loop executes the code block as long as some condition is `True`\n",
    "\n",
    "While loops are less common than for loops. In most instances, a for loop is the better choice.\n",
    "You need to be careful not to end up in a `while True` loop! That might crash your computer.\n",
    "\n",
    "**Example use case:**\n",
    "\n",
    "> You want to download data from a website. The website only allows you to go to the \"next page\" and does not provide information on how many pages there are.\n",
    "\n",
    "The while loop is structured as follows:\n",
    "- First we declare a while loop with the keyword (`while`)\n",
    "- Then follows some condition. The iteration continues until the condition is `False` (`while condition:`)\n",
    "- Then follows the code block"
   ]
  },
  {
   "cell_type": "code",
   "execution_count": 33,
   "metadata": {
    "id": "2ltAfCNCFujo"
   },
   "outputs": [
    {
     "name": "stdout",
     "output_type": "stream",
     "text": [
      "1.051\n",
      "1.101\n",
      "the iteration took 2 steps\n"
     ]
    }
   ],
   "source": [
    "x = 1.001\n",
    "i = 0\n",
    "\n",
    "while x < 1.1: # While loop that executes until x >= 1.1\n",
    "  i = i + 1 # This is just for keeping track of the iterations\n",
    "  x += 0.05 # This is the \"main calculation\"\n",
    "  print(x)\n",
    "\n",
    "print(f\"the iteration took {i} steps\")"
   ]
  },
  {
   "cell_type": "code",
   "execution_count": 38,
   "metadata": {},
   "outputs": [
    {
     "name": "stdout",
     "output_type": "stream",
     "text": [
      "0.3\n",
      "0.35\n",
      "0.39999999999999997\n",
      "0.44999999999999996\n",
      "0.49999999999999994\n",
      "0.5499999999999999\n",
      "0.6\n",
      "0.65\n",
      "0.7000000000000001\n",
      "0.7500000000000001\n",
      "0.8000000000000002\n",
      "0.8500000000000002\n",
      "0.9000000000000002\n",
      "0.9500000000000003\n",
      "1.0000000000000002\n",
      "1.0500000000000003\n",
      "1.1000000000000003\n",
      "1.1500000000000004\n",
      "1.2000000000000004\n",
      "1.2500000000000004\n",
      "1.3000000000000005\n",
      "1.3500000000000005\n",
      "1.4000000000000006\n",
      "1.4500000000000006\n",
      "1.5000000000000007\n",
      "1.5500000000000007\n",
      "1.6000000000000008\n",
      "1.6500000000000008\n",
      "1.7000000000000008\n",
      "1.7500000000000009\n",
      "1.800000000000001\n",
      "1.850000000000001\n",
      "1.900000000000001\n",
      "1.950000000000001\n",
      "2.000000000000001\n",
      "2.0500000000000007\n",
      "2.1000000000000005\n",
      "2.1500000000000004\n",
      "2.2\n",
      "2.25\n",
      "2.3\n",
      "2.3499999999999996\n",
      "2.3999999999999995\n",
      "2.4499999999999993\n",
      "2.499999999999999\n",
      "2.549999999999999\n",
      "2.5999999999999988\n",
      "2.6499999999999986\n",
      "2.6999999999999984\n",
      "2.7499999999999982\n",
      "2.799999999999998\n",
      "this iteration took 51 steps\n"
     ]
    }
   ],
   "source": [
    "x = 0.3\n",
    "i = 0\n",
    "add = 0.05\n",
    "\n",
    "while x < 2.8:\n",
    "    print(x)\n",
    "    x += add\n",
    "    i = i + 1\n",
    "\n",
    "print(f\"this iteration took {i} steps\")"
   ]
  },
  {
   "cell_type": "markdown",
   "metadata": {
    "id": "bUrBpTMgRDa2"
   },
   "source": [
    "You can find more on while loops here: https://www.geeksforgeeks.org/python-while-loop/?ref=lbp"
   ]
  },
  {
   "cell_type": "markdown",
   "metadata": {
    "id": "HQdjymUMGrVU"
   },
   "source": [
    "## List comprehensions\n",
    "List comprehensions are shortcuts for certain types of frequently used loop statements on Lists, Tuples and Dictionaries.\n",
    "\n",
    "The structure is as follows, example for a `list`:\n",
    "- We use parentheses/brackets depending on the type of container: `[`\n",
    "- Inside the parentheses/brackets you first write the code that is executed for each element `[element+1`\n",
    "- Then you write for and the iterable object `[element+1 for i in iterable]`\n",
    "\n",
    "For example, if we want to square each number from a list, we could use a for statement:"
   ]
  },
  {
   "cell_type": "code",
   "execution_count": 53,
   "metadata": {
    "id": "WcqW6k_XHEVO"
   },
   "outputs": [
    {
     "name": "stdout",
     "output_type": "stream",
     "text": [
      "[0, 1, 4, 9, 16, 25, 36]\n"
     ]
    }
   ],
   "source": [
    "numbers = range(7) # the numbers we want (this is 0,1,2,3,4)\n",
    "squared_numbers = [] # empty list which we will fill with the squared numbers\n",
    "\n",
    "for i in numbers:\n",
    "  squared_numbers.append(i**2) # add the squared numbers to the list\n",
    "\n",
    "print(squared_numbers)"
   ]
  },
  {
   "cell_type": "markdown",
   "metadata": {
    "id": "y6CbFbxbIZvc"
   },
   "source": [
    "As we see, this is somewhat complicated. We need an empty list, a loop to fill the empty list and the `append()` function.\n",
    "\n",
    "Instead, we can write a list comprehension:"
   ]
  },
  {
   "cell_type": "code",
   "execution_count": 44,
   "metadata": {
    "id": "VKM-Jj4iIkgH"
   },
   "outputs": [
    {
     "name": "stdout",
     "output_type": "stream",
     "text": [
      "[0, 1, 4, 9, 16]\n"
     ]
    }
   ],
   "source": [
    "squared_numbers = [i**2 for i in numbers] # List comprehension variant of the above code cell\n",
    "print(squared_numbers)"
   ]
  },
  {
   "cell_type": "code",
   "execution_count": 50,
   "metadata": {},
   "outputs": [
    {
     "name": "stdout",
     "output_type": "stream",
     "text": [
      "[0, 1, 4, 9, 16]\n"
     ]
    }
   ],
   "source": [
    "sq_no = list(i ** 2 for i in numbers)\n",
    "print(sq_no)"
   ]
  },
  {
   "cell_type": "markdown",
   "metadata": {
    "id": "nOIG4spHIqpA"
   },
   "source": [
    "The list comprehension automatically creates a `list`, `tuple` or `dict`  using a for loop. You can use parentheses (`tuple`), square brackets (`list`) or curly braces (`dict`)."
   ]
  },
  {
   "cell_type": "markdown",
   "metadata": {
    "id": "EBE8_R1-JSRb"
   },
   "source": [
    "Example with a `dict`:"
   ]
  },
  {
   "cell_type": "code",
   "execution_count": 46,
   "metadata": {
    "id": "0U6CS6enJP-U"
   },
   "outputs": [
    {
     "data": {
      "text/plain": [
       "{'Number 0': 0, 'Number 1': 1, 'Number 2': 4, 'Number 3': 9, 'Number 4': 16}"
      ]
     },
     "execution_count": 46,
     "metadata": {},
     "output_type": "execute_result"
    }
   ],
   "source": [
    "{f\"Number {i}\": i**2 for i in numbers} # Dictionary comprehension"
   ]
  },
  {
   "cell_type": "code",
   "execution_count": 49,
   "metadata": {},
   "outputs": [
    {
     "name": "stdout",
     "output_type": "stream",
     "text": [
      "(0, 1, 4, 9, 16)\n"
     ]
    }
   ],
   "source": [
    "tutu = tuple(i**2 for i in numbers)\n",
    "print(tutu)"
   ]
  },
  {
   "cell_type": "markdown",
   "metadata": {
    "id": "HkB-3w_34StX"
   },
   "source": [
    "**Quick exercise**\n",
    "\n",
    "Run the same list comprehension as above, but only for odd numbers. Drop even numbers.\n",
    "Hint: You can use an if statement within the square brackets after the for loop.\n",
    "\n",
    "Check [this link](https://www.geeksforgeeks.org/python-list-comprehension-using-if-else/) for examples."
   ]
  },
  {
   "cell_type": "code",
   "execution_count": 54,
   "metadata": {},
   "outputs": [
    {
     "name": "stdout",
     "output_type": "stream",
     "text": [
      "[1, 9, 25]\n"
     ]
    }
   ],
   "source": [
    "l3 = [i ** 2 for i in numbers if (i != 0) and (i % 2 == 1) ]\n",
    "print(l3)"
   ]
  },
  {
   "cell_type": "markdown",
   "metadata": {
    "id": "c_zT9W13Supy"
   },
   "source": [
    "## Exception Handling\n",
    "Sometimes, we run into errors. So far we have seen only the standard error messages and our code stopped.\n",
    "\n",
    "**Example use case:**\n",
    "\n",
    "> Let's imagine you are loading many Excel files from your computer and merging them. Unfortunately, some of them are encrypted and you cannot read them without a password. Of course, you don't want to check every single one manually before running your code, so you can use error handling to handle the error that the code will produce.\n",
    "\n",
    "\n",
    "\n",
    "Using the `try` and `except` keywords allows us to do so.\n",
    "- Python first will try to execute the (indented) code block of the try statement\n",
    "- If in that code block there is an error of the type we specify, Python will execute the (indented) exception code.\n",
    "- If you do not specify a specific error (`except:`), Python will catch *all errors*. **This is not recommended** and can hide issues or crash your computer!\n",
    "\n",
    "If we for example do not know if a variable is a string but use it in a computation, we can write:"
   ]
  },
  {
   "cell_type": "code",
   "execution_count": 55,
   "metadata": {
    "id": "hofAplsGTXOd"
   },
   "outputs": [
    {
     "name": "stdout",
     "output_type": "stream",
     "text": [
      "x is not a number\n",
      "string 1\n"
     ]
    }
   ],
   "source": [
    "x = \"string 1\"\n",
    "try:\n",
    "  print(x + 1) # String plus int does not work (TypeError)\n",
    "except TypeError:\n",
    "  print(\"x is not a number\")\n",
    "\n",
    "print(x) # After the error occurred, the code execution will continue"
   ]
  },
  {
   "cell_type": "markdown",
   "metadata": {
    "id": "AjhZROowp-U7"
   },
   "source": [
    "A few important notes on this:\n",
    "\n",
    "- If you want to specify the error, but you don't know the type, just run your code. When it crashes, it will show the error type in the error message (`NameError` in this case):\n",
    "  ```python\n",
    "  undefined_variable + 1\n",
    "  > NameError: name 'undefined_variable' is not defined\n",
    "  ```\n",
    "- When you interrupt your code, a `KeyboardInterrupt` is raised. Thus, if you start a very long-running process and you want to interrupt it, you need to handle the `KeyboardInterrupt`. Otherwise, (if you catch all errors by using `except:`) you are not able to interrupt your code and need to restart Python!\n",
    "- Recommendation:\n",
    "  ```python\n",
    "  # Recommendation\n",
    "  try:\n",
    "    ...your code...\n",
    "  except KeyboardInterrupt:\n",
    "    raise # This will make sure the code stops when you want to manually stop it\n",
    "  except Exception as e:\n",
    "    print(f\"An Exception of type {type(e)} has occured\")\n",
    "  finally:\n",
    "    # This is always executed, whether the code succeeds or fails\n",
    "    ...save your work...\n",
    "  ```\n"
   ]
  },
  {
   "cell_type": "markdown",
   "metadata": {
    "id": "1OSkpfabTr7r"
   },
   "source": [
    "Note that the code after the error is still executed in that case. More on exception handling: https://www.geeksforgeeks.org/python-exception-handling/?ref=lbp"
   ]
  },
  {
   "cell_type": "markdown",
   "metadata": {
    "id": "IuKeKFlKOl7X"
   },
   "source": [
    "\n",
    "\n",
    "---\n",
    "\n"
   ]
  },
  {
   "cell_type": "markdown",
   "metadata": {
    "id": "x5gwawCNOX1M"
   },
   "source": [
    "## Exercises"
   ]
  },
  {
   "cell_type": "markdown",
   "metadata": {
    "id": "3y2IQ6xLOgSl"
   },
   "source": [
    "### Exercise 1: Loops\n"
   ]
  },
  {
   "cell_type": "markdown",
   "metadata": {
    "id": "YGL4fnp_OvZm"
   },
   "source": [
    "(a) Approximate Euler's number. \\\\\n",
    "Euler's number is defined as\n",
    "$$e = \\lim_{n\\to\\infty} \\left(1+\\frac{1}{n}\\right)^n$$ \\\\\n",
    "Create a sequence of the approximations to $e$ for $n=10,20,30,\\dots,100$\n",
    "    using a for loop.\n"
   ]
  },
  {
   "cell_type": "code",
   "execution_count": null,
   "metadata": {},
   "outputs": [],
   "source": []
  },
  {
   "cell_type": "markdown",
   "metadata": {
    "id": "JaZIdGUfQZTq"
   },
   "source": [
    "(b) Write a loop that extracts each stock ticker from this list which starts with an A or B.\n",
    "- First, use a written out loop\n",
    "- Second, use a list comprehension"
   ]
  },
  {
   "cell_type": "code",
   "execution_count": null,
   "metadata": {
    "id": "rYWsMu7iQjVI"
   },
   "outputs": [],
   "source": [
    "ticker_list = [\"AAPL\", \"ABEA\", \"XYZ\", \"MST\", \"BABL\", \"AMZN\", \"SPY\"]"
   ]
  },
  {
   "cell_type": "markdown",
   "metadata": {
    "id": "yXbpFrBlOsEV"
   },
   "source": [
    "### Exercise 2: List comprehensions"
   ]
  },
  {
   "cell_type": "markdown",
   "metadata": {
    "id": "plIB699SPlPN"
   },
   "source": [
    "(a) Similar to exercise 1 (a), approximate Euler's number, but this time store each approximation in a list using list comprehensions"
   ]
  },
  {
   "cell_type": "markdown",
   "metadata": {
    "id": "RtDPrYiS6E53"
   },
   "source": [
    "### Exercise 3: Exception handling\n",
    "\n",
    "See the provided code below. Just accept it as given and know that it will take 15 seconds to run.\n",
    "\n",
    "Modify the code so that:\n",
    "- The `ValueError` is handled by printing. `Error in iteration <iteration number>`\n",
    "- You can interrupt the code by pressing the stop button. The loop should be stopped by the `break` keyword and no error should be raised.\n",
    "- Each iteration, regardless of whether an error occured or not, we want to save our work. Thus, we `+1` the `saved_work` variable."
   ]
  },
  {
   "cell_type": "code",
   "execution_count": null,
   "metadata": {
    "id": "7SYPBOV36Usv"
   },
   "outputs": [],
   "source": [
    "from tqdm import trange # For the progress bar\n",
    "from time import sleep # To simulate a long-running task\n",
    "\n",
    "saved_work = 0\n",
    "\n",
    "for i, val in enumerate(trange(15)):\n",
    "\n",
    "  # This is your task here\n",
    "  # <task start>\n",
    "  sleep(1) # Wait 1 second\n",
    "  if i > 0 and i % 4 == 0:\n",
    "    raise ValueError(\"I'm an error\")\n",
    "  # <task end>\n",
    "\n",
    "print(f\"Work saved {saved_work} times.\")"
   ]
  },
  {
   "cell_type": "code",
   "execution_count": null,
   "metadata": {
    "id": "jRS56Tav9NgJ"
   },
   "outputs": [],
   "source": []
  }
 ],
 "metadata": {
  "colab": {
   "include_colab_link": true,
   "provenance": []
  },
  "kernelspec": {
   "display_name": "Python 3",
   "name": "python3"
  },
  "language_info": {
   "codemirror_mode": {
    "name": "ipython",
    "version": 3
   },
   "file_extension": ".py",
   "mimetype": "text/x-python",
   "name": "python",
   "nbconvert_exporter": "python",
   "pygments_lexer": "ipython3",
   "version": "3.12.4"
  }
 },
 "nbformat": 4,
 "nbformat_minor": 0
}
