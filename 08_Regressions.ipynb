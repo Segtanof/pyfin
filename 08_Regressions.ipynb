{
 "cells": [
  {
   "cell_type": "markdown",
   "metadata": {
    "colab_type": "text",
    "id": "view-in-github"
   },
   "source": [
    "<a href=\"https://colab.research.google.com/github/Segtanof/pyfin/blob/main/08_Regressions.ipynb\" target=\"_parent\"><img src=\"https://colab.research.google.com/assets/colab-badge.svg\" alt=\"Open In Colab\"/></a>"
   ]
  },
  {
   "cell_type": "markdown",
   "metadata": {
    "id": "eXNd8uK5DXND"
   },
   "source": [
    "# Regressions\n",
    "Useful links:\n",
    "- https://aeturrell.github.io/coding-for-economists/econmt-regression.html\n",
    "<!-- - https://aeturrell.github.io/python4DS/quarto.html -->"
   ]
  },
  {
   "cell_type": "markdown",
   "metadata": {
    "id": "BkYsSm8oDbl_"
   },
   "source": [
    "We need to install some packages.\n",
    "We use `pyfixest` for regressions and `pingouin` for ttests / correlation analyses."
   ]
  },
  {
   "cell_type": "code",
   "execution_count": 2,
   "metadata": {
    "collapsed": true,
    "id": "duvt0smNvocl"
   },
   "outputs": [
    {
     "name": "stdout",
     "output_type": "stream",
     "text": [
      "Requirement already satisfied: pyfixest in c:\\users\\godfr\\appdata\\local\\programs\\python\\python312\\lib\\site-packages (0.26.2)\n",
      "Requirement already satisfied: formulaic>=1.0.0 in c:\\users\\godfr\\appdata\\local\\programs\\python\\python312\\lib\\site-packages (from pyfixest) (1.0.2)\n",
      "Requirement already satisfied: great-tables>=0.10.0 in c:\\users\\godfr\\appdata\\local\\programs\\python\\python312\\lib\\site-packages (from pyfixest) (0.14.0)\n",
      "Requirement already satisfied: jinja2<4,>=3.1.4 in c:\\users\\godfr\\appdata\\local\\programs\\python\\python312\\lib\\site-packages (from pyfixest) (3.1.4)\n",
      "Requirement already satisfied: lets-plot>=4.0.0 in c:\\users\\godfr\\appdata\\local\\programs\\python\\python312\\lib\\site-packages (from pyfixest) (4.5.1)\n",
      "Requirement already satisfied: numba>=0.58.0 in c:\\users\\godfr\\appdata\\local\\programs\\python\\python312\\lib\\site-packages (from pyfixest) (0.60.0)\n",
      "Requirement already satisfied: numpy>=1.19.0 in c:\\users\\godfr\\appdata\\local\\programs\\python\\python312\\lib\\site-packages (from pyfixest) (1.26.4)\n",
      "Requirement already satisfied: pandas>=1.1.0 in c:\\users\\godfr\\appdata\\local\\programs\\python\\python312\\lib\\site-packages (from pyfixest) (2.2.2)\n",
      "Requirement already satisfied: polars>=0.20.1 in c:\\users\\godfr\\appdata\\local\\programs\\python\\python312\\lib\\site-packages (from pyfixest) (1.13.1)\n",
      "Requirement already satisfied: scipy>=1.6 in c:\\users\\godfr\\appdata\\local\\programs\\python\\python312\\lib\\site-packages (from pyfixest) (1.13.1)\n",
      "Requirement already satisfied: seaborn>=0.13.2 in c:\\users\\godfr\\appdata\\local\\programs\\python\\python312\\lib\\site-packages (from pyfixest) (0.13.2)\n",
      "Requirement already satisfied: tabulate>=0.9.0 in c:\\users\\godfr\\appdata\\local\\programs\\python\\python312\\lib\\site-packages (from pyfixest) (0.9.0)\n",
      "Requirement already satisfied: tqdm==4.66.4 in c:\\users\\godfr\\appdata\\local\\programs\\python\\python312\\lib\\site-packages (from pyfixest) (4.66.4)\n",
      "Requirement already satisfied: colorama in c:\\users\\godfr\\appdata\\local\\programs\\python\\python312\\lib\\site-packages (from tqdm==4.66.4->pyfixest) (0.4.6)\n",
      "Requirement already satisfied: interface-meta>=1.2.0 in c:\\users\\godfr\\appdata\\local\\programs\\python\\python312\\lib\\site-packages (from formulaic>=1.0.0->pyfixest) (1.3.0)\n",
      "Requirement already satisfied: typing-extensions>=4.2.0 in c:\\users\\godfr\\appdata\\local\\programs\\python\\python312\\lib\\site-packages (from formulaic>=1.0.0->pyfixest) (4.12.2)\n",
      "Requirement already satisfied: wrapt>=1.0 in c:\\users\\godfr\\appdata\\local\\programs\\python\\python312\\lib\\site-packages (from formulaic>=1.0.0->pyfixest) (1.16.0)\n",
      "Requirement already satisfied: commonmark>=0.9.1 in c:\\users\\godfr\\appdata\\local\\programs\\python\\python312\\lib\\site-packages (from great-tables>=0.10.0->pyfixest) (0.9.1)\n",
      "Requirement already satisfied: htmltools>=0.4.1 in c:\\users\\godfr\\appdata\\local\\programs\\python\\python312\\lib\\site-packages (from great-tables>=0.10.0->pyfixest) (0.6.0)\n",
      "Requirement already satisfied: importlib-metadata in c:\\users\\godfr\\appdata\\local\\programs\\python\\python312\\lib\\site-packages (from great-tables>=0.10.0->pyfixest) (8.5.0)\n",
      "Requirement already satisfied: Babel>=2.13.1 in c:\\users\\godfr\\appdata\\local\\programs\\python\\python312\\lib\\site-packages (from great-tables>=0.10.0->pyfixest) (2.15.0)\n",
      "Requirement already satisfied: importlib-resources in c:\\users\\godfr\\appdata\\local\\programs\\python\\python312\\lib\\site-packages (from great-tables>=0.10.0->pyfixest) (6.4.5)\n",
      "Requirement already satisfied: MarkupSafe>=2.0 in c:\\users\\godfr\\appdata\\local\\programs\\python\\python312\\lib\\site-packages (from jinja2<4,>=3.1.4->pyfixest) (2.1.5)\n",
      "Requirement already satisfied: pypng in c:\\users\\godfr\\appdata\\local\\programs\\python\\python312\\lib\\site-packages (from lets-plot>=4.0.0->pyfixest) (0.20220715.0)\n",
      "Requirement already satisfied: palettable in c:\\users\\godfr\\appdata\\local\\programs\\python\\python312\\lib\\site-packages (from lets-plot>=4.0.0->pyfixest) (3.3.3)\n",
      "Requirement already satisfied: llvmlite<0.44,>=0.43.0dev0 in c:\\users\\godfr\\appdata\\local\\programs\\python\\python312\\lib\\site-packages (from numba>=0.58.0->pyfixest) (0.43.0)\n",
      "Requirement already satisfied: python-dateutil>=2.8.2 in c:\\users\\godfr\\appdata\\local\\programs\\python\\python312\\lib\\site-packages (from pandas>=1.1.0->pyfixest) (2.9.0.post0)\n",
      "Requirement already satisfied: pytz>=2020.1 in c:\\users\\godfr\\appdata\\local\\programs\\python\\python312\\lib\\site-packages (from pandas>=1.1.0->pyfixest) (2024.1)\n",
      "Requirement already satisfied: tzdata>=2022.7 in c:\\users\\godfr\\appdata\\local\\programs\\python\\python312\\lib\\site-packages (from pandas>=1.1.0->pyfixest) (2024.1)\n",
      "Requirement already satisfied: matplotlib!=3.6.1,>=3.4 in c:\\users\\godfr\\appdata\\local\\programs\\python\\python312\\lib\\site-packages (from seaborn>=0.13.2->pyfixest) (3.9.0)\n",
      "Requirement already satisfied: packaging>=20.9 in c:\\users\\godfr\\appdata\\local\\programs\\python\\python312\\lib\\site-packages (from htmltools>=0.4.1->great-tables>=0.10.0->pyfixest) (24.1)\n",
      "Requirement already satisfied: contourpy>=1.0.1 in c:\\users\\godfr\\appdata\\local\\programs\\python\\python312\\lib\\site-packages (from matplotlib!=3.6.1,>=3.4->seaborn>=0.13.2->pyfixest) (1.2.1)\n",
      "Requirement already satisfied: cycler>=0.10 in c:\\users\\godfr\\appdata\\local\\programs\\python\\python312\\lib\\site-packages (from matplotlib!=3.6.1,>=3.4->seaborn>=0.13.2->pyfixest) (0.12.1)\n",
      "Requirement already satisfied: fonttools>=4.22.0 in c:\\users\\godfr\\appdata\\local\\programs\\python\\python312\\lib\\site-packages (from matplotlib!=3.6.1,>=3.4->seaborn>=0.13.2->pyfixest) (4.53.0)\n",
      "Requirement already satisfied: kiwisolver>=1.3.1 in c:\\users\\godfr\\appdata\\local\\programs\\python\\python312\\lib\\site-packages (from matplotlib!=3.6.1,>=3.4->seaborn>=0.13.2->pyfixest) (1.4.5)\n",
      "Requirement already satisfied: pillow>=8 in c:\\users\\godfr\\appdata\\local\\programs\\python\\python312\\lib\\site-packages (from matplotlib!=3.6.1,>=3.4->seaborn>=0.13.2->pyfixest) (10.3.0)\n",
      "Requirement already satisfied: pyparsing>=2.3.1 in c:\\users\\godfr\\appdata\\local\\programs\\python\\python312\\lib\\site-packages (from matplotlib!=3.6.1,>=3.4->seaborn>=0.13.2->pyfixest) (3.1.2)\n",
      "Requirement already satisfied: six>=1.5 in c:\\users\\godfr\\appdata\\local\\programs\\python\\python312\\lib\\site-packages (from python-dateutil>=2.8.2->pandas>=1.1.0->pyfixest) (1.16.0)\n",
      "Requirement already satisfied: zipp>=3.20 in c:\\users\\godfr\\appdata\\local\\programs\\python\\python312\\lib\\site-packages (from importlib-metadata->great-tables>=0.10.0->pyfixest) (3.21.0)\n",
      "Note: you may need to restart the kernel to use updated packages.\n"
     ]
    }
   ],
   "source": [
    "pip install pyfixest"
   ]
  },
  {
   "cell_type": "code",
   "execution_count": 3,
   "metadata": {
    "id": "5yKEdU4kGCvT"
   },
   "outputs": [
    {
     "data": {
      "text/html": [
       "\n",
       "            <div id=\"NQK31p\"></div>\n",
       "            <script type=\"text/javascript\" data-lets-plot-script=\"library\">\n",
       "                if(!window.letsPlotCallQueue) {\n",
       "                    window.letsPlotCallQueue = [];\n",
       "                }; \n",
       "                window.letsPlotCall = function(f) {\n",
       "                    window.letsPlotCallQueue.push(f);\n",
       "                };\n",
       "                (function() {\n",
       "                    var script = document.createElement(\"script\");\n",
       "                    script.type = \"text/javascript\";\n",
       "                    script.src = \"https://cdn.jsdelivr.net/gh/JetBrains/lets-plot@v4.5.1/js-package/distr/lets-plot.min.js\";\n",
       "                    script.onload = function() {\n",
       "                        window.letsPlotCall = function(f) {f();};\n",
       "                        window.letsPlotCallQueue.forEach(function(f) {f();});\n",
       "                        window.letsPlotCallQueue = [];\n",
       "                        \n",
       "                    };\n",
       "                    script.onerror = function(event) {\n",
       "                        window.letsPlotCall = function(f) {};    // noop\n",
       "                        window.letsPlotCallQueue = [];\n",
       "                        var div = document.createElement(\"div\");\n",
       "                        div.style.color = 'darkred';\n",
       "                        div.textContent = 'Error loading Lets-Plot JS';\n",
       "                        document.getElementById(\"NQK31p\").appendChild(div);\n",
       "                    };\n",
       "                    var e = document.getElementById(\"NQK31p\");\n",
       "                    e.appendChild(script);\n",
       "                })()\n",
       "            </script>\n",
       "            "
      ]
     },
     "metadata": {},
     "output_type": "display_data"
    },
    {
     "data": {
      "text/html": [
       "\n",
       "            <div id=\"FHqCyI\"></div>\n",
       "            <script type=\"text/javascript\" data-lets-plot-script=\"library\">\n",
       "                if(!window.letsPlotCallQueue) {\n",
       "                    window.letsPlotCallQueue = [];\n",
       "                }; \n",
       "                window.letsPlotCall = function(f) {\n",
       "                    window.letsPlotCallQueue.push(f);\n",
       "                };\n",
       "                (function() {\n",
       "                    var script = document.createElement(\"script\");\n",
       "                    script.type = \"text/javascript\";\n",
       "                    script.src = \"https://cdn.jsdelivr.net/gh/JetBrains/lets-plot@v4.5.1/js-package/distr/lets-plot.min.js\";\n",
       "                    script.onload = function() {\n",
       "                        window.letsPlotCall = function(f) {f();};\n",
       "                        window.letsPlotCallQueue.forEach(function(f) {f();});\n",
       "                        window.letsPlotCallQueue = [];\n",
       "                        \n",
       "                    };\n",
       "                    script.onerror = function(event) {\n",
       "                        window.letsPlotCall = function(f) {};    // noop\n",
       "                        window.letsPlotCallQueue = [];\n",
       "                        var div = document.createElement(\"div\");\n",
       "                        div.style.color = 'darkred';\n",
       "                        div.textContent = 'Error loading Lets-Plot JS';\n",
       "                        document.getElementById(\"FHqCyI\").appendChild(div);\n",
       "                    };\n",
       "                    var e = document.getElementById(\"FHqCyI\");\n",
       "                    e.appendChild(script);\n",
       "                })()\n",
       "            </script>\n",
       "            "
      ]
     },
     "metadata": {},
     "output_type": "display_data"
    }
   ],
   "source": [
    "# General packages\n",
    "import pandas as pd\n",
    "import numpy as np\n",
    "import seaborn as sns\n",
    "\n",
    "# Regression-specific packages\n",
    "import pyfixest as pf\n",
    "import pingouin as pg"
   ]
  },
  {
   "cell_type": "code",
   "execution_count": 4,
   "metadata": {
    "id": "pYpOKO_svNvM"
   },
   "outputs": [],
   "source": [
    "# We load a dataset of NYC taxi trips\n",
    "# Source: https://github.com/mwaskom/seaborn-data\n",
    "\n",
    "# Note that we drop rows that have any missing values\n",
    "data = sns.load_dataset(\"taxis\").dropna(how='any')"
   ]
  },
  {
   "cell_type": "code",
   "execution_count": 5,
   "metadata": {
    "id": "B0RoL_0CvUVN"
   },
   "outputs": [
    {
     "data": {
      "text/html": [
       "<div>\n",
       "<style scoped>\n",
       "    .dataframe tbody tr th:only-of-type {\n",
       "        vertical-align: middle;\n",
       "    }\n",
       "\n",
       "    .dataframe tbody tr th {\n",
       "        vertical-align: top;\n",
       "    }\n",
       "\n",
       "    .dataframe thead th {\n",
       "        text-align: right;\n",
       "    }\n",
       "</style>\n",
       "<table border=\"1\" class=\"dataframe\">\n",
       "  <thead>\n",
       "    <tr style=\"text-align: right;\">\n",
       "      <th></th>\n",
       "      <th>pickup</th>\n",
       "      <th>dropoff</th>\n",
       "      <th>passengers</th>\n",
       "      <th>distance</th>\n",
       "      <th>fare</th>\n",
       "      <th>tip</th>\n",
       "      <th>tolls</th>\n",
       "      <th>total</th>\n",
       "      <th>color</th>\n",
       "      <th>payment</th>\n",
       "      <th>pickup_zone</th>\n",
       "      <th>dropoff_zone</th>\n",
       "      <th>pickup_borough</th>\n",
       "      <th>dropoff_borough</th>\n",
       "    </tr>\n",
       "  </thead>\n",
       "  <tbody>\n",
       "    <tr>\n",
       "      <th>5867</th>\n",
       "      <td>2019-03-26 14:14:17</td>\n",
       "      <td>2019-03-26 14:24:09</td>\n",
       "      <td>1</td>\n",
       "      <td>1.59</td>\n",
       "      <td>8.5</td>\n",
       "      <td>0.00</td>\n",
       "      <td>0.0</td>\n",
       "      <td>9.30</td>\n",
       "      <td>green</td>\n",
       "      <td>cash</td>\n",
       "      <td>Central Harlem</td>\n",
       "      <td>Central Harlem North</td>\n",
       "      <td>Manhattan</td>\n",
       "      <td>Manhattan</td>\n",
       "    </tr>\n",
       "    <tr>\n",
       "      <th>2736</th>\n",
       "      <td>2019-03-05 09:44:10</td>\n",
       "      <td>2019-03-05 09:54:06</td>\n",
       "      <td>5</td>\n",
       "      <td>1.09</td>\n",
       "      <td>7.5</td>\n",
       "      <td>2.16</td>\n",
       "      <td>0.0</td>\n",
       "      <td>12.96</td>\n",
       "      <td>yellow</td>\n",
       "      <td>credit card</td>\n",
       "      <td>Midtown North</td>\n",
       "      <td>Lincoln Square West</td>\n",
       "      <td>Manhattan</td>\n",
       "      <td>Manhattan</td>\n",
       "    </tr>\n",
       "    <tr>\n",
       "      <th>4370</th>\n",
       "      <td>2019-03-19 22:17:13</td>\n",
       "      <td>2019-03-19 22:22:38</td>\n",
       "      <td>1</td>\n",
       "      <td>1.60</td>\n",
       "      <td>7.0</td>\n",
       "      <td>2.00</td>\n",
       "      <td>0.0</td>\n",
       "      <td>12.80</td>\n",
       "      <td>yellow</td>\n",
       "      <td>credit card</td>\n",
       "      <td>Two Bridges/Seward Park</td>\n",
       "      <td>Gramercy</td>\n",
       "      <td>Manhattan</td>\n",
       "      <td>Manhattan</td>\n",
       "    </tr>\n",
       "  </tbody>\n",
       "</table>\n",
       "</div>"
      ],
      "text/plain": [
       "                  pickup             dropoff  passengers  distance  fare  \\\n",
       "5867 2019-03-26 14:14:17 2019-03-26 14:24:09           1      1.59   8.5   \n",
       "2736 2019-03-05 09:44:10 2019-03-05 09:54:06           5      1.09   7.5   \n",
       "4370 2019-03-19 22:17:13 2019-03-19 22:22:38           1      1.60   7.0   \n",
       "\n",
       "       tip  tolls  total   color      payment              pickup_zone  \\\n",
       "5867  0.00    0.0   9.30   green         cash           Central Harlem   \n",
       "2736  2.16    0.0  12.96  yellow  credit card            Midtown North   \n",
       "4370  2.00    0.0  12.80  yellow  credit card  Two Bridges/Seward Park   \n",
       "\n",
       "              dropoff_zone pickup_borough dropoff_borough  \n",
       "5867  Central Harlem North      Manhattan       Manhattan  \n",
       "2736   Lincoln Square West      Manhattan       Manhattan  \n",
       "4370              Gramercy      Manhattan       Manhattan  "
      ]
     },
     "execution_count": 5,
     "metadata": {},
     "output_type": "execute_result"
    }
   ],
   "source": [
    "data.sample(3)"
   ]
  },
  {
   "cell_type": "markdown",
   "metadata": {
    "id": "8q7WfwaoECOW"
   },
   "source": [
    "## T-test\n",
    "A common hypothesis test is the t-test.\n",
    "We can check whether the mean of an array differs from a value as follows.\n",
    "\n",
    "Let's check if `tolls` are significantly different from `0`."
   ]
  },
  {
   "cell_type": "code",
   "execution_count": 6,
   "metadata": {
    "id": "EThvXnZvwpLs"
   },
   "outputs": [
    {
     "data": {
      "text/html": [
       "<div>\n",
       "<style scoped>\n",
       "    .dataframe tbody tr th:only-of-type {\n",
       "        vertical-align: middle;\n",
       "    }\n",
       "\n",
       "    .dataframe tbody tr th {\n",
       "        vertical-align: top;\n",
       "    }\n",
       "\n",
       "    .dataframe thead th {\n",
       "        text-align: right;\n",
       "    }\n",
       "</style>\n",
       "<table border=\"1\" class=\"dataframe\">\n",
       "  <thead>\n",
       "    <tr style=\"text-align: right;\">\n",
       "      <th></th>\n",
       "      <th>T</th>\n",
       "      <th>dof</th>\n",
       "      <th>alternative</th>\n",
       "      <th>p-val</th>\n",
       "      <th>CI95%</th>\n",
       "      <th>cohen-d</th>\n",
       "      <th>BF10</th>\n",
       "      <th>power</th>\n",
       "    </tr>\n",
       "  </thead>\n",
       "  <tbody>\n",
       "    <tr>\n",
       "      <th>T-test</th>\n",
       "      <td>18.308157</td>\n",
       "      <td>6340</td>\n",
       "      <td>two-sided</td>\n",
       "      <td>5.280784e-73</td>\n",
       "      <td>[0.28, 0.35]</td>\n",
       "      <td>0.229914</td>\n",
       "      <td>1.11e+69</td>\n",
       "      <td>1.0</td>\n",
       "    </tr>\n",
       "  </tbody>\n",
       "</table>\n",
       "</div>"
      ],
      "text/plain": [
       "                T   dof alternative         p-val         CI95%   cohen-d  \\\n",
       "T-test  18.308157  6340   two-sided  5.280784e-73  [0.28, 0.35]  0.229914   \n",
       "\n",
       "            BF10  power  \n",
       "T-test  1.11e+69    1.0  "
      ]
     },
     "execution_count": 6,
     "metadata": {},
     "output_type": "execute_result"
    }
   ],
   "source": [
    "value_to_test_against = 0\n",
    "pg.ttest(data['tolls'], value_to_test_against)"
   ]
  },
  {
   "cell_type": "markdown",
   "metadata": {
    "id": "vExQ5EEUFOJe"
   },
   "source": [
    "Interpretation: We do not find support for the null-hypothesis of `tolls` being equal to `0` and thus reject it. We can see this from the t statistic being larger than the critical value, or, equivalently, the `p-val` being lower than common significance thresholds."
   ]
  },
  {
   "cell_type": "markdown",
   "metadata": {
    "id": "Vm2cyBZRGGKF"
   },
   "source": [
    "If we arbitrarily limit the number of observations by taking a random `sample`, we can see more uncertainty.\n",
    "\n",
    "Because it's a random sample, you won't see the exact same values."
   ]
  },
  {
   "cell_type": "code",
   "execution_count": 7,
   "metadata": {
    "id": "usf38x5h9k5j"
   },
   "outputs": [],
   "source": [
    "sample = data['tolls'].sample(50)"
   ]
  },
  {
   "cell_type": "code",
   "execution_count": 8,
   "metadata": {
    "id": "DfcuVIpAF1JT"
   },
   "outputs": [
    {
     "data": {
      "text/html": [
       "<div>\n",
       "<style scoped>\n",
       "    .dataframe tbody tr th:only-of-type {\n",
       "        vertical-align: middle;\n",
       "    }\n",
       "\n",
       "    .dataframe tbody tr th {\n",
       "        vertical-align: top;\n",
       "    }\n",
       "\n",
       "    .dataframe thead th {\n",
       "        text-align: right;\n",
       "    }\n",
       "</style>\n",
       "<table border=\"1\" class=\"dataframe\">\n",
       "  <thead>\n",
       "    <tr style=\"text-align: right;\">\n",
       "      <th></th>\n",
       "      <th>T</th>\n",
       "      <th>dof</th>\n",
       "      <th>alternative</th>\n",
       "      <th>p-val</th>\n",
       "      <th>CI95%</th>\n",
       "      <th>cohen-d</th>\n",
       "      <th>BF10</th>\n",
       "      <th>power</th>\n",
       "    </tr>\n",
       "  </thead>\n",
       "  <tbody>\n",
       "    <tr>\n",
       "      <th>T-test</th>\n",
       "      <td>2.333333</td>\n",
       "      <td>49</td>\n",
       "      <td>two-sided</td>\n",
       "      <td>0.023778</td>\n",
       "      <td>[0.08, 1.07]</td>\n",
       "      <td>0.329983</td>\n",
       "      <td>1.801</td>\n",
       "      <td>0.628351</td>\n",
       "    </tr>\n",
       "  </tbody>\n",
       "</table>\n",
       "</div>"
      ],
      "text/plain": [
       "               T  dof alternative     p-val         CI95%   cohen-d   BF10  \\\n",
       "T-test  2.333333   49   two-sided  0.023778  [0.08, 1.07]  0.329983  1.801   \n",
       "\n",
       "           power  \n",
       "T-test  0.628351  "
      ]
     },
     "execution_count": 8,
     "metadata": {},
     "output_type": "execute_result"
    }
   ],
   "source": [
    "pg.ttest(sample, value_to_test_against)"
   ]
  },
  {
   "cell_type": "markdown",
   "metadata": {
    "id": "D0VrD_p5fkV2"
   },
   "source": [
    "**Quick exercise**\n",
    "\n",
    "You can see that we are running a two-sided t-test. Since tolls cannot be negative a one-sided t-test might be more appropriate.\n",
    "\n",
    "Run a one-sided t-test."
   ]
  },
  {
   "cell_type": "code",
   "execution_count": 9,
   "metadata": {},
   "outputs": [
    {
     "data": {
      "text/html": [
       "<div>\n",
       "<style scoped>\n",
       "    .dataframe tbody tr th:only-of-type {\n",
       "        vertical-align: middle;\n",
       "    }\n",
       "\n",
       "    .dataframe tbody tr th {\n",
       "        vertical-align: top;\n",
       "    }\n",
       "\n",
       "    .dataframe thead th {\n",
       "        text-align: right;\n",
       "    }\n",
       "</style>\n",
       "<table border=\"1\" class=\"dataframe\">\n",
       "  <thead>\n",
       "    <tr style=\"text-align: right;\">\n",
       "      <th></th>\n",
       "      <th>T</th>\n",
       "      <th>dof</th>\n",
       "      <th>alternative</th>\n",
       "      <th>p-val</th>\n",
       "      <th>CI95%</th>\n",
       "      <th>cohen-d</th>\n",
       "      <th>BF10</th>\n",
       "      <th>power</th>\n",
       "    </tr>\n",
       "  </thead>\n",
       "  <tbody>\n",
       "    <tr>\n",
       "      <th>T-test</th>\n",
       "      <td>2.333333</td>\n",
       "      <td>49</td>\n",
       "      <td>greater</td>\n",
       "      <td>0.011889</td>\n",
       "      <td>[0.16, inf]</td>\n",
       "      <td>0.329983</td>\n",
       "      <td>3.603</td>\n",
       "      <td>0.744109</td>\n",
       "    </tr>\n",
       "  </tbody>\n",
       "</table>\n",
       "</div>"
      ],
      "text/plain": [
       "               T  dof alternative     p-val        CI95%   cohen-d   BF10  \\\n",
       "T-test  2.333333   49     greater  0.011889  [0.16, inf]  0.329983  3.603   \n",
       "\n",
       "           power  \n",
       "T-test  0.744109  "
      ]
     },
     "execution_count": 9,
     "metadata": {},
     "output_type": "execute_result"
    }
   ],
   "source": [
    "value_to_test_against = 0\n",
    "pg.ttest(sample, value_to_test_against, alternative=\"greater\")"
   ]
  },
  {
   "cell_type": "markdown",
   "metadata": {
    "id": "2BdVqmfYGqUx"
   },
   "source": [
    "A more realistic test you might want to run is comparing the different trip distances based on the color of the cab.\n",
    "\n",
    "![Taxis](https://newyorkmonamour.fr/wp-content/uploads/2016/10/boro-cabs-vs-yellow-cabs.jpg)\n",
    "\n",
    "We can check how many observations are in each color by using the `value_counts` method:"
   ]
  },
  {
   "cell_type": "code",
   "execution_count": 10,
   "metadata": {
    "id": "NKAN0zQqG-6c"
   },
   "outputs": [
    {
     "data": {
      "text/plain": [
       "color\n",
       "yellow    5373\n",
       "green      968\n",
       "Name: count, dtype: int64"
      ]
     },
     "execution_count": 10,
     "metadata": {},
     "output_type": "execute_result"
    }
   ],
   "source": [
    "data.value_counts(subset=\"color\")"
   ]
  },
  {
   "cell_type": "markdown",
   "metadata": {
    "id": "fThdQ5qvHOzu"
   },
   "source": [
    "We can check the means in each group:"
   ]
  },
  {
   "cell_type": "code",
   "execution_count": 11,
   "metadata": {
    "id": "vFTil5LhHNo8"
   },
   "outputs": [
    {
     "data": {
      "text/plain": [
       "color\n",
       "green     3.412665\n",
       "yellow    2.922948\n",
       "Name: distance, dtype: float64"
      ]
     },
     "execution_count": 11,
     "metadata": {},
     "output_type": "execute_result"
    }
   ],
   "source": [
    "data.groupby(\"color\")[\"distance\"].mean()"
   ]
  },
  {
   "cell_type": "markdown",
   "metadata": {
    "id": "c-9hNL1cHaNf"
   },
   "source": [
    "It looks like green taxis travel about a half-mile further than yellow taxis. But is this difference statistically significant or just a random finding?"
   ]
  },
  {
   "cell_type": "code",
   "execution_count": 12,
   "metadata": {
    "id": "hZTaBdbH_LLb"
   },
   "outputs": [
    {
     "data": {
      "text/plain": [
       "5451     2.29\n",
       "5452     0.80\n",
       "5453     1.51\n",
       "5454     0.45\n",
       "5455     0.61\n",
       "        ...  \n",
       "6428     0.75\n",
       "6429    18.74\n",
       "6430     4.14\n",
       "6431     1.12\n",
       "6432     3.85\n",
       "Name: distance, Length: 968, dtype: float64"
      ]
     },
     "execution_count": 12,
     "metadata": {},
     "output_type": "execute_result"
    }
   ],
   "source": [
    "yellow_distance = data.query(\"color == 'yellow'\")['distance']\n",
    "green_distance = data.query(\"color == 'green'\")['distance']\n",
    "green_distance"
   ]
  },
  {
   "cell_type": "code",
   "execution_count": 13,
   "metadata": {
    "id": "BY7KcBF5EjC3"
   },
   "outputs": [
    {
     "data": {
      "text/html": [
       "<div>\n",
       "<style scoped>\n",
       "    .dataframe tbody tr th:only-of-type {\n",
       "        vertical-align: middle;\n",
       "    }\n",
       "\n",
       "    .dataframe tbody tr th {\n",
       "        vertical-align: top;\n",
       "    }\n",
       "\n",
       "    .dataframe thead th {\n",
       "        text-align: right;\n",
       "    }\n",
       "</style>\n",
       "<table border=\"1\" class=\"dataframe\">\n",
       "  <thead>\n",
       "    <tr style=\"text-align: right;\">\n",
       "      <th></th>\n",
       "      <th>T</th>\n",
       "      <th>dof</th>\n",
       "      <th>alternative</th>\n",
       "      <th>p-val</th>\n",
       "      <th>CI99%</th>\n",
       "      <th>cohen-d</th>\n",
       "      <th>BF10</th>\n",
       "      <th>power</th>\n",
       "    </tr>\n",
       "  </thead>\n",
       "  <tbody>\n",
       "    <tr>\n",
       "      <th>T-test</th>\n",
       "      <td>-3.546353</td>\n",
       "      <td>1274.846737</td>\n",
       "      <td>two-sided</td>\n",
       "      <td>0.000405</td>\n",
       "      <td>[-0.8459478061155647, -0.13348662499314595]</td>\n",
       "      <td>0.13179</td>\n",
       "      <td>20.428</td>\n",
       "      <td>0.965151</td>\n",
       "    </tr>\n",
       "  </tbody>\n",
       "</table>\n",
       "</div>"
      ],
      "text/plain": [
       "               T          dof alternative     p-val  \\\n",
       "T-test -3.546353  1274.846737   two-sided  0.000405   \n",
       "\n",
       "                                              CI99%  cohen-d    BF10     power  \n",
       "T-test  [-0.8459478061155647, -0.13348662499314595]  0.13179  20.428  0.965151  "
      ]
     },
     "execution_count": 13,
     "metadata": {},
     "output_type": "execute_result"
    }
   ],
   "source": [
    "# This time we are using some additional keyword arguments: confidence\n",
    "# Check the documentation to see what that does: https://pingouin-stats.org/build/html/generated/pingouin.ttest.html#pingouin.ttest\n",
    "\n",
    "pg.ttest(yellow_distance, green_distance, confidence=0.99)"
   ]
  },
  {
   "cell_type": "markdown",
   "metadata": {
    "id": "4iJxo7wsIOqG"
   },
   "source": [
    "The result shows that the mean of the yellow taxis is statistically significantly less than the mean trip distance of green taxis."
   ]
  },
  {
   "cell_type": "markdown",
   "metadata": {
    "id": "3tjC8wteJqxV"
   },
   "source": [
    "**Quick exercise**\n",
    "\n",
    "- How many unique pickup zones are in the data set?\n",
    "\n",
    "- Check whether the `total` price paid differs between the `pickup_zone` \"Yorkville East\" and \"Yorkville West\" and whether the difference is significant at the 10% level. Show the appropriate confidence interval."
   ]
  },
  {
   "cell_type": "code",
   "execution_count": 14,
   "metadata": {},
   "outputs": [
    {
     "data": {
      "text/plain": [
       "194"
      ]
     },
     "execution_count": 14,
     "metadata": {},
     "output_type": "execute_result"
    }
   ],
   "source": [
    "data[\"pickup_zone\"].nunique()"
   ]
  },
  {
   "cell_type": "code",
   "execution_count": 15,
   "metadata": {},
   "outputs": [
    {
     "data": {
      "text/html": [
       "<div>\n",
       "<style scoped>\n",
       "    .dataframe tbody tr th:only-of-type {\n",
       "        vertical-align: middle;\n",
       "    }\n",
       "\n",
       "    .dataframe tbody tr th {\n",
       "        vertical-align: top;\n",
       "    }\n",
       "\n",
       "    .dataframe thead th {\n",
       "        text-align: right;\n",
       "    }\n",
       "</style>\n",
       "<table border=\"1\" class=\"dataframe\">\n",
       "  <thead>\n",
       "    <tr style=\"text-align: right;\">\n",
       "      <th></th>\n",
       "      <th>pickup</th>\n",
       "      <th>dropoff</th>\n",
       "      <th>passengers</th>\n",
       "      <th>distance</th>\n",
       "      <th>fare</th>\n",
       "      <th>tip</th>\n",
       "      <th>tolls</th>\n",
       "      <th>total</th>\n",
       "      <th>color</th>\n",
       "      <th>payment</th>\n",
       "      <th>pickup_zone</th>\n",
       "      <th>dropoff_zone</th>\n",
       "      <th>pickup_borough</th>\n",
       "      <th>dropoff_borough</th>\n",
       "    </tr>\n",
       "  </thead>\n",
       "  <tbody>\n",
       "    <tr>\n",
       "      <th>0</th>\n",
       "      <td>2019-03-23 20:21:09</td>\n",
       "      <td>2019-03-23 20:27:24</td>\n",
       "      <td>1</td>\n",
       "      <td>1.60</td>\n",
       "      <td>7.0</td>\n",
       "      <td>2.15</td>\n",
       "      <td>0.0</td>\n",
       "      <td>12.95</td>\n",
       "      <td>yellow</td>\n",
       "      <td>credit card</td>\n",
       "      <td>Lenox Hill West</td>\n",
       "      <td>UN/Turtle Bay South</td>\n",
       "      <td>Manhattan</td>\n",
       "      <td>Manhattan</td>\n",
       "    </tr>\n",
       "    <tr>\n",
       "      <th>1</th>\n",
       "      <td>2019-03-04 16:11:55</td>\n",
       "      <td>2019-03-04 16:19:00</td>\n",
       "      <td>1</td>\n",
       "      <td>0.79</td>\n",
       "      <td>5.0</td>\n",
       "      <td>0.00</td>\n",
       "      <td>0.0</td>\n",
       "      <td>9.30</td>\n",
       "      <td>yellow</td>\n",
       "      <td>cash</td>\n",
       "      <td>Upper West Side South</td>\n",
       "      <td>Upper West Side South</td>\n",
       "      <td>Manhattan</td>\n",
       "      <td>Manhattan</td>\n",
       "    </tr>\n",
       "    <tr>\n",
       "      <th>2</th>\n",
       "      <td>2019-03-27 17:53:01</td>\n",
       "      <td>2019-03-27 18:00:25</td>\n",
       "      <td>1</td>\n",
       "      <td>1.37</td>\n",
       "      <td>7.5</td>\n",
       "      <td>2.36</td>\n",
       "      <td>0.0</td>\n",
       "      <td>14.16</td>\n",
       "      <td>yellow</td>\n",
       "      <td>credit card</td>\n",
       "      <td>Alphabet City</td>\n",
       "      <td>West Village</td>\n",
       "      <td>Manhattan</td>\n",
       "      <td>Manhattan</td>\n",
       "    </tr>\n",
       "    <tr>\n",
       "      <th>3</th>\n",
       "      <td>2019-03-10 01:23:59</td>\n",
       "      <td>2019-03-10 01:49:51</td>\n",
       "      <td>1</td>\n",
       "      <td>7.70</td>\n",
       "      <td>27.0</td>\n",
       "      <td>6.15</td>\n",
       "      <td>0.0</td>\n",
       "      <td>36.95</td>\n",
       "      <td>yellow</td>\n",
       "      <td>credit card</td>\n",
       "      <td>Hudson Sq</td>\n",
       "      <td>Yorkville West</td>\n",
       "      <td>Manhattan</td>\n",
       "      <td>Manhattan</td>\n",
       "    </tr>\n",
       "    <tr>\n",
       "      <th>4</th>\n",
       "      <td>2019-03-30 13:27:42</td>\n",
       "      <td>2019-03-30 13:37:14</td>\n",
       "      <td>3</td>\n",
       "      <td>2.16</td>\n",
       "      <td>9.0</td>\n",
       "      <td>1.10</td>\n",
       "      <td>0.0</td>\n",
       "      <td>13.40</td>\n",
       "      <td>yellow</td>\n",
       "      <td>credit card</td>\n",
       "      <td>Midtown East</td>\n",
       "      <td>Yorkville West</td>\n",
       "      <td>Manhattan</td>\n",
       "      <td>Manhattan</td>\n",
       "    </tr>\n",
       "  </tbody>\n",
       "</table>\n",
       "</div>"
      ],
      "text/plain": [
       "               pickup             dropoff  passengers  distance  fare   tip  \\\n",
       "0 2019-03-23 20:21:09 2019-03-23 20:27:24           1      1.60   7.0  2.15   \n",
       "1 2019-03-04 16:11:55 2019-03-04 16:19:00           1      0.79   5.0  0.00   \n",
       "2 2019-03-27 17:53:01 2019-03-27 18:00:25           1      1.37   7.5  2.36   \n",
       "3 2019-03-10 01:23:59 2019-03-10 01:49:51           1      7.70  27.0  6.15   \n",
       "4 2019-03-30 13:27:42 2019-03-30 13:37:14           3      2.16   9.0  1.10   \n",
       "\n",
       "   tolls  total   color      payment            pickup_zone  \\\n",
       "0    0.0  12.95  yellow  credit card        Lenox Hill West   \n",
       "1    0.0   9.30  yellow         cash  Upper West Side South   \n",
       "2    0.0  14.16  yellow  credit card          Alphabet City   \n",
       "3    0.0  36.95  yellow  credit card              Hudson Sq   \n",
       "4    0.0  13.40  yellow  credit card           Midtown East   \n",
       "\n",
       "            dropoff_zone pickup_borough dropoff_borough  \n",
       "0    UN/Turtle Bay South      Manhattan       Manhattan  \n",
       "1  Upper West Side South      Manhattan       Manhattan  \n",
       "2           West Village      Manhattan       Manhattan  \n",
       "3         Yorkville West      Manhattan       Manhattan  \n",
       "4         Yorkville West      Manhattan       Manhattan  "
      ]
     },
     "execution_count": 15,
     "metadata": {},
     "output_type": "execute_result"
    }
   ],
   "source": [
    "data.head()"
   ]
  },
  {
   "cell_type": "code",
   "execution_count": 16,
   "metadata": {},
   "outputs": [
    {
     "data": {
      "text/plain": [
       "15.59285714285714"
      ]
     },
     "execution_count": 16,
     "metadata": {},
     "output_type": "execute_result"
    }
   ],
   "source": [
    "yet = data.query(\"(pickup_zone == 'Yorkville East')\")[\"total\"]\n",
    "yet.mean()"
   ]
  },
  {
   "cell_type": "code",
   "execution_count": 17,
   "metadata": {},
   "outputs": [
    {
     "data": {
      "text/plain": [
       "14.948415841584158"
      ]
     },
     "execution_count": 17,
     "metadata": {},
     "output_type": "execute_result"
    }
   ],
   "source": [
    "ywt = data.query(\"(pickup_zone == 'Yorkville West')\")[\"total\"]\n",
    "ywt.mean()"
   ]
  },
  {
   "cell_type": "code",
   "execution_count": 18,
   "metadata": {},
   "outputs": [
    {
     "data": {
      "text/plain": [
       "pickup_zone\n",
       "Yorkville East    15.592857\n",
       "Yorkville West    14.948416\n",
       "Name: total, dtype: float64"
      ]
     },
     "execution_count": 18,
     "metadata": {},
     "output_type": "execute_result"
    }
   ],
   "source": [
    "pol = [\"Yorkville West\", \"Yorkville East\"]\n",
    "data.query(\"pickup_zone in @pol\").groupby(\"pickup_zone\")[\"total\"].mean()"
   ]
  },
  {
   "cell_type": "code",
   "execution_count": 19,
   "metadata": {},
   "outputs": [
    {
     "data": {
      "text/html": [
       "<div>\n",
       "<style scoped>\n",
       "    .dataframe tbody tr th:only-of-type {\n",
       "        vertical-align: middle;\n",
       "    }\n",
       "\n",
       "    .dataframe tbody tr th {\n",
       "        vertical-align: top;\n",
       "    }\n",
       "\n",
       "    .dataframe thead th {\n",
       "        text-align: right;\n",
       "    }\n",
       "</style>\n",
       "<table border=\"1\" class=\"dataframe\">\n",
       "  <thead>\n",
       "    <tr style=\"text-align: right;\">\n",
       "      <th></th>\n",
       "      <th>T</th>\n",
       "      <th>dof</th>\n",
       "      <th>alternative</th>\n",
       "      <th>p-val</th>\n",
       "      <th>CI90%</th>\n",
       "      <th>cohen-d</th>\n",
       "      <th>BF10</th>\n",
       "      <th>power</th>\n",
       "    </tr>\n",
       "  </thead>\n",
       "  <tbody>\n",
       "    <tr>\n",
       "      <th>T-test</th>\n",
       "      <td>0.624414</td>\n",
       "      <td>149.153958</td>\n",
       "      <td>two-sided</td>\n",
       "      <td>0.533309</td>\n",
       "      <td>[-1.0637778932951096, 2.3526604958410737]</td>\n",
       "      <td>0.096997</td>\n",
       "      <td>0.201</td>\n",
       "      <td>0.095092</td>\n",
       "    </tr>\n",
       "  </tbody>\n",
       "</table>\n",
       "</div>"
      ],
      "text/plain": [
       "               T         dof alternative     p-val  \\\n",
       "T-test  0.624414  149.153958   two-sided  0.533309   \n",
       "\n",
       "                                            CI90%   cohen-d   BF10     power  \n",
       "T-test  [-1.0637778932951096, 2.3526604958410737]  0.096997  0.201  0.095092  "
      ]
     },
     "execution_count": 19,
     "metadata": {},
     "output_type": "execute_result"
    }
   ],
   "source": [
    "pg.ttest(yet, ywt, confidence=.9)"
   ]
  },
  {
   "cell_type": "markdown",
   "metadata": {
    "id": "wOd6GTj1EZw6"
   },
   "source": [
    "## Linear regression"
   ]
  },
  {
   "cell_type": "markdown",
   "metadata": {
    "id": "WqZRI_nN4PvK"
   },
   "source": [
    "### Basics"
   ]
  },
  {
   "cell_type": "markdown",
   "metadata": {
    "id": "b-olP9qyMmLV"
   },
   "source": [
    "Let's try to see if we can figure out the pricing structure.\n",
    "In order to do that, t-tests are not sufficient, because we need to consider more than a single variable.\n",
    "\n",
    "Typically, taxi fares start at a base fare, a per-mile rate, and a time component. In NYC, there are [other components](https://www.nyc.gov/site/tlc/passengers/taxi-fare.page) as well.\n",
    "\n",
    "From those three components, we can easily observe the base fare (intercept) and the per-mile rate (distance)."
   ]
  },
  {
   "cell_type": "markdown",
   "metadata": {
    "id": "tFOZJbpnpdn8"
   },
   "source": [
    "In order to specify the regression equation, we use the `~` (tilda) operator to separate the left- and right-hand sides of the regression equation.\n",
    "\n",
    "We then add the variable names (column names) from our data. **Avoid spaces in the column names!**\n",
    "\n",
    "To regress `y` on `x`, use `y ~ x`, which covers the regression equation $y = a + \\beta x + \\epsilon$. An intercept is added automatically. If you do not want to add an intercept, set the keyword argument `drop_intercept=True`."
   ]
  },
  {
   "cell_type": "code",
   "execution_count": 20,
   "metadata": {
    "id": "h7Dgnuq7vVNP"
   },
   "outputs": [
    {
     "name": "stdout",
     "output_type": "stream",
     "text": [
      "###\n",
      "\n",
      "Estimation:  OLS\n",
      "Dep. var.: fare, Fixed effects: 0\n",
      "Inference:  iid\n",
      "Observations:  6341\n",
      "\n",
      "| Coefficient   |   Estimate |   Std. Error |   t value |   Pr(>|t|) |   2.5% |   97.5% |\n",
      "|:--------------|-----------:|-------------:|----------:|-----------:|-------:|--------:|\n",
      "| Intercept     |      4.697 |        0.055 |    85.292 |      0.000 |  4.589 |   4.805 |\n",
      "| distance      |      2.732 |        0.012 |   237.047 |      0.000 |  2.710 |   2.755 |\n",
      "---\n",
      "RMSE: 3.414 R2: 0.899 \n"
     ]
    }
   ],
   "source": [
    "pf.feols(\"fare ~ distance\", data=data).summary()"
   ]
  },
  {
   "cell_type": "markdown",
   "metadata": {
    "id": "fVl6FtXlvBKV"
   },
   "source": [
    "It looks like the base fare is \\$4.7 and a charge of \\$2.73 is added per mile.\n",
    "Our estimates are statistically significant and we can explain about 90% of the variance in the data."
   ]
  },
  {
   "cell_type": "markdown",
   "metadata": {
    "id": "9pcd_Ta9B-J0"
   },
   "source": [
    "**Quick exercise**\n",
    "\n",
    "- Write the regression formula for the regression equation $R_t = a + \\beta R_M + \\epsilon$\n",
    "- Make a scatterplot. `tip` against `distance`. What do you notice?\n",
    "- Run a regression for $tip = a + \\beta \\times distance + \\epsilon$\n",
    "- Run a regression for $tip = \\beta \\times distance + \\epsilon$"
   ]
  },
  {
   "cell_type": "code",
   "execution_count": 21,
   "metadata": {},
   "outputs": [
    {
     "data": {
      "text/plain": [
       "'rt ~ rm'"
      ]
     },
     "execution_count": 21,
     "metadata": {},
     "output_type": "execute_result"
    }
   ],
   "source": [
    "\"rt ~ rm\""
   ]
  },
  {
   "cell_type": "code",
   "execution_count": 22,
   "metadata": {},
   "outputs": [
    {
     "data": {
      "text/plain": [
       "<Axes: xlabel='distance', ylabel='tip'>"
      ]
     },
     "execution_count": 22,
     "metadata": {},
     "output_type": "execute_result"
    },
    {
     "data": {
      "image/png": "[encoded data removed]",
      "text/plain": [
       "<Figure size 640x480 with 1 Axes>"
      ]
     },
     "metadata": {},
     "output_type": "display_data"
    }
   ],
   "source": [
    "sns.scatterplot(data=data, x=\"distance\", y=\"tip\")"
   ]
  },
  {
   "cell_type": "code",
   "execution_count": 23,
   "metadata": {},
   "outputs": [
    {
     "name": "stdout",
     "output_type": "stream",
     "text": [
      "###\n",
      "\n",
      "Estimation:  OLS\n",
      "Dep. var.: tip, Fixed effects: 0\n",
      "Inference:  iid\n",
      "Observations:  6341\n",
      "\n",
      "| Coefficient   |   Estimate |   Std. Error |   t value |   Pr(>|t|) |   2.5% |   97.5% |\n",
      "|:--------------|-----------:|-------------:|----------:|-----------:|-------:|--------:|\n",
      "| Intercept     |      1.065 |        0.033 |    31.800 |      0.000 |  0.999 |   1.130 |\n",
      "| distance      |      0.303 |        0.007 |    43.208 |      0.000 |  0.289 |   0.317 |\n",
      "---\n",
      "RMSE: 2.076 R2: 0.228 \n"
     ]
    }
   ],
   "source": [
    "pf.feols(\"tip ~ distance\", data = data).summary()"
   ]
  },
  {
   "cell_type": "code",
   "execution_count": 24,
   "metadata": {},
   "outputs": [
    {
     "name": "stdout",
     "output_type": "stream",
     "text": [
      "###\n",
      "\n",
      "Estimation:  OLS\n",
      "Dep. var.: tip, Fixed effects: 0\n",
      "Inference:  iid\n",
      "Observations:  6341\n",
      "\n",
      "| Coefficient   |   Estimate |   Std. Error |   t value |   Pr(>|t|) |   2.5% |   97.5% |\n",
      "|:--------------|-----------:|-------------:|----------:|-----------:|-------:|--------:|\n",
      "| distance      |      0.443 |        0.006 |    75.342 |      0.000 |  0.431 |   0.454 |\n",
      "---\n",
      "RMSE: 2.235 R2: 0.104 \n"
     ]
    }
   ],
   "source": [
    "pf.feols(\"tip ~ distance\", data = data, drop_intercept=True).summary()"
   ]
  },
  {
   "cell_type": "markdown",
   "metadata": {
    "id": "CtXWG5SqvY7B"
   },
   "source": [
    "#### New variables\n",
    "Very often, you will need to construct your own variables.\n",
    "\n",
    "\n",
    "\n"
   ]
  },
  {
   "cell_type": "markdown",
   "metadata": {
    "id": "I7CevB-pYPWl"
   },
   "source": [
    "**Trip duration**\n",
    "\n",
    "Since we know the time of pickup and dropoff, we can calculate the duration of the trip.\n",
    "We first take the difference between the two columns, and then use the `.dt` (datetime) [accessor of the resulting column](https://pandas.pydata.org/pandas-docs/stable/reference/api/pandas.Series.dt.html) (which is the type pandas.Series). In the next step we pull out the seconds and divide them by 60 to get minutes. Then we store it as `duration_min`. Note that we avoid spaces in the column names.\n",
    "\n",
    "**Time-of-day surcharges**\n",
    "```txt\n",
    "Plus $1.00 overnight surcharge 8pm to 6am.\n",
    "Plus $2.50 rush hour surcharge from 4pm to 8pm on weekdays, excluding holidays.\n",
    "```\n",
    "\n",
    "[There are some surcharges](https://www.nyc.gov/site/tlc/passengers/taxi-fare.page) depending on the time of day.\n"
   ]
  },
  {
   "cell_type": "code",
   "execution_count": 25,
   "metadata": {
    "id": "P8izh2AAXpeh"
   },
   "outputs": [
    {
     "data": {
      "text/plain": [
       "9892"
      ]
     },
     "execution_count": 25,
     "metadata": {},
     "output_type": "execute_result"
    }
   ],
   "source": [
    "(pd.Timestamp(\"2030-06-20 13:01:32\") - pd.Timestamp(\"2030-06-20 10:16:40\")).seconds"
   ]
  },
  {
   "cell_type": "code",
   "execution_count": 26,
   "metadata": {
    "id": "D3DkpV170JgR"
   },
   "outputs": [],
   "source": [
    "def is_rushhour(date):\n",
    "  if date.dayofweek <= 4:\n",
    "    if date.hour >= 16 and date.hour < 20:\n",
    "      return True\n",
    "\n",
    "  # Note that we do not need to specify all the `else` statements\n",
    "  return False"
   ]
  },
  {
   "cell_type": "code",
   "execution_count": 27,
   "metadata": {},
   "outputs": [
    {
     "data": {
      "text/html": [
       "<div>\n",
       "<style scoped>\n",
       "    .dataframe tbody tr th:only-of-type {\n",
       "        vertical-align: middle;\n",
       "    }\n",
       "\n",
       "    .dataframe tbody tr th {\n",
       "        vertical-align: top;\n",
       "    }\n",
       "\n",
       "    .dataframe thead th {\n",
       "        text-align: right;\n",
       "    }\n",
       "</style>\n",
       "<table border=\"1\" class=\"dataframe\">\n",
       "  <thead>\n",
       "    <tr style=\"text-align: right;\">\n",
       "      <th></th>\n",
       "      <th>pickup</th>\n",
       "      <th>dropoff</th>\n",
       "      <th>passengers</th>\n",
       "      <th>distance</th>\n",
       "      <th>fare</th>\n",
       "      <th>tip</th>\n",
       "      <th>tolls</th>\n",
       "      <th>total</th>\n",
       "      <th>color</th>\n",
       "      <th>payment</th>\n",
       "      <th>pickup_zone</th>\n",
       "      <th>dropoff_zone</th>\n",
       "      <th>pickup_borough</th>\n",
       "      <th>dropoff_borough</th>\n",
       "    </tr>\n",
       "  </thead>\n",
       "  <tbody>\n",
       "    <tr>\n",
       "      <th>0</th>\n",
       "      <td>2019-03-23 20:21:09</td>\n",
       "      <td>2019-03-23 20:27:24</td>\n",
       "      <td>1</td>\n",
       "      <td>1.60</td>\n",
       "      <td>7.0</td>\n",
       "      <td>2.15</td>\n",
       "      <td>0.0</td>\n",
       "      <td>12.95</td>\n",
       "      <td>yellow</td>\n",
       "      <td>credit card</td>\n",
       "      <td>Lenox Hill West</td>\n",
       "      <td>UN/Turtle Bay South</td>\n",
       "      <td>Manhattan</td>\n",
       "      <td>Manhattan</td>\n",
       "    </tr>\n",
       "    <tr>\n",
       "      <th>1</th>\n",
       "      <td>2019-03-04 16:11:55</td>\n",
       "      <td>2019-03-04 16:19:00</td>\n",
       "      <td>1</td>\n",
       "      <td>0.79</td>\n",
       "      <td>5.0</td>\n",
       "      <td>0.00</td>\n",
       "      <td>0.0</td>\n",
       "      <td>9.30</td>\n",
       "      <td>yellow</td>\n",
       "      <td>cash</td>\n",
       "      <td>Upper West Side South</td>\n",
       "      <td>Upper West Side South</td>\n",
       "      <td>Manhattan</td>\n",
       "      <td>Manhattan</td>\n",
       "    </tr>\n",
       "    <tr>\n",
       "      <th>2</th>\n",
       "      <td>2019-03-27 17:53:01</td>\n",
       "      <td>2019-03-27 18:00:25</td>\n",
       "      <td>1</td>\n",
       "      <td>1.37</td>\n",
       "      <td>7.5</td>\n",
       "      <td>2.36</td>\n",
       "      <td>0.0</td>\n",
       "      <td>14.16</td>\n",
       "      <td>yellow</td>\n",
       "      <td>credit card</td>\n",
       "      <td>Alphabet City</td>\n",
       "      <td>West Village</td>\n",
       "      <td>Manhattan</td>\n",
       "      <td>Manhattan</td>\n",
       "    </tr>\n",
       "    <tr>\n",
       "      <th>3</th>\n",
       "      <td>2019-03-10 01:23:59</td>\n",
       "      <td>2019-03-10 01:49:51</td>\n",
       "      <td>1</td>\n",
       "      <td>7.70</td>\n",
       "      <td>27.0</td>\n",
       "      <td>6.15</td>\n",
       "      <td>0.0</td>\n",
       "      <td>36.95</td>\n",
       "      <td>yellow</td>\n",
       "      <td>credit card</td>\n",
       "      <td>Hudson Sq</td>\n",
       "      <td>Yorkville West</td>\n",
       "      <td>Manhattan</td>\n",
       "      <td>Manhattan</td>\n",
       "    </tr>\n",
       "    <tr>\n",
       "      <th>4</th>\n",
       "      <td>2019-03-30 13:27:42</td>\n",
       "      <td>2019-03-30 13:37:14</td>\n",
       "      <td>3</td>\n",
       "      <td>2.16</td>\n",
       "      <td>9.0</td>\n",
       "      <td>1.10</td>\n",
       "      <td>0.0</td>\n",
       "      <td>13.40</td>\n",
       "      <td>yellow</td>\n",
       "      <td>credit card</td>\n",
       "      <td>Midtown East</td>\n",
       "      <td>Yorkville West</td>\n",
       "      <td>Manhattan</td>\n",
       "      <td>Manhattan</td>\n",
       "    </tr>\n",
       "    <tr>\n",
       "      <th>...</th>\n",
       "      <td>...</td>\n",
       "      <td>...</td>\n",
       "      <td>...</td>\n",
       "      <td>...</td>\n",
       "      <td>...</td>\n",
       "      <td>...</td>\n",
       "      <td>...</td>\n",
       "      <td>...</td>\n",
       "      <td>...</td>\n",
       "      <td>...</td>\n",
       "      <td>...</td>\n",
       "      <td>...</td>\n",
       "      <td>...</td>\n",
       "      <td>...</td>\n",
       "    </tr>\n",
       "    <tr>\n",
       "      <th>6428</th>\n",
       "      <td>2019-03-31 09:51:53</td>\n",
       "      <td>2019-03-31 09:55:27</td>\n",
       "      <td>1</td>\n",
       "      <td>0.75</td>\n",
       "      <td>4.5</td>\n",
       "      <td>1.06</td>\n",
       "      <td>0.0</td>\n",
       "      <td>6.36</td>\n",
       "      <td>green</td>\n",
       "      <td>credit card</td>\n",
       "      <td>East Harlem North</td>\n",
       "      <td>Central Harlem North</td>\n",
       "      <td>Manhattan</td>\n",
       "      <td>Manhattan</td>\n",
       "    </tr>\n",
       "    <tr>\n",
       "      <th>6429</th>\n",
       "      <td>2019-03-31 17:38:00</td>\n",
       "      <td>2019-03-31 18:34:23</td>\n",
       "      <td>1</td>\n",
       "      <td>18.74</td>\n",
       "      <td>58.0</td>\n",
       "      <td>0.00</td>\n",
       "      <td>0.0</td>\n",
       "      <td>58.80</td>\n",
       "      <td>green</td>\n",
       "      <td>credit card</td>\n",
       "      <td>Jamaica</td>\n",
       "      <td>East Concourse/Concourse Village</td>\n",
       "      <td>Queens</td>\n",
       "      <td>Bronx</td>\n",
       "    </tr>\n",
       "    <tr>\n",
       "      <th>6430</th>\n",
       "      <td>2019-03-23 22:55:18</td>\n",
       "      <td>2019-03-23 23:14:25</td>\n",
       "      <td>1</td>\n",
       "      <td>4.14</td>\n",
       "      <td>16.0</td>\n",
       "      <td>0.00</td>\n",
       "      <td>0.0</td>\n",
       "      <td>17.30</td>\n",
       "      <td>green</td>\n",
       "      <td>cash</td>\n",
       "      <td>Crown Heights North</td>\n",
       "      <td>Bushwick North</td>\n",
       "      <td>Brooklyn</td>\n",
       "      <td>Brooklyn</td>\n",
       "    </tr>\n",
       "    <tr>\n",
       "      <th>6431</th>\n",
       "      <td>2019-03-04 10:09:25</td>\n",
       "      <td>2019-03-04 10:14:29</td>\n",
       "      <td>1</td>\n",
       "      <td>1.12</td>\n",
       "      <td>6.0</td>\n",
       "      <td>0.00</td>\n",
       "      <td>0.0</td>\n",
       "      <td>6.80</td>\n",
       "      <td>green</td>\n",
       "      <td>credit card</td>\n",
       "      <td>East New York</td>\n",
       "      <td>East Flatbush/Remsen Village</td>\n",
       "      <td>Brooklyn</td>\n",
       "      <td>Brooklyn</td>\n",
       "    </tr>\n",
       "    <tr>\n",
       "      <th>6432</th>\n",
       "      <td>2019-03-13 19:31:22</td>\n",
       "      <td>2019-03-13 19:48:02</td>\n",
       "      <td>1</td>\n",
       "      <td>3.85</td>\n",
       "      <td>15.0</td>\n",
       "      <td>3.36</td>\n",
       "      <td>0.0</td>\n",
       "      <td>20.16</td>\n",
       "      <td>green</td>\n",
       "      <td>credit card</td>\n",
       "      <td>Boerum Hill</td>\n",
       "      <td>Windsor Terrace</td>\n",
       "      <td>Brooklyn</td>\n",
       "      <td>Brooklyn</td>\n",
       "    </tr>\n",
       "  </tbody>\n",
       "</table>\n",
       "<p>6341 rows × 14 columns</p>\n",
       "</div>"
      ],
      "text/plain": [
       "                  pickup             dropoff  passengers  distance  fare  \\\n",
       "0    2019-03-23 20:21:09 2019-03-23 20:27:24           1      1.60   7.0   \n",
       "1    2019-03-04 16:11:55 2019-03-04 16:19:00           1      0.79   5.0   \n",
       "2    2019-03-27 17:53:01 2019-03-27 18:00:25           1      1.37   7.5   \n",
       "3    2019-03-10 01:23:59 2019-03-10 01:49:51           1      7.70  27.0   \n",
       "4    2019-03-30 13:27:42 2019-03-30 13:37:14           3      2.16   9.0   \n",
       "...                  ...                 ...         ...       ...   ...   \n",
       "6428 2019-03-31 09:51:53 2019-03-31 09:55:27           1      0.75   4.5   \n",
       "6429 2019-03-31 17:38:00 2019-03-31 18:34:23           1     18.74  58.0   \n",
       "6430 2019-03-23 22:55:18 2019-03-23 23:14:25           1      4.14  16.0   \n",
       "6431 2019-03-04 10:09:25 2019-03-04 10:14:29           1      1.12   6.0   \n",
       "6432 2019-03-13 19:31:22 2019-03-13 19:48:02           1      3.85  15.0   \n",
       "\n",
       "       tip  tolls  total   color      payment            pickup_zone  \\\n",
       "0     2.15    0.0  12.95  yellow  credit card        Lenox Hill West   \n",
       "1     0.00    0.0   9.30  yellow         cash  Upper West Side South   \n",
       "2     2.36    0.0  14.16  yellow  credit card          Alphabet City   \n",
       "3     6.15    0.0  36.95  yellow  credit card              Hudson Sq   \n",
       "4     1.10    0.0  13.40  yellow  credit card           Midtown East   \n",
       "...    ...    ...    ...     ...          ...                    ...   \n",
       "6428  1.06    0.0   6.36   green  credit card      East Harlem North   \n",
       "6429  0.00    0.0  58.80   green  credit card                Jamaica   \n",
       "6430  0.00    0.0  17.30   green         cash    Crown Heights North   \n",
       "6431  0.00    0.0   6.80   green  credit card          East New York   \n",
       "6432  3.36    0.0  20.16   green  credit card            Boerum Hill   \n",
       "\n",
       "                          dropoff_zone pickup_borough dropoff_borough  \n",
       "0                  UN/Turtle Bay South      Manhattan       Manhattan  \n",
       "1                Upper West Side South      Manhattan       Manhattan  \n",
       "2                         West Village      Manhattan       Manhattan  \n",
       "3                       Yorkville West      Manhattan       Manhattan  \n",
       "4                       Yorkville West      Manhattan       Manhattan  \n",
       "...                                ...            ...             ...  \n",
       "6428              Central Harlem North      Manhattan       Manhattan  \n",
       "6429  East Concourse/Concourse Village         Queens           Bronx  \n",
       "6430                    Bushwick North       Brooklyn        Brooklyn  \n",
       "6431      East Flatbush/Remsen Village       Brooklyn        Brooklyn  \n",
       "6432                   Windsor Terrace       Brooklyn        Brooklyn  \n",
       "\n",
       "[6341 rows x 14 columns]"
      ]
     },
     "execution_count": 27,
     "metadata": {},
     "output_type": "execute_result"
    }
   ],
   "source": [
    "data"
   ]
  },
  {
   "cell_type": "code",
   "execution_count": 28,
   "metadata": {
    "id": "tHhsAzp7N2eo"
   },
   "outputs": [
    {
     "data": {
      "text/html": [
       "<div>\n",
       "<style scoped>\n",
       "    .dataframe tbody tr th:only-of-type {\n",
       "        vertical-align: middle;\n",
       "    }\n",
       "\n",
       "    .dataframe tbody tr th {\n",
       "        vertical-align: top;\n",
       "    }\n",
       "\n",
       "    .dataframe thead th {\n",
       "        text-align: right;\n",
       "    }\n",
       "</style>\n",
       "<table border=\"1\" class=\"dataframe\">\n",
       "  <thead>\n",
       "    <tr style=\"text-align: right;\">\n",
       "      <th></th>\n",
       "      <th>pickup</th>\n",
       "      <th>dropoff</th>\n",
       "      <th>passengers</th>\n",
       "      <th>distance</th>\n",
       "      <th>fare</th>\n",
       "      <th>tip</th>\n",
       "      <th>tolls</th>\n",
       "      <th>total</th>\n",
       "      <th>color</th>\n",
       "      <th>payment</th>\n",
       "      <th>pickup_zone</th>\n",
       "      <th>dropoff_zone</th>\n",
       "      <th>pickup_borough</th>\n",
       "      <th>dropoff_borough</th>\n",
       "      <th>weekend</th>\n",
       "      <th>duration_min</th>\n",
       "      <th>overnight</th>\n",
       "      <th>rushhour</th>\n",
       "    </tr>\n",
       "  </thead>\n",
       "  <tbody>\n",
       "    <tr>\n",
       "      <th>0</th>\n",
       "      <td>2019-03-23 20:21:09</td>\n",
       "      <td>2019-03-23 20:27:24</td>\n",
       "      <td>1</td>\n",
       "      <td>1.60</td>\n",
       "      <td>7.0</td>\n",
       "      <td>2.15</td>\n",
       "      <td>0.0</td>\n",
       "      <td>12.95</td>\n",
       "      <td>yellow</td>\n",
       "      <td>credit card</td>\n",
       "      <td>Lenox Hill West</td>\n",
       "      <td>UN/Turtle Bay South</td>\n",
       "      <td>Manhattan</td>\n",
       "      <td>Manhattan</td>\n",
       "      <td>True</td>\n",
       "      <td>6.250000</td>\n",
       "      <td>True</td>\n",
       "      <td>False</td>\n",
       "    </tr>\n",
       "    <tr>\n",
       "      <th>1</th>\n",
       "      <td>2019-03-04 16:11:55</td>\n",
       "      <td>2019-03-04 16:19:00</td>\n",
       "      <td>1</td>\n",
       "      <td>0.79</td>\n",
       "      <td>5.0</td>\n",
       "      <td>0.00</td>\n",
       "      <td>0.0</td>\n",
       "      <td>9.30</td>\n",
       "      <td>yellow</td>\n",
       "      <td>cash</td>\n",
       "      <td>Upper West Side South</td>\n",
       "      <td>Upper West Side South</td>\n",
       "      <td>Manhattan</td>\n",
       "      <td>Manhattan</td>\n",
       "      <td>False</td>\n",
       "      <td>7.083333</td>\n",
       "      <td>False</td>\n",
       "      <td>True</td>\n",
       "    </tr>\n",
       "  </tbody>\n",
       "</table>\n",
       "</div>"
      ],
      "text/plain": [
       "               pickup             dropoff  passengers  distance  fare   tip  \\\n",
       "0 2019-03-23 20:21:09 2019-03-23 20:27:24           1      1.60   7.0  2.15   \n",
       "1 2019-03-04 16:11:55 2019-03-04 16:19:00           1      0.79   5.0  0.00   \n",
       "\n",
       "   tolls  total   color      payment            pickup_zone  \\\n",
       "0    0.0  12.95  yellow  credit card        Lenox Hill West   \n",
       "1    0.0   9.30  yellow         cash  Upper West Side South   \n",
       "\n",
       "            dropoff_zone pickup_borough dropoff_borough  weekend  \\\n",
       "0    UN/Turtle Bay South      Manhattan       Manhattan     True   \n",
       "1  Upper West Side South      Manhattan       Manhattan    False   \n",
       "\n",
       "   duration_min  overnight  rushhour  \n",
       "0      6.250000       True     False  \n",
       "1      7.083333      False      True  "
      ]
     },
     "execution_count": 28,
     "metadata": {},
     "output_type": "execute_result"
    }
   ],
   "source": [
    "data_with_added_variables = data.assign(\n",
    "\n",
    "    # Weekend\n",
    "    weekend = lambda df: df['pickup'].dt.dayofweek >= 5,\n",
    "\n",
    "    # Duration in minutes\n",
    "    duration_min = lambda df: (df['dropoff']-df['pickup']).dt.seconds/60,\n",
    "\n",
    "    # Time-of-day surcharges\n",
    "    overnight = lambda df: ((df['pickup'].dt.hour >= 20) | (df['pickup'].dt.hour <= 6)),\n",
    "    rushhour = lambda df: df['pickup'].apply(is_rushhour),\n",
    "    )\n",
    "\n",
    "data_with_added_variables.head(2)"
   ]
  },
  {
   "cell_type": "markdown",
   "metadata": {
    "id": "O8_QMZxrY-au"
   },
   "source": [
    "**Expensive areas**\n",
    "\n",
    "[This source](https://www.roadwaymoving.com/blog/most-expensive-neighborhoods-in-nyc/) provides a list of NYC's most expensive neighbourhoods.\n",
    "We want to add a variable that tells us if a trip started in one of these expensive areas."
   ]
  },
  {
   "cell_type": "code",
   "execution_count": 29,
   "metadata": {
    "id": "D1AZ7oh0_-BS"
   },
   "outputs": [
    {
     "data": {
      "text/html": [
       "<div>\n",
       "<style scoped>\n",
       "    .dataframe tbody tr th:only-of-type {\n",
       "        vertical-align: middle;\n",
       "    }\n",
       "\n",
       "    .dataframe tbody tr th {\n",
       "        vertical-align: top;\n",
       "    }\n",
       "\n",
       "    .dataframe thead th {\n",
       "        text-align: right;\n",
       "    }\n",
       "</style>\n",
       "<table border=\"1\" class=\"dataframe\">\n",
       "  <thead>\n",
       "    <tr style=\"text-align: right;\">\n",
       "      <th></th>\n",
       "      <th>pickup_zone</th>\n",
       "      <th>expensive</th>\n",
       "    </tr>\n",
       "  </thead>\n",
       "  <tbody>\n",
       "    <tr>\n",
       "      <th>0</th>\n",
       "      <td>TriBeCa/Civic Center</td>\n",
       "      <td>True</td>\n",
       "    </tr>\n",
       "    <tr>\n",
       "      <th>1</th>\n",
       "      <td>Central Park</td>\n",
       "      <td>True</td>\n",
       "    </tr>\n",
       "    <tr>\n",
       "      <th>2</th>\n",
       "      <td>Times Sq/Theatre District</td>\n",
       "      <td>True</td>\n",
       "    </tr>\n",
       "    <tr>\n",
       "      <th>3</th>\n",
       "      <td>SoHo</td>\n",
       "      <td>True</td>\n",
       "    </tr>\n",
       "    <tr>\n",
       "      <th>4</th>\n",
       "      <td>Little Italy/NoLiTa</td>\n",
       "      <td>True</td>\n",
       "    </tr>\n",
       "    <tr>\n",
       "      <th>5</th>\n",
       "      <td>West Chelsea/Hudson Yards</td>\n",
       "      <td>True</td>\n",
       "    </tr>\n",
       "  </tbody>\n",
       "</table>\n",
       "</div>"
      ],
      "text/plain": [
       "                 pickup_zone  expensive\n",
       "0       TriBeCa/Civic Center       True\n",
       "1               Central Park       True\n",
       "2  Times Sq/Theatre District       True\n",
       "3                       SoHo       True\n",
       "4        Little Italy/NoLiTa       True\n",
       "5  West Chelsea/Hudson Yards       True"
      ]
     },
     "execution_count": 29,
     "metadata": {},
     "output_type": "execute_result"
    }
   ],
   "source": [
    "expensive_areas = {\"pickup_zone\":['TriBeCa/Civic Center', 'Central Park', 'Times Sq/Theatre District', 'SoHo', 'Little Italy/NoLiTa', 'West Chelsea/Hudson Yards']}\n",
    "expensive_areas = pd.DataFrame(expensive_areas).assign(expensive = True)\n",
    "expensive_areas"
   ]
  },
  {
   "cell_type": "code",
   "execution_count": 30,
   "metadata": {
    "id": "Gx3pRTGdHo96"
   },
   "outputs": [
    {
     "data": {
      "text/html": [
       "<div>\n",
       "<style scoped>\n",
       "    .dataframe tbody tr th:only-of-type {\n",
       "        vertical-align: middle;\n",
       "    }\n",
       "\n",
       "    .dataframe tbody tr th {\n",
       "        vertical-align: top;\n",
       "    }\n",
       "\n",
       "    .dataframe thead th {\n",
       "        text-align: right;\n",
       "    }\n",
       "</style>\n",
       "<table border=\"1\" class=\"dataframe\">\n",
       "  <thead>\n",
       "    <tr style=\"text-align: right;\">\n",
       "      <th></th>\n",
       "      <th>pickup</th>\n",
       "      <th>dropoff</th>\n",
       "      <th>passengers</th>\n",
       "      <th>distance</th>\n",
       "      <th>fare</th>\n",
       "      <th>tip</th>\n",
       "      <th>tolls</th>\n",
       "      <th>total</th>\n",
       "      <th>color</th>\n",
       "      <th>payment</th>\n",
       "      <th>pickup_zone</th>\n",
       "      <th>dropoff_zone</th>\n",
       "      <th>pickup_borough</th>\n",
       "      <th>dropoff_borough</th>\n",
       "      <th>weekend</th>\n",
       "      <th>duration_min</th>\n",
       "      <th>overnight</th>\n",
       "      <th>rushhour</th>\n",
       "      <th>expensive</th>\n",
       "    </tr>\n",
       "  </thead>\n",
       "  <tbody>\n",
       "    <tr>\n",
       "      <th>0</th>\n",
       "      <td>2019-03-23 20:21:09</td>\n",
       "      <td>2019-03-23 20:27:24</td>\n",
       "      <td>1</td>\n",
       "      <td>1.60</td>\n",
       "      <td>7.0</td>\n",
       "      <td>2.15</td>\n",
       "      <td>0.0</td>\n",
       "      <td>12.95</td>\n",
       "      <td>yellow</td>\n",
       "      <td>credit card</td>\n",
       "      <td>Lenox Hill West</td>\n",
       "      <td>UN/Turtle Bay South</td>\n",
       "      <td>Manhattan</td>\n",
       "      <td>Manhattan</td>\n",
       "      <td>True</td>\n",
       "      <td>6.250000</td>\n",
       "      <td>True</td>\n",
       "      <td>False</td>\n",
       "      <td>NaN</td>\n",
       "    </tr>\n",
       "    <tr>\n",
       "      <th>1</th>\n",
       "      <td>2019-03-04 16:11:55</td>\n",
       "      <td>2019-03-04 16:19:00</td>\n",
       "      <td>1</td>\n",
       "      <td>0.79</td>\n",
       "      <td>5.0</td>\n",
       "      <td>0.00</td>\n",
       "      <td>0.0</td>\n",
       "      <td>9.30</td>\n",
       "      <td>yellow</td>\n",
       "      <td>cash</td>\n",
       "      <td>Upper West Side South</td>\n",
       "      <td>Upper West Side South</td>\n",
       "      <td>Manhattan</td>\n",
       "      <td>Manhattan</td>\n",
       "      <td>False</td>\n",
       "      <td>7.083333</td>\n",
       "      <td>False</td>\n",
       "      <td>True</td>\n",
       "      <td>NaN</td>\n",
       "    </tr>\n",
       "  </tbody>\n",
       "</table>\n",
       "</div>"
      ],
      "text/plain": [
       "               pickup             dropoff  passengers  distance  fare   tip  \\\n",
       "0 2019-03-23 20:21:09 2019-03-23 20:27:24           1      1.60   7.0  2.15   \n",
       "1 2019-03-04 16:11:55 2019-03-04 16:19:00           1      0.79   5.0  0.00   \n",
       "\n",
       "   tolls  total   color      payment            pickup_zone  \\\n",
       "0    0.0  12.95  yellow  credit card        Lenox Hill West   \n",
       "1    0.0   9.30  yellow         cash  Upper West Side South   \n",
       "\n",
       "            dropoff_zone pickup_borough dropoff_borough  weekend  \\\n",
       "0    UN/Turtle Bay South      Manhattan       Manhattan     True   \n",
       "1  Upper West Side South      Manhattan       Manhattan    False   \n",
       "\n",
       "   duration_min  overnight  rushhour expensive  \n",
       "0      6.250000       True     False       NaN  \n",
       "1      7.083333      False      True       NaN  "
      ]
     },
     "execution_count": 30,
     "metadata": {},
     "output_type": "execute_result"
    }
   ],
   "source": [
    "# We need to merge how='left'\n",
    "data_with_added_variables = data_with_added_variables.merge(expensive_areas, how='left',on='pickup_zone')\n",
    "\n",
    "data_with_added_variables.head(2)"
   ]
  },
  {
   "cell_type": "markdown",
   "metadata": {
    "id": "qGg9_sP1ZV2Z"
   },
   "source": [
    "Due to the `how='left'` merge, we have a lot of missing values (NaN). We want to fill them. Thus, we use the `fillna()` method on that column."
   ]
  },
  {
   "cell_type": "code",
   "execution_count": 31,
   "metadata": {
    "id": "-cPoF7OfH9rM"
   },
   "outputs": [
    {
     "name": "stderr",
     "output_type": "stream",
     "text": [
      "C:\\Users\\godfr\\AppData\\Local\\Temp\\ipykernel_41260\\3591545572.py:1: FutureWarning: Downcasting object dtype arrays on .fillna, .ffill, .bfill is deprecated and will change in a future version. Call result.infer_objects(copy=False) instead. To opt-in to the future behavior, set `pd.set_option('future.no_silent_downcasting', True)`\n",
      "  data_with_added_variables['expensive'] = data_with_added_variables['expensive'].fillna(False)\n"
     ]
    },
    {
     "data": {
      "text/html": [
       "<div>\n",
       "<style scoped>\n",
       "    .dataframe tbody tr th:only-of-type {\n",
       "        vertical-align: middle;\n",
       "    }\n",
       "\n",
       "    .dataframe tbody tr th {\n",
       "        vertical-align: top;\n",
       "    }\n",
       "\n",
       "    .dataframe thead th {\n",
       "        text-align: right;\n",
       "    }\n",
       "</style>\n",
       "<table border=\"1\" class=\"dataframe\">\n",
       "  <thead>\n",
       "    <tr style=\"text-align: right;\">\n",
       "      <th></th>\n",
       "      <th>pickup</th>\n",
       "      <th>dropoff</th>\n",
       "      <th>passengers</th>\n",
       "      <th>distance</th>\n",
       "      <th>fare</th>\n",
       "      <th>tip</th>\n",
       "      <th>tolls</th>\n",
       "      <th>total</th>\n",
       "      <th>color</th>\n",
       "      <th>payment</th>\n",
       "      <th>pickup_zone</th>\n",
       "      <th>dropoff_zone</th>\n",
       "      <th>pickup_borough</th>\n",
       "      <th>dropoff_borough</th>\n",
       "      <th>weekend</th>\n",
       "      <th>duration_min</th>\n",
       "      <th>overnight</th>\n",
       "      <th>rushhour</th>\n",
       "      <th>expensive</th>\n",
       "    </tr>\n",
       "  </thead>\n",
       "  <tbody>\n",
       "    <tr>\n",
       "      <th>0</th>\n",
       "      <td>2019-03-23 20:21:09</td>\n",
       "      <td>2019-03-23 20:27:24</td>\n",
       "      <td>1</td>\n",
       "      <td>1.60</td>\n",
       "      <td>7.0</td>\n",
       "      <td>2.15</td>\n",
       "      <td>0.0</td>\n",
       "      <td>12.95</td>\n",
       "      <td>yellow</td>\n",
       "      <td>credit card</td>\n",
       "      <td>Lenox Hill West</td>\n",
       "      <td>UN/Turtle Bay South</td>\n",
       "      <td>Manhattan</td>\n",
       "      <td>Manhattan</td>\n",
       "      <td>True</td>\n",
       "      <td>6.250000</td>\n",
       "      <td>True</td>\n",
       "      <td>False</td>\n",
       "      <td>False</td>\n",
       "    </tr>\n",
       "    <tr>\n",
       "      <th>1</th>\n",
       "      <td>2019-03-04 16:11:55</td>\n",
       "      <td>2019-03-04 16:19:00</td>\n",
       "      <td>1</td>\n",
       "      <td>0.79</td>\n",
       "      <td>5.0</td>\n",
       "      <td>0.00</td>\n",
       "      <td>0.0</td>\n",
       "      <td>9.30</td>\n",
       "      <td>yellow</td>\n",
       "      <td>cash</td>\n",
       "      <td>Upper West Side South</td>\n",
       "      <td>Upper West Side South</td>\n",
       "      <td>Manhattan</td>\n",
       "      <td>Manhattan</td>\n",
       "      <td>False</td>\n",
       "      <td>7.083333</td>\n",
       "      <td>False</td>\n",
       "      <td>True</td>\n",
       "      <td>False</td>\n",
       "    </tr>\n",
       "  </tbody>\n",
       "</table>\n",
       "</div>"
      ],
      "text/plain": [
       "               pickup             dropoff  passengers  distance  fare   tip  \\\n",
       "0 2019-03-23 20:21:09 2019-03-23 20:27:24           1      1.60   7.0  2.15   \n",
       "1 2019-03-04 16:11:55 2019-03-04 16:19:00           1      0.79   5.0  0.00   \n",
       "\n",
       "   tolls  total   color      payment            pickup_zone  \\\n",
       "0    0.0  12.95  yellow  credit card        Lenox Hill West   \n",
       "1    0.0   9.30  yellow         cash  Upper West Side South   \n",
       "\n",
       "            dropoff_zone pickup_borough dropoff_borough  weekend  \\\n",
       "0    UN/Turtle Bay South      Manhattan       Manhattan     True   \n",
       "1  Upper West Side South      Manhattan       Manhattan    False   \n",
       "\n",
       "   duration_min  overnight  rushhour  expensive  \n",
       "0      6.250000       True     False      False  \n",
       "1      7.083333      False      True      False  "
      ]
     },
     "execution_count": 31,
     "metadata": {},
     "output_type": "execute_result"
    }
   ],
   "source": [
    "data_with_added_variables['expensive'] = data_with_added_variables['expensive'].fillna(False)\n",
    "data_with_added_variables.head(2)"
   ]
  },
  {
   "cell_type": "markdown",
   "metadata": {
    "id": "rHTVP8Y72uDB"
   },
   "source": [
    "**Using the new variables in a regression**\n",
    "\n",
    "Let's try to see if the fare can be predicted based on the `distance` and our new variables."
   ]
  },
  {
   "cell_type": "code",
   "execution_count": 32,
   "metadata": {
    "id": "Jocv-Qql2zn_"
   },
   "outputs": [
    {
     "name": "stdout",
     "output_type": "stream",
     "text": [
      "###\n",
      "\n",
      "Estimation:  OLS\n",
      "Dep. var.: fare, Fixed effects: 0\n",
      "Inference:  iid\n",
      "Observations:  6341\n",
      "\n",
      "| Coefficient   |   Estimate |   Std. Error |   t value |   Pr(>|t|) |   2.5% |   97.5% |\n",
      "|:--------------|-----------:|-------------:|----------:|-----------:|-------:|--------:|\n",
      "| Intercept     |      2.622 |        0.068 |    38.356 |      0.000 |  2.488 |   2.756 |\n",
      "| distance      |      1.928 |        0.016 |   117.088 |      0.000 |  1.895 |   1.960 |\n",
      "| duration_min  |      0.316 |        0.005 |    59.200 |      0.000 |  0.305 |   0.326 |\n",
      "| overnight     |     -0.112 |        0.079 |    -1.417 |      0.157 | -0.266 |   0.043 |\n",
      "| rushhour      |     -0.060 |        0.094 |    -0.632 |      0.528 | -0.244 |   0.125 |\n",
      "---\n",
      "RMSE: 2.707 R2: 0.936 \n"
     ]
    }
   ],
   "source": [
    "pf.feols(\"fare ~ distance + duration_min + overnight + rushhour\", data=data_with_added_variables).summary()"
   ]
  },
  {
   "cell_type": "markdown",
   "metadata": {
    "id": "8_I2k4PO3VQG"
   },
   "source": [
    "**Quick exercise**\n",
    "\n",
    "Only some variables are significant predictors of the fare. Many are not.\n",
    "\n",
    "Since they are called \"surcharges\", maybe they don't count towards the fare, but rather towards the total? Run that regression and interpret your results."
   ]
  },
  {
   "cell_type": "code",
   "execution_count": 33,
   "metadata": {},
   "outputs": [
    {
     "name": "stdout",
     "output_type": "stream",
     "text": [
      "###\n",
      "\n",
      "Estimation:  OLS\n",
      "Dep. var.: total, Fixed effects: 0\n",
      "Inference:  iid\n",
      "Observations:  6341\n",
      "\n",
      "| Coefficient   |   Estimate |   Std. Error |   t value |   Pr(>|t|) |   2.5% |   97.5% |\n",
      "|:--------------|-----------:|-------------:|----------:|-----------:|-------:|--------:|\n",
      "| Intercept     |      6.252 |        0.109 |    57.218 |      0.000 |  6.038 |   6.466 |\n",
      "| distance      |      2.456 |        0.026 |    93.363 |      0.000 |  2.405 |   2.508 |\n",
      "| duration_min  |      0.306 |        0.009 |    35.832 |      0.000 |  0.289 |   0.322 |\n",
      "| overnight     |      0.332 |        0.126 |     2.638 |      0.008 |  0.085 |   0.579 |\n",
      "| rushhour      |      1.158 |        0.151 |     7.690 |      0.000 |  0.863 |   1.453 |\n",
      "---\n",
      "RMSE: 4.326 R2: 0.888 \n"
     ]
    }
   ],
   "source": [
    "pf.feols(\"total ~ distance + duration_min + overnight + rushhour\", data=data_with_added_variables).summary()"
   ]
  },
  {
   "cell_type": "markdown",
   "metadata": {
    "id": "nSVdQWQm4UKP"
   },
   "source": [
    "### Advanced"
   ]
  },
  {
   "cell_type": "markdown",
   "metadata": {
    "id": "G4OY31eT7Xo1"
   },
   "source": [
    "#### Interaction terms"
   ]
  },
  {
   "cell_type": "markdown",
   "metadata": {
    "id": "FC3Xp2bc4aH0"
   },
   "source": [
    "We typically require slightly more advanced approaches to address our research question.\n",
    "\n",
    "For example interaction terms.\n",
    "Let's say we want to find out whether the tip amount is dependent on whether it's a weekend (people might be on a leisure trip and willing to tip more) and the ride starts in an expensive area (where passengers are wealthier). In addition, we also want to know whether riders from expensive areas tip differently during the weekend (because wealthier people might be more likely to go on a leisure trip).\n",
    "\n",
    "Thus, we can interact `weekend` with `expensive`. We can do so by writing `weekend*expensive`, which adds both variables individually and their interaction term.\n",
    "\n",
    "Unfortunately, tips are only recorded for credit card payments, thus, we need to filter the data."
   ]
  },
  {
   "cell_type": "code",
   "execution_count": 34,
   "metadata": {
    "id": "J-Ua-I6LJzfE"
   },
   "outputs": [],
   "source": [
    "credit_card_only = data_with_added_variables.query(\"payment == 'credit card'\")"
   ]
  },
  {
   "cell_type": "code",
   "execution_count": 35,
   "metadata": {
    "id": "U8plUnrLBrnw"
   },
   "outputs": [
    {
     "name": "stdout",
     "output_type": "stream",
     "text": [
      "###\n",
      "\n",
      "Estimation:  OLS\n",
      "Dep. var.: tip, Fixed effects: 0\n",
      "Inference:  iid\n",
      "Observations:  4546\n",
      "\n",
      "| Coefficient       |   Estimate |   Std. Error |   t value |   Pr(>|t|) |   2.5% |   97.5% |\n",
      "|:------------------|-----------:|-------------:|----------:|-----------:|-------:|--------:|\n",
      "| Intercept         |      0.999 |        0.050 |    19.886 |      0.000 |  0.901 |   1.098 |\n",
      "| fare              |      0.126 |        0.003 |    48.916 |      0.000 |  0.121 |   0.131 |\n",
      "| weekend           |      0.048 |        0.066 |     0.732 |      0.464 | -0.081 |   0.178 |\n",
      "| expensive         |      0.487 |        0.123 |     3.968 |      0.000 |  0.247 |   0.728 |\n",
      "| weekend:expensive |     -0.162 |        0.225 |    -0.720 |      0.472 | -0.604 |   0.280 |\n",
      "---\n",
      "RMSE: 1.92 R2: 0.346 \n"
     ]
    }
   ],
   "source": [
    "pf.feols(\"tip ~ fare + weekend*expensive\", data=credit_card_only).summary()\n",
    "\n",
    "# Equivalent\n",
    "# pf.feols(\"tip ~ fare + weekend + expensive + weekend:expensive\", data=credit_card_only).summary()"
   ]
  },
  {
   "cell_type": "markdown",
   "metadata": {
    "id": "9hBYX18SKgVk"
   },
   "source": [
    "From our results, we can see that in general our hypothesis were true, except that we would have expected a positive coefficient on the interaction term as well."
   ]
  },
  {
   "cell_type": "markdown",
   "metadata": {
    "id": "6vhlq2hvc74E"
   },
   "source": [
    "**Quick exercise**\n",
    "\n",
    "- Run the regression for the following equation: $fare = a + \\beta_1 \\times distance + \\beta_2 \\times weekend + \\beta_3 \\times weekend \\times distance + \\epsilon$. What are we measuring with the interaction term?\n",
    "- Calculate the unconditional mean of `fare`. How large is the economic effect of weekend in percent of the unconditional mean? Is it statistically and economically significant? (Manually copy the coefficient for weekend)."
   ]
  },
  {
   "cell_type": "markdown",
   "metadata": {
    "id": "LwxomTRF7ZzV"
   },
   "source": [
    "#### Variable transformations\n",
    "\n",
    "Using the logarithm and other transformations are also very commonly applied methods. To achieve this, you can of course create a new column in your data that has the transformation applied.\n",
    "\n",
    "Some functions (numpy) can however also be applied in your regression equation, which can be useful."
   ]
  },
  {
   "cell_type": "code",
   "execution_count": 36,
   "metadata": {
    "id": "W83MDhVS7vyi"
   },
   "outputs": [
    {
     "name": "stdout",
     "output_type": "stream",
     "text": [
      "###\n",
      "\n",
      "Estimation:  OLS\n",
      "Dep. var.: total, Fixed effects: 0\n",
      "Inference:  iid\n",
      "Observations:  6341\n",
      "\n",
      "| Coefficient          |   Estimate |   Std. Error |   t value |   Pr(>|t|) |   2.5% |   97.5% |\n",
      "|:---------------------|-----------:|-------------:|----------:|-----------:|-------:|--------:|\n",
      "| Intercept            |      1.297 |        0.106 |    12.202 |      0.000 |  1.088 |   1.505 |\n",
      "| np.log(distance + 1) |      6.251 |        0.145 |    43.235 |      0.000 |  5.968 |   6.535 |\n",
      "| tip                  |      1.360 |        0.022 |    63.087 |      0.000 |  1.318 |   1.402 |\n",
      "| tolls                |      2.416 |        0.039 |    62.471 |      0.000 |  2.341 |   2.492 |\n",
      "| duration_min         |      0.423 |        0.008 |    56.275 |      0.000 |  0.408 |   0.438 |\n",
      "| overnight            |      0.727 |        0.103 |     7.029 |      0.000 |  0.524 |   0.929 |\n",
      "| rushhour             |      0.908 |        0.122 |     7.473 |      0.000 |  0.670 |   1.147 |\n",
      "---\n",
      "RMSE: 3.488 R2: 0.927 \n"
     ]
    }
   ],
   "source": [
    "pf.feols(\"total ~ np.log(distance+1) + tip + tolls + duration_min + overnight + rushhour\", data=data_with_added_variables).summary()"
   ]
  },
  {
   "cell_type": "markdown",
   "metadata": {
    "id": "LU_2prz236aI"
   },
   "source": [
    "## Fixed effect regression"
   ]
  },
  {
   "cell_type": "markdown",
   "metadata": {
    "id": "fNRqP8Z8FW54"
   },
   "source": [
    "Now let's run a more advanced type of regression. Fixed effect regressions.\n",
    "\n",
    "Typically, we have a single intercept in our regression. However, in some cases, we might want to have separate intercepts for e.g. the color of the taxis.\n",
    "\n",
    "We can specify that by providing the pipe operator `|` after our regression specification and then listing the different variables we want to add fixed effects for."
   ]
  },
  {
   "cell_type": "code",
   "execution_count": 37,
   "metadata": {
    "id": "sgcqRnkbzbeb"
   },
   "outputs": [
    {
     "name": "stdout",
     "output_type": "stream",
     "text": [
      "###\n",
      "\n",
      "Estimation:  OLS\n",
      "Dep. var.: fare, Fixed effects: color\n",
      "Inference:  CRV1\n",
      "Observations:  6341\n",
      "\n",
      "| Coefficient   |   Estimate |   Std. Error |   t value |   Pr(>|t|) |   2.5% |   97.5% |\n",
      "|:--------------|-----------:|-------------:|----------:|-----------:|-------:|--------:|\n",
      "| distance      |      1.924 |        0.035 |    55.216 |      0.012 |  1.481 |   2.366 |\n",
      "| duration_min  |      0.318 |        0.006 |    55.787 |      0.011 |  0.245 |   0.390 |\n",
      "---\n",
      "RMSE: 2.707 R2: 0.936 R2 Within: 0.936 \n"
     ]
    }
   ],
   "source": [
    "pf.feols(\"fare ~ distance + duration_min | color\", data=data_with_added_variables).summary()\n",
    "# You can see that there is no intercept listed in the regression output anymore. It is subsumed by the Fixed Effect."
   ]
  },
  {
   "cell_type": "markdown",
   "metadata": {
    "id": "kVTJdDFKEUcu"
   },
   "source": [
    "**Quick exercise**\n",
    "\n",
    "Add a FE for `pickup_zone` to the regression of the `tip` on `fare`. Use the credit card only dataset."
   ]
  },
  {
   "cell_type": "markdown",
   "metadata": {
    "id": "78C3_OG2IzEU"
   },
   "source": [
    "## Prediction\n",
    "\n",
    "Sometimes you want to have predicted values, e.g. when forecasting expected returns."
   ]
  },
  {
   "cell_type": "code",
   "execution_count": 38,
   "metadata": {
    "id": "14mcQSbnEXfL"
   },
   "outputs": [],
   "source": [
    "# Let's take the following model\n",
    "model = pf.feols(\"fare ~ distance + duration_min | color\", data=data_with_added_variables) # No .summary()!"
   ]
  },
  {
   "cell_type": "code",
   "execution_count": 39,
   "metadata": {
    "id": "KKFiAfWHHjx_"
   },
   "outputs": [
    {
     "data": {
      "text/plain": [
       "array([ 7.65327773,  6.35992282,  7.57617588, ..., 16.45126653,\n",
       "        6.17895182, 15.11515776])"
      ]
     },
     "execution_count": 39,
     "metadata": {},
     "output_type": "execute_result"
    }
   ],
   "source": [
    "# Run the `predict` method of the model.\n",
    "predicted_fare = model.predict(data_with_added_variables)\n",
    "predicted_fare"
   ]
  },
  {
   "cell_type": "code",
   "execution_count": 40,
   "metadata": {
    "id": "7kqf8SR6HvM6"
   },
   "outputs": [
    {
     "data": {
      "text/plain": [
       "<Axes: >"
      ]
     },
     "execution_count": 40,
     "metadata": {},
     "output_type": "execute_result"
    },
    {
     "data": {
      "image/png": "[encoded data removed]",
      "text/plain": [
       "<Figure size 640x480 with 1 Axes>"
      ]
     },
     "metadata": {},
     "output_type": "display_data"
    }
   ],
   "source": [
    "# We can then use the predictions in any way we want, e.g. to calculate the difference to the actual data.\n",
    "data_with_added_variables['fare'].subtract(predicted_fare).hist(bins=100)"
   ]
  },
  {
   "cell_type": "markdown",
   "metadata": {
    "id": "-3A0Bf-zSGqd"
   },
   "source": [
    "## Presenting the results"
   ]
  },
  {
   "cell_type": "markdown",
   "metadata": {
    "id": "bnhqwnmBTBar"
   },
   "source": [
    "After running (multiple) regressions, you typically want to show them in an easy-to-understand way. We can use the `etable` function for this purpose."
   ]
  },
  {
   "cell_type": "code",
   "execution_count": 41,
   "metadata": {
    "id": "85NE0ZrhSTiN"
   },
   "outputs": [],
   "source": [
    "# First, we run several regressions.\n",
    "results = []\n",
    "\n",
    "specifications = [\n",
    "    \"total ~ distance + tip + tolls*duration_min + overnight + rushhour\",\n",
    "    \"fare ~ distance + duration_min | color + C(passengers)\",\n",
    "]\n",
    "\n",
    "for spec in specifications:\n",
    "  result = pf.feols(spec, data=data_with_added_variables)\n",
    "  results.append(result)"
   ]
  },
  {
   "cell_type": "code",
   "execution_count": 42,
   "metadata": {
    "id": "i3BfQLanSJRZ"
   },
   "outputs": [
    {
     "data": {
      "text/html": [
       "<div id=\"wkpoxpcevg\" style=\"padding-left:0px;padding-right:0px;padding-top:10px;padding-bottom:10px;overflow-x:auto;overflow-y:auto;width:auto;height:auto;\">\n",
       "<style>\n",
       "#wkpoxpcevg table {\n",
       "          font-family: -apple-system, BlinkMacSystemFont, 'Segoe UI', Roboto, Oxygen, Ubuntu, Cantarell, 'Helvetica Neue', 'Fira Sans', 'Droid Sans', Arial, sans-serif;\n",
       "          -webkit-font-smoothing: antialiased;\n",
       "          -moz-osx-font-smoothing: grayscale;\n",
       "        }\n",
       "\n",
       "#wkpoxpcevg thead, tbody, tfoot, tr, td, th { border-style: none !important; }\n",
       " tr { background-color: transparent !important; }\n",
       "#wkpoxpcevg p { margin: 0 !important; padding: 0 !important; }\n",
       " #wkpoxpcevg .gt_table { display: table !important; border-collapse: collapse !important; line-height: normal !important; margin-left: auto !important; margin-right: auto !important; color: #333333 !important; font-size: 16px !important; font-weight: normal !important; font-style: normal !important; background-color: #FFFFFF !important; width: auto !important; border-top-style: solid !important; border-top-width: 2px !important; border-top-color: #A8A8A8 !important; border-right-style: none !important; border-right-width: 2px !important; border-right-color: #D3D3D3 !important; border-bottom-style: hidden !important; border-bottom-width: 2px !important; border-bottom-color: #A8A8A8 !important; border-left-style: none !important; border-left-width: 2px !important; border-left-color: #D3D3D3 !important; }\n",
       " #wkpoxpcevg .gt_caption { padding-top: 4px !important; padding-bottom: 4px !important; }\n",
       " #wkpoxpcevg .gt_title { color: #333333 !important; font-size: 125% !important; font-weight: initial !important; padding-top: 4px !important; padding-bottom: 4px !important; padding-left: 5px !important; padding-right: 5px !important; border-bottom-color: #FFFFFF !important; border-bottom-width: 0 !important; }\n",
       " #wkpoxpcevg .gt_subtitle { color: #333333 !important; font-size: 85% !important; font-weight: initial !important; padding-top: 3px !important; padding-bottom: 5px !important; padding-left: 5px !important; padding-right: 5px !important; border-top-color: #FFFFFF !important; border-top-width: 0 !important; }\n",
       " #wkpoxpcevg .gt_heading { background-color: #FFFFFF !important; text-align: center !important; border-bottom-color: #FFFFFF !important; border-left-style: none !important; border-left-width: 1px !important; border-left-color: #D3D3D3 !important; border-right-style: none !important; border-right-width: 1px !important; border-right-color: #D3D3D3 !important; }\n",
       " #wkpoxpcevg .gt_bottom_border { border-bottom-style: solid !important; border-bottom-width: 2px !important; border-bottom-color: #D3D3D3 !important; }\n",
       " #wkpoxpcevg .gt_col_headings { border-top-style: solid !important; border-top-width: 2px !important; border-top-color: black !important; border-bottom-style: solid !important; border-bottom-width: 0.5px !important; border-bottom-color: black !important; border-left-style: none !important; border-left-width: 1px !important; border-left-color: #D3D3D3 !important; border-right-style: none !important; border-right-width: 1px !important; border-right-color: #D3D3D3 !important; }\n",
       " #wkpoxpcevg .gt_col_heading { color: #333333 !important; background-color: #FFFFFF !important; font-size: 100% !important; font-weight: normal !important; text-transform: inherit !important; border-left-style: none !important; border-left-width: 0px !important; border-left-color: white !important; border-right-style: none !important; border-right-width: 0px !important; border-right-color: white !important; vertical-align: bottom !important; padding-top: 4px !important; padding-bottom: 5px !important; padding-left: 5px !important; padding-right: 5px !important; overflow-x: hidden !important; }\n",
       " #wkpoxpcevg .gt_column_spanner_outer { color: #333333 !important; background-color: #FFFFFF !important; font-size: 100% !important; font-weight: normal !important; text-transform: inherit !important; padding-top: 0 !important; padding-bottom: 0 !important; padding-left: 4px !important; padding-right: 4px !important; }\n",
       " #wkpoxpcevg .gt_column_spanner_outer:first-child { padding-left: 0 !important; }\n",
       " #wkpoxpcevg .gt_column_spanner_outer:last-child { padding-right: 0 !important; }\n",
       " #wkpoxpcevg .gt_column_spanner { border-bottom-style: solid !important; border-bottom-width: 0.5px !important; border-bottom-color: black !important; vertical-align: bottom !important; padding-top: 4px !important; padding-bottom: 4px !important; overflow-x: hidden !important; display: inline-block !important; width: 100% !important; }\n",
       " #wkpoxpcevg .gt_spanner_row { border-bottom-style: hidden !important; }\n",
       " #wkpoxpcevg .gt_group_heading { padding-top: 0px !important; padding-bottom: 0px !important; padding-left: 5px !important; padding-right: 5px !important; color: #333333 !important; background-color: #FFFFFF !important; font-size: 0px !important; font-weight: initial !important; text-transform: inherit !important; border-top-style: solid !important; border-top-width: 0.5px !important; border-top-color: black !important; border-bottom-style: solid !important; border-bottom-width: 0.5px !important; border-bottom-color: black !important; border-left-style: none !important; border-left-width: 1px !important; border-left-color: white !important; border-right-style: none !important; border-right-width: 1px !important; border-right-color: white !important; vertical-align: middle !important; text-align: left !important; }\n",
       " #wkpoxpcevg .gt_empty_group_heading { padding: 0.5px !important; color: #333333 !important; background-color: #FFFFFF !important; font-size: 0px !important; font-weight: initial !important; border-top-style: solid !important; border-top-width: 0.5px !important; border-top-color: black !important; border-bottom-style: solid !important; border-bottom-width: 0.5px !important; border-bottom-color: black !important; vertical-align: middle !important; }\n",
       " #wkpoxpcevg .gt_from_md> :first-child { margin-top: 0 !important; }\n",
       " #wkpoxpcevg .gt_from_md> :last-child { margin-bottom: 0 !important; }\n",
       " #wkpoxpcevg .gt_row { padding-top: 4px !important; padding-bottom: 4px !important; padding-left: 5px !important; padding-right: 5px !important; margin: 10px !important; border-top-style: none !important; border-top-width: 1px !important; border-top-color: #D3D3D3 !important; border-left-style: none !important; border-left-width: 0px !important; border-left-color: white !important; border-right-style: none !important; border-right-width: 0px !important; border-right-color: white !important; vertical-align: middle !important; overflow-x: hidden !important; }\n",
       " #wkpoxpcevg .gt_stub { color: #333333 !important; background-color: #FFFFFF !important; font-size: 100% !important; font-weight: initial !important; text-transform: inherit !important; border-right-style: hidden !important; border-right-width: 2px !important; border-right-color: #D3D3D3 !important; padding-left: 5px !important; padding-right: 5px !important; }\n",
       " #wkpoxpcevg .gt_stub_row_group { color: #333333 !important; background-color: #FFFFFF !important; font-size: 100% !important; font-weight: initial !important; text-transform: inherit !important; border-right-style: solid !important; border-right-width: 2px !important; border-right-color: #D3D3D3 !important; padding-left: 5px !important; padding-right: 5px !important; vertical-align: top !important; }\n",
       " #wkpoxpcevg .gt_row_group_first td { border-top-width: 0.5px !important; }\n",
       " #wkpoxpcevg .gt_row_group_first th { border-top-width: 0.5px !important; }\n",
       " #wkpoxpcevg .gt_striped { background-color: rgba(128,128,128,0.05) !important; }\n",
       " #wkpoxpcevg .gt_table_body { border-top-style: solid !important; border-top-width: 0.5px !important; border-top-color: black !important; border-bottom-style: solid !important; border-bottom-width: 2px !important; border-bottom-color: black !important; }\n",
       " #wkpoxpcevg .gt_sourcenotes { color: #333333 !important; background-color: #FFFFFF !important; border-bottom-style: none !important; border-bottom-width: 2px !important; border-bottom-color: #D3D3D3 !important; border-left-style: none !important; border-left-width: 2px !important; border-left-color: #D3D3D3 !important; border-right-style: none !important; border-right-width: 2px !important; border-right-color: #D3D3D3 !important; }\n",
       " #wkpoxpcevg .gt_sourcenote { font-size: 90% !important; padding-top: 4px !important; padding-bottom: 4px !important; padding-left: 5px !important; padding-right: 5px !important; text-align: left !important; }\n",
       " #wkpoxpcevg .gt_left { text-align: left !important; }\n",
       " #wkpoxpcevg .gt_center { text-align: center !important; }\n",
       " #wkpoxpcevg .gt_right { text-align: right !important; font-variant-numeric: tabular-nums !important; }\n",
       " #wkpoxpcevg .gt_font_normal { font-weight: normal !important; }\n",
       " #wkpoxpcevg .gt_font_bold { font-weight: bold !important; }\n",
       " #wkpoxpcevg .gt_font_italic { font-style: italic !important; }\n",
       " #wkpoxpcevg .gt_super { font-size: 65% !important; }\n",
       " #wkpoxpcevg .gt_footnote_marks { font-size: 75% !important; vertical-align: 0.4em !important; position: initial !important; }\n",
       " #wkpoxpcevg .gt_asterisk { font-size: 100% !important; vertical-align: 0 !important; }\n",
       " \n",
       "</style>\n",
       "<table class=\"gt_table\" data-quarto-disable-processing=\"false\" data-quarto-bootstrap=\"false\">\n",
       "<thead>\n",
       "\n",
       "<tr class=\"gt_col_headings gt_spanner_row\">\n",
       "  <th class=\"gt_col_heading gt_columns_bottom_border gt_left\" rowspan=\"2\" colspan=\"1\" scope=\"col\" id=\"\"></th>\n",
       "  <th class=\"gt_center gt_columns_top_border gt_column_spanner_outer\" rowspan=\"1\" colspan=\"1\" scope=\"col\" id=\"total\">\n",
       "    <span class=\"gt_column_spanner\">total</span>\n",
       "  </th>\n",
       "  <th class=\"gt_center gt_columns_top_border gt_column_spanner_outer\" rowspan=\"1\" colspan=\"1\" scope=\"col\" id=\"fare\">\n",
       "    <span class=\"gt_column_spanner\">fare</span>\n",
       "  </th>\n",
       "</tr>\n",
       "<tr class=\"gt_col_headings\">\n",
       "  <th class=\"gt_col_heading gt_columns_bottom_border gt_center\" rowspan=\"1\" colspan=\"1\" scope=\"col\" id=\"(1)\">(1)</th>\n",
       "  <th class=\"gt_col_heading gt_columns_bottom_border gt_center\" rowspan=\"1\" colspan=\"1\" scope=\"col\" id=\"(2)\">(2)</th>\n",
       "</tr>\n",
       "</thead>\n",
       "<tbody class=\"gt_table_body\">\n",
       "  <tr class=\"gt_group_heading_row\">\n",
       "    <th class=\"gt_group_heading\" colspan=\"3\">coef</th>\n",
       "  </tr>\n",
       "  <tr>\n",
       "    <th class=\"gt_row gt_left gt_stub\">distance</th>\n",
       "    <td class=\"gt_row gt_center\">1.649*** (82.451)</td>\n",
       "    <td class=\"gt_row gt_center\">1.924* (54.979)</td>\n",
       "  </tr>\n",
       "  <tr>\n",
       "    <th class=\"gt_row gt_left gt_stub\">tip</th>\n",
       "    <td class=\"gt_row gt_center\">1.302*** (75.981)</td>\n",
       "    <td class=\"gt_row gt_center\"></td>\n",
       "  </tr>\n",
       "  <tr>\n",
       "    <th class=\"gt_row gt_left gt_stub\">tolls</th>\n",
       "    <td class=\"gt_row gt_center\">1.912*** (27.422)</td>\n",
       "    <td class=\"gt_row gt_center\"></td>\n",
       "  </tr>\n",
       "  <tr>\n",
       "    <th class=\"gt_row gt_left gt_stub\">duration_min</th>\n",
       "    <td class=\"gt_row gt_center\">0.342*** (60.961)</td>\n",
       "    <td class=\"gt_row gt_center\">0.318* (55.525)</td>\n",
       "  </tr>\n",
       "  <tr>\n",
       "    <th class=\"gt_row gt_left gt_stub\">overnight</th>\n",
       "    <td class=\"gt_row gt_center\">0.467*** (5.790)</td>\n",
       "    <td class=\"gt_row gt_center\"></td>\n",
       "  </tr>\n",
       "  <tr>\n",
       "    <th class=\"gt_row gt_left gt_stub\">rushhour</th>\n",
       "    <td class=\"gt_row gt_center\">0.877*** (9.138)</td>\n",
       "    <td class=\"gt_row gt_center\"></td>\n",
       "  </tr>\n",
       "  <tr>\n",
       "    <th class=\"gt_row gt_left gt_stub\">tolls:duration_min</th>\n",
       "    <td class=\"gt_row gt_center\">-0.013*** (-7.905)</td>\n",
       "    <td class=\"gt_row gt_center\"></td>\n",
       "  </tr>\n",
       "  <tr>\n",
       "    <th class=\"gt_row gt_left gt_stub\">Intercept</th>\n",
       "    <td class=\"gt_row gt_center\">5.144*** (71.243)</td>\n",
       "    <td class=\"gt_row gt_center\"></td>\n",
       "  </tr>\n",
       "  <tr class=\"gt_group_heading_row\">\n",
       "    <th class=\"gt_group_heading\" colspan=\"3\">fe</th>\n",
       "  </tr>\n",
       "  <tr>\n",
       "    <th class=\"gt_row gt_left gt_stub\">color</th>\n",
       "    <td class=\"gt_row gt_center\">-</td>\n",
       "    <td class=\"gt_row gt_center\">x</td>\n",
       "  </tr>\n",
       "  <tr>\n",
       "    <th class=\"gt_row gt_left gt_stub\">C(passengers)</th>\n",
       "    <td class=\"gt_row gt_center\">-</td>\n",
       "    <td class=\"gt_row gt_center\">x</td>\n",
       "  </tr>\n",
       "  <tr class=\"gt_group_heading_row\">\n",
       "    <th class=\"gt_group_heading\" colspan=\"3\">stats</th>\n",
       "  </tr>\n",
       "  <tr>\n",
       "    <th class=\"gt_row gt_left gt_stub\">Observations</th>\n",
       "    <td class=\"gt_row gt_center\">6341</td>\n",
       "    <td class=\"gt_row gt_center\">6341</td>\n",
       "  </tr>\n",
       "  <tr>\n",
       "    <th class=\"gt_row gt_left gt_stub\">S.E. type</th>\n",
       "    <td class=\"gt_row gt_center\">iid</td>\n",
       "    <td class=\"gt_row gt_center\">by: color</td>\n",
       "  </tr>\n",
       "  <tr>\n",
       "    <th class=\"gt_row gt_left gt_stub\">R<sup>2</sup></th>\n",
       "    <td class=\"gt_row gt_center\">0.955</td>\n",
       "    <td class=\"gt_row gt_center\">0.936</td>\n",
       "  </tr>\n",
       "</tbody>\n",
       "  <tfoot class=\"gt_sourcenotes\">\n",
       "  \n",
       "  <tr>\n",
       "    <td class=\"gt_sourcenote\" colspan=\"3\">Significance levels: * p &lt; 0.05, ** p &lt; 0.01, *** p &lt; 0.001. Format of coefficient cell:\n",
       "Coefficient (t-stats)</td>\n",
       "  </tr>\n",
       "\n",
       "</tfoot>\n",
       "\n",
       "</table>\n",
       "\n",
       "</div>\n",
       "        "
      ],
      "text/plain": [
       "GT(_tbl_data=   level_0             level_1                   0                1\n",
       "0     coef            distance   1.649*** (82.451)  1.924* (54.979)\n",
       "1     coef                 tip   1.302*** (75.981)                 \n",
       "2     coef               tolls   1.912*** (27.422)                 \n",
       "3     coef        duration_min   0.342*** (60.961)  0.318* (55.525)\n",
       "4     coef           overnight    0.467*** (5.790)                 \n",
       "5     coef            rushhour    0.877*** (9.138)                 \n",
       "6     coef  tolls:duration_min  -0.013*** (-7.905)                 \n",
       "7     coef           Intercept   5.144*** (71.243)                 \n",
       "8       fe               color                   -                x\n",
       "9       fe       C(passengers)                   -                x\n",
       "10   stats        Observations                6341             6341\n",
       "11   stats           S.E. type                 iid        by: color\n",
       "12   stats       R<sup>2</sup>               0.955            0.936, _body=<great_tables._gt_data.Body object at 0x000002565D1D4170>, _boxhead=Boxhead([ColInfo(var='level_0', type=<ColInfoTypeEnum.row_group: 3>, column_label='level_0', column_align='center', column_width=None), ColInfo(var='level_1', type=<ColInfoTypeEnum.stub: 2>, column_label='level_1', column_align='center', column_width=None), ColInfo(var='0', type=<ColInfoTypeEnum.default: 1>, column_label='(1)', column_align='center', column_width=None), ColInfo(var='1', type=<ColInfoTypeEnum.default: 1>, column_label='(2)', column_align='center', column_width=None)]), _stub=<great_tables._gt_data.Stub object at 0x000002565D858140>, _spanners=Spanners([SpannerInfo(spanner_id='total', spanner_level=1, spanner_label='total', spanner_units=None, spanner_pattern=None, vars=['0'], built=None), SpannerInfo(spanner_id='fare', spanner_level=1, spanner_label='fare', spanner_units=None, spanner_pattern=None, vars=['1'], built=None)]), _heading=Heading(title=None, subtitle=None, preheader=None), _stubhead=None, _source_notes=['Significance levels: * p < 0.05, ** p < 0.01, *** p < 0.001. Format of coefficient cell:\\nCoefficient (t-stats)'], _footnotes=[], _styles=[], _locale=<great_tables._gt_data.Locale object at 0x000002565DA10F80>, _formats=[], _substitutions=[], _options=Options(table_id=OptionsInfo(scss=False, category='table', type='value', value=None), table_caption=OptionsInfo(scss=False, category='table', type='value', value=None), table_width=OptionsInfo(scss=True, category='table', type='px', value='auto'), table_layout=OptionsInfo(scss=True, category='table', type='value', value='fixed'), table_margin_left=OptionsInfo(scss=True, category='table', type='px', value='auto'), table_margin_right=OptionsInfo(scss=True, category='table', type='px', value='auto'), table_background_color=OptionsInfo(scss=True, category='table', type='value', value='#FFFFFF'), table_additional_css=OptionsInfo(scss=False, category='table', type='values', value=[]), table_font_names=OptionsInfo(scss=False, category='table', type='values', value=['-apple-system', 'BlinkMacSystemFont', 'Segoe UI', 'Roboto', 'Oxygen', 'Ubuntu', 'Cantarell', 'Helvetica Neue', 'Fira Sans', 'Droid Sans', 'Arial', 'sans-serif']), table_font_size=OptionsInfo(scss=True, category='table', type='px', value='16px'), table_font_weight=OptionsInfo(scss=True, category='table', type='value', value='normal'), table_font_style=OptionsInfo(scss=True, category='table', type='value', value='normal'), table_font_color=OptionsInfo(scss=True, category='table', type='value', value='#333333'), table_font_color_light=OptionsInfo(scss=True, category='table', type='value', value='#FFFFFF'), table_border_top_include=OptionsInfo(scss=False, category='table', type='boolean', value=True), table_border_top_style=OptionsInfo(scss=True, category='table', type='value', value='solid'), table_border_top_width=OptionsInfo(scss=True, category='table', type='px', value='2px'), table_border_top_color=OptionsInfo(scss=True, category='table', type='value', value='#A8A8A8'), table_border_right_style=OptionsInfo(scss=True, category='table', type='value', value='none'), table_border_right_width=OptionsInfo(scss=True, category='table', type='px', value='2px'), table_border_right_color=OptionsInfo(scss=True, category='table', type='value', value='#D3D3D3'), table_border_bottom_include=OptionsInfo(scss=False, category='table', type='boolean', value=True), table_border_bottom_style=OptionsInfo(scss=True, category='table', type='value', value='hidden'), table_border_bottom_width=OptionsInfo(scss=True, category='table', type='px', value='2px'), table_border_bottom_color=OptionsInfo(scss=True, category='table', type='value', value='#A8A8A8'), table_border_left_style=OptionsInfo(scss=True, category='table', type='value', value='none'), table_border_left_width=OptionsInfo(scss=True, category='table', type='px', value='2px'), table_border_left_color=OptionsInfo(scss=True, category='table', type='value', value='#D3D3D3'), heading_background_color=OptionsInfo(scss=True, category='heading', type='value', value=None), heading_align=OptionsInfo(scss=True, category='heading', type='value', value='center'), heading_title_font_size=OptionsInfo(scss=True, category='heading', type='px', value='125%'), heading_title_font_weight=OptionsInfo(scss=True, category='heading', type='value', value='initial'), heading_subtitle_font_size=OptionsInfo(scss=True, category='heading', type='px', value='85%'), heading_subtitle_font_weight=OptionsInfo(scss=True, category='heading', type='value', value='initial'), heading_padding=OptionsInfo(scss=True, category='heading', type='px', value='4px'), heading_padding_horizontal=OptionsInfo(scss=True, category='heading', type='px', value='5px'), heading_border_bottom_style=OptionsInfo(scss=True, category='heading', type='value', value='solid'), heading_border_bottom_width=OptionsInfo(scss=True, category='heading', type='px', value='2px'), heading_border_bottom_color=OptionsInfo(scss=True, category='heading', type='value', value='#D3D3D3'), heading_border_lr_style=OptionsInfo(scss=True, category='heading', type='value', value='none'), heading_border_lr_width=OptionsInfo(scss=True, category='heading', type='px', value='1px'), heading_border_lr_color=OptionsInfo(scss=True, category='heading', type='value', value='#D3D3D3'), column_labels_background_color=OptionsInfo(scss=True, category='column_labels', type='value', value=None), column_labels_font_size=OptionsInfo(scss=True, category='column_labels', type='px', value='100%'), column_labels_font_weight=OptionsInfo(scss=True, category='column_labels', type='value', value='normal'), column_labels_text_transform=OptionsInfo(scss=True, category='column_labels', type='value', value='inherit'), column_labels_padding=OptionsInfo(scss=True, category='column_labels', type='px', value='4px'), column_labels_padding_horizontal=OptionsInfo(scss=True, category='column_labels', type='px', value='5px'), column_labels_vlines_style=OptionsInfo(scss=True, category='table_body', type='value', value='none'), column_labels_vlines_width=OptionsInfo(scss=True, category='table_body', type='px', value='0px'), column_labels_vlines_color=OptionsInfo(scss=True, category='table_body', type='value', value='white'), column_labels_border_top_style=OptionsInfo(scss=True, category='column_labels', type='value', value='solid'), column_labels_border_top_width=OptionsInfo(scss=True, category='column_labels', type='px', value='2px'), column_labels_border_top_color=OptionsInfo(scss=True, category='column_labels', type='value', value='black'), column_labels_border_bottom_style=OptionsInfo(scss=True, category='column_labels', type='value', value='solid'), column_labels_border_bottom_width=OptionsInfo(scss=True, category='column_labels', type='px', value='0.5px'), column_labels_border_bottom_color=OptionsInfo(scss=True, category='column_labels', type='value', value='black'), column_labels_border_lr_style=OptionsInfo(scss=True, category='column_labels', type='value', value='none'), column_labels_border_lr_width=OptionsInfo(scss=True, category='column_labels', type='px', value='1px'), column_labels_border_lr_color=OptionsInfo(scss=True, category='column_labels', type='value', value='#D3D3D3'), column_labels_hidden=OptionsInfo(scss=False, category='column_labels', type='boolean', value=False), row_group_background_color=OptionsInfo(scss=True, category='row_group', type='value', value=None), row_group_font_size=OptionsInfo(scss=True, category='row_group', type='px', value='0px'), row_group_font_weight=OptionsInfo(scss=True, category='row_group', type='value', value='initial'), row_group_text_transform=OptionsInfo(scss=True, category='row_group', type='value', value='inherit'), row_group_padding=OptionsInfo(scss=True, category='row_group', type='px', value='0px'), row_group_padding_horizontal=OptionsInfo(scss=True, category='row_group', type='px', value='5px'), row_group_border_top_style=OptionsInfo(scss=True, category='row_group', type='value', value='solid'), row_group_border_top_width=OptionsInfo(scss=True, category='row_group', type='px', value='0.5px'), row_group_border_top_color=OptionsInfo(scss=True, category='row_group', type='value', value='black'), row_group_border_right_style=OptionsInfo(scss=True, category='row_group', type='value', value='none'), row_group_border_right_width=OptionsInfo(scss=True, category='row_group', type='px', value='1px'), row_group_border_right_color=OptionsInfo(scss=True, category='row_group', type='value', value='white'), row_group_border_bottom_style=OptionsInfo(scss=True, category='row_group', type='value', value='solid'), row_group_border_bottom_width=OptionsInfo(scss=True, category='row_group', type='px', value='0.5px'), row_group_border_bottom_color=OptionsInfo(scss=True, category='row_group', type='value', value='black'), row_group_border_left_style=OptionsInfo(scss=True, category='row_group', type='value', value='none'), row_group_border_left_width=OptionsInfo(scss=True, category='row_group', type='px', value='1px'), row_group_border_left_color=OptionsInfo(scss=True, category='row_group', type='value', value='white'), row_group_as_column=OptionsInfo(scss=False, category='row_group', type='boolean', value=False), table_body_hlines_style=OptionsInfo(scss=True, category='table_body', type='value', value='none'), table_body_hlines_width=OptionsInfo(scss=True, category='table_body', type='px', value='1px'), table_body_hlines_color=OptionsInfo(scss=True, category='table_body', type='value', value='#D3D3D3'), table_body_vlines_style=OptionsInfo(scss=True, category='table_body', type='value', value='none'), table_body_vlines_width=OptionsInfo(scss=True, category='table_body', type='px', value='0px'), table_body_vlines_color=OptionsInfo(scss=True, category='table_body', type='value', value='white'), table_body_border_top_style=OptionsInfo(scss=True, category='table_body', type='value', value='solid'), table_body_border_top_width=OptionsInfo(scss=True, category='table_body', type='px', value='0.5px'), table_body_border_top_color=OptionsInfo(scss=True, category='table_body', type='value', value='black'), table_body_border_bottom_style=OptionsInfo(scss=True, category='table_body', type='value', value='solid'), table_body_border_bottom_width=OptionsInfo(scss=True, category='table_body', type='px', value='2px'), table_body_border_bottom_color=OptionsInfo(scss=True, category='table_body', type='value', value='black'), data_row_padding=OptionsInfo(scss=True, category='data_row', type='px', value='4px'), data_row_padding_horizontal=OptionsInfo(scss=True, category='data_row', type='px', value='5px'), stub_background_color=OptionsInfo(scss=True, category='stub', type='value', value=None), stub_font_size=OptionsInfo(scss=True, category='stub', type='px', value='100%'), stub_font_weight=OptionsInfo(scss=True, category='stub', type='value', value='initial'), stub_text_transform=OptionsInfo(scss=True, category='stub', type='value', value='inherit'), stub_border_style=OptionsInfo(scss=True, category='stub', type='value', value='hidden'), stub_border_width=OptionsInfo(scss=True, category='stub', type='px', value='2px'), stub_border_color=OptionsInfo(scss=True, category='stub', type='value', value='#D3D3D3'), stub_row_group_background_color=OptionsInfo(scss=True, category='stub', type='value', value=None), stub_row_group_font_size=OptionsInfo(scss=True, category='stub', type='px', value='100%'), stub_row_group_font_weight=OptionsInfo(scss=True, category='stub', type='value', value='initial'), stub_row_group_text_transform=OptionsInfo(scss=True, category='stub', type='value', value='inherit'), stub_row_group_border_style=OptionsInfo(scss=True, category='stub', type='value', value='solid'), stub_row_group_border_width=OptionsInfo(scss=True, category='stub', type='px', value='2px'), stub_row_group_border_color=OptionsInfo(scss=True, category='stub', type='value', value='#D3D3D3'), source_notes_padding=OptionsInfo(scss=True, category='source_notes', type='px', value='4px'), source_notes_padding_horizontal=OptionsInfo(scss=True, category='source_notes', type='px', value='5px'), source_notes_background_color=OptionsInfo(scss=True, category='source_notes', type='value', value=None), source_notes_font_size=OptionsInfo(scss=True, category='source_notes', type='px', value='90%'), source_notes_border_bottom_style=OptionsInfo(scss=True, category='source_notes', type='value', value='none'), source_notes_border_bottom_width=OptionsInfo(scss=True, category='source_notes', type='px', value='2px'), source_notes_border_bottom_color=OptionsInfo(scss=True, category='source_notes', type='value', value='#D3D3D3'), source_notes_border_lr_style=OptionsInfo(scss=True, category='source_notes', type='value', value='none'), source_notes_border_lr_width=OptionsInfo(scss=True, category='source_notes', type='px', value='2px'), source_notes_border_lr_color=OptionsInfo(scss=True, category='source_notes', type='value', value='#D3D3D3'), source_notes_multiline=OptionsInfo(scss=False, category='source_notes', type='boolean', value=True), source_notes_sep=OptionsInfo(scss=False, category='source_notes', type='value', value=' '), row_striping_background_color=OptionsInfo(scss=True, category='row', type='value', value='rgba(128,128,128,0.05)'), row_striping_include_stub=OptionsInfo(scss=False, category='row', type='boolean', value=False), row_striping_include_table_body=OptionsInfo(scss=False, category='row', type='boolean', value=False), container_width=OptionsInfo(scss=False, category='container', type='px', value='auto'), container_height=OptionsInfo(scss=False, category='container', type='px', value='auto'), container_padding_x=OptionsInfo(scss=False, category='container', type='px', value='0px'), container_padding_y=OptionsInfo(scss=False, category='container', type='px', value='10px'), container_overflow_x=OptionsInfo(scss=False, category='container', type='overflow', value='auto'), container_overflow_y=OptionsInfo(scss=False, category='container', type='overflow', value='auto'), quarto_disable_processing=OptionsInfo(scss=False, category='quarto', type='logical', value=False), quarto_use_bootstrap=OptionsInfo(scss=False, category='quarto', type='logical', value=False)), _has_built=False)"
      ]
     },
     "execution_count": 42,
     "metadata": {},
     "output_type": "execute_result"
    }
   ],
   "source": [
    "# Second, we show the results in a nice format.\n",
    "# The coef_fmt specifies that we want the t-stat in parentheses.\n",
    "pf.etable(results, coef_fmt = \"b (t)\")"
   ]
  },
  {
   "cell_type": "code",
   "execution_count": 43,
   "metadata": {
    "id": "XyzNlEsZSrks"
   },
   "outputs": [
    {
     "data": {
      "text/html": [
       "<div>\n",
       "<style scoped>\n",
       "    .dataframe tbody tr th:only-of-type {\n",
       "        vertical-align: middle;\n",
       "    }\n",
       "\n",
       "    .dataframe tbody tr th {\n",
       "        vertical-align: top;\n",
       "    }\n",
       "\n",
       "    .dataframe thead th {\n",
       "        text-align: right;\n",
       "    }\n",
       "</style>\n",
       "<table border=\"1\" class=\"dataframe\">\n",
       "  <thead>\n",
       "    <tr style=\"text-align: right;\">\n",
       "      <th></th>\n",
       "      <th>est1</th>\n",
       "      <th>est2</th>\n",
       "    </tr>\n",
       "  </thead>\n",
       "  <tbody>\n",
       "    <tr>\n",
       "      <th>depvar</th>\n",
       "      <td>total</td>\n",
       "      <td>fare</td>\n",
       "    </tr>\n",
       "    <tr>\n",
       "      <th>distance</th>\n",
       "      <td>1.649*** (82.451)</td>\n",
       "      <td>1.924* (54.979)</td>\n",
       "    </tr>\n",
       "    <tr>\n",
       "      <th>tip</th>\n",
       "      <td>1.302*** (75.981)</td>\n",
       "      <td></td>\n",
       "    </tr>\n",
       "    <tr>\n",
       "      <th>tolls</th>\n",
       "      <td>1.912*** (27.422)</td>\n",
       "      <td></td>\n",
       "    </tr>\n",
       "    <tr>\n",
       "      <th>duration_min</th>\n",
       "      <td>0.342*** (60.961)</td>\n",
       "      <td>0.318* (55.525)</td>\n",
       "    </tr>\n",
       "    <tr>\n",
       "      <th>overnight</th>\n",
       "      <td>0.467*** (5.790)</td>\n",
       "      <td></td>\n",
       "    </tr>\n",
       "    <tr>\n",
       "      <th>rushhour</th>\n",
       "      <td>0.877*** (9.138)</td>\n",
       "      <td></td>\n",
       "    </tr>\n",
       "    <tr>\n",
       "      <th>tolls:duration_min</th>\n",
       "      <td>-0.013*** (-7.905)</td>\n",
       "      <td></td>\n",
       "    </tr>\n",
       "    <tr>\n",
       "      <th>Intercept</th>\n",
       "      <td>5.144*** (71.243)</td>\n",
       "      <td></td>\n",
       "    </tr>\n",
       "    <tr>\n",
       "      <th>color</th>\n",
       "      <td>-</td>\n",
       "      <td>x</td>\n",
       "    </tr>\n",
       "    <tr>\n",
       "      <th>C(passengers)</th>\n",
       "      <td>-</td>\n",
       "      <td>x</td>\n",
       "    </tr>\n",
       "    <tr>\n",
       "      <th>Observations</th>\n",
       "      <td>6341</td>\n",
       "      <td>6341</td>\n",
       "    </tr>\n",
       "    <tr>\n",
       "      <th>S.E. type</th>\n",
       "      <td>iid</td>\n",
       "      <td>by: color</td>\n",
       "    </tr>\n",
       "    <tr>\n",
       "      <th>R2</th>\n",
       "      <td>0.955</td>\n",
       "      <td>0.936</td>\n",
       "    </tr>\n",
       "  </tbody>\n",
       "</table>\n",
       "</div>"
      ],
      "text/plain": [
       "                                  est1             est2\n",
       "depvar                           total             fare\n",
       "distance             1.649*** (82.451)  1.924* (54.979)\n",
       "tip                  1.302*** (75.981)                 \n",
       "tolls                1.912*** (27.422)                 \n",
       "duration_min         0.342*** (60.961)  0.318* (55.525)\n",
       "overnight             0.467*** (5.790)                 \n",
       "rushhour              0.877*** (9.138)                 \n",
       "tolls:duration_min  -0.013*** (-7.905)                 \n",
       "Intercept            5.144*** (71.243)                 \n",
       "color                                -                x\n",
       "C(passengers)                        -                x\n",
       "Observations                      6341             6341\n",
       "S.E. type                          iid        by: color\n",
       "R2                               0.955            0.936"
      ]
     },
     "execution_count": 43,
     "metadata": {},
     "output_type": "execute_result"
    }
   ],
   "source": [
    "# If you want to export it to Excel, you can use type='df'. There is also latex with type='tex'\n",
    "pf.etable(results, coef_fmt = \"b (t)\", type=\"df\")"
   ]
  },
  {
   "cell_type": "markdown",
   "metadata": {
    "id": "Dpjhb0BsTxF4"
   },
   "source": [
    "## Exercises"
   ]
  },
  {
   "cell_type": "markdown",
   "metadata": {
    "id": "BhkH6fg8mKKv"
   },
   "source": [
    "a)\n",
    "- Test whether passengers are different from one.\n",
    "- Test whether the amount paid as fare differs between cash and credit card payments."
   ]
  },
  {
   "cell_type": "markdown",
   "metadata": {
    "id": "f2ViDt6zkgJ5"
   },
   "source": [
    "b) You want to study the effect of tolls on trip duration.\n",
    "\n",
    "- Run a regression with an intercept and without an intercept.\n",
    "- Plot a scatterplot that shows the relevant data"
   ]
  },
  {
   "cell_type": "markdown",
   "metadata": {
    "id": "VR1f34tSl1MJ"
   },
   "source": [
    "c) You're still studying the effect of tolls on trip duration.\n",
    "- Run the simple regression from b with the intercept.\n",
    "- Add the distance to your regression [use this spec in part d)].\n",
    "- Additionally add the overnight dummy.\n",
    "- Additionally add an interaction between distance and overnight.\n",
    "- Additionally add a fixed effect for the taxi color.\n",
    "- Collect all of these regressions into `results` and show them in a single table. Show the coefficients and the t-statistics."
   ]
  },
  {
   "cell_type": "markdown",
   "metadata": {
    "id": "XW-BTeILwhk3"
   },
   "source": [
    "d) You're still studying the effect of tolls on trip duration.\n",
    "- For the regression model highlighted in part c), calculate predicted values.\n",
    "- Plot predicted vs actual values in a scatterplot\n",
    "  - Set the color of the points based on the pickup_borough\n",
    "  - Set the marker type based on the taxi color"
   ]
  }
 ],
 "metadata": {
  "colab": {
   "include_colab_link": true,
   "provenance": []
  },
  "kernelspec": {
   "display_name": "Python 3",
   "name": "python3"
  },
  "language_info": {
   "codemirror_mode": {
    "name": "ipython",
    "version": 3
   },
   "file_extension": ".py",
   "mimetype": "text/x-python",
   "name": "python",
   "nbconvert_exporter": "python",
   "pygments_lexer": "ipython3",
   "version": "3.12.4"
  }
 },
 "nbformat": 4,
 "nbformat_minor": 0
}
