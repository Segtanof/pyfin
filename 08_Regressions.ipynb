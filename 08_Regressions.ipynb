{
  "nbformat": 4,
  "nbformat_minor": 0,
  "metadata": {
    "colab": {
      "provenance": [],
      "include_colab_link": true
    },
    "kernelspec": {
      "name": "python3",
      "display_name": "Python 3"
    },
    "language_info": {
      "name": "python"
    }
  },
  "cells": [
    {
      "cell_type": "markdown",
      "metadata": {
        "id": "view-in-github",
        "colab_type": "text"
      },
      "source": [
        "<a href=\"https://colab.research.google.com/github/Segtanof/pyfin/blob/main/08_Regressions.ipynb\" target=\"_parent\"><img src=\"https://colab.research.google.com/assets/colab-badge.svg\" alt=\"Open In Colab\"/></a>"
      ]
    },
    {
      "cell_type": "markdown",
      "source": [
        "# Regressions\n",
        "Useful links:\n",
        "- https://aeturrell.github.io/coding-for-economists/econmt-regression.html\n",
        "<!-- - https://aeturrell.github.io/python4DS/quarto.html -->"
      ],
      "metadata": {
        "id": "eXNd8uK5DXND"
      }
    },
    {
      "cell_type": "markdown",
      "source": [
        "We need to install some packages.\n",
        "We use `pyfixest` for regressions and `pingouin` for ttests / correlation analyses."
      ],
      "metadata": {
        "id": "BkYsSm8oDbl_"
      }
    },
    {
      "cell_type": "code",
      "source": [
        "!pip install pyfixest pingouin"
      ],
      "metadata": {
        "id": "duvt0smNvocl",
        "collapsed": true
      },
      "execution_count": null,
      "outputs": []
    },
    {
      "cell_type": "code",
      "execution_count": null,
      "metadata": {
        "id": "5yKEdU4kGCvT"
      },
      "outputs": [],
      "source": [
        "# General packages\n",
        "import pandas as pd\n",
        "import numpy as np\n",
        "import seaborn as sns\n",
        "\n",
        "# Regression-specific packages\n",
        "import pyfixest as pf\n",
        "import pingouin as pg"
      ]
    },
    {
      "cell_type": "code",
      "source": [
        "# We load a dataset of NYC taxi trips\n",
        "# Source: https://github.com/mwaskom/seaborn-data\n",
        "\n",
        "# Note that we drop rows that have any missing values\n",
        "data = sns.load_dataset(\"taxis\").dropna(how='any')"
      ],
      "metadata": {
        "id": "pYpOKO_svNvM"
      },
      "execution_count": null,
      "outputs": []
    },
    {
      "cell_type": "code",
      "source": [
        "data.sample(3)"
      ],
      "metadata": {
        "id": "B0RoL_0CvUVN"
      },
      "execution_count": null,
      "outputs": []
    },
    {
      "cell_type": "markdown",
      "source": [
        "## T-test\n",
        "A common hypothesis test is the t-test.\n",
        "We can check whether the mean of an array differs from a value as follows.\n",
        "\n",
        "Let's check if `tolls` are significantly different from `0`."
      ],
      "metadata": {
        "id": "8q7WfwaoECOW"
      }
    },
    {
      "cell_type": "code",
      "source": [
        "value_to_test_against = 0\n",
        "pg.ttest(data['tolls'], value_to_test_against)"
      ],
      "metadata": {
        "id": "EThvXnZvwpLs"
      },
      "execution_count": null,
      "outputs": []
    },
    {
      "cell_type": "markdown",
      "source": [
        "Interpretation: We do not find support for the null-hypothesis of `tolls` being equal to `0` and thus reject it. We can see this from the t statistic being larger than the critical value, or, equivalently, the `p-val` being lower than common significance thresholds."
      ],
      "metadata": {
        "id": "vExQ5EEUFOJe"
      }
    },
    {
      "cell_type": "markdown",
      "source": [
        "If we arbitrarily limit the number of observations by taking a random `sample`, we can see more uncertainty.\n",
        "\n",
        "Because it's a random sample, you won't see the exact same values."
      ],
      "metadata": {
        "id": "Vm2cyBZRGGKF"
      }
    },
    {
      "cell_type": "code",
      "source": [
        "sample = data['tolls'].sample(50)"
      ],
      "metadata": {
        "id": "usf38x5h9k5j"
      },
      "execution_count": null,
      "outputs": []
    },
    {
      "cell_type": "code",
      "source": [
        "pg.ttest(sample, value_to_test_against)"
      ],
      "metadata": {
        "id": "DfcuVIpAF1JT"
      },
      "execution_count": null,
      "outputs": []
    },
    {
      "cell_type": "markdown",
      "source": [
        "**Quick exercise**\n",
        "\n",
        "You can see that we are running a two-sided t-test. Since tolls cannot be negative a one-sided t-test might be more appropriate.\n",
        "\n",
        "Run a one-sided t-test."
      ],
      "metadata": {
        "id": "D0VrD_p5fkV2"
      }
    },
    {
      "cell_type": "markdown",
      "source": [
        "A more realistic test you might want to run is comparing the different trip distances based on the color of the cab.\n",
        "\n",
        "![Taxis](https://newyorkmonamour.fr/wp-content/uploads/2016/10/boro-cabs-vs-yellow-cabs.jpg)\n",
        "\n",
        "We can check how many observations are in each color by using the `value_counts` method:"
      ],
      "metadata": {
        "id": "2BdVqmfYGqUx"
      }
    },
    {
      "cell_type": "code",
      "source": [
        "data.value_counts(subset=\"color\")"
      ],
      "metadata": {
        "id": "NKAN0zQqG-6c"
      },
      "execution_count": null,
      "outputs": []
    },
    {
      "cell_type": "markdown",
      "source": [
        "We can check the means in each group:"
      ],
      "metadata": {
        "id": "fThdQ5qvHOzu"
      }
    },
    {
      "cell_type": "code",
      "source": [
        "data.groupby(\"color\")[\"distance\"].mean()"
      ],
      "metadata": {
        "id": "vFTil5LhHNo8"
      },
      "execution_count": null,
      "outputs": []
    },
    {
      "cell_type": "markdown",
      "source": [
        "It looks like green taxis travel about a half-mile further than yellow taxis. But is this difference statistically significant or just a random finding?"
      ],
      "metadata": {
        "id": "c-9hNL1cHaNf"
      }
    },
    {
      "cell_type": "code",
      "source": [
        "yellow_distance = data.query(\"color == 'yellow'\")['distance']\n",
        "green_distance = data.query(\"color == 'green'\")['distance']\n",
        "green_distance"
      ],
      "metadata": {
        "id": "hZTaBdbH_LLb"
      },
      "execution_count": null,
      "outputs": []
    },
    {
      "cell_type": "code",
      "source": [
        "# This time we are using some additional keyword arguments: confidence\n",
        "# Check the documentation to see what that does: https://pingouin-stats.org/build/html/generated/pingouin.ttest.html#pingouin.ttest\n",
        "\n",
        "pg.ttest(yellow_distance, green_distance, confidence=0.99)"
      ],
      "metadata": {
        "id": "BY7KcBF5EjC3"
      },
      "execution_count": null,
      "outputs": []
    },
    {
      "cell_type": "markdown",
      "source": [
        "The result shows that the mean of the yellow taxis is statistically significantly less than the mean trip distance of green taxis."
      ],
      "metadata": {
        "id": "4iJxo7wsIOqG"
      }
    },
    {
      "cell_type": "markdown",
      "source": [
        "**Quick exercise**\n",
        "\n",
        "- How many unique pickup zones are in the data set?\n",
        "\n",
        "- Check whether the `total` price paid differs between the `pickup_zone` \"Yorkville East\" and \"Yorkville West\" and whether the difference is significant at the 10% level. Show the appropriate confidence interval."
      ],
      "metadata": {
        "id": "3tjC8wteJqxV"
      }
    },
    {
      "cell_type": "markdown",
      "source": [
        "## Linear regression"
      ],
      "metadata": {
        "id": "wOd6GTj1EZw6"
      }
    },
    {
      "cell_type": "markdown",
      "source": [
        "### Basics"
      ],
      "metadata": {
        "id": "WqZRI_nN4PvK"
      }
    },
    {
      "cell_type": "markdown",
      "source": [
        "Let's try to see if we can figure out the pricing structure.\n",
        "In order to do that, t-tests are not sufficient, because we need to consider more than a single variable.\n",
        "\n",
        "Typically, taxi fares start at a base fare, a per-mile rate, and a time component. In NYC, there are [other components](https://www.nyc.gov/site/tlc/passengers/taxi-fare.page) as well.\n",
        "\n",
        "From those three components, we can easily observe the base fare (intercept) and the per-mile rate (distance)."
      ],
      "metadata": {
        "id": "b-olP9qyMmLV"
      }
    },
    {
      "cell_type": "markdown",
      "source": [
        "In order to specify the regression equation, we use the `~` (tilda) operator to separate the left- and right-hand sides of the regression equation.\n",
        "\n",
        "We then add the variable names (column names) from our data. **Avoid spaces in the column names!**\n",
        "\n",
        "To regress `y` on `x`, use `y ~ x`, which covers the regression equation $y = a + \\beta x + \\epsilon$. An intercept is added automatically. If you do not want to add an intercept, set the keyword argument `drop_intercept=True`."
      ],
      "metadata": {
        "id": "tFOZJbpnpdn8"
      }
    },
    {
      "cell_type": "code",
      "source": [
        "pf.feols(\"fare ~ distance\", data=data).summary()"
      ],
      "metadata": {
        "id": "h7Dgnuq7vVNP"
      },
      "execution_count": null,
      "outputs": []
    },
    {
      "cell_type": "markdown",
      "source": [
        "It looks like the base fare is \\$4.7 and a charge of \\$2.73 is added per mile.\n",
        "Our estimates are statistically significant and we can explain about 90% of the variance in the data."
      ],
      "metadata": {
        "id": "fVl6FtXlvBKV"
      }
    },
    {
      "cell_type": "markdown",
      "source": [
        "**Quick exercise**\n",
        "\n",
        "- Write the regression formula for the regression equation $R_t = a + \\beta R_M + \\epsilon$\n",
        "- Make a scatterplot. `tip` against `distance`. What do you notice?\n",
        "- Run a regression for $tip = a + \\beta \\times distance + \\epsilon$\n",
        "- Run a regression for $tip = \\beta \\times distance + \\epsilon$"
      ],
      "metadata": {
        "id": "9pcd_Ta9B-J0"
      }
    },
    {
      "cell_type": "markdown",
      "source": [
        "#### New variables\n",
        "Very often, you will need to construct your own variables.\n",
        "\n",
        "\n",
        "\n"
      ],
      "metadata": {
        "id": "CtXWG5SqvY7B"
      }
    },
    {
      "cell_type": "markdown",
      "source": [
        "**Trip duration**\n",
        "\n",
        "Since we know the time of pickup and dropoff, we can calculate the duration of the trip.\n",
        "We first take the difference between the two columns, and then use the `.dt` (datetime) [accessor of the resulting column](https://pandas.pydata.org/pandas-docs/stable/reference/api/pandas.Series.dt.html) (which is the type pandas.Series). In the next step we pull out the seconds and divide them by 60 to get minutes. Then we store it as `duration_min`. Note that we avoid spaces in the column names.\n",
        "\n",
        "**Time-of-day surcharges**\n",
        "```txt\n",
        "Plus $1.00 overnight surcharge 8pm to 6am.\n",
        "Plus $2.50 rush hour surcharge from 4pm to 8pm on weekdays, excluding holidays.\n",
        "```\n",
        "\n",
        "[There are some surcharges](https://www.nyc.gov/site/tlc/passengers/taxi-fare.page) depending on the time of day.\n"
      ],
      "metadata": {
        "id": "I7CevB-pYPWl"
      }
    },
    {
      "cell_type": "code",
      "source": [
        "pd.Timestamp(\"2030-06-20 09:54:32\").hour"
      ],
      "metadata": {
        "id": "P8izh2AAXpeh"
      },
      "execution_count": null,
      "outputs": []
    },
    {
      "cell_type": "code",
      "source": [
        "def is_rushhour(date):\n",
        "  if date.dayofweek <= 4:\n",
        "    if date.hour >= 16 and date.hour < 20:\n",
        "      return True\n",
        "\n",
        "  # Note that we do not need to specify all the `else` statements\n",
        "  return False"
      ],
      "metadata": {
        "id": "D3DkpV170JgR"
      },
      "execution_count": null,
      "outputs": []
    },
    {
      "cell_type": "code",
      "source": [
        "data_with_added_variables = data.assign(\n",
        "\n",
        "    # Weekend\n",
        "    weekend = lambda df: df['pickup'].dt.dayofweek >= 5,\n",
        "\n",
        "    # Duration in minutes\n",
        "    duration_min = lambda df: (df['dropoff']-df['pickup']).dt.seconds/60,\n",
        "\n",
        "    # Time-of-day surcharges\n",
        "    overnight = lambda df: ((df['pickup'].dt.hour >= 20) | (df['pickup'].dt.hour <= 6)),\n",
        "    rushhour = lambda df: df['pickup'].apply(is_rushhour),\n",
        "    )\n",
        "\n",
        "data_with_added_variables.head(2)"
      ],
      "metadata": {
        "id": "tHhsAzp7N2eo"
      },
      "execution_count": null,
      "outputs": []
    },
    {
      "cell_type": "markdown",
      "source": [
        "**Expensive areas**\n",
        "\n",
        "[This source](https://www.roadwaymoving.com/blog/most-expensive-neighborhoods-in-nyc/) provides a list of NYC's most expensive neighbourhoods.\n",
        "We want to add a variable that tells us if a trip started in one of these expensive areas."
      ],
      "metadata": {
        "id": "O8_QMZxrY-au"
      }
    },
    {
      "cell_type": "code",
      "source": [
        "expensive_areas = {\"pickup_zone\":['TriBeCa/Civic Center', 'Central Park', 'Times Sq/Theatre District', 'SoHo', 'Little Italy/NoLiTa', 'West Chelsea/Hudson Yards']}\n",
        "expensive_areas = pd.DataFrame(expensive_areas).assign(expensive = True)\n",
        "expensive_areas"
      ],
      "metadata": {
        "id": "D1AZ7oh0_-BS"
      },
      "execution_count": null,
      "outputs": []
    },
    {
      "cell_type": "code",
      "source": [
        "# We need to merge how='left'\n",
        "data_with_added_variables = data_with_added_variables.merge(expensive_areas, how='left',on='pickup_zone')\n",
        "\n",
        "data_with_added_variables.head(2)"
      ],
      "metadata": {
        "id": "Gx3pRTGdHo96"
      },
      "execution_count": null,
      "outputs": []
    },
    {
      "cell_type": "markdown",
      "source": [
        "Due to the `how='left'` merge, we have a lot of missing values (NaN). We want to fill them. Thus, we use the `fillna()` method on that column."
      ],
      "metadata": {
        "id": "qGg9_sP1ZV2Z"
      }
    },
    {
      "cell_type": "code",
      "source": [
        "data_with_added_variables['expensive'] = data_with_added_variables['expensive'].fillna(False)\n",
        "data_with_added_variables.head(2)"
      ],
      "metadata": {
        "id": "-cPoF7OfH9rM"
      },
      "execution_count": null,
      "outputs": []
    },
    {
      "cell_type": "markdown",
      "source": [
        "**Using the new variables in a regression**\n",
        "\n",
        "Let's try to see if the fare can be predicted based on the `distance` and our new variables."
      ],
      "metadata": {
        "id": "rHTVP8Y72uDB"
      }
    },
    {
      "cell_type": "code",
      "source": [
        "pf.feols(\"fare ~ distance + duration_min + overnight + rushhour\", data=data_with_added_variables).summary()"
      ],
      "metadata": {
        "id": "Jocv-Qql2zn_"
      },
      "execution_count": null,
      "outputs": []
    },
    {
      "cell_type": "markdown",
      "source": [
        "**Quick exercise**\n",
        "\n",
        "Only some variables are significant predictors of the fare. Many are not.\n",
        "\n",
        "Since they are called \"surcharges\", maybe they don't count towards the fare, but rather towards the total? Run that regression and interpret your results."
      ],
      "metadata": {
        "id": "8_I2k4PO3VQG"
      }
    },
    {
      "cell_type": "markdown",
      "source": [
        "### Advanced"
      ],
      "metadata": {
        "id": "nSVdQWQm4UKP"
      }
    },
    {
      "cell_type": "markdown",
      "source": [
        "#### Interaction terms"
      ],
      "metadata": {
        "id": "G4OY31eT7Xo1"
      }
    },
    {
      "cell_type": "markdown",
      "source": [
        "We typically require slightly more advanced approaches to address our research question.\n",
        "\n",
        "For example interaction terms.\n",
        "Let's say we want to find out whether the tip amount is dependent on whether it's a weekend (people might be on a leisure trip and willing to tip more) and the ride starts in an expensive area (where passengers are wealthier). In addition, we also want to know whether riders from expensive areas tip differently during the weekend (because wealthier people might be more likely to go on a leisure trip).\n",
        "\n",
        "Thus, we can interact `weekend` with `expensive`. We can do so by writing `weekend*expensive`, which adds both variables individually and their interaction term.\n",
        "\n",
        "Unfortunately, tips are only recorded for credit card payments, thus, we need to filter the data."
      ],
      "metadata": {
        "id": "FC3Xp2bc4aH0"
      }
    },
    {
      "cell_type": "code",
      "source": [
        "credit_card_only = data_with_added_variables.query(\"payment == 'credit card'\")"
      ],
      "metadata": {
        "id": "J-Ua-I6LJzfE"
      },
      "execution_count": null,
      "outputs": []
    },
    {
      "cell_type": "code",
      "source": [
        "pf.feols(\"tip ~ fare + weekend*expensive\", data=credit_card_only).summary()\n",
        "\n",
        "# Equivalent\n",
        "# pf.feols(\"tip ~ fare + weekend + expensive + weekend:expensive\", data=credit_card_only).summary()"
      ],
      "metadata": {
        "id": "U8plUnrLBrnw"
      },
      "execution_count": null,
      "outputs": []
    },
    {
      "cell_type": "markdown",
      "source": [
        "From our results, we can see that in general our hypothesis were true, except that we would have expected a positive coefficient on the interaction term as well."
      ],
      "metadata": {
        "id": "9hBYX18SKgVk"
      }
    },
    {
      "cell_type": "markdown",
      "source": [
        "**Quick exercise**\n",
        "\n",
        "- Run the regression for the following equation: $fare = a + \\beta_1 \\times distance + \\beta_2 \\times weekend + \\beta_3 \\times weekend \\times distance + \\epsilon$. What are we measuring with the interaction term?\n",
        "- Calculate the unconditional mean of `fare`. How large is the economic effect of weekend in percent of the unconditional mean? Is it statistically and economically significant? (Manually copy the coefficient for weekend)."
      ],
      "metadata": {
        "id": "6vhlq2hvc74E"
      }
    },
    {
      "cell_type": "markdown",
      "source": [
        "#### Variable transformations\n",
        "\n",
        "Using the logarithm and other transformations are also very commonly applied methods. To achieve this, you can of course create a new column in your data that has the transformation applied.\n",
        "\n",
        "Some functions (numpy) can however also be applied in your regression equation, which can be useful."
      ],
      "metadata": {
        "id": "LwxomTRF7ZzV"
      }
    },
    {
      "cell_type": "code",
      "source": [
        "pf.feols(\"total ~ np.log(distance+1) + tip + tolls + duration_min + overnight + rushhour\", data=data_with_added_variables).summary()"
      ],
      "metadata": {
        "id": "W83MDhVS7vyi"
      },
      "execution_count": null,
      "outputs": []
    },
    {
      "cell_type": "markdown",
      "source": [
        "## Fixed effect regression"
      ],
      "metadata": {
        "id": "LU_2prz236aI"
      }
    },
    {
      "cell_type": "markdown",
      "source": [
        "Now let's run a more advanced type of regression. Fixed effect regressions.\n",
        "\n",
        "Typically, we have a single intercept in our regression. However, in some cases, we might want to have separate intercepts for e.g. the color of the taxis.\n",
        "\n",
        "We can specify that by providing the pipe operator `|` after our regression specification and then listing the different variables we want to add fixed effects for."
      ],
      "metadata": {
        "id": "fNRqP8Z8FW54"
      }
    },
    {
      "cell_type": "code",
      "source": [
        "pf.feols(\"fare ~ distance + duration_min | color\", data=data_with_added_variables).summary()\n",
        "# You can see that there is no intercept listed in the regression output anymore. It is subsumed by the Fixed Effect."
      ],
      "metadata": {
        "id": "sgcqRnkbzbeb"
      },
      "execution_count": null,
      "outputs": []
    },
    {
      "cell_type": "markdown",
      "source": [
        "**Quick exercise**\n",
        "\n",
        "Add a FE for `pickup_zone` to the regression of the `tip` on `fare`. Use the credit card only dataset."
      ],
      "metadata": {
        "id": "kVTJdDFKEUcu"
      }
    },
    {
      "cell_type": "markdown",
      "source": [
        "## Prediction\n",
        "\n",
        "Sometimes you want to have predicted values, e.g. when forecasting expected returns."
      ],
      "metadata": {
        "id": "78C3_OG2IzEU"
      }
    },
    {
      "cell_type": "code",
      "source": [
        "# Let's take the following model\n",
        "model = pf.feols(\"fare ~ distance + duration_min | color\", data=data_with_added_variables) # No .summary()!"
      ],
      "metadata": {
        "id": "14mcQSbnEXfL"
      },
      "execution_count": null,
      "outputs": []
    },
    {
      "cell_type": "code",
      "source": [
        "# Run the `predict` method of the model.\n",
        "predicted_fare = model.predict(data_with_added_variables)\n",
        "predicted_fare"
      ],
      "metadata": {
        "id": "KKFiAfWHHjx_"
      },
      "execution_count": null,
      "outputs": []
    },
    {
      "cell_type": "code",
      "source": [
        "# We can then use the predictions in any way we want, e.g. to calculate the difference to the actual data.\n",
        "data_with_added_variables['fare'].subtract(predicted_fare).hist(bins=100)"
      ],
      "metadata": {
        "id": "7kqf8SR6HvM6"
      },
      "execution_count": null,
      "outputs": []
    },
    {
      "cell_type": "markdown",
      "source": [
        "## Presenting the results"
      ],
      "metadata": {
        "id": "-3A0Bf-zSGqd"
      }
    },
    {
      "cell_type": "markdown",
      "source": [
        "After running (multiple) regressions, you typically want to show them in an easy-to-understand way. We can use the `etable` function for this purpose."
      ],
      "metadata": {
        "id": "bnhqwnmBTBar"
      }
    },
    {
      "cell_type": "code",
      "source": [
        "# First, we run several regressions.\n",
        "results = []\n",
        "\n",
        "specifications = [\n",
        "    \"total ~ distance + tip + tolls*duration_min + overnight + rushhour\",\n",
        "    \"fare ~ distance + duration_min | color + C(passengers)\",\n",
        "]\n",
        "\n",
        "for spec in specifications:\n",
        "  result = pf.feols(spec, data=data_with_added_variables)\n",
        "  results.append(result)"
      ],
      "metadata": {
        "id": "85NE0ZrhSTiN"
      },
      "execution_count": null,
      "outputs": []
    },
    {
      "cell_type": "code",
      "source": [
        "# Second, we show the results in a nice format.\n",
        "# The coef_fmt specifies that we want the t-stat in parentheses.\n",
        "pf.etable(results, coef_fmt = \"b (t)\")"
      ],
      "metadata": {
        "id": "i3BfQLanSJRZ"
      },
      "execution_count": null,
      "outputs": []
    },
    {
      "cell_type": "code",
      "source": [
        "# If you want to export it to Excel, you can use type='df'. There is also latex with type='tex'\n",
        "pf.etable(results, coef_fmt = \"b (t)\", type=\"df\")"
      ],
      "metadata": {
        "id": "XyzNlEsZSrks"
      },
      "execution_count": null,
      "outputs": []
    },
    {
      "cell_type": "markdown",
      "source": [
        "## Exercises"
      ],
      "metadata": {
        "id": "Dpjhb0BsTxF4"
      }
    },
    {
      "cell_type": "markdown",
      "source": [
        "a)\n",
        "- Test whether passengers are different from one.\n",
        "- Test whether the amount paid as fare differs between cash and credit card payments."
      ],
      "metadata": {
        "id": "BhkH6fg8mKKv"
      }
    },
    {
      "cell_type": "markdown",
      "source": [
        "b) You want to study the effect of tolls on trip duration.\n",
        "\n",
        "- Run a regression with an intercept and without an intercept.\n",
        "- Plot a scatterplot that shows the relevant data"
      ],
      "metadata": {
        "id": "f2ViDt6zkgJ5"
      }
    },
    {
      "cell_type": "markdown",
      "source": [
        "c) You're still studying the effect of tolls on trip duration.\n",
        "- Run the simple regression from b with the intercept.\n",
        "- Add the distance to your regression [use this spec in part d)].\n",
        "- Additionally add the overnight dummy.\n",
        "- Additionally add an interaction between distance and overnight.\n",
        "- Additionally add a fixed effect for the taxi color.\n",
        "- Collect all of these regressions into `results` and show them in a single table. Show the coefficients and the t-statistics."
      ],
      "metadata": {
        "id": "VR1f34tSl1MJ"
      }
    },
    {
      "cell_type": "markdown",
      "source": [
        "d) You're still studying the effect of tolls on trip duration.\n",
        "- For the regression model highlighted in part c), calculate predicted values.\n",
        "- Plot predicted vs actual values in a scatterplot\n",
        "  - Set the color of the points based on the pickup_borough\n",
        "  - Set the marker type based on the taxi color"
      ],
      "metadata": {
        "id": "XW-BTeILwhk3"
      }
    }
  ]
}