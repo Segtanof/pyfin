{
 "cells": [
  {
   "cell_type": "markdown",
   "metadata": {
    "colab_type": "text",
    "id": "view-in-github"
   },
   "source": [
    "<a href=\"https://colab.research.google.com/github/Segtanof/pyfin/blob/main/08_Regressions.ipynb\" target=\"_parent\"><img src=\"https://colab.research.google.com/assets/colab-badge.svg\" alt=\"Open In Colab\"/></a>"
   ]
  },
  {
   "cell_type": "markdown",
   "metadata": {
    "id": "eXNd8uK5DXND"
   },
   "source": [
    "# Regressions\n",
    "Useful links:\n",
    "- https://aeturrell.github.io/coding-for-economists/econmt-regression.html\n",
    "<!-- - https://aeturrell.github.io/python4DS/quarto.html -->"
   ]
  },
  {
   "cell_type": "markdown",
   "metadata": {
    "id": "BkYsSm8oDbl_"
   },
   "source": [
    "We need to install some packages.\n",
    "We use `pyfixest` for regressions and `pingouin` for ttests / correlation analyses."
   ]
  },
  {
   "cell_type": "code",
   "execution_count": 1,
   "metadata": {
    "collapsed": true,
    "id": "duvt0smNvocl"
   },
   "outputs": [
    {
     "name": "stdout",
     "output_type": "stream",
     "text": [
      "Collecting pyfixest\n",
      "  Downloading pyfixest-0.26.2-py3-none-any.whl.metadata (19 kB)\n",
      "Collecting formulaic>=1.0.0 (from pyfixest)\n",
      "  Downloading formulaic-1.0.2-py3-none-any.whl.metadata (6.8 kB)\n",
      "Requirement already satisfied: great-tables>=0.10.0 in c:\\users\\godfr\\appdata\\local\\programs\\python\\python312\\lib\\site-packages (from pyfixest) (0.14.0)\n",
      "Requirement already satisfied: jinja2<4,>=3.1.4 in c:\\users\\godfr\\appdata\\local\\programs\\python\\python312\\lib\\site-packages (from pyfixest) (3.1.4)\n",
      "Collecting lets-plot>=4.0.0 (from pyfixest)\n",
      "  Downloading lets_plot-4.5.1-cp312-cp312-win_amd64.whl.metadata (11 kB)\n",
      "Requirement already satisfied: numba>=0.58.0 in c:\\users\\godfr\\appdata\\local\\programs\\python\\python312\\lib\\site-packages (from pyfixest) (0.60.0)\n",
      "Requirement already satisfied: numpy>=1.19.0 in c:\\users\\godfr\\appdata\\local\\programs\\python\\python312\\lib\\site-packages (from pyfixest) (1.26.4)\n",
      "Requirement already satisfied: pandas>=1.1.0 in c:\\users\\godfr\\appdata\\local\\programs\\python\\python312\\lib\\site-packages (from pyfixest) (2.2.2)\n",
      "Collecting polars>=0.20.1 (from pyfixest)\n",
      "  Downloading polars-1.13.1-cp39-abi3-win_amd64.whl.metadata (15 kB)\n",
      "Requirement already satisfied: scipy>=1.6 in c:\\users\\godfr\\appdata\\local\\programs\\python\\python312\\lib\\site-packages (from pyfixest) (1.13.1)\n",
      "Requirement already satisfied: seaborn>=0.13.2 in c:\\users\\godfr\\appdata\\local\\programs\\python\\python312\\lib\\site-packages (from pyfixest) (0.13.2)\n",
      "Requirement already satisfied: tabulate>=0.9.0 in c:\\users\\godfr\\appdata\\local\\programs\\python\\python312\\lib\\site-packages (from pyfixest) (0.9.0)\n",
      "Requirement already satisfied: tqdm==4.66.4 in c:\\users\\godfr\\appdata\\local\\programs\\python\\python312\\lib\\site-packages (from pyfixest) (4.66.4)\n",
      "Requirement already satisfied: colorama in c:\\users\\godfr\\appdata\\local\\programs\\python\\python312\\lib\\site-packages (from tqdm==4.66.4->pyfixest) (0.4.6)\n",
      "Collecting interface-meta>=1.2.0 (from formulaic>=1.0.0->pyfixest)\n",
      "  Downloading interface_meta-1.3.0-py3-none-any.whl.metadata (6.7 kB)\n",
      "Requirement already satisfied: typing-extensions>=4.2.0 in c:\\users\\godfr\\appdata\\local\\programs\\python\\python312\\lib\\site-packages (from formulaic>=1.0.0->pyfixest) (4.12.2)\n",
      "Collecting wrapt>=1.0 (from formulaic>=1.0.0->pyfixest)\n",
      "  Using cached wrapt-1.16.0-cp312-cp312-win_amd64.whl.metadata (6.8 kB)\n",
      "Requirement already satisfied: commonmark>=0.9.1 in c:\\users\\godfr\\appdata\\local\\programs\\python\\python312\\lib\\site-packages (from great-tables>=0.10.0->pyfixest) (0.9.1)\n",
      "Requirement already satisfied: htmltools>=0.4.1 in c:\\users\\godfr\\appdata\\local\\programs\\python\\python312\\lib\\site-packages (from great-tables>=0.10.0->pyfixest) (0.6.0)\n",
      "Requirement already satisfied: importlib-metadata in c:\\users\\godfr\\appdata\\local\\programs\\python\\python312\\lib\\site-packages (from great-tables>=0.10.0->pyfixest) (8.5.0)\n",
      "Requirement already satisfied: Babel>=2.13.1 in c:\\users\\godfr\\appdata\\local\\programs\\python\\python312\\lib\\site-packages (from great-tables>=0.10.0->pyfixest) (2.15.0)\n",
      "Requirement already satisfied: importlib-resources in c:\\users\\godfr\\appdata\\local\\programs\\python\\python312\\lib\\site-packages (from great-tables>=0.10.0->pyfixest) (6.4.5)\n",
      "Requirement already satisfied: MarkupSafe>=2.0 in c:\\users\\godfr\\appdata\\local\\programs\\python\\python312\\lib\\site-packages (from jinja2<4,>=3.1.4->pyfixest) (2.1.5)\n",
      "Collecting pypng (from lets-plot>=4.0.0->pyfixest)\n",
      "  Downloading pypng-0.20220715.0-py3-none-any.whl.metadata (13 kB)\n",
      "Collecting palettable (from lets-plot>=4.0.0->pyfixest)\n",
      "  Downloading palettable-3.3.3-py2.py3-none-any.whl.metadata (3.3 kB)\n",
      "Requirement already satisfied: llvmlite<0.44,>=0.43.0dev0 in c:\\users\\godfr\\appdata\\local\\programs\\python\\python312\\lib\\site-packages (from numba>=0.58.0->pyfixest) (0.43.0)\n",
      "Requirement already satisfied: python-dateutil>=2.8.2 in c:\\users\\godfr\\appdata\\local\\programs\\python\\python312\\lib\\site-packages (from pandas>=1.1.0->pyfixest) (2.9.0.post0)\n",
      "Requirement already satisfied: pytz>=2020.1 in c:\\users\\godfr\\appdata\\local\\programs\\python\\python312\\lib\\site-packages (from pandas>=1.1.0->pyfixest) (2024.1)\n",
      "Requirement already satisfied: tzdata>=2022.7 in c:\\users\\godfr\\appdata\\local\\programs\\python\\python312\\lib\\site-packages (from pandas>=1.1.0->pyfixest) (2024.1)\n",
      "Requirement already satisfied: matplotlib!=3.6.1,>=3.4 in c:\\users\\godfr\\appdata\\local\\programs\\python\\python312\\lib\\site-packages (from seaborn>=0.13.2->pyfixest) (3.9.0)\n",
      "Requirement already satisfied: packaging>=20.9 in c:\\users\\godfr\\appdata\\local\\programs\\python\\python312\\lib\\site-packages (from htmltools>=0.4.1->great-tables>=0.10.0->pyfixest) (24.1)\n",
      "Requirement already satisfied: contourpy>=1.0.1 in c:\\users\\godfr\\appdata\\local\\programs\\python\\python312\\lib\\site-packages (from matplotlib!=3.6.1,>=3.4->seaborn>=0.13.2->pyfixest) (1.2.1)\n",
      "Requirement already satisfied: cycler>=0.10 in c:\\users\\godfr\\appdata\\local\\programs\\python\\python312\\lib\\site-packages (from matplotlib!=3.6.1,>=3.4->seaborn>=0.13.2->pyfixest) (0.12.1)\n",
      "Requirement already satisfied: fonttools>=4.22.0 in c:\\users\\godfr\\appdata\\local\\programs\\python\\python312\\lib\\site-packages (from matplotlib!=3.6.1,>=3.4->seaborn>=0.13.2->pyfixest) (4.53.0)\n",
      "Requirement already satisfied: kiwisolver>=1.3.1 in c:\\users\\godfr\\appdata\\local\\programs\\python\\python312\\lib\\site-packages (from matplotlib!=3.6.1,>=3.4->seaborn>=0.13.2->pyfixest) (1.4.5)\n",
      "Requirement already satisfied: pillow>=8 in c:\\users\\godfr\\appdata\\local\\programs\\python\\python312\\lib\\site-packages (from matplotlib!=3.6.1,>=3.4->seaborn>=0.13.2->pyfixest) (10.3.0)\n",
      "Requirement already satisfied: pyparsing>=2.3.1 in c:\\users\\godfr\\appdata\\local\\programs\\python\\python312\\lib\\site-packages (from matplotlib!=3.6.1,>=3.4->seaborn>=0.13.2->pyfixest) (3.1.2)\n",
      "Requirement already satisfied: six>=1.5 in c:\\users\\godfr\\appdata\\local\\programs\\python\\python312\\lib\\site-packages (from python-dateutil>=2.8.2->pandas>=1.1.0->pyfixest) (1.16.0)\n",
      "Requirement already satisfied: zipp>=3.20 in c:\\users\\godfr\\appdata\\local\\programs\\python\\python312\\lib\\site-packages (from importlib-metadata->great-tables>=0.10.0->pyfixest) (3.21.0)\n",
      "Downloading pyfixest-0.26.2-py3-none-any.whl (2.2 MB)\n",
      "   ---------------------------------------- 0.0/2.2 MB ? eta -:--:--\n",
      "   ---------------------------------------- 2.2/2.2 MB 12.3 MB/s eta 0:00:00\n",
      "Downloading formulaic-1.0.2-py3-none-any.whl (94 kB)\n",
      "Downloading lets_plot-4.5.1-cp312-cp312-win_amd64.whl (3.1 MB)\n",
      "   ---------------------------------------- 0.0/3.1 MB ? eta -:--:--\n",
      "   ------------------------------------- -- 2.9/3.1 MB 13.9 MB/s eta 0:00:01\n",
      "   ---------------------------------------- 3.1/3.1 MB 14.0 MB/s eta 0:00:00\n",
      "Downloading polars-1.13.1-cp39-abi3-win_amd64.whl (35.2 MB)\n",
      "   ---------------------------------------- 0.0/35.2 MB ? eta -:--:--\n",
      "   -- ------------------------------------- 2.4/35.2 MB 12.3 MB/s eta 0:00:03\n",
      "   ------ --------------------------------- 5.8/35.2 MB 14.1 MB/s eta 0:00:03\n",
      "   --------- ------------------------------ 8.7/35.2 MB 14.1 MB/s eta 0:00:02\n",
      "   ------------ --------------------------- 11.3/35.2 MB 13.8 MB/s eta 0:00:02\n",
      "   ---------------- ----------------------- 14.7/35.2 MB 14.2 MB/s eta 0:00:02\n",
      "   -------------------- ------------------- 18.4/35.2 MB 14.7 MB/s eta 0:00:02\n",
      "   ------------------------- -------------- 22.0/35.2 MB 15.3 MB/s eta 0:00:01\n",
      "   ---------------------------- ----------- 25.4/35.2 MB 15.3 MB/s eta 0:00:01\n",
      "   -------------------------------- ------- 28.6/35.2 MB 15.4 MB/s eta 0:00:01\n",
      "   ---------------------------------- ----- 30.1/35.2 MB 14.7 MB/s eta 0:00:01\n",
      "   ------------------------------------- -- 33.0/35.2 MB 14.4 MB/s eta 0:00:01\n",
      "   ---------------------------------------- 35.2/35.2 MB 14.1 MB/s eta 0:00:00\n",
      "Downloading interface_meta-1.3.0-py3-none-any.whl (14 kB)\n",
      "Downloading wrapt-1.16.0-cp312-cp312-win_amd64.whl (37 kB)\n",
      "Downloading palettable-3.3.3-py2.py3-none-any.whl (332 kB)\n",
      "Downloading pypng-0.20220715.0-py3-none-any.whl (58 kB)\n",
      "Installing collected packages: pypng, wrapt, polars, palettable, interface-meta, lets-plot, formulaic, pyfixest\n",
      "Successfully installed formulaic-1.0.2 interface-meta-1.3.0 lets-plot-4.5.1 palettable-3.3.3 polars-1.13.1 pyfixest-0.26.2 pypng-0.20220715.0 wrapt-1.16.0\n",
      "Note: you may need to restart the kernel to use updated packages.\n"
     ]
    }
   ],
   "source": [
    "pip install pyfixest"
   ]
  },
  {
   "cell_type": "code",
   "execution_count": 2,
   "metadata": {
    "id": "5yKEdU4kGCvT"
   },
   "outputs": [
    {
     "data": {
      "text/html": [
       "\n",
       "            <div id=\"BjdILN\"></div>\n",
       "            <script type=\"text/javascript\" data-lets-plot-script=\"library\">\n",
       "                if(!window.letsPlotCallQueue) {\n",
       "                    window.letsPlotCallQueue = [];\n",
       "                }; \n",
       "                window.letsPlotCall = function(f) {\n",
       "                    window.letsPlotCallQueue.push(f);\n",
       "                };\n",
       "                (function() {\n",
       "                    var script = document.createElement(\"script\");\n",
       "                    script.type = \"text/javascript\";\n",
       "                    script.src = \"https://cdn.jsdelivr.net/gh/JetBrains/lets-plot@v4.5.1/js-package/distr/lets-plot.min.js\";\n",
       "                    script.onload = function() {\n",
       "                        window.letsPlotCall = function(f) {f();};\n",
       "                        window.letsPlotCallQueue.forEach(function(f) {f();});\n",
       "                        window.letsPlotCallQueue = [];\n",
       "                        \n",
       "                    };\n",
       "                    script.onerror = function(event) {\n",
       "                        window.letsPlotCall = function(f) {};    // noop\n",
       "                        window.letsPlotCallQueue = [];\n",
       "                        var div = document.createElement(\"div\");\n",
       "                        div.style.color = 'darkred';\n",
       "                        div.textContent = 'Error loading Lets-Plot JS';\n",
       "                        document.getElementById(\"BjdILN\").appendChild(div);\n",
       "                    };\n",
       "                    var e = document.getElementById(\"BjdILN\");\n",
       "                    e.appendChild(script);\n",
       "                })()\n",
       "            </script>\n",
       "            "
      ]
     },
     "metadata": {},
     "output_type": "display_data"
    },
    {
     "data": {
      "text/html": [
       "\n",
       "            <div id=\"DbQENZ\"></div>\n",
       "            <script type=\"text/javascript\" data-lets-plot-script=\"library\">\n",
       "                if(!window.letsPlotCallQueue) {\n",
       "                    window.letsPlotCallQueue = [];\n",
       "                }; \n",
       "                window.letsPlotCall = function(f) {\n",
       "                    window.letsPlotCallQueue.push(f);\n",
       "                };\n",
       "                (function() {\n",
       "                    var script = document.createElement(\"script\");\n",
       "                    script.type = \"text/javascript\";\n",
       "                    script.src = \"https://cdn.jsdelivr.net/gh/JetBrains/lets-plot@v4.5.1/js-package/distr/lets-plot.min.js\";\n",
       "                    script.onload = function() {\n",
       "                        window.letsPlotCall = function(f) {f();};\n",
       "                        window.letsPlotCallQueue.forEach(function(f) {f();});\n",
       "                        window.letsPlotCallQueue = [];\n",
       "                        \n",
       "                    };\n",
       "                    script.onerror = function(event) {\n",
       "                        window.letsPlotCall = function(f) {};    // noop\n",
       "                        window.letsPlotCallQueue = [];\n",
       "                        var div = document.createElement(\"div\");\n",
       "                        div.style.color = 'darkred';\n",
       "                        div.textContent = 'Error loading Lets-Plot JS';\n",
       "                        document.getElementById(\"DbQENZ\").appendChild(div);\n",
       "                    };\n",
       "                    var e = document.getElementById(\"DbQENZ\");\n",
       "                    e.appendChild(script);\n",
       "                })()\n",
       "            </script>\n",
       "            "
      ]
     },
     "metadata": {},
     "output_type": "display_data"
    }
   ],
   "source": [
    "# General packages\n",
    "import pandas as pd\n",
    "import numpy as np\n",
    "import seaborn as sns\n",
    "\n",
    "# Regression-specific packages\n",
    "import pyfixest as pf\n",
    "import pingouin as pg"
   ]
  },
  {
   "cell_type": "code",
   "execution_count": 3,
   "metadata": {
    "id": "pYpOKO_svNvM"
   },
   "outputs": [],
   "source": [
    "# We load a dataset of NYC taxi trips\n",
    "# Source: https://github.com/mwaskom/seaborn-data\n",
    "\n",
    "# Note that we drop rows that have any missing values\n",
    "data = sns.load_dataset(\"taxis\").dropna(how='any')"
   ]
  },
  {
   "cell_type": "code",
   "execution_count": 4,
   "metadata": {
    "id": "B0RoL_0CvUVN"
   },
   "outputs": [
    {
     "data": {
      "text/html": [
       "<div>\n",
       "<style scoped>\n",
       "    .dataframe tbody tr th:only-of-type {\n",
       "        vertical-align: middle;\n",
       "    }\n",
       "\n",
       "    .dataframe tbody tr th {\n",
       "        vertical-align: top;\n",
       "    }\n",
       "\n",
       "    .dataframe thead th {\n",
       "        text-align: right;\n",
       "    }\n",
       "</style>\n",
       "<table border=\"1\" class=\"dataframe\">\n",
       "  <thead>\n",
       "    <tr style=\"text-align: right;\">\n",
       "      <th></th>\n",
       "      <th>pickup</th>\n",
       "      <th>dropoff</th>\n",
       "      <th>passengers</th>\n",
       "      <th>distance</th>\n",
       "      <th>fare</th>\n",
       "      <th>tip</th>\n",
       "      <th>tolls</th>\n",
       "      <th>total</th>\n",
       "      <th>color</th>\n",
       "      <th>payment</th>\n",
       "      <th>pickup_zone</th>\n",
       "      <th>dropoff_zone</th>\n",
       "      <th>pickup_borough</th>\n",
       "      <th>dropoff_borough</th>\n",
       "    </tr>\n",
       "  </thead>\n",
       "  <tbody>\n",
       "    <tr>\n",
       "      <th>1373</th>\n",
       "      <td>2019-03-08 23:58:46</td>\n",
       "      <td>2019-03-09 00:05:18</td>\n",
       "      <td>1</td>\n",
       "      <td>1.20</td>\n",
       "      <td>6.5</td>\n",
       "      <td>2.55</td>\n",
       "      <td>0.0</td>\n",
       "      <td>12.85</td>\n",
       "      <td>yellow</td>\n",
       "      <td>credit card</td>\n",
       "      <td>Greenwich Village North</td>\n",
       "      <td>Hudson Sq</td>\n",
       "      <td>Manhattan</td>\n",
       "      <td>Manhattan</td>\n",
       "    </tr>\n",
       "    <tr>\n",
       "      <th>1334</th>\n",
       "      <td>2019-03-03 00:40:55</td>\n",
       "      <td>2019-03-03 00:43:51</td>\n",
       "      <td>1</td>\n",
       "      <td>0.66</td>\n",
       "      <td>4.5</td>\n",
       "      <td>1.66</td>\n",
       "      <td>0.0</td>\n",
       "      <td>9.96</td>\n",
       "      <td>yellow</td>\n",
       "      <td>credit card</td>\n",
       "      <td>Hudson Sq</td>\n",
       "      <td>Little Italy/NoLiTa</td>\n",
       "      <td>Manhattan</td>\n",
       "      <td>Manhattan</td>\n",
       "    </tr>\n",
       "    <tr>\n",
       "      <th>6312</th>\n",
       "      <td>2019-03-07 09:48:29</td>\n",
       "      <td>2019-03-07 10:02:20</td>\n",
       "      <td>1</td>\n",
       "      <td>2.02</td>\n",
       "      <td>11.0</td>\n",
       "      <td>1.77</td>\n",
       "      <td>0.0</td>\n",
       "      <td>13.57</td>\n",
       "      <td>green</td>\n",
       "      <td>credit card</td>\n",
       "      <td>Upper East Side North</td>\n",
       "      <td>Central Harlem</td>\n",
       "      <td>Manhattan</td>\n",
       "      <td>Manhattan</td>\n",
       "    </tr>\n",
       "  </tbody>\n",
       "</table>\n",
       "</div>"
      ],
      "text/plain": [
       "                  pickup             dropoff  passengers  distance  fare  \\\n",
       "1373 2019-03-08 23:58:46 2019-03-09 00:05:18           1      1.20   6.5   \n",
       "1334 2019-03-03 00:40:55 2019-03-03 00:43:51           1      0.66   4.5   \n",
       "6312 2019-03-07 09:48:29 2019-03-07 10:02:20           1      2.02  11.0   \n",
       "\n",
       "       tip  tolls  total   color      payment              pickup_zone  \\\n",
       "1373  2.55    0.0  12.85  yellow  credit card  Greenwich Village North   \n",
       "1334  1.66    0.0   9.96  yellow  credit card                Hudson Sq   \n",
       "6312  1.77    0.0  13.57   green  credit card    Upper East Side North   \n",
       "\n",
       "             dropoff_zone pickup_borough dropoff_borough  \n",
       "1373            Hudson Sq      Manhattan       Manhattan  \n",
       "1334  Little Italy/NoLiTa      Manhattan       Manhattan  \n",
       "6312       Central Harlem      Manhattan       Manhattan  "
      ]
     },
     "execution_count": 4,
     "metadata": {},
     "output_type": "execute_result"
    }
   ],
   "source": [
    "data.sample(3)"
   ]
  },
  {
   "cell_type": "markdown",
   "metadata": {
    "id": "8q7WfwaoECOW"
   },
   "source": [
    "## T-test\n",
    "A common hypothesis test is the t-test.\n",
    "We can check whether the mean of an array differs from a value as follows.\n",
    "\n",
    "Let's check if `tolls` are significantly different from `0`."
   ]
  },
  {
   "cell_type": "code",
   "execution_count": 5,
   "metadata": {
    "id": "EThvXnZvwpLs"
   },
   "outputs": [
    {
     "data": {
      "text/html": [
       "<div>\n",
       "<style scoped>\n",
       "    .dataframe tbody tr th:only-of-type {\n",
       "        vertical-align: middle;\n",
       "    }\n",
       "\n",
       "    .dataframe tbody tr th {\n",
       "        vertical-align: top;\n",
       "    }\n",
       "\n",
       "    .dataframe thead th {\n",
       "        text-align: right;\n",
       "    }\n",
       "</style>\n",
       "<table border=\"1\" class=\"dataframe\">\n",
       "  <thead>\n",
       "    <tr style=\"text-align: right;\">\n",
       "      <th></th>\n",
       "      <th>T</th>\n",
       "      <th>dof</th>\n",
       "      <th>alternative</th>\n",
       "      <th>p-val</th>\n",
       "      <th>CI95%</th>\n",
       "      <th>cohen-d</th>\n",
       "      <th>BF10</th>\n",
       "      <th>power</th>\n",
       "    </tr>\n",
       "  </thead>\n",
       "  <tbody>\n",
       "    <tr>\n",
       "      <th>T-test</th>\n",
       "      <td>18.308157</td>\n",
       "      <td>6340</td>\n",
       "      <td>two-sided</td>\n",
       "      <td>5.280784e-73</td>\n",
       "      <td>[0.28, 0.35]</td>\n",
       "      <td>0.229914</td>\n",
       "      <td>1.11e+69</td>\n",
       "      <td>1.0</td>\n",
       "    </tr>\n",
       "  </tbody>\n",
       "</table>\n",
       "</div>"
      ],
      "text/plain": [
       "                T   dof alternative         p-val         CI95%   cohen-d  \\\n",
       "T-test  18.308157  6340   two-sided  5.280784e-73  [0.28, 0.35]  0.229914   \n",
       "\n",
       "            BF10  power  \n",
       "T-test  1.11e+69    1.0  "
      ]
     },
     "execution_count": 5,
     "metadata": {},
     "output_type": "execute_result"
    }
   ],
   "source": [
    "value_to_test_against = 0\n",
    "pg.ttest(data['tolls'], value_to_test_against)"
   ]
  },
  {
   "cell_type": "markdown",
   "metadata": {
    "id": "vExQ5EEUFOJe"
   },
   "source": [
    "Interpretation: We do not find support for the null-hypothesis of `tolls` being equal to `0` and thus reject it. We can see this from the t statistic being larger than the critical value, or, equivalently, the `p-val` being lower than common significance thresholds."
   ]
  },
  {
   "cell_type": "markdown",
   "metadata": {
    "id": "Vm2cyBZRGGKF"
   },
   "source": [
    "If we arbitrarily limit the number of observations by taking a random `sample`, we can see more uncertainty.\n",
    "\n",
    "Because it's a random sample, you won't see the exact same values."
   ]
  },
  {
   "cell_type": "code",
   "execution_count": 12,
   "metadata": {
    "id": "usf38x5h9k5j"
   },
   "outputs": [],
   "source": [
    "sample = data['tolls'].sample(50)"
   ]
  },
  {
   "cell_type": "code",
   "execution_count": 7,
   "metadata": {
    "id": "DfcuVIpAF1JT"
   },
   "outputs": [
    {
     "data": {
      "text/html": [
       "<div>\n",
       "<style scoped>\n",
       "    .dataframe tbody tr th:only-of-type {\n",
       "        vertical-align: middle;\n",
       "    }\n",
       "\n",
       "    .dataframe tbody tr th {\n",
       "        vertical-align: top;\n",
       "    }\n",
       "\n",
       "    .dataframe thead th {\n",
       "        text-align: right;\n",
       "    }\n",
       "</style>\n",
       "<table border=\"1\" class=\"dataframe\">\n",
       "  <thead>\n",
       "    <tr style=\"text-align: right;\">\n",
       "      <th></th>\n",
       "      <th>T</th>\n",
       "      <th>dof</th>\n",
       "      <th>alternative</th>\n",
       "      <th>p-val</th>\n",
       "      <th>CI95%</th>\n",
       "      <th>cohen-d</th>\n",
       "      <th>BF10</th>\n",
       "      <th>power</th>\n",
       "    </tr>\n",
       "  </thead>\n",
       "  <tbody>\n",
       "    <tr>\n",
       "      <th>T-test</th>\n",
       "      <td>1.768519</td>\n",
       "      <td>49</td>\n",
       "      <td>two-sided</td>\n",
       "      <td>0.083199</td>\n",
       "      <td>[-0.05, 0.74]</td>\n",
       "      <td>0.250106</td>\n",
       "      <td>0.652</td>\n",
       "      <td>0.410667</td>\n",
       "    </tr>\n",
       "  </tbody>\n",
       "</table>\n",
       "</div>"
      ],
      "text/plain": [
       "               T  dof alternative     p-val          CI95%   cohen-d   BF10  \\\n",
       "T-test  1.768519   49   two-sided  0.083199  [-0.05, 0.74]  0.250106  0.652   \n",
       "\n",
       "           power  \n",
       "T-test  0.410667  "
      ]
     },
     "execution_count": 7,
     "metadata": {},
     "output_type": "execute_result"
    }
   ],
   "source": [
    "pg.ttest(sample, value_to_test_against)"
   ]
  },
  {
   "cell_type": "markdown",
   "metadata": {
    "id": "D0VrD_p5fkV2"
   },
   "source": [
    "**Quick exercise**\n",
    "\n",
    "You can see that we are running a two-sided t-test. Since tolls cannot be negative a one-sided t-test might be more appropriate.\n",
    "\n",
    "Run a one-sided t-test."
   ]
  },
  {
   "cell_type": "code",
   "execution_count": 13,
   "metadata": {},
   "outputs": [
    {
     "data": {
      "text/html": [
       "<div>\n",
       "<style scoped>\n",
       "    .dataframe tbody tr th:only-of-type {\n",
       "        vertical-align: middle;\n",
       "    }\n",
       "\n",
       "    .dataframe tbody tr th {\n",
       "        vertical-align: top;\n",
       "    }\n",
       "\n",
       "    .dataframe thead th {\n",
       "        text-align: right;\n",
       "    }\n",
       "</style>\n",
       "<table border=\"1\" class=\"dataframe\">\n",
       "  <thead>\n",
       "    <tr style=\"text-align: right;\">\n",
       "      <th></th>\n",
       "      <th>T</th>\n",
       "      <th>dof</th>\n",
       "      <th>alternative</th>\n",
       "      <th>p-val</th>\n",
       "      <th>CI95%</th>\n",
       "      <th>cohen-d</th>\n",
       "      <th>BF10</th>\n",
       "      <th>power</th>\n",
       "    </tr>\n",
       "  </thead>\n",
       "  <tbody>\n",
       "    <tr>\n",
       "      <th>T-test</th>\n",
       "      <td>1.428869</td>\n",
       "      <td>49</td>\n",
       "      <td>greater</td>\n",
       "      <td>0.079693</td>\n",
       "      <td>[-0.04, inf]</td>\n",
       "      <td>0.202073</td>\n",
       "      <td>0.797</td>\n",
       "      <td>0.406819</td>\n",
       "    </tr>\n",
       "  </tbody>\n",
       "</table>\n",
       "</div>"
      ],
      "text/plain": [
       "               T  dof alternative     p-val         CI95%   cohen-d   BF10  \\\n",
       "T-test  1.428869   49     greater  0.079693  [-0.04, inf]  0.202073  0.797   \n",
       "\n",
       "           power  \n",
       "T-test  0.406819  "
      ]
     },
     "execution_count": 13,
     "metadata": {},
     "output_type": "execute_result"
    }
   ],
   "source": [
    "value_to_test_against = 0\n",
    "pg.ttest(sample, value_to_test_against, alternative=\"greater\")"
   ]
  },
  {
   "cell_type": "markdown",
   "metadata": {
    "id": "2BdVqmfYGqUx"
   },
   "source": [
    "A more realistic test you might want to run is comparing the different trip distances based on the color of the cab.\n",
    "\n",
    "![Taxis](https://newyorkmonamour.fr/wp-content/uploads/2016/10/boro-cabs-vs-yellow-cabs.jpg)\n",
    "\n",
    "We can check how many observations are in each color by using the `value_counts` method:"
   ]
  },
  {
   "cell_type": "code",
   "execution_count": 14,
   "metadata": {
    "id": "NKAN0zQqG-6c"
   },
   "outputs": [
    {
     "data": {
      "text/plain": [
       "color\n",
       "yellow    5373\n",
       "green      968\n",
       "Name: count, dtype: int64"
      ]
     },
     "execution_count": 14,
     "metadata": {},
     "output_type": "execute_result"
    }
   ],
   "source": [
    "data.value_counts(subset=\"color\")"
   ]
  },
  {
   "cell_type": "markdown",
   "metadata": {
    "id": "fThdQ5qvHOzu"
   },
   "source": [
    "We can check the means in each group:"
   ]
  },
  {
   "cell_type": "code",
   "execution_count": 18,
   "metadata": {
    "id": "vFTil5LhHNo8"
   },
   "outputs": [
    {
     "data": {
      "text/plain": [
       "color\n",
       "green     3.412665\n",
       "yellow    2.922948\n",
       "Name: distance, dtype: float64"
      ]
     },
     "execution_count": 18,
     "metadata": {},
     "output_type": "execute_result"
    }
   ],
   "source": [
    "data.groupby(\"color\")[\"distance\"].mean()"
   ]
  },
  {
   "cell_type": "markdown",
   "metadata": {
    "id": "c-9hNL1cHaNf"
   },
   "source": [
    "It looks like green taxis travel about a half-mile further than yellow taxis. But is this difference statistically significant or just a random finding?"
   ]
  },
  {
   "cell_type": "code",
   "execution_count": 21,
   "metadata": {
    "id": "hZTaBdbH_LLb"
   },
   "outputs": [
    {
     "data": {
      "text/plain": [
       "5451     2.29\n",
       "5452     0.80\n",
       "5453     1.51\n",
       "5454     0.45\n",
       "5455     0.61\n",
       "        ...  \n",
       "6428     0.75\n",
       "6429    18.74\n",
       "6430     4.14\n",
       "6431     1.12\n",
       "6432     3.85\n",
       "Name: distance, Length: 968, dtype: float64"
      ]
     },
     "execution_count": 21,
     "metadata": {},
     "output_type": "execute_result"
    }
   ],
   "source": [
    "yellow_distance = data.query(\"color == 'yellow'\")['distance']\n",
    "green_distance = data.query(\"color == 'green'\")['distance']\n",
    "green_distance"
   ]
  },
  {
   "cell_type": "code",
   "execution_count": 23,
   "metadata": {
    "id": "BY7KcBF5EjC3"
   },
   "outputs": [
    {
     "data": {
      "text/html": [
       "<div>\n",
       "<style scoped>\n",
       "    .dataframe tbody tr th:only-of-type {\n",
       "        vertical-align: middle;\n",
       "    }\n",
       "\n",
       "    .dataframe tbody tr th {\n",
       "        vertical-align: top;\n",
       "    }\n",
       "\n",
       "    .dataframe thead th {\n",
       "        text-align: right;\n",
       "    }\n",
       "</style>\n",
       "<table border=\"1\" class=\"dataframe\">\n",
       "  <thead>\n",
       "    <tr style=\"text-align: right;\">\n",
       "      <th></th>\n",
       "      <th>T</th>\n",
       "      <th>dof</th>\n",
       "      <th>alternative</th>\n",
       "      <th>p-val</th>\n",
       "      <th>CI99%</th>\n",
       "      <th>cohen-d</th>\n",
       "      <th>BF10</th>\n",
       "      <th>power</th>\n",
       "    </tr>\n",
       "  </thead>\n",
       "  <tbody>\n",
       "    <tr>\n",
       "      <th>T-test</th>\n",
       "      <td>-3.546353</td>\n",
       "      <td>1274.846737</td>\n",
       "      <td>two-sided</td>\n",
       "      <td>0.000405</td>\n",
       "      <td>[-0.8459478061155647, -0.13348662499314595]</td>\n",
       "      <td>0.13179</td>\n",
       "      <td>20.428</td>\n",
       "      <td>0.965151</td>\n",
       "    </tr>\n",
       "  </tbody>\n",
       "</table>\n",
       "</div>"
      ],
      "text/plain": [
       "               T          dof alternative     p-val  \\\n",
       "T-test -3.546353  1274.846737   two-sided  0.000405   \n",
       "\n",
       "                                              CI99%  cohen-d    BF10     power  \n",
       "T-test  [-0.8459478061155647, -0.13348662499314595]  0.13179  20.428  0.965151  "
      ]
     },
     "execution_count": 23,
     "metadata": {},
     "output_type": "execute_result"
    }
   ],
   "source": [
    "# This time we are using some additional keyword arguments: confidence\n",
    "# Check the documentation to see what that does: https://pingouin-stats.org/build/html/generated/pingouin.ttest.html#pingouin.ttest\n",
    "\n",
    "pg.ttest(yellow_distance, green_distance, confidence=0.99)"
   ]
  },
  {
   "cell_type": "markdown",
   "metadata": {
    "id": "4iJxo7wsIOqG"
   },
   "source": [
    "The result shows that the mean of the yellow taxis is statistically significantly less than the mean trip distance of green taxis."
   ]
  },
  {
   "cell_type": "markdown",
   "metadata": {
    "id": "3tjC8wteJqxV"
   },
   "source": [
    "**Quick exercise**\n",
    "\n",
    "- How many unique pickup zones are in the data set?\n",
    "\n",
    "- Check whether the `total` price paid differs between the `pickup_zone` \"Yorkville East\" and \"Yorkville West\" and whether the difference is significant at the 10% level. Show the appropriate confidence interval."
   ]
  },
  {
   "cell_type": "code",
   "execution_count": 25,
   "metadata": {},
   "outputs": [
    {
     "data": {
      "text/plain": [
       "194"
      ]
     },
     "execution_count": 25,
     "metadata": {},
     "output_type": "execute_result"
    }
   ],
   "source": [
    "data[\"pickup_zone\"].nunique()"
   ]
  },
  {
   "cell_type": "code",
   "execution_count": 26,
   "metadata": {},
   "outputs": [
    {
     "data": {
      "text/html": [
       "<div>\n",
       "<style scoped>\n",
       "    .dataframe tbody tr th:only-of-type {\n",
       "        vertical-align: middle;\n",
       "    }\n",
       "\n",
       "    .dataframe tbody tr th {\n",
       "        vertical-align: top;\n",
       "    }\n",
       "\n",
       "    .dataframe thead th {\n",
       "        text-align: right;\n",
       "    }\n",
       "</style>\n",
       "<table border=\"1\" class=\"dataframe\">\n",
       "  <thead>\n",
       "    <tr style=\"text-align: right;\">\n",
       "      <th></th>\n",
       "      <th>pickup</th>\n",
       "      <th>dropoff</th>\n",
       "      <th>passengers</th>\n",
       "      <th>distance</th>\n",
       "      <th>fare</th>\n",
       "      <th>tip</th>\n",
       "      <th>tolls</th>\n",
       "      <th>total</th>\n",
       "      <th>color</th>\n",
       "      <th>payment</th>\n",
       "      <th>pickup_zone</th>\n",
       "      <th>dropoff_zone</th>\n",
       "      <th>pickup_borough</th>\n",
       "      <th>dropoff_borough</th>\n",
       "    </tr>\n",
       "  </thead>\n",
       "  <tbody>\n",
       "    <tr>\n",
       "      <th>0</th>\n",
       "      <td>2019-03-23 20:21:09</td>\n",
       "      <td>2019-03-23 20:27:24</td>\n",
       "      <td>1</td>\n",
       "      <td>1.60</td>\n",
       "      <td>7.0</td>\n",
       "      <td>2.15</td>\n",
       "      <td>0.0</td>\n",
       "      <td>12.95</td>\n",
       "      <td>yellow</td>\n",
       "      <td>credit card</td>\n",
       "      <td>Lenox Hill West</td>\n",
       "      <td>UN/Turtle Bay South</td>\n",
       "      <td>Manhattan</td>\n",
       "      <td>Manhattan</td>\n",
       "    </tr>\n",
       "    <tr>\n",
       "      <th>1</th>\n",
       "      <td>2019-03-04 16:11:55</td>\n",
       "      <td>2019-03-04 16:19:00</td>\n",
       "      <td>1</td>\n",
       "      <td>0.79</td>\n",
       "      <td>5.0</td>\n",
       "      <td>0.00</td>\n",
       "      <td>0.0</td>\n",
       "      <td>9.30</td>\n",
       "      <td>yellow</td>\n",
       "      <td>cash</td>\n",
       "      <td>Upper West Side South</td>\n",
       "      <td>Upper West Side South</td>\n",
       "      <td>Manhattan</td>\n",
       "      <td>Manhattan</td>\n",
       "    </tr>\n",
       "    <tr>\n",
       "      <th>2</th>\n",
       "      <td>2019-03-27 17:53:01</td>\n",
       "      <td>2019-03-27 18:00:25</td>\n",
       "      <td>1</td>\n",
       "      <td>1.37</td>\n",
       "      <td>7.5</td>\n",
       "      <td>2.36</td>\n",
       "      <td>0.0</td>\n",
       "      <td>14.16</td>\n",
       "      <td>yellow</td>\n",
       "      <td>credit card</td>\n",
       "      <td>Alphabet City</td>\n",
       "      <td>West Village</td>\n",
       "      <td>Manhattan</td>\n",
       "      <td>Manhattan</td>\n",
       "    </tr>\n",
       "    <tr>\n",
       "      <th>3</th>\n",
       "      <td>2019-03-10 01:23:59</td>\n",
       "      <td>2019-03-10 01:49:51</td>\n",
       "      <td>1</td>\n",
       "      <td>7.70</td>\n",
       "      <td>27.0</td>\n",
       "      <td>6.15</td>\n",
       "      <td>0.0</td>\n",
       "      <td>36.95</td>\n",
       "      <td>yellow</td>\n",
       "      <td>credit card</td>\n",
       "      <td>Hudson Sq</td>\n",
       "      <td>Yorkville West</td>\n",
       "      <td>Manhattan</td>\n",
       "      <td>Manhattan</td>\n",
       "    </tr>\n",
       "    <tr>\n",
       "      <th>4</th>\n",
       "      <td>2019-03-30 13:27:42</td>\n",
       "      <td>2019-03-30 13:37:14</td>\n",
       "      <td>3</td>\n",
       "      <td>2.16</td>\n",
       "      <td>9.0</td>\n",
       "      <td>1.10</td>\n",
       "      <td>0.0</td>\n",
       "      <td>13.40</td>\n",
       "      <td>yellow</td>\n",
       "      <td>credit card</td>\n",
       "      <td>Midtown East</td>\n",
       "      <td>Yorkville West</td>\n",
       "      <td>Manhattan</td>\n",
       "      <td>Manhattan</td>\n",
       "    </tr>\n",
       "  </tbody>\n",
       "</table>\n",
       "</div>"
      ],
      "text/plain": [
       "               pickup             dropoff  passengers  distance  fare   tip  \\\n",
       "0 2019-03-23 20:21:09 2019-03-23 20:27:24           1      1.60   7.0  2.15   \n",
       "1 2019-03-04 16:11:55 2019-03-04 16:19:00           1      0.79   5.0  0.00   \n",
       "2 2019-03-27 17:53:01 2019-03-27 18:00:25           1      1.37   7.5  2.36   \n",
       "3 2019-03-10 01:23:59 2019-03-10 01:49:51           1      7.70  27.0  6.15   \n",
       "4 2019-03-30 13:27:42 2019-03-30 13:37:14           3      2.16   9.0  1.10   \n",
       "\n",
       "   tolls  total   color      payment            pickup_zone  \\\n",
       "0    0.0  12.95  yellow  credit card        Lenox Hill West   \n",
       "1    0.0   9.30  yellow         cash  Upper West Side South   \n",
       "2    0.0  14.16  yellow  credit card          Alphabet City   \n",
       "3    0.0  36.95  yellow  credit card              Hudson Sq   \n",
       "4    0.0  13.40  yellow  credit card           Midtown East   \n",
       "\n",
       "            dropoff_zone pickup_borough dropoff_borough  \n",
       "0    UN/Turtle Bay South      Manhattan       Manhattan  \n",
       "1  Upper West Side South      Manhattan       Manhattan  \n",
       "2           West Village      Manhattan       Manhattan  \n",
       "3         Yorkville West      Manhattan       Manhattan  \n",
       "4         Yorkville West      Manhattan       Manhattan  "
      ]
     },
     "execution_count": 26,
     "metadata": {},
     "output_type": "execute_result"
    }
   ],
   "source": [
    "data.head()"
   ]
  },
  {
   "cell_type": "code",
   "execution_count": 35,
   "metadata": {},
   "outputs": [
    {
     "data": {
      "text/plain": [
       "15.59285714285714"
      ]
     },
     "execution_count": 35,
     "metadata": {},
     "output_type": "execute_result"
    }
   ],
   "source": [
    "yet = data.query(\"(pickup_zone == 'Yorkville East')\")[\"total\"]\n",
    "yet.mean()"
   ]
  },
  {
   "cell_type": "code",
   "execution_count": 36,
   "metadata": {},
   "outputs": [
    {
     "data": {
      "text/plain": [
       "14.948415841584158"
      ]
     },
     "execution_count": 36,
     "metadata": {},
     "output_type": "execute_result"
    }
   ],
   "source": [
    "ywt = data.query(\"(pickup_zone == 'Yorkville West')\")[\"total\"]\n",
    "ywt.mean()"
   ]
  },
  {
   "cell_type": "code",
   "execution_count": 50,
   "metadata": {},
   "outputs": [
    {
     "data": {
      "text/plain": [
       "pickup_zone\n",
       "Yorkville East    15.592857\n",
       "Yorkville West    14.948416\n",
       "Name: total, dtype: float64"
      ]
     },
     "execution_count": 50,
     "metadata": {},
     "output_type": "execute_result"
    }
   ],
   "source": [
    "pol = [\"Yorkville West\", \"Yorkville East\"]\n",
    "data.query(\"pickup_zone in @pol\").groupby(\"pickup_zone\")[\"total\"].mean()"
   ]
  },
  {
   "cell_type": "code",
   "execution_count": 42,
   "metadata": {},
   "outputs": [
    {
     "data": {
      "text/html": [
       "<div>\n",
       "<style scoped>\n",
       "    .dataframe tbody tr th:only-of-type {\n",
       "        vertical-align: middle;\n",
       "    }\n",
       "\n",
       "    .dataframe tbody tr th {\n",
       "        vertical-align: top;\n",
       "    }\n",
       "\n",
       "    .dataframe thead th {\n",
       "        text-align: right;\n",
       "    }\n",
       "</style>\n",
       "<table border=\"1\" class=\"dataframe\">\n",
       "  <thead>\n",
       "    <tr style=\"text-align: right;\">\n",
       "      <th></th>\n",
       "      <th>T</th>\n",
       "      <th>dof</th>\n",
       "      <th>alternative</th>\n",
       "      <th>p-val</th>\n",
       "      <th>CI90%</th>\n",
       "      <th>cohen-d</th>\n",
       "      <th>BF10</th>\n",
       "      <th>power</th>\n",
       "    </tr>\n",
       "  </thead>\n",
       "  <tbody>\n",
       "    <tr>\n",
       "      <th>T-test</th>\n",
       "      <td>0.624414</td>\n",
       "      <td>149.153958</td>\n",
       "      <td>two-sided</td>\n",
       "      <td>0.533309</td>\n",
       "      <td>[-1.0637778932951096, 2.3526604958410737]</td>\n",
       "      <td>0.096997</td>\n",
       "      <td>0.201</td>\n",
       "      <td>0.095092</td>\n",
       "    </tr>\n",
       "  </tbody>\n",
       "</table>\n",
       "</div>"
      ],
      "text/plain": [
       "               T         dof alternative     p-val  \\\n",
       "T-test  0.624414  149.153958   two-sided  0.533309   \n",
       "\n",
       "                                            CI90%   cohen-d   BF10     power  \n",
       "T-test  [-1.0637778932951096, 2.3526604958410737]  0.096997  0.201  0.095092  "
      ]
     },
     "execution_count": 42,
     "metadata": {},
     "output_type": "execute_result"
    }
   ],
   "source": [
    "pg.ttest(yet, ywt, confidence=.9)"
   ]
  },
  {
   "cell_type": "markdown",
   "metadata": {
    "id": "wOd6GTj1EZw6"
   },
   "source": [
    "## Linear regression"
   ]
  },
  {
   "cell_type": "markdown",
   "metadata": {
    "id": "WqZRI_nN4PvK"
   },
   "source": [
    "### Basics"
   ]
  },
  {
   "cell_type": "markdown",
   "metadata": {
    "id": "b-olP9qyMmLV"
   },
   "source": [
    "Let's try to see if we can figure out the pricing structure.\n",
    "In order to do that, t-tests are not sufficient, because we need to consider more than a single variable.\n",
    "\n",
    "Typically, taxi fares start at a base fare, a per-mile rate, and a time component. In NYC, there are [other components](https://www.nyc.gov/site/tlc/passengers/taxi-fare.page) as well.\n",
    "\n",
    "From those three components, we can easily observe the base fare (intercept) and the per-mile rate (distance)."
   ]
  },
  {
   "cell_type": "markdown",
   "metadata": {
    "id": "tFOZJbpnpdn8"
   },
   "source": [
    "In order to specify the regression equation, we use the `~` (tilda) operator to separate the left- and right-hand sides of the regression equation.\n",
    "\n",
    "We then add the variable names (column names) from our data. **Avoid spaces in the column names!**\n",
    "\n",
    "To regress `y` on `x`, use `y ~ x`, which covers the regression equation $y = a + \\beta x + \\epsilon$. An intercept is added automatically. If you do not want to add an intercept, set the keyword argument `drop_intercept=True`."
   ]
  },
  {
   "cell_type": "code",
   "execution_count": null,
   "metadata": {
    "id": "h7Dgnuq7vVNP"
   },
   "outputs": [],
   "source": [
    "pf.feols(\"fare ~ distance\", data=data).summary()"
   ]
  },
  {
   "cell_type": "markdown",
   "metadata": {
    "id": "fVl6FtXlvBKV"
   },
   "source": [
    "It looks like the base fare is \\$4.7 and a charge of \\$2.73 is added per mile.\n",
    "Our estimates are statistically significant and we can explain about 90% of the variance in the data."
   ]
  },
  {
   "cell_type": "markdown",
   "metadata": {
    "id": "9pcd_Ta9B-J0"
   },
   "source": [
    "**Quick exercise**\n",
    "\n",
    "- Write the regression formula for the regression equation $R_t = a + \\beta R_M + \\epsilon$\n",
    "- Make a scatterplot. `tip` against `distance`. What do you notice?\n",
    "- Run a regression for $tip = a + \\beta \\times distance + \\epsilon$\n",
    "- Run a regression for $tip = \\beta \\times distance + \\epsilon$"
   ]
  },
  {
   "cell_type": "markdown",
   "metadata": {
    "id": "CtXWG5SqvY7B"
   },
   "source": [
    "#### New variables\n",
    "Very often, you will need to construct your own variables.\n",
    "\n",
    "\n",
    "\n"
   ]
  },
  {
   "cell_type": "markdown",
   "metadata": {
    "id": "I7CevB-pYPWl"
   },
   "source": [
    "**Trip duration**\n",
    "\n",
    "Since we know the time of pickup and dropoff, we can calculate the duration of the trip.\n",
    "We first take the difference between the two columns, and then use the `.dt` (datetime) [accessor of the resulting column](https://pandas.pydata.org/pandas-docs/stable/reference/api/pandas.Series.dt.html) (which is the type pandas.Series). In the next step we pull out the seconds and divide them by 60 to get minutes. Then we store it as `duration_min`. Note that we avoid spaces in the column names.\n",
    "\n",
    "**Time-of-day surcharges**\n",
    "```txt\n",
    "Plus $1.00 overnight surcharge 8pm to 6am.\n",
    "Plus $2.50 rush hour surcharge from 4pm to 8pm on weekdays, excluding holidays.\n",
    "```\n",
    "\n",
    "[There are some surcharges](https://www.nyc.gov/site/tlc/passengers/taxi-fare.page) depending on the time of day.\n"
   ]
  },
  {
   "cell_type": "code",
   "execution_count": null,
   "metadata": {
    "id": "P8izh2AAXpeh"
   },
   "outputs": [],
   "source": [
    "pd.Timestamp(\"2030-06-20 09:54:32\").hour"
   ]
  },
  {
   "cell_type": "code",
   "execution_count": null,
   "metadata": {
    "id": "D3DkpV170JgR"
   },
   "outputs": [],
   "source": [
    "def is_rushhour(date):\n",
    "  if date.dayofweek <= 4:\n",
    "    if date.hour >= 16 and date.hour < 20:\n",
    "      return True\n",
    "\n",
    "  # Note that we do not need to specify all the `else` statements\n",
    "  return False"
   ]
  },
  {
   "cell_type": "code",
   "execution_count": null,
   "metadata": {
    "id": "tHhsAzp7N2eo"
   },
   "outputs": [],
   "source": [
    "data_with_added_variables = data.assign(\n",
    "\n",
    "    # Weekend\n",
    "    weekend = lambda df: df['pickup'].dt.dayofweek >= 5,\n",
    "\n",
    "    # Duration in minutes\n",
    "    duration_min = lambda df: (df['dropoff']-df['pickup']).dt.seconds/60,\n",
    "\n",
    "    # Time-of-day surcharges\n",
    "    overnight = lambda df: ((df['pickup'].dt.hour >= 20) | (df['pickup'].dt.hour <= 6)),\n",
    "    rushhour = lambda df: df['pickup'].apply(is_rushhour),\n",
    "    )\n",
    "\n",
    "data_with_added_variables.head(2)"
   ]
  },
  {
   "cell_type": "markdown",
   "metadata": {
    "id": "O8_QMZxrY-au"
   },
   "source": [
    "**Expensive areas**\n",
    "\n",
    "[This source](https://www.roadwaymoving.com/blog/most-expensive-neighborhoods-in-nyc/) provides a list of NYC's most expensive neighbourhoods.\n",
    "We want to add a variable that tells us if a trip started in one of these expensive areas."
   ]
  },
  {
   "cell_type": "code",
   "execution_count": null,
   "metadata": {
    "id": "D1AZ7oh0_-BS"
   },
   "outputs": [],
   "source": [
    "expensive_areas = {\"pickup_zone\":['TriBeCa/Civic Center', 'Central Park', 'Times Sq/Theatre District', 'SoHo', 'Little Italy/NoLiTa', 'West Chelsea/Hudson Yards']}\n",
    "expensive_areas = pd.DataFrame(expensive_areas).assign(expensive = True)\n",
    "expensive_areas"
   ]
  },
  {
   "cell_type": "code",
   "execution_count": null,
   "metadata": {
    "id": "Gx3pRTGdHo96"
   },
   "outputs": [],
   "source": [
    "# We need to merge how='left'\n",
    "data_with_added_variables = data_with_added_variables.merge(expensive_areas, how='left',on='pickup_zone')\n",
    "\n",
    "data_with_added_variables.head(2)"
   ]
  },
  {
   "cell_type": "markdown",
   "metadata": {
    "id": "qGg9_sP1ZV2Z"
   },
   "source": [
    "Due to the `how='left'` merge, we have a lot of missing values (NaN). We want to fill them. Thus, we use the `fillna()` method on that column."
   ]
  },
  {
   "cell_type": "code",
   "execution_count": null,
   "metadata": {
    "id": "-cPoF7OfH9rM"
   },
   "outputs": [],
   "source": [
    "data_with_added_variables['expensive'] = data_with_added_variables['expensive'].fillna(False)\n",
    "data_with_added_variables.head(2)"
   ]
  },
  {
   "cell_type": "markdown",
   "metadata": {
    "id": "rHTVP8Y72uDB"
   },
   "source": [
    "**Using the new variables in a regression**\n",
    "\n",
    "Let's try to see if the fare can be predicted based on the `distance` and our new variables."
   ]
  },
  {
   "cell_type": "code",
   "execution_count": null,
   "metadata": {
    "id": "Jocv-Qql2zn_"
   },
   "outputs": [],
   "source": [
    "pf.feols(\"fare ~ distance + duration_min + overnight + rushhour\", data=data_with_added_variables).summary()"
   ]
  },
  {
   "cell_type": "markdown",
   "metadata": {
    "id": "8_I2k4PO3VQG"
   },
   "source": [
    "**Quick exercise**\n",
    "\n",
    "Only some variables are significant predictors of the fare. Many are not.\n",
    "\n",
    "Since they are called \"surcharges\", maybe they don't count towards the fare, but rather towards the total? Run that regression and interpret your results."
   ]
  },
  {
   "cell_type": "markdown",
   "metadata": {
    "id": "nSVdQWQm4UKP"
   },
   "source": [
    "### Advanced"
   ]
  },
  {
   "cell_type": "markdown",
   "metadata": {
    "id": "G4OY31eT7Xo1"
   },
   "source": [
    "#### Interaction terms"
   ]
  },
  {
   "cell_type": "markdown",
   "metadata": {
    "id": "FC3Xp2bc4aH0"
   },
   "source": [
    "We typically require slightly more advanced approaches to address our research question.\n",
    "\n",
    "For example interaction terms.\n",
    "Let's say we want to find out whether the tip amount is dependent on whether it's a weekend (people might be on a leisure trip and willing to tip more) and the ride starts in an expensive area (where passengers are wealthier). In addition, we also want to know whether riders from expensive areas tip differently during the weekend (because wealthier people might be more likely to go on a leisure trip).\n",
    "\n",
    "Thus, we can interact `weekend` with `expensive`. We can do so by writing `weekend*expensive`, which adds both variables individually and their interaction term.\n",
    "\n",
    "Unfortunately, tips are only recorded for credit card payments, thus, we need to filter the data."
   ]
  },
  {
   "cell_type": "code",
   "execution_count": null,
   "metadata": {
    "id": "J-Ua-I6LJzfE"
   },
   "outputs": [],
   "source": [
    "credit_card_only = data_with_added_variables.query(\"payment == 'credit card'\")"
   ]
  },
  {
   "cell_type": "code",
   "execution_count": null,
   "metadata": {
    "id": "U8plUnrLBrnw"
   },
   "outputs": [],
   "source": [
    "pf.feols(\"tip ~ fare + weekend*expensive\", data=credit_card_only).summary()\n",
    "\n",
    "# Equivalent\n",
    "# pf.feols(\"tip ~ fare + weekend + expensive + weekend:expensive\", data=credit_card_only).summary()"
   ]
  },
  {
   "cell_type": "markdown",
   "metadata": {
    "id": "9hBYX18SKgVk"
   },
   "source": [
    "From our results, we can see that in general our hypothesis were true, except that we would have expected a positive coefficient on the interaction term as well."
   ]
  },
  {
   "cell_type": "markdown",
   "metadata": {
    "id": "6vhlq2hvc74E"
   },
   "source": [
    "**Quick exercise**\n",
    "\n",
    "- Run the regression for the following equation: $fare = a + \\beta_1 \\times distance + \\beta_2 \\times weekend + \\beta_3 \\times weekend \\times distance + \\epsilon$. What are we measuring with the interaction term?\n",
    "- Calculate the unconditional mean of `fare`. How large is the economic effect of weekend in percent of the unconditional mean? Is it statistically and economically significant? (Manually copy the coefficient for weekend)."
   ]
  },
  {
   "cell_type": "markdown",
   "metadata": {
    "id": "LwxomTRF7ZzV"
   },
   "source": [
    "#### Variable transformations\n",
    "\n",
    "Using the logarithm and other transformations are also very commonly applied methods. To achieve this, you can of course create a new column in your data that has the transformation applied.\n",
    "\n",
    "Some functions (numpy) can however also be applied in your regression equation, which can be useful."
   ]
  },
  {
   "cell_type": "code",
   "execution_count": null,
   "metadata": {
    "id": "W83MDhVS7vyi"
   },
   "outputs": [],
   "source": [
    "pf.feols(\"total ~ np.log(distance+1) + tip + tolls + duration_min + overnight + rushhour\", data=data_with_added_variables).summary()"
   ]
  },
  {
   "cell_type": "markdown",
   "metadata": {
    "id": "LU_2prz236aI"
   },
   "source": [
    "## Fixed effect regression"
   ]
  },
  {
   "cell_type": "markdown",
   "metadata": {
    "id": "fNRqP8Z8FW54"
   },
   "source": [
    "Now let's run a more advanced type of regression. Fixed effect regressions.\n",
    "\n",
    "Typically, we have a single intercept in our regression. However, in some cases, we might want to have separate intercepts for e.g. the color of the taxis.\n",
    "\n",
    "We can specify that by providing the pipe operator `|` after our regression specification and then listing the different variables we want to add fixed effects for."
   ]
  },
  {
   "cell_type": "code",
   "execution_count": null,
   "metadata": {
    "id": "sgcqRnkbzbeb"
   },
   "outputs": [],
   "source": [
    "pf.feols(\"fare ~ distance + duration_min | color\", data=data_with_added_variables).summary()\n",
    "# You can see that there is no intercept listed in the regression output anymore. It is subsumed by the Fixed Effect."
   ]
  },
  {
   "cell_type": "markdown",
   "metadata": {
    "id": "kVTJdDFKEUcu"
   },
   "source": [
    "**Quick exercise**\n",
    "\n",
    "Add a FE for `pickup_zone` to the regression of the `tip` on `fare`. Use the credit card only dataset."
   ]
  },
  {
   "cell_type": "markdown",
   "metadata": {
    "id": "78C3_OG2IzEU"
   },
   "source": [
    "## Prediction\n",
    "\n",
    "Sometimes you want to have predicted values, e.g. when forecasting expected returns."
   ]
  },
  {
   "cell_type": "code",
   "execution_count": null,
   "metadata": {
    "id": "14mcQSbnEXfL"
   },
   "outputs": [],
   "source": [
    "# Let's take the following model\n",
    "model = pf.feols(\"fare ~ distance + duration_min | color\", data=data_with_added_variables) # No .summary()!"
   ]
  },
  {
   "cell_type": "code",
   "execution_count": null,
   "metadata": {
    "id": "KKFiAfWHHjx_"
   },
   "outputs": [],
   "source": [
    "# Run the `predict` method of the model.\n",
    "predicted_fare = model.predict(data_with_added_variables)\n",
    "predicted_fare"
   ]
  },
  {
   "cell_type": "code",
   "execution_count": null,
   "metadata": {
    "id": "7kqf8SR6HvM6"
   },
   "outputs": [],
   "source": [
    "# We can then use the predictions in any way we want, e.g. to calculate the difference to the actual data.\n",
    "data_with_added_variables['fare'].subtract(predicted_fare).hist(bins=100)"
   ]
  },
  {
   "cell_type": "markdown",
   "metadata": {
    "id": "-3A0Bf-zSGqd"
   },
   "source": [
    "## Presenting the results"
   ]
  },
  {
   "cell_type": "markdown",
   "metadata": {
    "id": "bnhqwnmBTBar"
   },
   "source": [
    "After running (multiple) regressions, you typically want to show them in an easy-to-understand way. We can use the `etable` function for this purpose."
   ]
  },
  {
   "cell_type": "code",
   "execution_count": null,
   "metadata": {
    "id": "85NE0ZrhSTiN"
   },
   "outputs": [],
   "source": [
    "# First, we run several regressions.\n",
    "results = []\n",
    "\n",
    "specifications = [\n",
    "    \"total ~ distance + tip + tolls*duration_min + overnight + rushhour\",\n",
    "    \"fare ~ distance + duration_min | color + C(passengers)\",\n",
    "]\n",
    "\n",
    "for spec in specifications:\n",
    "  result = pf.feols(spec, data=data_with_added_variables)\n",
    "  results.append(result)"
   ]
  },
  {
   "cell_type": "code",
   "execution_count": null,
   "metadata": {
    "id": "i3BfQLanSJRZ"
   },
   "outputs": [],
   "source": [
    "# Second, we show the results in a nice format.\n",
    "# The coef_fmt specifies that we want the t-stat in parentheses.\n",
    "pf.etable(results, coef_fmt = \"b (t)\")"
   ]
  },
  {
   "cell_type": "code",
   "execution_count": null,
   "metadata": {
    "id": "XyzNlEsZSrks"
   },
   "outputs": [],
   "source": [
    "# If you want to export it to Excel, you can use type='df'. There is also latex with type='tex'\n",
    "pf.etable(results, coef_fmt = \"b (t)\", type=\"df\")"
   ]
  },
  {
   "cell_type": "markdown",
   "metadata": {
    "id": "Dpjhb0BsTxF4"
   },
   "source": [
    "## Exercises"
   ]
  },
  {
   "cell_type": "markdown",
   "metadata": {
    "id": "BhkH6fg8mKKv"
   },
   "source": [
    "a)\n",
    "- Test whether passengers are different from one.\n",
    "- Test whether the amount paid as fare differs between cash and credit card payments."
   ]
  },
  {
   "cell_type": "markdown",
   "metadata": {
    "id": "f2ViDt6zkgJ5"
   },
   "source": [
    "b) You want to study the effect of tolls on trip duration.\n",
    "\n",
    "- Run a regression with an intercept and without an intercept.\n",
    "- Plot a scatterplot that shows the relevant data"
   ]
  },
  {
   "cell_type": "markdown",
   "metadata": {
    "id": "VR1f34tSl1MJ"
   },
   "source": [
    "c) You're still studying the effect of tolls on trip duration.\n",
    "- Run the simple regression from b with the intercept.\n",
    "- Add the distance to your regression [use this spec in part d)].\n",
    "- Additionally add the overnight dummy.\n",
    "- Additionally add an interaction between distance and overnight.\n",
    "- Additionally add a fixed effect for the taxi color.\n",
    "- Collect all of these regressions into `results` and show them in a single table. Show the coefficients and the t-statistics."
   ]
  },
  {
   "cell_type": "markdown",
   "metadata": {
    "id": "XW-BTeILwhk3"
   },
   "source": [
    "d) You're still studying the effect of tolls on trip duration.\n",
    "- For the regression model highlighted in part c), calculate predicted values.\n",
    "- Plot predicted vs actual values in a scatterplot\n",
    "  - Set the color of the points based on the pickup_borough\n",
    "  - Set the marker type based on the taxi color"
   ]
  }
 ],
 "metadata": {
  "colab": {
   "include_colab_link": true,
   "provenance": []
  },
  "kernelspec": {
   "display_name": "Python 3",
   "name": "python3"
  },
  "language_info": {
   "codemirror_mode": {
    "name": "ipython",
    "version": 3
   },
   "file_extension": ".py",
   "mimetype": "text/x-python",
   "name": "python",
   "nbconvert_exporter": "python",
   "pygments_lexer": "ipython3",
   "version": "3.12.4"
  }
 },
 "nbformat": 4,
 "nbformat_minor": 0
}
