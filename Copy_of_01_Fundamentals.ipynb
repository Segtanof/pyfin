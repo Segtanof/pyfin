{
 "cells": [
  {
   "cell_type": "markdown",
   "metadata": {
    "colab_type": "text",
    "id": "view-in-github"
   },
   "source": [
    "<a href=\"https://colab.research.google.com/github/Segtanof/pyfin/blob/main/Copy_of_01_Fundamentals.ipynb\" target=\"_parent\"><img src=\"https://colab.research.google.com/assets/colab-badge.svg\" alt=\"Open In Colab\"/></a>"
   ]
  },
  {
   "cell_type": "markdown",
   "metadata": {
    "id": "TP9jHdtkp-me"
   },
   "source": [
    "# Fundamentals"
   ]
  },
  {
   "cell_type": "markdown",
   "metadata": {
    "id": "D4rXQl59H8nM"
   },
   "source": [
    "A few notes before we get started:\n",
    "\n",
    "\n",
    "*   The course is not a computer science course. Thus, for simplicity, we will not always use the correct terminology.\n",
    "*   The course contents (and thus materials) are structured in an order that is good for *teaching*. It is not the ideal place to look things up.\n",
    "\n"
   ]
  },
  {
   "cell_type": "markdown",
   "metadata": {
    "id": "pU8W9T3PqDmN"
   },
   "source": [
    "## Jupyter Notebook Basics"
   ]
  },
  {
   "cell_type": "markdown",
   "metadata": {
    "id": "b7S67gfFrZoX"
   },
   "source": [
    "Jupyter notebooks (like this one) are interactive code & text interfaces. You can create and edit both text and Python code cells in this  notebook. The Python code runs on a so-called environment where all the libraries and settings for Python are stored."
   ]
  },
  {
   "cell_type": "code",
   "execution_count": null,
   "metadata": {
    "id": "tK2mJeMkEZCk"
   },
   "outputs": [],
   "source": []
  },
  {
   "cell_type": "markdown",
   "metadata": {
    "id": "dVZQv656EZlv"
   },
   "source": []
  },
  {
   "cell_type": "markdown",
   "metadata": {
    "id": "0ka7RHIcsbdn"
   },
   "source": [
    "### How are Python and Google Colab related?\n",
    "The difference between Python and many other software packages, such as Stata, is its modularity.\n",
    "\n",
    "Take Stata for example. The code editing and code execution are done in one app. It looks the same for every user.\n",
    "\n",
    "Python on the other hand is modular. \"Python\" itself only covers the code execution. The code *editing* can be done in different programs, one of which is Google Colab. Therefore, different users might both be using Python to execute their code, but the app they open can vary.\n",
    "\n",
    "**Python:**\n",
    "\n",
    "![image.png](data:image/png;base64,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)\n",
    "\n"
   ]
  },
  {
   "cell_type": "markdown",
   "metadata": {
    "id": "8SQzQBRCqHQf"
   },
   "source": [
    "### How to use notebooks\n",
    "Jupyter notebooks structure text and code in 'cells'. The text cells are written in Markdown, the code cells can run different programming languages (here we only use Python).\n",
    "\n",
    "To edit a text cell (like this one) double click on it.\n",
    "\n",
    "To create a text or code cell, you can hover between two cells and create a text or code cell. Try it!"
   ]
  },
  {
   "cell_type": "markdown",
   "metadata": {
    "id": "taj6dPaMrEhw"
   },
   "source": [
    "**Text cells** allow you to\n",
    "- Write & edit text: make it **bold**, *italic*  or create section titles using hashtags (#). Multiple hashtags (##) allow to specify the rank of the section title.\n",
    "- Make lists (like this one)\n",
    "- Insert images\n",
    "- Write equations using $\\LaTeX$: $ \\frac{1}{2} = 0.5$"
   ]
  },
  {
   "cell_type": "markdown",
   "metadata": {
    "id": "HgSx8wkmy4F_"
   },
   "source": [
    "**Code cells**, like the one below, allow you to write and execute code. In this notebook all code cells will be interpreted by Python.\n",
    "Try executing the below code by howering to the left part of the code cell and clicking on the play button or by clicking on the cell and pressing CTRL+ENTER (CMD+ENTER on Mac)"
   ]
  },
  {
   "cell_type": "code",
   "execution_count": 1,
   "metadata": {
    "id": "C9G6FYtAyY_6"
   },
   "outputs": [
    {
     "data": {
      "text/plain": [
       "'execute this cell by clicking on it and press CTRL+ENTER (CMD+ENTER on Mac)'"
      ]
     },
     "execution_count": 1,
     "metadata": {},
     "output_type": "execute_result"
    }
   ],
   "source": [
    "\"execute this cell by clicking on it and press CTRL+ENTER (CMD+ENTER on Mac)\""
   ]
  },
  {
   "cell_type": "markdown",
   "metadata": {
    "id": "dlZyi42rzczT"
   },
   "source": [
    "The output of the cell will appear below the cell. In this case, you should see the text twice: once inside the code cell and once below it.\n",
    "\n",
    "Python ignores everything after a # character. This allows you to write comments. Comments have the text color green:"
   ]
  },
  {
   "cell_type": "code",
   "execution_count": 2,
   "metadata": {
    "id": "Gva4DJyDzuNu"
   },
   "outputs": [],
   "source": [
    "# This is a comment. Nothing will be shown below, because it is ignored by Python"
   ]
  },
  {
   "cell_type": "markdown",
   "metadata": {
    "id": "jlHXQjrVgXQl"
   },
   "source": [
    "Tip: You can use the keyboard shortcut `CTRL+/` to comment and uncomment the currently selected line."
   ]
  },
  {
   "cell_type": "markdown",
   "metadata": {
    "id": "uJU3B_e-gAvJ"
   },
   "source": [
    "**Quick exercise**\n",
    "\n",
    "Combine the two, text to be returned and a comment in the same cell / line"
   ]
  },
  {
   "cell_type": "code",
   "execution_count": 10,
   "metadata": {},
   "outputs": [
    {
     "data": {
      "text/plain": [
       "'text 1'"
      ]
     },
     "execution_count": 10,
     "metadata": {},
     "output_type": "execute_result"
    }
   ],
   "source": [
    "\"text 1\" #comment"
   ]
  },
  {
   "cell_type": "markdown",
   "metadata": {
    "id": "gxAbk2SOtkTb"
   },
   "source": [
    "## Variables and Data Types"
   ]
  },
  {
   "cell_type": "markdown",
   "metadata": {
    "id": "qNxrK3aQxDoH"
   },
   "source": [
    "### Basic Data Types"
   ]
  },
  {
   "cell_type": "markdown",
   "metadata": {
    "id": "lpYuOD-hxG71"
   },
   "source": [
    "Let us now turn to the basic data types in Python.\n",
    "\n",
    "> **Basic types**\n",
    "> - integers (`int`)\n",
    "- floating-point numbers (`float`)\n",
    "- boolean (`bool`)\n",
    "- strings (`str`)\n"
   ]
  },
  {
   "cell_type": "markdown",
   "metadata": {
    "id": "dUAp9Zqk373f"
   },
   "source": [
    "#### Integers and floats\n",
    "\n",
    "> Integers (`int`) and floats (`float`) are the two key data types of\n",
    "numbers. Floats are used to store decimals (`1.75`).\n",
    "Integers store natural numbers (`1`).\n",
    "\n",
    "Python automatically returns the last element to the console, meaning you see the value below the cell. If we just write a number, Python will hence diplay it below again:"
   ]
  },
  {
   "cell_type": "code",
   "execution_count": 3,
   "metadata": {
    "id": "w0aGbBZq3_Xy"
   },
   "outputs": [
    {
     "data": {
      "text/plain": [
       "5"
      ]
     },
     "execution_count": 3,
     "metadata": {},
     "output_type": "execute_result"
    }
   ],
   "source": [
    "5"
   ]
  },
  {
   "cell_type": "markdown",
   "metadata": {
    "id": "IvkE-XqHD5Ji"
   },
   "source": [
    "However, when we write two lines of code with two different integers, Python will return only the *last* object:"
   ]
  },
  {
   "cell_type": "code",
   "execution_count": 4,
   "metadata": {
    "id": "7ohWJe25EAga"
   },
   "outputs": [
    {
     "data": {
      "text/plain": [
       "4"
      ]
     },
     "execution_count": 4,
     "metadata": {},
     "output_type": "execute_result"
    }
   ],
   "source": [
    "3\n",
    "4"
   ]
  },
  {
   "cell_type": "markdown",
   "metadata": {
    "id": "UVHunSOLJw6A"
   },
   "source": [
    "We can use the `print()` function to display values at any point in the code. The function print takes in one argument: the object that should be displayed and displays the object below the cell (to the 'console'), in the order that print has been 'called'. We will discuss functions in a later part of the course.\n",
    "\n",
    "For now, just remember that you can see results by `print(something)`, where you put the thing to print between the parentheses."
   ]
  },
  {
   "cell_type": "code",
   "execution_count": 5,
   "metadata": {
    "id": "yKzBOP36J3jc"
   },
   "outputs": [
    {
     "name": "stdout",
     "output_type": "stream",
     "text": [
      "3\n",
      "4\n"
     ]
    }
   ],
   "source": [
    "print(3)\n",
    "print(4)"
   ]
  },
  {
   "cell_type": "markdown",
   "metadata": {
    "id": "m0ViEY4r5LI2"
   },
   "source": [
    "We can also inspect the data `type` of objects by using the `type()` function:"
   ]
  },
  {
   "cell_type": "code",
   "execution_count": 6,
   "metadata": {
    "id": "fBSGh1dE5SQV"
   },
   "outputs": [
    {
     "data": {
      "text/plain": [
       "int"
      ]
     },
     "execution_count": 6,
     "metadata": {},
     "output_type": "execute_result"
    }
   ],
   "source": [
    "type(5)"
   ]
  },
  {
   "cell_type": "markdown",
   "metadata": {
    "id": "70yOeLWH5TqJ"
   },
   "source": [
    "Python has stored the 5 as an `int`.\n",
    "To create a `float` we can type 5.0 instead of 5:"
   ]
  },
  {
   "cell_type": "code",
   "execution_count": 7,
   "metadata": {
    "id": "tTWt19zS5j0K"
   },
   "outputs": [
    {
     "data": {
      "text/plain": [
       "float"
      ]
     },
     "execution_count": 7,
     "metadata": {},
     "output_type": "execute_result"
    }
   ],
   "source": [
    "type(5.0)"
   ]
  },
  {
   "cell_type": "markdown",
   "metadata": {
    "id": "oRqrADeKEYxu"
   },
   "source": [
    "using the `int()` and `float()` functions we can transform integers and floats into each other:"
   ]
  },
  {
   "cell_type": "code",
   "execution_count": 8,
   "metadata": {
    "id": "xiwow4GvEX4G"
   },
   "outputs": [
    {
     "data": {
      "text/plain": [
       "5"
      ]
     },
     "execution_count": 8,
     "metadata": {},
     "output_type": "execute_result"
    }
   ],
   "source": [
    "int(\"5\")"
   ]
  },
  {
   "cell_type": "code",
   "execution_count": 9,
   "metadata": {
    "id": "oPWNltuPEgpL"
   },
   "outputs": [
    {
     "data": {
      "text/plain": [
       "5.0"
      ]
     },
     "execution_count": 9,
     "metadata": {},
     "output_type": "execute_result"
    }
   ],
   "source": [
    "float(5)"
   ]
  },
  {
   "cell_type": "markdown",
   "metadata": {
    "id": "oLiFGxsJ-Wwy"
   },
   "source": [
    "Integers are more memory efficient, so it is good to use integers when we work with natural numbers. This is typically the case when we count things (e.g. companies, persons) or when we want indices or IDs for things (e.g. the common finance databases use integers as company IDs).\n",
    "\n",
    "For the most part, the two are almost equivalent in our use cases."
   ]
  },
  {
   "cell_type": "markdown",
   "metadata": {
    "id": "T-TxYZq0h9xR"
   },
   "source": [
    "**Quick exercise**\n",
    "\n",
    "- Check the type of `-99`\n",
    "- Check the type of `3.1`\n",
    "- Convert `42` to a float\n",
    "- `print` the result of converting `51.1` to an `int`"
   ]
  },
  {
   "cell_type": "code",
   "execution_count": 11,
   "metadata": {},
   "outputs": [
    {
     "data": {
      "text/plain": [
       "int"
      ]
     },
     "execution_count": 11,
     "metadata": {},
     "output_type": "execute_result"
    }
   ],
   "source": [
    "type(-99)"
   ]
  },
  {
   "cell_type": "code",
   "execution_count": 12,
   "metadata": {},
   "outputs": [
    {
     "data": {
      "text/plain": [
       "float"
      ]
     },
     "execution_count": 12,
     "metadata": {},
     "output_type": "execute_result"
    }
   ],
   "source": [
    "type(3.1)"
   ]
  },
  {
   "cell_type": "code",
   "execution_count": 14,
   "metadata": {},
   "outputs": [
    {
     "data": {
      "text/plain": [
       "float"
      ]
     },
     "execution_count": 14,
     "metadata": {},
     "output_type": "execute_result"
    }
   ],
   "source": [
    "type(float(42))"
   ]
  },
  {
   "cell_type": "code",
   "execution_count": 16,
   "metadata": {},
   "outputs": [
    {
     "name": "stdout",
     "output_type": "stream",
     "text": [
      "51\n"
     ]
    }
   ],
   "source": [
    "print(int(51.7))"
   ]
  },
  {
   "cell_type": "markdown",
   "metadata": {
    "id": "b9IXdJsx68aa"
   },
   "source": [
    "#### Strings\n",
    "> The string `str` is the data type of text. Strings can be specified using single quotes (`'`) or double quotes (`\"`):"
   ]
  },
  {
   "cell_type": "code",
   "execution_count": 17,
   "metadata": {
    "id": "zetPdvXIDtex"
   },
   "outputs": [
    {
     "data": {
      "text/plain": [
       "'University of Mannheim'"
      ]
     },
     "execution_count": 17,
     "metadata": {},
     "output_type": "execute_result"
    }
   ],
   "source": [
    "\"University of Mannheim\"\n",
    "'University of Mannheim'"
   ]
  },
  {
   "cell_type": "markdown",
   "metadata": {
    "id": "abrOYPhWD0c2"
   },
   "source": [
    "Again, Python will return the last object only.\n",
    "Using the `type()` function we can also confirm that the type is indeed a `str`"
   ]
  },
  {
   "cell_type": "code",
   "execution_count": 18,
   "metadata": {
    "id": "9IsHod19ERan"
   },
   "outputs": [
    {
     "data": {
      "text/plain": [
       "str"
      ]
     },
     "execution_count": 18,
     "metadata": {},
     "output_type": "execute_result"
    }
   ],
   "source": [
    "type('University of Mannheim')"
   ]
  },
  {
   "cell_type": "markdown",
   "metadata": {
    "id": "6LTICU2gHdv6"
   },
   "source": [
    "We can concatenate strings using the `+` operator"
   ]
  },
  {
   "cell_type": "code",
   "execution_count": 19,
   "metadata": {
    "id": "Lh9-iQyLHhtl"
   },
   "outputs": [
    {
     "data": {
      "text/plain": [
       "'University of Mannheim'"
      ]
     },
     "execution_count": 19,
     "metadata": {},
     "output_type": "execute_result"
    }
   ],
   "source": [
    "'University' + ' of ' + 'Mannheim'"
   ]
  },
  {
   "cell_type": "markdown",
   "metadata": {
    "id": "2Km7SqXVHPY-"
   },
   "source": [
    "using `\\n` we can insert a line break, if the string is inside a `print()` function:"
   ]
  },
  {
   "cell_type": "code",
   "execution_count": 20,
   "metadata": {
    "id": "qNcfy9BOHU0N"
   },
   "outputs": [
    {
     "name": "stdout",
     "output_type": "stream",
     "text": [
      "University \n",
      "of Mannheim\n"
     ]
    }
   ],
   "source": [
    "print(\"University \\nof Mannheim\")"
   ]
  },
  {
   "cell_type": "markdown",
   "metadata": {
    "id": "-RdnPsWJ8jt_"
   },
   "source": [
    "##### Escape character\n",
    "As you saw, the `\\n` was special. This is because of the backslack `\\`, which is the *escape character*. `\\n` stands for newline, therefore the text was split into multiple lines.\n",
    "\n",
    "Another common use of `\\` is to escape characters that would be interpreted by Python, but you want them to be part of your text string."
   ]
  },
  {
   "cell_type": "code",
   "execution_count": 21,
   "metadata": {
    "id": "ma5VkAtE8jM8"
   },
   "outputs": [
    {
     "ename": "SyntaxError",
     "evalue": "invalid syntax (3134361954.py, line 2)",
     "output_type": "error",
     "traceback": [
      "\u001b[1;36m  Cell \u001b[1;32mIn[21], line 2\u001b[1;36m\u001b[0m\n\u001b[1;33m    \"The company is called \"Microsoft\"\"\u001b[0m\n\u001b[1;37m                            ^\u001b[0m\n\u001b[1;31mSyntaxError\u001b[0m\u001b[1;31m:\u001b[0m invalid syntax\n"
     ]
    }
   ],
   "source": [
    "# The following will produce an error\n",
    "\"The company is called \"Microsoft\"\""
   ]
  },
  {
   "cell_type": "markdown",
   "metadata": {
    "id": "NVyw-oee9PjM"
   },
   "source": [
    "What went wrong? What did this look like for Python?\n",
    "\n",
    "1. A string \"The company is called \"\n",
    "2. A variable called `Microsoft`\n",
    "3. An empty string \"\"\n",
    "\n",
    "Number 2 was confusing, because the variable was not properly \"connected\" (by e.g. `+` or `,`) to the strings. Thus, you received an error."
   ]
  },
  {
   "cell_type": "markdown",
   "metadata": {
    "id": "AZjgMVbL98C3"
   },
   "source": [
    "What can you do about it? You can use the escape character `\\` in front of the `\"` for the company name, like so:"
   ]
  },
  {
   "cell_type": "code",
   "execution_count": 22,
   "metadata": {
    "id": "5iCyUPMS-NwT"
   },
   "outputs": [
    {
     "data": {
      "text/plain": [
       "'The company is called \"Microsoft\"'"
      ]
     },
     "execution_count": 22,
     "metadata": {},
     "output_type": "execute_result"
    }
   ],
   "source": [
    "\"The company is called \\\"Microsoft\\\"\""
   ]
  },
  {
   "cell_type": "markdown",
   "metadata": {
    "id": "E1pYLQZ3-USN"
   },
   "source": [
    "Is there another way? Yes. If you want to use `\"` inside your string, you can specify your string with `'`."
   ]
  },
  {
   "cell_type": "markdown",
   "metadata": {
    "id": "QruI1SvMjWWj"
   },
   "source": [
    "We can also use triple quotes (`'''`, `\"\"\"`) to start and end (multi-line) strings."
   ]
  },
  {
   "cell_type": "code",
   "execution_count": 24,
   "metadata": {
    "id": "sqvH2QfMGBPc"
   },
   "outputs": [
    {
     "data": {
      "text/plain": [
       "'The company is called \"Microsoft\".\\nThe cloud platform they own is called Azure.\\nI like that I don\\'t have to type \\'\\n\\' to produce newlines.'"
      ]
     },
     "execution_count": 24,
     "metadata": {},
     "output_type": "execute_result"
    }
   ],
   "source": [
    "\"\"\"The company is called \"Microsoft\".\n",
    "The cloud platform they own is called Azure.\n",
    "I like that I don't have to type '\\n' to produce newlines.\"\"\""
   ]
  },
  {
   "cell_type": "markdown",
   "metadata": {
    "id": "1Bg42FVbjt6u"
   },
   "source": [
    "**Quick exercise**\n",
    "\n",
    "`print` the above multi-line text. What is different than just returning it? How do we keep the `\\n` intact?"
   ]
  },
  {
   "cell_type": "code",
   "execution_count": 29,
   "metadata": {},
   "outputs": [
    {
     "name": "stdout",
     "output_type": "stream",
     "text": [
      "The company is called \"Microsoft\".\n",
      "The cloud platform they own is called Azure.\n",
      "I like that I don't have to type '\\n' to produce newlines.\n"
     ]
    }
   ],
   "source": [
    "print(\"\"\"The company is called \"Microsoft\".\n",
    "The cloud platform they own is called Azure.\n",
    "I like that I don't have to type '\\\\n' to produce newlines.\"\"\")"
   ]
  },
  {
   "cell_type": "markdown",
   "metadata": {
    "id": "YT8ULGUlEOYK"
   },
   "source": [
    "#### Bool\n",
    "The `bool` data type always has either of two values: `True` or `False`."
   ]
  },
  {
   "cell_type": "code",
   "execution_count": 30,
   "metadata": {
    "id": "koMoZHS2E3JL"
   },
   "outputs": [
    {
     "data": {
      "text/plain": [
       "bool"
      ]
     },
     "execution_count": 30,
     "metadata": {},
     "output_type": "execute_result"
    }
   ],
   "source": [
    "type(True)"
   ]
  },
  {
   "cell_type": "markdown",
   "metadata": {
    "id": "dSVotui6FPHX"
   },
   "source": [
    "Typically such a bool is created by writing a **condition** (more on that later). A condition tests the truth value of some statement. If we want to test if 5 is equal to 3 we write (note the double `=`!)"
   ]
  },
  {
   "cell_type": "code",
   "execution_count": 31,
   "metadata": {
    "id": "7iBaDYKoFdhS"
   },
   "outputs": [
    {
     "data": {
      "text/plain": [
       "True"
      ]
     },
     "execution_count": 31,
     "metadata": {},
     "output_type": "execute_result"
    }
   ],
   "source": [
    "3 == 3"
   ]
  },
  {
   "cell_type": "markdown",
   "metadata": {
    "id": "kT8lYntaFg1o"
   },
   "source": [
    "Which will return `False`, a Boolean value:"
   ]
  },
  {
   "cell_type": "code",
   "execution_count": 32,
   "metadata": {
    "id": "aI4FrKkzFmYc"
   },
   "outputs": [
    {
     "data": {
      "text/plain": [
       "bool"
      ]
     },
     "execution_count": 32,
     "metadata": {},
     "output_type": "execute_result"
    }
   ],
   "source": [
    "type(5 == 3)"
   ]
  },
  {
   "cell_type": "markdown",
   "metadata": {
    "id": "z8W131s8kXzc"
   },
   "source": [
    "#### None"
   ]
  },
  {
   "cell_type": "markdown",
   "metadata": {
    "id": "1hoQe25K6zSZ"
   },
   "source": [
    "There is also the `NoneType` which has the value `None`:"
   ]
  },
  {
   "cell_type": "code",
   "execution_count": 33,
   "metadata": {
    "id": "OGjOE98365D7"
   },
   "outputs": [
    {
     "data": {
      "text/plain": [
       "NoneType"
      ]
     },
     "execution_count": 33,
     "metadata": {},
     "output_type": "execute_result"
    }
   ],
   "source": [
    "type(None)"
   ]
  },
  {
   "cell_type": "markdown",
   "metadata": {
    "id": "XesdM-hJ8wLg"
   },
   "source": [
    "`None` is often used to indicate that data is missing, or a variable is not assigned right now, but will be created and used later."
   ]
  },
  {
   "cell_type": "markdown",
   "metadata": {
    "id": "B1oMXzr_Yx6n"
   },
   "source": [
    "### Assigning Variables & Calculations\n",
    "> Variables store objects, such as the basic data types we discussed. Variables can be used throughout the notebook after we assign them.\n",
    "\n",
    "\n",
    "To **assign** a variable, we use a variable name of our choosing to the left of the equal symbol `=` and then the object we want to store:"
   ]
  },
  {
   "cell_type": "code",
   "execution_count": 34,
   "metadata": {
    "id": "J3KmTFfuZcSh"
   },
   "outputs": [],
   "source": [
    "x = 3"
   ]
  },
  {
   "cell_type": "markdown",
   "metadata": {
    "id": "jsMLbnkSZeIj"
   },
   "source": [
    "**After execution** of the code cell, Python now knows that x is equal to 3. We can use this result from now on in the entire notebook:"
   ]
  },
  {
   "cell_type": "code",
   "execution_count": 35,
   "metadata": {
    "id": "d4a-0rPIZtG9"
   },
   "outputs": [
    {
     "name": "stdout",
     "output_type": "stream",
     "text": [
      "3\n"
     ]
    },
    {
     "data": {
      "text/plain": [
       "int"
      ]
     },
     "execution_count": 35,
     "metadata": {},
     "output_type": "execute_result"
    }
   ],
   "source": [
    "print(x)\n",
    "type(x)"
   ]
  },
  {
   "cell_type": "markdown",
   "metadata": {
    "id": "AwTeNjIjZwFI"
   },
   "source": [
    "> Using variables requires to first execute the code where the variable is assigned\n",
    "\n",
    "Here we need to execute code where `x=3` is assigned and then the code that is using `x` can follow.  If we change the order, this will not work:"
   ]
  },
  {
   "cell_type": "code",
   "execution_count": 36,
   "metadata": {
    "id": "USJusYt7Z7eH"
   },
   "outputs": [
    {
     "ename": "NameError",
     "evalue": "name 'y' is not defined",
     "output_type": "error",
     "traceback": [
      "\u001b[1;31m---------------------------------------------------------------------------\u001b[0m",
      "\u001b[1;31mNameError\u001b[0m                                 Traceback (most recent call last)",
      "Cell \u001b[1;32mIn[36], line 2\u001b[0m\n\u001b[0;32m      1\u001b[0m \u001b[38;5;66;03m# first, run this cell\u001b[39;00m\n\u001b[1;32m----> 2\u001b[0m \u001b[43my\u001b[49m\n",
      "\u001b[1;31mNameError\u001b[0m: name 'y' is not defined"
     ]
    }
   ],
   "source": [
    "# first, run this cell\n",
    "y"
   ]
  },
  {
   "cell_type": "code",
   "execution_count": 37,
   "metadata": {
    "id": "OLov_H-AZ8fD"
   },
   "outputs": [],
   "source": [
    "# second, run this cell\n",
    "y=4"
   ]
  },
  {
   "cell_type": "code",
   "execution_count": 38,
   "metadata": {
    "id": "ohct7xUXa4fS"
   },
   "outputs": [
    {
     "data": {
      "text/plain": [
       "4"
      ]
     },
     "execution_count": 38,
     "metadata": {},
     "output_type": "execute_result"
    }
   ],
   "source": [
    "# third, run this cell\n",
    "y"
   ]
  },
  {
   "cell_type": "markdown",
   "metadata": {
    "id": "jKAnyRAFaB7N"
   },
   "source": [
    "Similarly, we get an error within one cell when we use the variable before assigning it:"
   ]
  },
  {
   "cell_type": "code",
   "execution_count": 39,
   "metadata": {
    "id": "-SavPAPLZ-p_"
   },
   "outputs": [
    {
     "ename": "NameError",
     "evalue": "name 'z' is not defined",
     "output_type": "error",
     "traceback": [
      "\u001b[1;31m---------------------------------------------------------------------------\u001b[0m",
      "\u001b[1;31mNameError\u001b[0m                                 Traceback (most recent call last)",
      "Cell \u001b[1;32mIn[39], line 1\u001b[0m\n\u001b[1;32m----> 1\u001b[0m \u001b[43mz\u001b[49m\n\u001b[0;32m      2\u001b[0m z\u001b[38;5;241m=\u001b[39m\u001b[38;5;241m3\u001b[39m\n",
      "\u001b[1;31mNameError\u001b[0m: name 'z' is not defined"
     ]
    }
   ],
   "source": [
    "z\n",
    "z=3"
   ]
  },
  {
   "cell_type": "markdown",
   "metadata": {
    "id": "J8YDRMaYaJ4Z"
   },
   "source": [
    "Note that the code execution stops when an error occurs. This means the `z` is not defined (and not 3) since an error occured before we assigned `z=3`. We can test this:"
   ]
  },
  {
   "cell_type": "code",
   "execution_count": 40,
   "metadata": {
    "id": "qA6VAy5DbCFw"
   },
   "outputs": [
    {
     "ename": "NameError",
     "evalue": "name 'z' is not defined",
     "output_type": "error",
     "traceback": [
      "\u001b[1;31m---------------------------------------------------------------------------\u001b[0m",
      "\u001b[1;31mNameError\u001b[0m                                 Traceback (most recent call last)",
      "Cell \u001b[1;32mIn[40], line 1\u001b[0m\n\u001b[1;32m----> 1\u001b[0m \u001b[43mz\u001b[49m\n",
      "\u001b[1;31mNameError\u001b[0m: name 'z' is not defined"
     ]
    }
   ],
   "source": [
    "z"
   ]
  },
  {
   "cell_type": "markdown",
   "metadata": {
    "id": "hxr2lx0GdRcR"
   },
   "source": [
    "> Be very careful that the code can be executed top to bottom logically to avoid such errors in Jupyter notebooks."
   ]
  },
  {
   "cell_type": "markdown",
   "metadata": {
    "id": "9Hq2FSxBryHr"
   },
   "source": [
    "We can remove assigned variables by using the `del` keyword."
   ]
  },
  {
   "cell_type": "code",
   "execution_count": 41,
   "metadata": {
    "id": "LIYhsQM8_zMg"
   },
   "outputs": [
    {
     "data": {
      "text/plain": [
       "3"
      ]
     },
     "execution_count": 41,
     "metadata": {},
     "output_type": "execute_result"
    }
   ],
   "source": [
    "# x is still assigned the value 3 from further above\n",
    "x"
   ]
  },
  {
   "cell_type": "code",
   "execution_count": 42,
   "metadata": {
    "id": "hoY1RoOer6BG"
   },
   "outputs": [],
   "source": [
    "del x"
   ]
  },
  {
   "cell_type": "markdown",
   "metadata": {
    "id": "y4fHuIkLr8Po"
   },
   "source": [
    "after that, `x` will no longer be assigned:"
   ]
  },
  {
   "cell_type": "code",
   "execution_count": 43,
   "metadata": {
    "id": "WH8aOGl5r7ZC"
   },
   "outputs": [
    {
     "ename": "NameError",
     "evalue": "name 'x' is not defined",
     "output_type": "error",
     "traceback": [
      "\u001b[1;31m---------------------------------------------------------------------------\u001b[0m",
      "\u001b[1;31mNameError\u001b[0m                                 Traceback (most recent call last)",
      "Cell \u001b[1;32mIn[43], line 1\u001b[0m\n\u001b[1;32m----> 1\u001b[0m \u001b[43mx\u001b[49m\n",
      "\u001b[1;31mNameError\u001b[0m: name 'x' is not defined"
     ]
    }
   ],
   "source": [
    "x"
   ]
  },
  {
   "cell_type": "markdown",
   "metadata": {
    "id": "_TSVHxIqbG4_"
   },
   "source": [
    "#### Rules for Variable Names\n",
    "When using variable names we have to respect some rules:\n"
   ]
  },
  {
   "cell_type": "markdown",
   "metadata": {
    "id": "nezkUanFj9dT"
   },
   "source": [
    "\n",
    "**Required rules**:\n",
    "- A Python variable name must start with a letter or the underscore character.\n",
    "- A Python variable name cannot start with a number.\n",
    "- A Python variable name can only contain alpha-numeric characters and underscores (`A-z`, `0-9`, and `_` ).\n",
    "  - Valid names: `var1`, `num_shares`, `company_name`\n",
    "  - Invalid names: `5_weird_ompanies`, `S&P500`\n",
    "- Variable in Python names are case-sensitive (`name`, `Name`, and `NAME` are three different variables).\n",
    "- The reserved words (keywords) in Python cannot be used to name the variable in Python. For example, we may not name a variable `print` or `str`\n",
    "\n",
    "See also https://www.geeksforgeeks.org/python-variables/ for more guidance\n",
    "\n",
    "**Recommendations**\n",
    "- Usually we use small letters and underscores `the_variable_name` for variables. This is called snake case.\n",
    "- Variable names should be short and descriptive. For example `course_year` is a good name but `year2002` not, if the year might change.\n",
    "- Try not to start variables names with underscores, i.e. `_num_shares`. Typically, these variable names are used in specific circumstances."
   ]
  },
  {
   "cell_type": "markdown",
   "metadata": {
    "id": "xJ1XYTq_c735"
   },
   "source": [
    "#### Reassigning Variables\n",
    "We can also reassign values to already defined variables.\n",
    "For example, assign a value to the variable `example_string`"
   ]
  },
  {
   "cell_type": "code",
   "execution_count": 44,
   "metadata": {
    "id": "zuvVhTRwbMiL"
   },
   "outputs": [],
   "source": [
    "example_string = \"Hello\""
   ]
  },
  {
   "cell_type": "markdown",
   "metadata": {
    "id": "rgStwhOYd8oJ"
   },
   "source": [
    "Then concatenate \" World\" to it and print the result:"
   ]
  },
  {
   "cell_type": "code",
   "execution_count": 45,
   "metadata": {
    "id": "dm7u1slWeEYx"
   },
   "outputs": [
    {
     "name": "stdout",
     "output_type": "stream",
     "text": [
      "Hello\n",
      "Hello World\n"
     ]
    }
   ],
   "source": [
    "print(example_string)\n",
    "print(example_string + \" World\")"
   ]
  },
  {
   "cell_type": "markdown",
   "metadata": {
    "id": "1PiB404Kews3"
   },
   "source": [
    "The same result can be achieved by reassigning `example_string` with the concatenated \"Hello World\" string:"
   ]
  },
  {
   "cell_type": "code",
   "execution_count": 46,
   "metadata": {
    "id": "lLWQuG4oevQX"
   },
   "outputs": [
    {
     "name": "stdout",
     "output_type": "stream",
     "text": [
      "Hello World\n"
     ]
    }
   ],
   "source": [
    "example_string = example_string + \" World\"\n",
    "print(example_string)"
   ]
  },
  {
   "cell_type": "markdown",
   "metadata": {
    "id": "d2U6DhzTNz8v"
   },
   "source": [
    "**Quick exercise**\n",
    "\n",
    "- Assign the value `1` to the variable named `my_value`.\n",
    "- `print` the value of `my_value`.\n",
    "- `print` the type of `my_value`.\n",
    "- Assign the string \"Hello\" to the variable `my_value`.\n",
    "- `print` the value of `my_value`.\n",
    "- `print` the type of `my_value`.\n",
    "- Delete the variable assignment.\n",
    "- Verify that it worked."
   ]
  },
  {
   "cell_type": "code",
   "execution_count": 47,
   "metadata": {
    "id": "V01uBTFmYYDR"
   },
   "outputs": [
    {
     "name": "stdout",
     "output_type": "stream",
     "text": [
      "1\n",
      "<class 'int'>\n",
      "Hello\n",
      "<class 'str'>\n"
     ]
    },
    {
     "ename": "NameError",
     "evalue": "name 'my_value' is not defined",
     "output_type": "error",
     "traceback": [
      "\u001b[1;31m---------------------------------------------------------------------------\u001b[0m",
      "\u001b[1;31mNameError\u001b[0m                                 Traceback (most recent call last)",
      "Cell \u001b[1;32mIn[47], line 8\u001b[0m\n\u001b[0;32m      6\u001b[0m \u001b[38;5;28mprint\u001b[39m(\u001b[38;5;28mtype\u001b[39m(my_value))\n\u001b[0;32m      7\u001b[0m \u001b[38;5;28;01mdel\u001b[39;00m my_value\n\u001b[1;32m----> 8\u001b[0m \u001b[43mmy_value\u001b[49m\n",
      "\u001b[1;31mNameError\u001b[0m: name 'my_value' is not defined"
     ]
    }
   ],
   "source": [
    "my_value = 1\n",
    "print(my_value)\n",
    "print(type(my_value))\n",
    "my_value = \"Hello\"\n",
    "print(my_value)\n",
    "print(type(my_value))\n",
    "del my_value\n",
    "my_value"
   ]
  },
  {
   "cell_type": "markdown",
   "metadata": {
    "id": "0RoHfcyUfRpn"
   },
   "source": [
    "#### Simple calculations\n",
    "Now that we now the basic data types and variables, we can also discuss simple calculations. Python natively supports the basic algebraic operations addition (using `+`), subtraction (using `-`), multiplication (using `*`) and division (using `/`):"
   ]
  },
  {
   "cell_type": "code",
   "execution_count": 48,
   "metadata": {
    "id": "waWByD4XfsLV"
   },
   "outputs": [
    {
     "name": "stdout",
     "output_type": "stream",
     "text": [
      "10\n",
      "4\n",
      "25\n",
      "1.0\n"
     ]
    }
   ],
   "source": [
    "x = 5\n",
    "print(x + 5)\n",
    "print(x - 1)\n",
    "print(x * x)\n",
    "print(x / x)"
   ]
  },
  {
   "cell_type": "markdown",
   "metadata": {
    "id": "aX0MDhXOfz9j"
   },
   "source": [
    "We can also assign the result of a calculation to a variable"
   ]
  },
  {
   "cell_type": "code",
   "execution_count": 49,
   "metadata": {
    "id": "HX6lxtYFfz08"
   },
   "outputs": [
    {
     "data": {
      "text/plain": [
       "10"
      ]
     },
     "execution_count": 49,
     "metadata": {},
     "output_type": "execute_result"
    }
   ],
   "source": [
    "y = x + 5\n",
    "y"
   ]
  },
  {
   "cell_type": "markdown",
   "metadata": {
    "id": "B-W_ZStRhUKS"
   },
   "source": [
    "and we may also use parentheses `()`  as usual in algebra:\n"
   ]
  },
  {
   "cell_type": "code",
   "execution_count": 50,
   "metadata": {
    "id": "avMVZY_zhT3J"
   },
   "outputs": [
    {
     "data": {
      "text/plain": [
       "14"
      ]
     },
     "execution_count": 50,
     "metadata": {},
     "output_type": "execute_result"
    }
   ],
   "source": [
    "2 * (3 + 4)"
   ]
  },
  {
   "cell_type": "markdown",
   "metadata": {
    "id": "u-SZRWMLfyqn"
   },
   "source": [
    "There is also exponentiation (using `**`)"
   ]
  },
  {
   "cell_type": "code",
   "execution_count": 51,
   "metadata": {
    "id": "iuhrAgSlglUJ"
   },
   "outputs": [
    {
     "name": "stdout",
     "output_type": "stream",
     "text": [
      "16\n"
     ]
    },
    {
     "data": {
      "text/plain": [
       "16"
      ]
     },
     "execution_count": 51,
     "metadata": {},
     "output_type": "execute_result"
    }
   ],
   "source": [
    "print(2*2*2*2) # Exponentiation\n",
    "2**4 # Equivalently: Use **"
   ]
  },
  {
   "cell_type": "markdown",
   "metadata": {
    "id": "9HvlhSoqizUH"
   },
   "source": [
    "Some of these operations also work with strings. But be careful, the results might not be what you expect at first:\n"
   ]
  },
  {
   "cell_type": "markdown",
   "metadata": {
    "id": "5UunYAR3jCU7"
   },
   "source": [
    "- As we saw, `+` concatenates two strings"
   ]
  },
  {
   "cell_type": "code",
   "execution_count": 52,
   "metadata": {
    "id": "8uhyxhi6jDJt"
   },
   "outputs": [
    {
     "data": {
      "text/plain": [
       "'53'"
      ]
     },
     "execution_count": 52,
     "metadata": {},
     "output_type": "execute_result"
    }
   ],
   "source": [
    "\"5\" + \"3\""
   ]
  },
  {
   "cell_type": "markdown",
   "metadata": {
    "id": "rO0nVUSfB53F"
   },
   "source": [
    "\n",
    "- Using `*` and an integer on a string repeats the string integer many times"
   ]
  },
  {
   "cell_type": "code",
   "execution_count": 53,
   "metadata": {
    "id": "RavjQwaWi5Pe"
   },
   "outputs": [
    {
     "data": {
      "text/plain": [
       "'##################################################'"
      ]
     },
     "execution_count": 53,
     "metadata": {},
     "output_type": "execute_result"
    }
   ],
   "source": [
    "\"#\" * 50"
   ]
  },
  {
   "cell_type": "markdown",
   "metadata": {
    "id": "9Y58ZFGnjXpV"
   },
   "source": [
    "- This also works with variables and parentheses `()`:"
   ]
  },
  {
   "cell_type": "code",
   "execution_count": 54,
   "metadata": {
    "id": "IeNP7V0-jakl"
   },
   "outputs": [
    {
     "data": {
      "text/plain": [
       "'Hello World! Hello World! '"
      ]
     },
     "execution_count": 54,
     "metadata": {},
     "output_type": "execute_result"
    }
   ],
   "source": [
    "(example_string + \"! \") * 2"
   ]
  },
  {
   "cell_type": "markdown",
   "metadata": {
    "id": "jW5azxacJFS-"
   },
   "source": [
    "### Containers\n",
    "Besides the basic data types, there are containers, which can store several similar or different objects:\n",
    "\n",
    "> **Containers**\n",
    "- tuples (`tuple`)\n",
    "- lists (`list`)\n",
    "- dictionaries (`dict`)\n",
    "\n",
    "The containers hence store multiple objects. The individual objects within the container can be accessed by using the proper **index**.\n",
    "\n",
    "> `tuple` and `list` are **ordered sequences** and are indexed by the position of the object within the container.\n",
    "\n",
    "> `dict` is a **key container** and is indexed by certain 'keys'."
   ]
  },
  {
   "cell_type": "markdown",
   "metadata": {
    "id": "lEWG7i8YKGG5"
   },
   "source": [
    "#### Tuples\n",
    "A `tuple` is a collection of several items which can\n",
    "have different data types. Tuples are created whenever different\n",
    "items are separated by commas.\n",
    "\n",
    "Here we create a tuple of the `str` 'a string', the `int` 2 and the `float` 3.0"
   ]
  },
  {
   "cell_type": "code",
   "execution_count": 55,
   "metadata": {
    "id": "w3D9_sumKrar"
   },
   "outputs": [
    {
     "data": {
      "text/plain": [
       "tuple"
      ]
     },
     "execution_count": 55,
     "metadata": {},
     "output_type": "execute_result"
    }
   ],
   "source": [
    "tuple_example = ('a string', 2, 3.0,)\n",
    "type(tuple_example)"
   ]
  },
  {
   "cell_type": "markdown",
   "metadata": {
    "id": "tNe3IGUV_X_L"
   },
   "source": [
    "This also works without parentheses `()`, but using parentheses is **strongly** recommended for readability"
   ]
  },
  {
   "cell_type": "code",
   "execution_count": 56,
   "metadata": {
    "id": "kZG2WZSh_UEa"
   },
   "outputs": [
    {
     "data": {
      "text/plain": [
       "tuple"
      ]
     },
     "execution_count": 56,
     "metadata": {},
     "output_type": "execute_result"
    }
   ],
   "source": [
    "tuple_example_2 = 'A string', 2, 3.0\n",
    "type(tuple_example_2)"
   ]
  },
  {
   "cell_type": "code",
   "execution_count": 57,
   "metadata": {
    "id": "PZSoKDaadPcr"
   },
   "outputs": [
    {
     "data": {
      "text/plain": [
       "('a string', 2, 3.0)"
      ]
     },
     "execution_count": 57,
     "metadata": {},
     "output_type": "execute_result"
    }
   ],
   "source": [
    "tuple_example"
   ]
  },
  {
   "cell_type": "markdown",
   "metadata": {
    "id": "tihUVjclqjOH"
   },
   "source": [
    "##### Indexing"
   ]
  },
  {
   "cell_type": "markdown",
   "metadata": {
    "id": "b_cvwGM6LEla"
   },
   "source": [
    "To get an element from a tuple, we use the square brackets `[]` as well as the index (the position of the object within the tuple)"
   ]
  },
  {
   "cell_type": "code",
   "execution_count": 58,
   "metadata": {
    "id": "nYoafXVTLLj1"
   },
   "outputs": [
    {
     "data": {
      "text/plain": [
       "3.0"
      ]
     },
     "execution_count": 58,
     "metadata": {},
     "output_type": "execute_result"
    }
   ],
   "source": [
    "tuple_example[2] # Get the third element"
   ]
  },
  {
   "cell_type": "markdown",
   "metadata": {
    "id": "N-zaGdmSlT8V"
   },
   "source": [
    "Note that **Python begins counting elements at 0**: the *first* element is element number *0*.\n",
    "\n",
    "The third element is a `float` (not a `tuple`):"
   ]
  },
  {
   "cell_type": "code",
   "execution_count": 59,
   "metadata": {
    "id": "i0w7LHpElKLW"
   },
   "outputs": [
    {
     "name": "stdout",
     "output_type": "stream",
     "text": [
      "('a string', 2, 3.0)\n"
     ]
    },
    {
     "data": {
      "text/plain": [
       "float"
      ]
     },
     "execution_count": 59,
     "metadata": {},
     "output_type": "execute_result"
    }
   ],
   "source": [
    "print(tuple_example) # Let's take a look again\n",
    "type(tuple_example[2]) # Type of the third element"
   ]
  },
  {
   "cell_type": "markdown",
   "metadata": {
    "id": "rGXMbcjkLb4A"
   },
   "source": [
    "If we try to get an element that does not exist, for example the fourth element (indexed via `[3]`) in a three element tuple, we get an `IndexError`:"
   ]
  },
  {
   "cell_type": "code",
   "execution_count": 60,
   "metadata": {
    "id": "FKxHrswKLds7"
   },
   "outputs": [
    {
     "ename": "IndexError",
     "evalue": "tuple index out of range",
     "output_type": "error",
     "traceback": [
      "\u001b[1;31m---------------------------------------------------------------------------\u001b[0m",
      "\u001b[1;31mIndexError\u001b[0m                                Traceback (most recent call last)",
      "Cell \u001b[1;32mIn[60], line 1\u001b[0m\n\u001b[1;32m----> 1\u001b[0m \u001b[43m(\u001b[49m\u001b[38;5;124;43m'\u001b[39;49m\u001b[38;5;124;43mA string\u001b[39;49m\u001b[38;5;124;43m'\u001b[39;49m\u001b[43m,\u001b[49m\u001b[43m \u001b[49m\u001b[38;5;241;43m2\u001b[39;49m\u001b[43m,\u001b[49m\u001b[43m \u001b[49m\u001b[38;5;241;43m3.0\u001b[39;49m\u001b[43m)\u001b[49m\u001b[43m[\u001b[49m\u001b[38;5;241;43m3\u001b[39;49m\u001b[43m]\u001b[49m \u001b[38;5;66;03m# The tuple only has 3 elements\u001b[39;00m\n",
      "\u001b[1;31mIndexError\u001b[0m: tuple index out of range"
     ]
    }
   ],
   "source": [
    "('A string', 2, 3.0)[3] # The tuple only has 3 elements"
   ]
  },
  {
   "cell_type": "markdown",
   "metadata": {
    "id": "qQ-NeinNqJr1"
   },
   "source": [
    "**Quick exercise**\n",
    "\n",
    "Multiply the first element of `tuple_example` with the third element."
   ]
  },
  {
   "cell_type": "code",
   "execution_count": 68,
   "metadata": {},
   "outputs": [
    {
     "data": {
      "text/plain": [
       "'a stringa stringa string'"
      ]
     },
     "execution_count": 68,
     "metadata": {},
     "output_type": "execute_result"
    }
   ],
   "source": [
    "tuple_example[0] * int(tuple_example[2])"
   ]
  },
  {
   "cell_type": "markdown",
   "metadata": {
    "id": "aoczFYEpp3K3"
   },
   "source": [
    "##### Slicing"
   ]
  },
  {
   "cell_type": "markdown",
   "metadata": {
    "id": "nvh8_W7HXQcr"
   },
   "source": [
    "The command `[2:]` tells Python to only select all elements **after and including** the third element.\n",
    "\n",
    "Similarly, `[:2]` selects the elements **up to and excluding** the third.\n",
    "\n",
    "This is called *slicing* and used to select ranges instead of individual elements."
   ]
  },
  {
   "cell_type": "code",
   "execution_count": 69,
   "metadata": {
    "id": "_7FuFWhSDLlR"
   },
   "outputs": [
    {
     "data": {
      "text/plain": [
       "('A string', 2)"
      ]
     },
     "execution_count": 69,
     "metadata": {},
     "output_type": "execute_result"
    }
   ],
   "source": [
    "('A string', 2, 3.0)[:2] # Selecting the first 2 (!) elements"
   ]
  },
  {
   "cell_type": "markdown",
   "metadata": {
    "id": "7D3BkqB2KOUA"
   },
   "source": [
    "We can use negative values to start counting from the back:"
   ]
  },
  {
   "cell_type": "code",
   "execution_count": 70,
   "metadata": {
    "id": "CGAIpLlhKSoA"
   },
   "outputs": [
    {
     "data": {
      "text/plain": [
       "3.0"
      ]
     },
     "execution_count": 70,
     "metadata": {},
     "output_type": "execute_result"
    }
   ],
   "source": [
    "tuple_example[-1] # Get the last element of a tuple"
   ]
  },
  {
   "cell_type": "markdown",
   "metadata": {
    "id": "dGMMec-1KAqS"
   },
   "source": [
    "The length of a container can be obtained using the `len()` function:"
   ]
  },
  {
   "cell_type": "code",
   "execution_count": 71,
   "metadata": {
    "id": "DFoYXLhoKIT-"
   },
   "outputs": [
    {
     "data": {
      "text/plain": [
       "3"
      ]
     },
     "execution_count": 71,
     "metadata": {},
     "output_type": "execute_result"
    }
   ],
   "source": [
    "tuple_example = ('a string', 2, 3.0)\n",
    "len(tuple_example) # Length of the tuple"
   ]
  },
  {
   "cell_type": "markdown",
   "metadata": {
    "id": "yMFU_2iQDKEP"
   },
   "source": [
    "We can also use square brackets `[]` to slice strings."
   ]
  },
  {
   "cell_type": "code",
   "execution_count": 73,
   "metadata": {
    "id": "gaJKSl_CXVqM"
   },
   "outputs": [
    {
     "name": "stdout",
     "output_type": "stream",
     "text": [
      "cdefg\n",
      "ab\n"
     ]
    }
   ],
   "source": [
    "print('abcdefg'[2:]) # select all characters starting at the third\n",
    "print('abcdefg'[:2]) # select all character up to the second"
   ]
  },
  {
   "cell_type": "markdown",
   "metadata": {
    "id": "nvItC6FLuTge"
   },
   "source": [
    "See here https://www.geeksforgeeks.org/string-slicing-in-python to learn more on slicing"
   ]
  },
  {
   "cell_type": "markdown",
   "metadata": {
    "id": "vQt-Z3pxq48h"
   },
   "source": [
    "##### Immutability"
   ]
  },
  {
   "cell_type": "markdown",
   "metadata": {
    "id": "C2OBsTBiXYfI"
   },
   "source": [
    "A tuple cannot be changed after it is assigned. This property is called **immutable**.\n",
    "\n",
    "Trying to update an element raises a `TypeError`:"
   ]
  },
  {
   "cell_type": "code",
   "execution_count": 74,
   "metadata": {
    "id": "J0ZYvT9JmmQx"
   },
   "outputs": [
    {
     "ename": "TypeError",
     "evalue": "'tuple' object does not support item assignment",
     "output_type": "error",
     "traceback": [
      "\u001b[1;31m---------------------------------------------------------------------------\u001b[0m",
      "\u001b[1;31mTypeError\u001b[0m                                 Traceback (most recent call last)",
      "Cell \u001b[1;32mIn[74], line 1\u001b[0m\n\u001b[1;32m----> 1\u001b[0m \u001b[43mtuple_example\u001b[49m\u001b[43m[\u001b[49m\u001b[38;5;241;43m2\u001b[39;49m\u001b[43m]\u001b[49m \u001b[38;5;241m=\u001b[39m \u001b[38;5;241m4\u001b[39m\n",
      "\u001b[1;31mTypeError\u001b[0m: 'tuple' object does not support item assignment"
     ]
    }
   ],
   "source": [
    "tuple_example[2] = 4"
   ]
  },
  {
   "cell_type": "markdown",
   "metadata": {
    "id": "6Y-xf85Po8gR"
   },
   "source": [
    "We can, however, overwrite the old tuple with a new one:"
   ]
  },
  {
   "cell_type": "code",
   "execution_count": 75,
   "metadata": {
    "id": "GAXfO2o6pCE5"
   },
   "outputs": [
    {
     "data": {
      "text/plain": [
       "4"
      ]
     },
     "execution_count": 75,
     "metadata": {},
     "output_type": "execute_result"
    }
   ],
   "source": [
    "tuple_example = ('A string', 2, 3.0, 4)\n",
    "tuple_example[3]"
   ]
  },
  {
   "cell_type": "markdown",
   "metadata": {
    "id": "lzm96ediMIcc"
   },
   "source": [
    "#### Lists\n",
    "Lists store the same information as tuples, with the difference that they can be changed after being created, therefore lists are **mutable**. Lists are created by using square brackets `[]`"
   ]
  },
  {
   "cell_type": "code",
   "execution_count": 76,
   "metadata": {
    "id": "5ejG8tcKMWls"
   },
   "outputs": [
    {
     "data": {
      "text/plain": [
       "list"
      ]
     },
     "execution_count": 76,
     "metadata": {},
     "output_type": "execute_result"
    }
   ],
   "source": [
    "list_example = ['A string', 2, 3.0]\n",
    "type(list_example)"
   ]
  },
  {
   "cell_type": "markdown",
   "metadata": {
    "id": "KSEJjfBZnLVV"
   },
   "source": [
    "Like tuples, the indexing works by using square brackets `[]`:"
   ]
  },
  {
   "cell_type": "code",
   "execution_count": 77,
   "metadata": {
    "id": "cS9MOa4QNEae"
   },
   "outputs": [
    {
     "data": {
      "text/plain": [
       "[2, 3.0]"
      ]
     },
     "execution_count": 77,
     "metadata": {},
     "output_type": "execute_result"
    }
   ],
   "source": [
    "list_example[1:]"
   ]
  },
  {
   "cell_type": "markdown",
   "metadata": {
    "id": "KfXxLjJ0rNN3"
   },
   "source": [
    "Since lists are mutable, we can mutate (=change) the list elements after they are assigned:"
   ]
  },
  {
   "cell_type": "code",
   "execution_count": 78,
   "metadata": {
    "id": "BaOyUG34rQXv"
   },
   "outputs": [
    {
     "data": {
      "text/plain": [
       "['A new string', 2, 3.0]"
      ]
     },
     "execution_count": 78,
     "metadata": {},
     "output_type": "execute_result"
    }
   ],
   "source": [
    "list_example[0] = 'A new string'\n",
    "list_example"
   ]
  },
  {
   "cell_type": "markdown",
   "metadata": {
    "id": "erkmHFYdo4Jw"
   },
   "source": [
    "Add an object to the end of the list using the `.append()` method:"
   ]
  },
  {
   "cell_type": "code",
   "execution_count": 79,
   "metadata": {
    "id": "5rSqQGYMpNHm"
   },
   "outputs": [
    {
     "data": {
      "text/plain": [
       "['A new string', 2, 3.0, 4]"
      ]
     },
     "execution_count": 79,
     "metadata": {},
     "output_type": "execute_result"
    }
   ],
   "source": [
    "list_example.append(4)\n",
    "list_example"
   ]
  },
  {
   "cell_type": "markdown",
   "metadata": {
    "id": "dp2cY8FRrl0j"
   },
   "source": [
    "We can delete entries from a list using the `del` keyword:"
   ]
  },
  {
   "cell_type": "code",
   "execution_count": 80,
   "metadata": {
    "id": "KAdQwkPsrlFh"
   },
   "outputs": [
    {
     "data": {
      "text/plain": [
       "['A new string', 2, 4]"
      ]
     },
     "execution_count": 80,
     "metadata": {},
     "output_type": "execute_result"
    }
   ],
   "source": [
    "del list_example[2]\n",
    "list_example"
   ]
  },
  {
   "cell_type": "markdown",
   "metadata": {
    "id": "SGY6OX-SsdFV"
   },
   "source": [
    "You can store anything in lists (and other data containers). So, we can have a `tuple` in a `list`, or a `list` in a `list` and so on:"
   ]
  },
  {
   "cell_type": "code",
   "execution_count": 81,
   "metadata": {
    "id": "Ypypp1B9spSc"
   },
   "outputs": [
    {
     "data": {
      "text/plain": [
       "['A new string', 2, 4, ('A string', 2, 3.0, 4)]"
      ]
     },
     "execution_count": 81,
     "metadata": {},
     "output_type": "execute_result"
    }
   ],
   "source": [
    "list_example.append(tuple_example) # Add the tuple defined earlier to the list\n",
    "list_example"
   ]
  },
  {
   "cell_type": "markdown",
   "metadata": {
    "id": "Y-LfEABPF239"
   },
   "source": [
    "We can access the tuple like any other element:"
   ]
  },
  {
   "cell_type": "code",
   "execution_count": 82,
   "metadata": {
    "id": "3Vg8lBy_F698"
   },
   "outputs": [
    {
     "data": {
      "text/plain": [
       "('A string', 2, 3.0, 4)"
      ]
     },
     "execution_count": 82,
     "metadata": {},
     "output_type": "execute_result"
    }
   ],
   "source": [
    "list_example[3]"
   ]
  },
  {
   "cell_type": "markdown",
   "metadata": {
    "id": "CNrrQXpbF-Pc"
   },
   "source": [
    "If we want the first element of the tuple, that itself is the fourth element of the list, we can index twice:"
   ]
  },
  {
   "cell_type": "code",
   "execution_count": 83,
   "metadata": {
    "id": "0fM_clGdGHA8"
   },
   "outputs": [
    {
     "data": {
      "text/plain": [
       "'A string'"
      ]
     },
     "execution_count": 83,
     "metadata": {},
     "output_type": "execute_result"
    }
   ],
   "source": [
    "list_example[3][0] # Select the fourth element (a tuple) and then select the first element of that"
   ]
  },
  {
   "cell_type": "markdown",
   "metadata": {
    "id": "HxzEnoi7EkTh"
   },
   "source": [
    "This nested indexing can be repeated as often as necessary. In the above example, we could repeat it one more time.\n",
    "For example to get the last letter of the string:"
   ]
  },
  {
   "cell_type": "code",
   "execution_count": 84,
   "metadata": {
    "id": "-IDIu8TME44f"
   },
   "outputs": [
    {
     "data": {
      "text/plain": [
       "'g'"
      ]
     },
     "execution_count": 84,
     "metadata": {},
     "output_type": "execute_result"
    }
   ],
   "source": [
    "list_example[3][0][-1] # Get the last letter of the string."
   ]
  },
  {
   "cell_type": "markdown",
   "metadata": {
    "id": "2OSMFkIcE9j5"
   },
   "source": [
    "As you can see, with negative numbers as indexers, you can also count backwards from the end of the container element."
   ]
  },
  {
   "cell_type": "markdown",
   "metadata": {
    "id": "jCN_yNjLrzpS"
   },
   "source": [
    "**Quick exercise**\n",
    "\n",
    "- Make a new list with 4 numbers\n",
    "- Check the length `len` of the list\n",
    "- Make another new list with 2 numbers and the string `hello`\n",
    "- Append the second list to the first list\n",
    "- Now access the last two letters of the string\n",
    "- Concatenate the last two letters with `ok`"
   ]
  },
  {
   "cell_type": "code",
   "execution_count": 232,
   "metadata": {},
   "outputs": [
    {
     "data": {
      "text/plain": [
       "'look'"
      ]
     },
     "execution_count": 232,
     "metadata": {},
     "output_type": "execute_result"
    }
   ],
   "source": [
    "l1 = [1,2,3,4]\n",
    "len(l1)\n",
    "\n",
    "l2 = [5,6,\"helllo\"]\n",
    "\n",
    "l1.append(l2)\n",
    "\n",
    "l1[-1][-1][-2:]\n",
    "\n",
    "l1[-1][-1][-2:] + \"ok\""
   ]
  },
  {
   "cell_type": "code",
   "execution_count": 102,
   "metadata": {},
   "outputs": [
    {
     "name": "stdout",
     "output_type": "stream",
     "text": [
      "[1, 2, 3, 4, [5, 6, 'helllo'], 5, 6, 'helllo']\n"
     ]
    }
   ],
   "source": [
    "for x in l2:\n",
    "    l1.append(x)\n",
    "\n",
    "print(l1)"
   ]
  },
  {
   "cell_type": "markdown",
   "metadata": {
    "id": "aq3SVJwKHFfY"
   },
   "source": [
    "#### Tuples vs. lists\n",
    "\n",
    "You can think of the following analogy:\n",
    "\n",
    "**Tuples are like your passport.**\n",
    "*   Once you get it, you cannot edit the document (e.g. change your picture)\n",
    "*   You can however, get a new passport with a new picture\n",
    "\n",
    "=> You *cannot* edit the tuple itself, but you can overwrite the old variable with a fresh, new tuple\n",
    "\n",
    "**Lists are like a shopping list**\n",
    "*   You can freely edit them by adding and removing things you want to buy\n",
    "*   You can also throw away the old shopping list and start with a new one\n",
    "\n",
    "=> You *can* edit the list itself (e.g. `append`), and you can also overwrite the old variable with a fresh, new list\n",
    "\n",
    "\n",
    "\n"
   ]
  },
  {
   "cell_type": "markdown",
   "metadata": {
    "id": "ALJIKa-lVYBJ"
   },
   "source": [
    "#### Dictionaries\n",
    "A dictionary `dict` is a container that has 'keys' as index variables for its 'values'.\n",
    "\n",
    "In a language translation dictionary (e.g. English -> French), the 'key' is your English word and the 'value' is the French word.\n",
    "\n",
    "A dictionary is created by using curly braces `{}` and assigning each value a key according to the structure `{key1: value1, key2: value2, ...}`.\n",
    "\n",
    "All hashable objects (`list`: no, `tuple`: yes) can be used as keys. Typically, we will use strings as keys.\n",
    "\n",
    "The value can be any other object."
   ]
  },
  {
   "cell_type": "code",
   "execution_count": 103,
   "metadata": {
    "id": "ibHesBSeWAxR"
   },
   "outputs": [
    {
     "data": {
      "text/plain": [
       "{'Course': 'Python for Finance',\n",
       " 'University': 'Mannheim',\n",
       " 'Number of students': 100}"
      ]
     },
     "execution_count": 103,
     "metadata": {},
     "output_type": "execute_result"
    }
   ],
   "source": [
    "dict_example = {\n",
    "    'Course': 'Python for Finance',\n",
    "    'University': 'Mannheim',\n",
    "    'Number of students': 100,\n",
    "}\n",
    "dict_example"
   ]
  },
  {
   "cell_type": "markdown",
   "metadata": {
    "id": "rGBI3il-WJqQ"
   },
   "source": [
    "To get a value we can use the keys, which are 'Course', 'University' and 'Year' in this case."
   ]
  },
  {
   "cell_type": "code",
   "execution_count": 104,
   "metadata": {
    "id": "_u4a_R7DWRv_"
   },
   "outputs": [
    {
     "data": {
      "text/plain": [
       "100"
      ]
     },
     "execution_count": 104,
     "metadata": {},
     "output_type": "execute_result"
    }
   ],
   "source": [
    "dict_example['Number of students']"
   ]
  },
  {
   "cell_type": "markdown",
   "metadata": {
    "id": "LM-QG8_9whg-"
   },
   "source": [
    "Dictionaries may only be indexed by existing keys:"
   ]
  },
  {
   "cell_type": "code",
   "execution_count": 105,
   "metadata": {
    "id": "gknGh-9wweWC"
   },
   "outputs": [
    {
     "ename": "KeyError",
     "evalue": "'Class size'",
     "output_type": "error",
     "traceback": [
      "\u001b[1;31m---------------------------------------------------------------------------\u001b[0m",
      "\u001b[1;31mKeyError\u001b[0m                                  Traceback (most recent call last)",
      "Cell \u001b[1;32mIn[105], line 1\u001b[0m\n\u001b[1;32m----> 1\u001b[0m \u001b[43mdict_example\u001b[49m\u001b[43m[\u001b[49m\u001b[38;5;124;43m'\u001b[39;49m\u001b[38;5;124;43mClass size\u001b[39;49m\u001b[38;5;124;43m'\u001b[39;49m\u001b[43m]\u001b[49m\n",
      "\u001b[1;31mKeyError\u001b[0m: 'Class size'"
     ]
    }
   ],
   "source": [
    "dict_example['Class size']"
   ]
  },
  {
   "cell_type": "markdown",
   "metadata": {
    "id": "lKqVLwFQWYly"
   },
   "source": [
    "With the method `.keys()` we get all keys of the dictionary"
   ]
  },
  {
   "cell_type": "code",
   "execution_count": 106,
   "metadata": {
    "id": "5w-aL6-9Wc10"
   },
   "outputs": [
    {
     "data": {
      "text/plain": [
       "dict_keys(['Course', 'University', 'Number of students'])"
      ]
     },
     "execution_count": 106,
     "metadata": {},
     "output_type": "execute_result"
    }
   ],
   "source": [
    "dict_example.keys()"
   ]
  },
  {
   "cell_type": "markdown",
   "metadata": {
    "id": "yUiNScLYv_Te"
   },
   "source": [
    "Similarly, using the `.values()` method we get all the values in the dictionary\n"
   ]
  },
  {
   "cell_type": "code",
   "execution_count": 107,
   "metadata": {
    "id": "AAkZzZlSwLBj"
   },
   "outputs": [
    {
     "data": {
      "text/plain": [
       "dict_values(['Python for Finance', 'Mannheim', 100])"
      ]
     },
     "execution_count": 107,
     "metadata": {},
     "output_type": "execute_result"
    }
   ],
   "source": [
    "dict_example.values()"
   ]
  },
  {
   "cell_type": "markdown",
   "metadata": {
    "id": "jZgCdwbwFRSQ"
   },
   "source": [
    "To get the first key we need to wrap the result from `keys` into a list, and select the first element:"
   ]
  },
  {
   "cell_type": "code",
   "execution_count": 113,
   "metadata": {
    "id": "_S0BrZlzFZ46"
   },
   "outputs": [
    {
     "data": {
      "text/plain": [
       "'Course'"
      ]
     },
     "execution_count": 113,
     "metadata": {},
     "output_type": "execute_result"
    }
   ],
   "source": [
    "list(dict_example)[0]"
   ]
  },
  {
   "cell_type": "markdown",
   "metadata": {
    "id": "LvNmnB3dFdrd"
   },
   "source": [
    "The same works to index  `values`:"
   ]
  },
  {
   "cell_type": "code",
   "execution_count": null,
   "metadata": {
    "id": "KdAWo2qWFlNw"
   },
   "outputs": [
    {
     "data": {
      "text/plain": [
       "'Python for Finance'"
      ]
     },
     "execution_count": 125,
     "metadata": {},
     "output_type": "execute_result"
    }
   ],
   "source": [
    "list(dict_example.values())[0]"
   ]
  },
  {
   "cell_type": "markdown",
   "metadata": {
    "id": "ariWAQgjtuR3"
   },
   "source": [
    "The most useful method is `.items()`, which will return a list of tuples in the form `(key, value)`. This allows us to use all available data in one command."
   ]
  },
  {
   "cell_type": "code",
   "execution_count": 126,
   "metadata": {
    "id": "GECavxGltrTL"
   },
   "outputs": [
    {
     "data": {
      "text/plain": [
       "dict_items([('Course', 'Python for Finance'), ('University', 'Mannheim'), ('Number of students', 100)])"
      ]
     },
     "execution_count": 126,
     "metadata": {},
     "output_type": "execute_result"
    }
   ],
   "source": [
    "dict_example.items()"
   ]
  },
  {
   "cell_type": "code",
   "execution_count": 128,
   "metadata": {},
   "outputs": [
    {
     "data": {
      "text/plain": [
       "[('Course', 'Python for Finance'),\n",
       " ('University', 'Mannheim'),\n",
       " ('Number of students', 100)]"
      ]
     },
     "execution_count": 128,
     "metadata": {},
     "output_type": "execute_result"
    }
   ],
   "source": [
    "list(dict_example.items())"
   ]
  },
  {
   "cell_type": "code",
   "execution_count": 129,
   "metadata": {
    "id": "FSUZpfTluDpw"
   },
   "outputs": [
    {
     "name": "stdout",
     "output_type": "stream",
     "text": [
      "[('Course', 'Python for Finance'), ('University', 'Mannheim'), ('Number of students', 100)]\n"
     ]
    },
    {
     "data": {
      "text/plain": [
       "('Course', 'Python for Finance')"
      ]
     },
     "execution_count": 129,
     "metadata": {},
     "output_type": "execute_result"
    }
   ],
   "source": [
    "# Let's get the first pair of data\n",
    "kv_pairs = list(dict_example.items())\n",
    "print(kv_pairs)\n",
    "pair = kv_pairs[0]\n",
    "pair"
   ]
  },
  {
   "cell_type": "markdown",
   "metadata": {
    "id": "AaPXoazEupCI"
   },
   "source": [
    "We can use more advanced variable assignment. `pair` is a `tuple` of length `2`. If we provide two variables to store the data in, we can extract both elements in a single line."
   ]
  },
  {
   "cell_type": "code",
   "execution_count": 130,
   "metadata": {
    "id": "zoPKEt61uQLa"
   },
   "outputs": [
    {
     "name": "stdout",
     "output_type": "stream",
     "text": [
      "3\n",
      "4\n"
     ]
    }
   ],
   "source": [
    "key, value = [3,4]\n",
    "# Equivalent to key, value = 'Course', 'Python for Finance'\n",
    "\n",
    "print(key)\n",
    "print(value)"
   ]
  },
  {
   "cell_type": "code",
   "execution_count": 131,
   "metadata": {
    "id": "l9Se_LXyXut1"
   },
   "outputs": [
    {
     "name": "stdout",
     "output_type": "stream",
     "text": [
      "Course\n",
      "Python for Finance\n"
     ]
    }
   ],
   "source": [
    "key, value = pair\n",
    "# Equivalent to key, value = 'Course', 'Python for Finance'\n",
    "\n",
    "print(key)\n",
    "print(value)"
   ]
  },
  {
   "cell_type": "markdown",
   "metadata": {
    "id": "LLojSIul4jqR"
   },
   "source": [
    "**Quick exercise**\n",
    "\n",
    "- Extract the tuple `('Sky', 'Blue')` into two separate variables\n",
    "- `print` the course name concatenated with \"I like...\"\n",
    "- Make a dictionary which associates \"Hello\" to \"Bonjour\".\n",
    "- Then get the `values` as a `list`"
   ]
  },
  {
   "cell_type": "code",
   "execution_count": 146,
   "metadata": {},
   "outputs": [
    {
     "name": "stdout",
     "output_type": "stream",
     "text": [
      "sky\n",
      "blue\n",
      "i like Python for Finance\n",
      "['Bonjour']\n"
     ]
    }
   ],
   "source": [
    "tup = tuple((\"sky\", \"blue\"))\n",
    "a = tup[0]\n",
    "b = tup[1]\n",
    "\n",
    "print(a)\n",
    "print(b)\n",
    "\n",
    "print(f\"i like {list(dict_example.values())[0]}\")\n",
    "\n",
    "dict1 = {\"hello\": \"Bonjour\"}\n",
    "\n",
    "list2 = list(dict1.values())\n",
    "print(list2)"
   ]
  },
  {
   "cell_type": "code",
   "execution_count": 255,
   "metadata": {},
   "outputs": [
    {
     "name": "stdout",
     "output_type": "stream",
     "text": [
      "i like sky\n"
     ]
    }
   ],
   "source": [
    "tup = (\"sky\", \"blue\")\n",
    "\n",
    "a, b = tup\n",
    "\n",
    "print(f\"i like {a}\")"
   ]
  },
  {
   "cell_type": "code",
   "execution_count": 257,
   "metadata": {},
   "outputs": [
    {
     "data": {
      "text/plain": [
       "'yo'"
      ]
     },
     "execution_count": 257,
     "metadata": {},
     "output_type": "execute_result"
    }
   ],
   "source": [
    "tup = (\"sky\", \"blue\", \"yo\")\n",
    "a, b, c, = tup\n",
    "c"
   ]
  },
  {
   "cell_type": "markdown",
   "metadata": {
    "id": "a-b2k3qSIZDv"
   },
   "source": [
    "### Conditions"
   ]
  },
  {
   "cell_type": "markdown",
   "metadata": {
    "id": "wuj42sjZFppq"
   },
   "source": [
    "With conditions, we can check the boolean value of statements.\n",
    "\n",
    "For example, we can see that Python treats integers and floats the same way in  conditions:"
   ]
  },
  {
   "cell_type": "code",
   "execution_count": 147,
   "metadata": {
    "id": "TnwE2zHTGMTY"
   },
   "outputs": [
    {
     "data": {
      "text/plain": [
       "True"
      ]
     },
     "execution_count": 147,
     "metadata": {},
     "output_type": "execute_result"
    }
   ],
   "source": [
    "5 == 5.0"
   ]
  },
  {
   "cell_type": "markdown",
   "metadata": {
    "id": "guZK0lbzGVwp"
   },
   "source": [
    "But not strings:"
   ]
  },
  {
   "cell_type": "code",
   "execution_count": 148,
   "metadata": {
    "id": "FZHG7OUqGXEX"
   },
   "outputs": [
    {
     "data": {
      "text/plain": [
       "False"
      ]
     },
     "execution_count": 148,
     "metadata": {},
     "output_type": "execute_result"
    }
   ],
   "source": [
    "\"5\" == 5"
   ]
  },
  {
   "cell_type": "markdown",
   "metadata": {
    "id": "7qoBWazgGZjw"
   },
   "source": [
    "If we check for the equivalence of the *type* of an integer and float  Python will return False:"
   ]
  },
  {
   "cell_type": "code",
   "execution_count": 149,
   "metadata": {
    "id": "_kKG9SM0Gspa"
   },
   "outputs": [
    {
     "data": {
      "text/plain": [
       "False"
      ]
     },
     "execution_count": 149,
     "metadata": {},
     "output_type": "execute_result"
    }
   ],
   "source": [
    "type(5) == type(5.0)"
   ]
  },
  {
   "cell_type": "markdown",
   "metadata": {
    "id": "I8TfzvzyHr0l"
   },
   "source": [
    "We can also check for `not` using `!=`. For example, the statement '5 is not 3' is `True`:"
   ]
  },
  {
   "cell_type": "code",
   "execution_count": 150,
   "metadata": {
    "id": "lXs8Br19H1EU"
   },
   "outputs": [
    {
     "data": {
      "text/plain": [
       "True"
      ]
     },
     "execution_count": 150,
     "metadata": {},
     "output_type": "execute_result"
    }
   ],
   "source": [
    "5 != 3"
   ]
  },
  {
   "cell_type": "markdown",
   "metadata": {
    "id": "WTJ4P1BfH_w1"
   },
   "source": [
    "Similarly, we can check for greater than `>`, greater than or equal to `>=` and less than `<` and less than or equal to `<=`:"
   ]
  },
  {
   "cell_type": "code",
   "execution_count": 151,
   "metadata": {
    "id": "ceJeHqTOIJaq"
   },
   "outputs": [
    {
     "name": "stdout",
     "output_type": "stream",
     "text": [
      "True\n",
      "True\n"
     ]
    }
   ],
   "source": [
    "print(5 > 3)\n",
    "print(5 <= 5)"
   ]
  },
  {
   "cell_type": "markdown",
   "metadata": {
    "id": "5XqseU0Px8XZ"
   },
   "source": [
    "Conditions and calculations can also be combined. First, calculations are evaluated and then the truth value is assessed."
   ]
  },
  {
   "cell_type": "code",
   "execution_count": 152,
   "metadata": {
    "id": "UDweFV5ex_pb"
   },
   "outputs": [
    {
     "data": {
      "text/plain": [
       "True"
      ]
     },
     "execution_count": 152,
     "metadata": {},
     "output_type": "execute_result"
    }
   ],
   "source": [
    "2 * 3 - 2 == 4"
   ]
  },
  {
   "cell_type": "markdown",
   "metadata": {
    "id": "6ChtHK_Dywjo"
   },
   "source": [
    "We can use `in` to assess whether an object is inside a container. An example with a list:"
   ]
  },
  {
   "cell_type": "code",
   "execution_count": 153,
   "metadata": {
    "id": "Ixrx-lyMyWoP"
   },
   "outputs": [
    {
     "data": {
      "text/plain": [
       "True"
      ]
     },
     "execution_count": 153,
     "metadata": {},
     "output_type": "execute_result"
    }
   ],
   "source": [
    "list_example = [2, 3, 4]\n",
    "3 in list_example"
   ]
  },
  {
   "cell_type": "markdown",
   "metadata": {
    "id": "GVyItGOQ-gu-"
   },
   "source": [
    "`in` may also be used to check if a character or string is in another"
   ]
  },
  {
   "cell_type": "code",
   "execution_count": 155,
   "metadata": {
    "id": "qVh3dIrB-nFn"
   },
   "outputs": [
    {
     "data": {
      "text/plain": [
       "True"
      ]
     },
     "execution_count": 155,
     "metadata": {},
     "output_type": "execute_result"
    }
   ],
   "source": [
    "\"World\" in \"Hello World!\""
   ]
  },
  {
   "cell_type": "code",
   "execution_count": 156,
   "metadata": {},
   "outputs": [
    {
     "data": {
      "text/plain": [
       "False"
      ]
     },
     "execution_count": 156,
     "metadata": {},
     "output_type": "execute_result"
    }
   ],
   "source": [
    "\"l\" in \"HeLLo WorLd\""
   ]
  },
  {
   "cell_type": "markdown",
   "metadata": {
    "id": "D49EoaBp0937"
   },
   "source": [
    "Using `not` we change the truth value of a `bool`"
   ]
  },
  {
   "cell_type": "code",
   "execution_count": 157,
   "metadata": {
    "id": "4Qz27Uox1Bbe"
   },
   "outputs": [
    {
     "data": {
      "text/plain": [
       "False"
      ]
     },
     "execution_count": 157,
     "metadata": {},
     "output_type": "execute_result"
    }
   ],
   "source": [
    "not True"
   ]
  },
  {
   "cell_type": "markdown",
   "metadata": {
    "id": "oD6SewdT0GmW"
   },
   "source": [
    "If we use the `not` we can check if an object is not in a container:"
   ]
  },
  {
   "cell_type": "code",
   "execution_count": 160,
   "metadata": {},
   "outputs": [
    {
     "data": {
      "text/plain": [
       "[2, 3, 4]"
      ]
     },
     "execution_count": 160,
     "metadata": {},
     "output_type": "execute_result"
    }
   ],
   "source": [
    "list_example"
   ]
  },
  {
   "cell_type": "code",
   "execution_count": 161,
   "metadata": {
    "id": "nE0H2dWp0La2"
   },
   "outputs": [
    {
     "data": {
      "text/plain": [
       "False"
      ]
     },
     "execution_count": 161,
     "metadata": {},
     "output_type": "execute_result"
    }
   ],
   "source": [
    "\n",
    "3 not in list_example"
   ]
  },
  {
   "cell_type": "code",
   "execution_count": 162,
   "metadata": {
    "id": "rPzBvYXN0OMq"
   },
   "outputs": [
    {
     "data": {
      "text/plain": [
       "True"
      ]
     },
     "execution_count": 162,
     "metadata": {},
     "output_type": "execute_result"
    }
   ],
   "source": [
    "1 not in list_example"
   ]
  },
  {
   "cell_type": "markdown",
   "metadata": {
    "id": "cdQ1-ttJy80c"
   },
   "source": [
    "The operator `is` can be used to check for identity of two objects, while `==` only checks for equality. These two concepts can differ in Python, for example the `int 3` is equivalent to the `float 3.0` but not identical:"
   ]
  },
  {
   "cell_type": "code",
   "execution_count": 163,
   "metadata": {
    "id": "K5NNwWgJzDT2"
   },
   "outputs": [
    {
     "data": {
      "text/plain": [
       "True"
      ]
     },
     "execution_count": 163,
     "metadata": {},
     "output_type": "execute_result"
    }
   ],
   "source": [
    "a = 3\n",
    "b = 3\n",
    "a is b"
   ]
  },
  {
   "cell_type": "code",
   "execution_count": 168,
   "metadata": {
    "id": "DoO-JC_SIIZD"
   },
   "outputs": [
    {
     "data": {
      "text/plain": [
       "True"
      ]
     },
     "execution_count": 168,
     "metadata": {},
     "output_type": "execute_result"
    }
   ],
   "source": [
    "a = 3\n",
    "b = 3.0\n",
    "a == b"
   ]
  },
  {
   "cell_type": "code",
   "execution_count": 170,
   "metadata": {},
   "outputs": [
    {
     "name": "stdout",
     "output_type": "stream",
     "text": [
      "3\n",
      "3.0\n"
     ]
    },
    {
     "data": {
      "text/plain": [
       "False"
      ]
     },
     "execution_count": 170,
     "metadata": {},
     "output_type": "execute_result"
    }
   ],
   "source": [
    "print(a)\n",
    "print(b)\n",
    "a is b"
   ]
  },
  {
   "cell_type": "code",
   "execution_count": 166,
   "metadata": {
    "id": "ni-lopwxzrMZ"
   },
   "outputs": [
    {
     "data": {
      "text/plain": [
       "True"
      ]
     },
     "execution_count": 166,
     "metadata": {},
     "output_type": "execute_result"
    }
   ],
   "source": [
    "a = (3, )\n",
    "b=a\n",
    "\n",
    "a is b"
   ]
  },
  {
   "cell_type": "code",
   "execution_count": 167,
   "metadata": {},
   "outputs": [
    {
     "data": {
      "text/plain": [
       "True"
      ]
     },
     "execution_count": 167,
     "metadata": {},
     "output_type": "execute_result"
    }
   ],
   "source": [
    "a == b"
   ]
  },
  {
   "cell_type": "markdown",
   "metadata": {
    "id": "-Cl4P4CqzoIz"
   },
   "source": [
    "\n",
    "You can find more on `is` versus `==` on https://www.geeksforgeeks.org/difference-between-and-is-operator-in-python/"
   ]
  },
  {
   "cell_type": "markdown",
   "metadata": {
    "id": "YDpmPpnMwXbD"
   },
   "source": [
    "**Quick exercise**\n",
    "\n",
    "- Check if `1` is equal to `True`, then check if it is identical\n",
    "- Check if `0` is equal to `False`, then check if it is identical"
   ]
  },
  {
   "cell_type": "markdown",
   "metadata": {
    "id": "k8ePoZDj0QWU"
   },
   "source": [
    "Finally, we may also check if all of multiple `bool` are true using `and` (or equivalently `&`)."
   ]
  },
  {
   "cell_type": "code",
   "execution_count": 172,
   "metadata": {},
   "outputs": [
    {
     "data": {
      "text/plain": [
       "True"
      ]
     },
     "execution_count": 172,
     "metadata": {},
     "output_type": "execute_result"
    }
   ],
   "source": [
    "1 == True"
   ]
  },
  {
   "cell_type": "code",
   "execution_count": 173,
   "metadata": {},
   "outputs": [
    {
     "data": {
      "text/plain": [
       "True"
      ]
     },
     "execution_count": 173,
     "metadata": {},
     "output_type": "execute_result"
    }
   ],
   "source": [
    "0 == False"
   ]
  },
  {
   "cell_type": "code",
   "execution_count": 174,
   "metadata": {
    "id": "CTabn4-g15va"
   },
   "outputs": [
    {
     "data": {
      "text/plain": [
       "True"
      ]
     },
     "execution_count": 174,
     "metadata": {},
     "output_type": "execute_result"
    }
   ],
   "source": [
    "True and True # Check if the first AND the second are True"
   ]
  },
  {
   "cell_type": "code",
   "execution_count": 176,
   "metadata": {
    "id": "Z18teJTp17Ao"
   },
   "outputs": [
    {
     "data": {
      "text/plain": [
       "False"
      ]
     },
     "execution_count": 176,
     "metadata": {},
     "output_type": "execute_result"
    }
   ],
   "source": [
    "True and False # Check if the first AND the second are True"
   ]
  },
  {
   "cell_type": "code",
   "execution_count": 179,
   "metadata": {},
   "outputs": [
    {
     "data": {
      "text/plain": [
       "True"
      ]
     },
     "execution_count": 179,
     "metadata": {},
     "output_type": "execute_result"
    }
   ],
   "source": [
    "True or False"
   ]
  },
  {
   "cell_type": "markdown",
   "metadata": {
    "id": "azzDNsDNIqBi"
   },
   "source": [
    "For `in`, we need to wrap each `bool` into parentheses `()` if we want to compare them with `and`:"
   ]
  },
  {
   "cell_type": "code",
   "execution_count": 180,
   "metadata": {
    "id": "UGrxMg2G0pac"
   },
   "outputs": [
    {
     "data": {
      "text/plain": [
       "True"
      ]
     },
     "execution_count": 180,
     "metadata": {},
     "output_type": "execute_result"
    }
   ],
   "source": [
    "list_example = [2, 3, 4]\n",
    "(3 in list_example) and (4 in list_example)"
   ]
  },
  {
   "cell_type": "code",
   "execution_count": 181,
   "metadata": {
    "id": "EXEZUoiQ1dKb"
   },
   "outputs": [
    {
     "data": {
      "text/plain": [
       "True"
      ]
     },
     "execution_count": 181,
     "metadata": {},
     "output_type": "execute_result"
    }
   ],
   "source": [
    "not (5 in list_example) and (5 == 5)"
   ]
  },
  {
   "cell_type": "markdown",
   "metadata": {
    "id": "S93CDn0L05RX"
   },
   "source": [
    "We can also combine conditions with an `or`:  "
   ]
  },
  {
   "cell_type": "code",
   "execution_count": 182,
   "metadata": {
    "id": "DWTqkRcT19Oy"
   },
   "outputs": [
    {
     "data": {
      "text/plain": [
       "True"
      ]
     },
     "execution_count": 182,
     "metadata": {},
     "output_type": "execute_result"
    }
   ],
   "source": [
    "True or True # Check if the first OR the second is True"
   ]
  },
  {
   "cell_type": "code",
   "execution_count": 183,
   "metadata": {
    "id": "7-GGJAfh1_DA"
   },
   "outputs": [
    {
     "data": {
      "text/plain": [
       "True"
      ]
     },
     "execution_count": 183,
     "metadata": {},
     "output_type": "execute_result"
    }
   ],
   "source": [
    "True or False # Check if the first OR the second is True"
   ]
  },
  {
   "cell_type": "markdown",
   "metadata": {
    "id": "zbGH_AA81yNE"
   },
   "source": [
    "Note that the keywords `and`, `or`, are (for our use cases) essentially equal to `&` and `|`."
   ]
  },
  {
   "cell_type": "markdown",
   "metadata": {
    "id": "Q2SLlwvx10kH"
   },
   "source": [
    "Here is an overview of the truth value testing methods:\n",
    "\n",
    "| Expression    | Description |\n",
    "| ------------- | ----------- |\n",
    "| `==`          | Equal. Works for numerical values, strings, etc. |\n",
    "| `!=`          | Not Equal. Works for numerical values, strings, etc. |\n",
    "| `>`, `>=`, `<`,`<=` | Inequalities. Works for numerical values |\n",
    "|  `a is b`, `a is not b`   | Test identity. `a is b` is `True` if `a` and `b` are the same object |\n",
    "| `a in b`, `a not in b`    | Test whether `a` is or is not included in `b` where `b` is a collection |\n",
    "\n",
    "Additionally, there are logical operators that\n",
    "allow us to combine two logical values:\n",
    "\n",
    "| Expression | Description |\n",
    "| ---------- | ----------- |\n",
    "| `a and b`,  `a & b` | `True` if both `a` and `b` are `True` |\n",
    "| `a or b`,    `a \\| b`| `True` if at least one of `a` or `b` is `True` |"
   ]
  },
  {
   "cell_type": "markdown",
   "metadata": {
    "id": "J-Uyi8sJ2qyw"
   },
   "source": [
    "### String formatting\n",
    "If we want to enter the value of a variable within a string we can use the `.format()` method on the string. The arguments of the `.format()` method will be placed within the string at each use of curly braces `{}` in the order of the arguments:\n"
   ]
  },
  {
   "cell_type": "code",
   "execution_count": 184,
   "metadata": {
    "id": "YXCpM0vH35c5"
   },
   "outputs": [
    {
     "data": {
      "text/plain": [
       "'There are approximately 58200 listed companies worldwide'"
      ]
     },
     "execution_count": 184,
     "metadata": {},
     "output_type": "execute_result"
    }
   ],
   "source": [
    "region = \"worldwide\"\n",
    "number_stocks = 58200\n",
    "\"There are approximately {} listed companies {}\".format(number_stocks, region)"
   ]
  },
  {
   "cell_type": "markdown",
   "metadata": {
    "id": "fwKAXCQB3wx5"
   },
   "source": [
    "Alternatively, we can use 'f-strings'. To do so, write an `f` in front of a string and put the variable directly in the curly braces `{}`  to indicate that a variable is used inside the string. We can also do computations inside the curly braces `{}`:"
   ]
  },
  {
   "cell_type": "code",
   "execution_count": 185,
   "metadata": {
    "id": "OjMxixuk3LC8"
   },
   "outputs": [
    {
     "data": {
      "text/plain": [
       "'If we add 5 to 1 we get 6'"
      ]
     },
     "execution_count": 185,
     "metadata": {},
     "output_type": "execute_result"
    }
   ],
   "source": [
    "x = 5\n",
    "y = 1\n",
    "f\"If we add {x} to {y} we get {x+y}\""
   ]
  },
  {
   "cell_type": "markdown",
   "metadata": {
    "id": "JkKolBsyQ5w2"
   },
   "source": [
    "You can also format numbers. For example the following `float` is not very easy to read. We can easily round it to two decimals points by adding `:.2f` after the expression.\n",
    "\n",
    "`.2f` specifies two digits after the decimal point for floats"
   ]
  },
  {
   "cell_type": "code",
   "execution_count": 186,
   "metadata": {
    "id": "mMJhxKo8RaJ-"
   },
   "outputs": [
    {
     "name": "stdout",
     "output_type": "stream",
     "text": [
      "The value is roughly 3.15\n"
     ]
    }
   ],
   "source": [
    "super_long_float = 3.14666566565656565565\n",
    "print(f\"The value is roughly {super_long_float:.2f}\") # Note the \":.2f\" after the expression"
   ]
  },
  {
   "cell_type": "markdown",
   "metadata": {
    "id": "Xd4F8w0TR9tD"
   },
   "source": [
    "Another common use-case is percentages.\n",
    "In this case you can use `:.1%` to specify a percentage value with a single digit after the decimal point:"
   ]
  },
  {
   "cell_type": "code",
   "execution_count": 187,
   "metadata": {
    "id": "6XmzKGbjSUWc"
   },
   "outputs": [
    {
     "name": "stdout",
     "output_type": "stream",
     "text": [
      "This percentage is about 34.6%\n"
     ]
    }
   ],
   "source": [
    "super_long_percentage = 0.3456789123455\n",
    "print(f\"This percentage is about {super_long_percentage:.1%}\")"
   ]
  },
  {
   "cell_type": "markdown",
   "metadata": {
    "id": "A8tXU-9_uK1f"
   },
   "source": [
    "Click here https://www.geeksforgeeks.org/formatted-string-literals-f-strings-python/ to learn more on f-strings"
   ]
  },
  {
   "cell_type": "markdown",
   "metadata": {
    "id": "p9OBSsyzlsy1"
   },
   "source": [
    "# Exercises"
   ]
  },
  {
   "cell_type": "markdown",
   "metadata": {
    "id": "dd5j5PXw9LUS"
   },
   "source": [
    "## Exercise 1: Working with datatypes & conditions\n"
   ]
  },
  {
   "cell_type": "markdown",
   "metadata": {
    "id": "H3iFh4OtYwQn"
   },
   "source": [
    "(a) Explore what happens when you convert numbers between data types.\n",
    "What happens when you convert non .0 floats to ints?"
   ]
  },
  {
   "cell_type": "code",
   "execution_count": 188,
   "metadata": {},
   "outputs": [
    {
     "data": {
      "text/plain": [
       "4"
      ]
     },
     "execution_count": 188,
     "metadata": {},
     "output_type": "execute_result"
    }
   ],
   "source": [
    "int(4.5)"
   ]
  },
  {
   "cell_type": "markdown",
   "metadata": {
    "id": "OXrPecMf9y6S"
   },
   "source": [
    "(b) Define two variables \"condition1\" and \"condition2\", that are both `bool`.\n",
    "\n",
    "- \"condition1\" should be the result of the check whether 5.0 is greater than 3.\n",
    "- \"condition2\" should be the result of the check whether \"hello\" is in \"Hello world!\" (note the capitalization of the strings!)\n",
    "\n",
    "Combine the two conditions with both `and` and `or`. Try both the keyword (e.g. `and`) and the operator (e.g. `&`).\n",
    "Print the result for all 4 comparisons."
   ]
  },
  {
   "cell_type": "code",
   "execution_count": 193,
   "metadata": {},
   "outputs": [
    {
     "name": "stdout",
     "output_type": "stream",
     "text": [
      "False\n",
      "True\n",
      "True\n",
      "False\n",
      "False\n",
      "True\n"
     ]
    }
   ],
   "source": [
    "condition1 = 5.0 > 3\n",
    "condition2 = \"hello\" in \"Hello world!\"\n",
    "\n",
    "print(condition1 and condition2)\n",
    "print(condition1 or condition2)\n",
    "print(condition1)\n",
    "print(condition2)\n",
    "print(condition2 & condition1)\n",
    "print(condition1 | condition2)"
   ]
  },
  {
   "cell_type": "markdown",
   "metadata": {
    "id": "I6eryv9K-9FJ"
   },
   "source": [
    "## Exercise 2: Working with containers and string formatting"
   ]
  },
  {
   "cell_type": "markdown",
   "metadata": {
    "id": "IeZONXEQ_lCj"
   },
   "source": [
    "(a) Create a tuple that contains two tuples with the values \"a\" and \"b\" each and assign it to a variable. Then get the \"b\" of the first tuple from the combined tuple."
   ]
  },
  {
   "cell_type": "markdown",
   "metadata": {
    "id": "QZo2oACTAX6G"
   },
   "source": [
    "(b) Create a dictionary that stores information about a company.\n",
    "Store the following information:\n",
    "\n",
    "\n",
    "*   The name is \"Silverman Sachs\"\n",
    "*   The number of employees globally is 25843\n",
    "*   The revenue is 7_800_000_000 (*note: yes you can write the number like this*)\n",
    "*   The number of employees in the U.S. is 14878\n",
    "\n",
    "Print the following information:\n",
    "The company < insert name here > has a revenue of USD < insert amount here > per employee. < insert percentage here > of the employees are NOT based in the U.S.\n",
    "\n",
    "Ensure that the dollar value is rounded to zero decimal places.\n",
    "Round the percentage of non-U.S. employees to 2 decimal places.\n",
    "Solve it in both the `f-string` approach, as well as the `.format()` approach.\n"
   ]
  },
  {
   "cell_type": "markdown",
   "metadata": {
    "id": "OX1RnV0q_h1J"
   },
   "source": [
    "(c) Edit the code below to get:\n",
    "\n",
    "*   \"He\"\n",
    "*   \"lo\"\n",
    "*   \"Worl\"\n",
    "*   \"d\"\n",
    "*   0\n",
    "\n"
   ]
  },
  {
   "cell_type": "code",
   "execution_count": 197,
   "metadata": {},
   "outputs": [
    {
     "data": {
      "text/plain": [
       "'b'"
      ]
     },
     "execution_count": 197,
     "metadata": {},
     "output_type": "execute_result"
    }
   ],
   "source": [
    "t = ((\"a\"), (\"b\"))\n",
    "t[1]\n",
    "\n",
    "\n",
    "t1 = (t, t)\n",
    "t1[0][1]"
   ]
  },
  {
   "cell_type": "code",
   "execution_count": 198,
   "metadata": {},
   "outputs": [],
   "source": [
    "company_info = {\n",
    "    \"comp_name\": \"Silverman Sachs\",\n",
    "    \"employee_number\": 25843,\n",
    "    \"rev\": 7_800_000_000,\n",
    "    \"us_employee\": 14878\n",
    "}"
   ]
  },
  {
   "cell_type": "code",
   "execution_count": 215,
   "metadata": {},
   "outputs": [
    {
     "name": "stdout",
     "output_type": "stream",
     "text": [
      "the company Silverman Sachs has a revenue of USD 301823 per employee. 42.43% of the employees are NOT based in the U.S.\n"
     ]
    }
   ],
   "source": [
    "print(f\"the company {company_info[\"comp_name\"]} has a revenue of USD {list(company_info.values())[2] / company_info[\"employee_number\"] :.0f} per employee. {1 - company_info[\"us_employee\"] / company_info[\"employee_number\"] :.2%} of the employees are NOT based in the U.S.\")"
   ]
  },
  {
   "cell_type": "code",
   "execution_count": 238,
   "metadata": {},
   "outputs": [],
   "source": [
    "rpe = company_info[\"rev\"] / company_info[\"employee_number\"]\n",
    "us_percentage = company_info[\"us_employee\"] / company_info[\"employee_number\"]"
   ]
  },
  {
   "cell_type": "code",
   "execution_count": 246,
   "metadata": {},
   "outputs": [
    {
     "name": "stdout",
     "output_type": "stream",
     "text": [
      "the company Silverman Sachs has a revenuse of USD 301823 per employees. 42.43% of the employees are NOT based in the US.\n"
     ]
    }
   ],
   "source": [
    "print(\"the company {} has a revenuse of USD {:.0f} per employees. {:.2%} of the employees are NOT based in the US.\".format(company_info[\"comp_name\"], rpe, 1-us_percentage))"
   ]
  },
  {
   "cell_type": "code",
   "execution_count": 218,
   "metadata": {},
   "outputs": [
    {
     "data": {
      "text/plain": [
       "'Silverman Sachs'"
      ]
     },
     "execution_count": 218,
     "metadata": {},
     "output_type": "execute_result"
    }
   ],
   "source": [
    "company_info[\"comp_name\"]"
   ]
  },
  {
   "cell_type": "code",
   "execution_count": 254,
   "metadata": {
    "id": "N3I4PUwAnoQX"
   },
   "outputs": [
    {
     "name": "stdout",
     "output_type": "stream",
     "text": [
      "He\n",
      "lo\n",
      "Worl\n",
      "d\n",
      "0\n"
     ]
    }
   ],
   "source": [
    "tuple_example = (0, [\"Hello\", \"World\"])\n",
    "print(tuple_example[1][0][:2])\n",
    "print(tuple_example[1][0][3:])\n",
    "print(tuple_example[1][1][:4])\n",
    "print(tuple_example[1][1][4])\n",
    "print(tuple_example[0])"
   ]
  },
  {
   "cell_type": "code",
   "execution_count": 263,
   "metadata": {},
   "outputs": [
    {
     "data": {
      "text/plain": [
       "False"
      ]
     },
     "execution_count": 263,
     "metadata": {},
     "output_type": "execute_result"
    }
   ],
   "source": [
    "False and False"
   ]
  }
 ],
 "metadata": {
  "colab": {
   "include_colab_link": true,
   "provenance": []
  },
  "kernelspec": {
   "display_name": "Python 3",
   "name": "python3"
  },
  "language_info": {
   "codemirror_mode": {
    "name": "ipython",
    "version": 3
   },
   "file_extension": ".py",
   "mimetype": "text/x-python",
   "name": "python",
   "nbconvert_exporter": "python",
   "pygments_lexer": "ipython3",
   "version": "3.12.4"
  }
 },
 "nbformat": 4,
 "nbformat_minor": 0
}
