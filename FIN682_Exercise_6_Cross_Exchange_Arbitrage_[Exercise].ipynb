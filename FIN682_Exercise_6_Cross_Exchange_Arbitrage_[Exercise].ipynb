{
  "cells": [
    {
      "cell_type": "markdown",
      "metadata": {
        "id": "view-in-github",
        "colab_type": "text"
      },
      "source": [
        "<a href=\"https://colab.research.google.com/github/Segtanof/pyfin/blob/main/FIN682_Exercise_6_Cross_Exchange_Arbitrage_%5BExercise%5D.ipynb\" target=\"_parent\"><img src=\"https://colab.research.google.com/assets/colab-badge.svg\" alt=\"Open In Colab\"/></a>"
      ]
    },
    {
      "cell_type": "markdown",
      "id": "dc6cbae0-ee25-4cc1-8451-3d7d9dd8eb17",
      "metadata": {
        "id": "dc6cbae0-ee25-4cc1-8451-3d7d9dd8eb17",
        "tags": []
      },
      "source": [
        "# FIN 682 Exercise: Cross-Exchange Arbitrage\n",
        "\n",
        "**Final**\n",
        "\n",
        "*This version: 2024-04-16*\n",
        "\n",
        "On Google Colab: [https://colab.research.google.com/drive/1Of8Jo4GG2_8ay1wNugiEXDqVXOlEUpHo](https://colab.research.google.com/drive/1Of8Jo4GG2_8ay1wNugiEXDqVXOlEUpHo)"
      ]
    },
    {
      "cell_type": "markdown",
      "source": [
        "## Why is it worth learning Python?\n",
        "\n",
        "- *Popularity*: Python is one of the most popular programming languages ([Source](https://www.northeastern.edu/graduate/blog/most-popular-programming-languages/)) and is extensively used in the financial services industry and asset management.\n",
        "- *Transferable skills*: You will acquire the concepts (such as variables, data types, loops, if-statements, ...), which other programming languages also have. Thus, if you work for a company that happens to use a different programming language, you will be able to transition quickly.\n",
        "- *Package ecosystem*: Python has a rich and well-developed package ecosystem. Packages help you to use code that others have already written, which helps to save a lot of time with common problems.\n",
        "- *Open source*: There is no license required to run Python. Thus, you can run it on as many computers as you like, don't need to renew it, and are not dependent on your university or employer to pay for a subscription.\n",
        "\n",
        "### What can Python be used for in your studies?\n",
        "- Empirical seminar or master theses can be done in Python.\n",
        "- It could be the difference between you getting the internship or someone else.\n",
        "\n",
        "\n",
        "\n",
        "### What can Python be used for in your future career?\n",
        "- *Data analysis*: Handling, cleaning and analyzing large datasets is very easy.\n",
        "- *Automation*: Due to its flexibility, almost anything can be automated in Python. For example, generating reports from a large number of input files\n",
        "- *Machine learning*: Python is the most popular language for working with (and developing) machine learning models. Just ask ChatGPT \"Which language was ChatGPT programmed in?\" -> Python.\n",
        "- *Asset management*: Many uses in asset management, such as algorithmic trading, backtesting, and portfolio optimization."
      ],
      "metadata": {
        "id": "-K8kgsZz_0I6"
      },
      "id": "-K8kgsZz_0I6"
    },
    {
      "cell_type": "markdown",
      "id": "c281fbe2-39a8-43a1-809e-b4389e71ee99",
      "metadata": {
        "id": "c281fbe2-39a8-43a1-809e-b4389e71ee99"
      },
      "source": [
        "## How to get started with this exercise\n",
        "\n",
        "### Recommended way: Google Colab\n",
        "\n",
        "Go to the link at the top of document, add the file to your own drive (\"File\" -> \"Save a copy to Drive\") and start using it. Google's official introduction to Colab can be found here: [https://colab.research.google.com/notebook?authuser=1](https://colab.research.google.com/notebook?authuser=1)\n",
        "\n",
        "You do **not** need to download the data file from ILIAS if you are using Google Colab.\n",
        "\n",
        "### Alternative ways\n",
        "\n",
        "This way is not recommended. Google Colab is significantly simpler to set up.\n",
        "If you watched tutorials that do not use Colab, you should know that you can simply copy-paste the code into Colab.\n",
        "\n",
        "If you are an advanced user, I'm sure you know how to get up and running."
      ]
    },
    {
      "cell_type": "markdown",
      "id": "0684bc35-f9e4-4669-955d-18b3fea377ad",
      "metadata": {
        "id": "0684bc35-f9e4-4669-955d-18b3fea377ad"
      },
      "source": [
        "## Notes\n",
        "**Please note that *programming itself* is not relevant for the exam.**\n",
        "You will NOT be asked something like \"please write some code to do ...\".\n",
        "You could however be asked something about the *ideas* behind the code.\n",
        "\n",
        "The goal of this exercise is to give interested students the possibility to work with real-world data using Python, which is widely used in the industry.\n",
        "\n",
        "### Using Python\n",
        "\n",
        "In general, you can find great tutorials on YouTube.\n",
        "For your convenience, here are a few examples:\n",
        "\n",
        "- [Starting point for beginners](https://www.youtube.com/watch?v=dT_XDTarsjw&t=45s) that explains data types, logic, etc.\n",
        "\n",
        "- [Google's official introduction to Colab](https://colab.research.google.com/notebook?authuser=1) also contains some good introductory examples and explains the usage of the so-called \"notebooks\" and useful keyboard shortcuts\n",
        "\n",
        "- [Overview over pandas](https://www.youtube.com/watch?v=kHHym9neKRs)\n",
        "    - One of Python's main data structures are pandas DataFrames. This video gives you an overview\n",
        "    - Take a look at the [official pandas cheat sheet](https://pandas.pydata.org/Pandas_Cheat_Sheet.pdf)\n",
        "\n",
        "If you follow a tutorial from YouTube or another source, many recommend installing VSCode, PyCharm, Anaconda, or other programs.\n",
        "While these programs are great, if you are just starting out, Google Colab is the easiest choice.\n",
        "**You can copy the code you have from the other tutorial into a code cell and execute it just like in the other tools.**\n",
        "Take a look at Google's official introduction to Colab, which explains the concept of notebooks very well.\n",
        "\n",
        "#### Online courses\n",
        "You can also follow courses from sites such as\n",
        "- [Coursera](https://www.coursera.org/courses?query=python)\n",
        "- [w3school](https://www.w3resource.com/python/python-tutorial.php)\n",
        "- [codecademy](https://www.codecademy.com/catalog/language/python)\n",
        "\n",
        "<!-- ### How does programming typically work\n",
        "- Use a tutorial to get up and running with the basics\n",
        "- Follow the tutorial and try to *understand* why something is happening / done a certain way\n",
        "- Try to change the code in the tutorials in your own notebook and check whether the outcome is as expected\n",
        "- You will get a hang of the basics\n",
        "- Step out of the tutorial and try different tasks, e.g. this exercise\n",
        "- You WILL run into issues (sooner or later)\n",
        "- Use the tools in the \"Where to find more help section\"\n",
        "- Try to understand the suggestions you receive\n",
        "- Adapt them to your code and try again -->\n",
        "\n",
        "### Where to find more help\n",
        "- For specific questions: Using your favorite search engine, \"python [question]\" or \"pandas [question]\" (if working with a pandas DataFrame) typically gives very good results. Potential sites will be:\n",
        "  - StackOverflow\n",
        "  - The documentation of the packages, e.g. [pandas](https://pandas.pydata.org/docs/user_guide/index.html)\n",
        "- [ChatGPT](https://chat.openai.com/chat) also has the ability to produce code. Note: You should not blindly use this tool without\n",
        "  - Trying yourself first (otherwise you won't think the problem through properly)\n",
        "  - *Understanding* why and how the answer works\n",
        "  - Keeping in mind that you will get imperfect results\n",
        "  - It is very good at explaining code, so try to make use of that if you struggle with certain concepts (e.g. data types, functions, ...)\n",
        "    - Example prompt: `I'm using Python. Explain how a for loop works.`\n",
        "- For a broader overview: YouTube has great tutorials that cater to every taste\n"
      ]
    },
    {
      "cell_type": "markdown",
      "id": "fbfc2e40-2ed1-4d8b-a2c5-a86e311f2608",
      "metadata": {
        "id": "fbfc2e40-2ed1-4d8b-a2c5-a86e311f2608"
      },
      "source": [
        "## General description\n",
        "\n",
        "The raw data was downloaded from [cryptodatadownload.com](https://www.cryptodatadownload.com/data/).\n",
        "We will be looking at the 2023 minute-frequency price data of Ethereum, the second largest cryptocurrency after Bitcoin.\n",
        "The exchanges we study are Binance, Gemini, and Bitstamp.\n",
        "\n",
        "If you are using Google Colab (as recommended) you do not need to use the data file. It will be downloaded automatically!\n",
        "\n",
        "You only need to run the code below. To do so, you can use the \"play\"-button or you can use the keyboard shortcut \"Shift+Enter\".\n",
        "\n",
        "The code blocks you see below are called \"cells\". When you execute a cell, only the code within the cell will be run, but no code in other cells. See [Google's official introduction to Colab](https://colab.research.google.com/notebook?authuser=1) for more details about the notebook format."
      ]
    },
    {
      "cell_type": "markdown",
      "id": "e90e0e1a-9b9f-4ac2-97cf-de8c25d9c907",
      "metadata": {
        "id": "e90e0e1a-9b9f-4ac2-97cf-de8c25d9c907",
        "jp-MarkdownHeadingCollapsed": true,
        "tags": []
      },
      "source": [
        "## Assumptions\n",
        "We make the following assumptions. Some of them will be relaxed during the following exercises.\n",
        "\n",
        "- Trades can be executed immediately (no delay)\n",
        "- No transaction costs\n",
        "- Naked short sales are possible\n",
        "- You always have enough USD available on the exchanges for your purchases\n",
        "- No bid-ask spread, i.e. we can trade in both directions at the given price\n",
        "- No limits to arbitrage, e.g. slippage / price impact\n",
        "- Trades are only executed in 2023, i.e. you cannot trade in 2022 or 2024\n",
        "\n",
        "\n",
        "Each part A - E is separate from the others. The assumptions are 'reset' when moving to the next part. Within each part, assumptions are kept."
      ]
    },
    {
      "cell_type": "markdown",
      "metadata": {
        "tags": [],
        "id": "aUKMvuWniOpW"
      },
      "source": [
        "## Initialization code"
      ],
      "id": "aUKMvuWniOpW"
    },
    {
      "cell_type": "code",
      "execution_count": null,
      "metadata": {
        "cell_style": "center",
        "tags": [],
        "cellView": "form",
        "id": "Rs5ftX50iOpW"
      },
      "outputs": [],
      "source": [
        "#@title Imports (just click the play button)\n",
        "\n",
        "################################################################################\n",
        "# Importing the modules\n",
        "################################################################################\n",
        "import numpy as np  # For data wrangling\n",
        "import pandas as pd  # For data wrangling\n",
        "import matplotlib # For plotting\n",
        "import matplotlib.pyplot as plt # For plotting\n",
        "import seaborn as sns  # Optional. For plotting\n",
        "from scipy.optimize import bisect  # For optimization in part c\n",
        "\n",
        "# Optional: Set some styling to make the plots look nicer\n",
        "sns.set_theme(style=\"darkgrid\")\n",
        "sns.set_context(\"notebook\")\n",
        "\n",
        "from pathlib import Path  # For working with files and folders.\n",
        "\n",
        "from tqdm import tqdm  # Optional: For progress bars (for intermediate to advanced users)\n",
        "# Section 3.1 should be all we need for this exercise\n",
        "# https://www.kaggle.com/code/nikhilkhetan/tqdm-tutorial#3.1-Iterable-based\n",
        "\n",
        "# Set the size of plots\n",
        "matplotlib.rcParams['figure.figsize'] = (10, 8)\n",
        "\n",
        "\n",
        "\n",
        "################################################################################\n",
        "# Load the input file\n",
        "################################################################################\n",
        "\n",
        "\n",
        "# No need to unzip the file\n",
        "filename = \"eth_1minute_2023.zip\"\n",
        "\n",
        "try:\n",
        "    # Using Google Colab\n",
        "    from google.colab import files\n",
        "\n",
        "    # Do not change this\n",
        "    datadir = Path(\"/content\")\n",
        "\n",
        "    fn = datadir / filename\n",
        "\n",
        "    # Only upload the file when it doesn't exist\n",
        "    if not fn.is_file():\n",
        "\n",
        "        # Select the file to upload\n",
        "        import os\n",
        "        os.system('gdown 1CXtBUFGD1VpgEMAMh1Zbp8mCOygti040')\n",
        "\n",
        "\n",
        "except ModuleNotFoundError:\n",
        "    # Not using Google Colab\n",
        "    print(\"It seems that you are not using Google Colab. Please use Google Colab.\")\n",
        "\n",
        "    # CHANGE THIS!\n",
        "    datadir = (\n",
        "        Path().cwd()\n",
        "    )  # Or something like Path(\"c:/Program Files/PSF\"). Note that backslashes \"\\\" are entered as forward slashes \"/\".\n",
        "    fn = datadir / filename\n",
        "\n",
        "# Load the data into a pandas DataFrame\n",
        "prices = pd.read_csv(fn, index_col=[0], parse_dates=[0])"
      ],
      "id": "Rs5ftX50iOpW"
    },
    {
      "cell_type": "markdown",
      "source": [
        "What does the input data look like? It's a large table with 3 columns for the three exchanges.\n",
        "\n",
        "Each row represents the price at a specific point in time in 1 minute intervals."
      ],
      "metadata": {
        "id": "2EG1YZCviOpW"
      },
      "id": "2EG1YZCviOpW"
    },
    {
      "cell_type": "code",
      "execution_count": null,
      "metadata": {
        "colab": {
          "base_uri": "https://localhost:8080/",
          "height": 143
        },
        "outputId": "d6f9fc3e-1027-41c5-efad-f9d678b8afb4",
        "id": "kaEOhkvgiOpW"
      },
      "outputs": [
        {
          "output_type": "execute_result",
          "data": {
            "text/plain": [
              "                     binance   gemini  bitstamp\n",
              "date                                           \n",
              "2023-01-01 00:00:00  1196.13  1193.21    1195.2\n",
              "2023-01-01 00:01:00  1196.09  1193.78    1195.4"
            ],
            "text/html": [
              "\n",
              "  <div id=\"df-532881e0-6105-40a6-a3fe-d6eb864a3286\" class=\"colab-df-container\">\n",
              "    <div>\n",
              "<style scoped>\n",
              "    .dataframe tbody tr th:only-of-type {\n",
              "        vertical-align: middle;\n",
              "    }\n",
              "\n",
              "    .dataframe tbody tr th {\n",
              "        vertical-align: top;\n",
              "    }\n",
              "\n",
              "    .dataframe thead th {\n",
              "        text-align: right;\n",
              "    }\n",
              "</style>\n",
              "<table border=\"1\" class=\"dataframe\">\n",
              "  <thead>\n",
              "    <tr style=\"text-align: right;\">\n",
              "      <th></th>\n",
              "      <th>binance</th>\n",
              "      <th>gemini</th>\n",
              "      <th>bitstamp</th>\n",
              "    </tr>\n",
              "    <tr>\n",
              "      <th>date</th>\n",
              "      <th></th>\n",
              "      <th></th>\n",
              "      <th></th>\n",
              "    </tr>\n",
              "  </thead>\n",
              "  <tbody>\n",
              "    <tr>\n",
              "      <th>2023-01-01 00:00:00</th>\n",
              "      <td>1196.13</td>\n",
              "      <td>1193.21</td>\n",
              "      <td>1195.2</td>\n",
              "    </tr>\n",
              "    <tr>\n",
              "      <th>2023-01-01 00:01:00</th>\n",
              "      <td>1196.09</td>\n",
              "      <td>1193.78</td>\n",
              "      <td>1195.4</td>\n",
              "    </tr>\n",
              "  </tbody>\n",
              "</table>\n",
              "</div>\n",
              "    <div class=\"colab-df-buttons\">\n",
              "\n",
              "  <div class=\"colab-df-container\">\n",
              "    <button class=\"colab-df-convert\" onclick=\"convertToInteractive('df-532881e0-6105-40a6-a3fe-d6eb864a3286')\"\n",
              "            title=\"Convert this dataframe to an interactive table.\"\n",
              "            style=\"display:none;\">\n",
              "\n",
              "  <svg xmlns=\"http://www.w3.org/2000/svg\" height=\"24px\" viewBox=\"0 -960 960 960\">\n",
              "    <path d=\"M120-120v-720h720v720H120Zm60-500h600v-160H180v160Zm220 220h160v-160H400v160Zm0 220h160v-160H400v160ZM180-400h160v-160H180v160Zm440 0h160v-160H620v160ZM180-180h160v-160H180v160Zm440 0h160v-160H620v160Z\"/>\n",
              "  </svg>\n",
              "    </button>\n",
              "\n",
              "  <style>\n",
              "    .colab-df-container {\n",
              "      display:flex;\n",
              "      gap: 12px;\n",
              "    }\n",
              "\n",
              "    .colab-df-convert {\n",
              "      background-color: #E8F0FE;\n",
              "      border: none;\n",
              "      border-radius: 50%;\n",
              "      cursor: pointer;\n",
              "      display: none;\n",
              "      fill: #1967D2;\n",
              "      height: 32px;\n",
              "      padding: 0 0 0 0;\n",
              "      width: 32px;\n",
              "    }\n",
              "\n",
              "    .colab-df-convert:hover {\n",
              "      background-color: #E2EBFA;\n",
              "      box-shadow: 0px 1px 2px rgba(60, 64, 67, 0.3), 0px 1px 3px 1px rgba(60, 64, 67, 0.15);\n",
              "      fill: #174EA6;\n",
              "    }\n",
              "\n",
              "    .colab-df-buttons div {\n",
              "      margin-bottom: 4px;\n",
              "    }\n",
              "\n",
              "    [theme=dark] .colab-df-convert {\n",
              "      background-color: #3B4455;\n",
              "      fill: #D2E3FC;\n",
              "    }\n",
              "\n",
              "    [theme=dark] .colab-df-convert:hover {\n",
              "      background-color: #434B5C;\n",
              "      box-shadow: 0px 1px 3px 1px rgba(0, 0, 0, 0.15);\n",
              "      filter: drop-shadow(0px 1px 2px rgba(0, 0, 0, 0.3));\n",
              "      fill: #FFFFFF;\n",
              "    }\n",
              "  </style>\n",
              "\n",
              "    <script>\n",
              "      const buttonEl =\n",
              "        document.querySelector('#df-532881e0-6105-40a6-a3fe-d6eb864a3286 button.colab-df-convert');\n",
              "      buttonEl.style.display =\n",
              "        google.colab.kernel.accessAllowed ? 'block' : 'none';\n",
              "\n",
              "      async function convertToInteractive(key) {\n",
              "        const element = document.querySelector('#df-532881e0-6105-40a6-a3fe-d6eb864a3286');\n",
              "        const dataTable =\n",
              "          await google.colab.kernel.invokeFunction('convertToInteractive',\n",
              "                                                    [key], {});\n",
              "        if (!dataTable) return;\n",
              "\n",
              "        const docLinkHtml = 'Like what you see? Visit the ' +\n",
              "          '<a target=\"_blank\" href=https://colab.research.google.com/notebooks/data_table.ipynb>data table notebook</a>'\n",
              "          + ' to learn more about interactive tables.';\n",
              "        element.innerHTML = '';\n",
              "        dataTable['output_type'] = 'display_data';\n",
              "        await google.colab.output.renderOutput(dataTable, element);\n",
              "        const docLink = document.createElement('div');\n",
              "        docLink.innerHTML = docLinkHtml;\n",
              "        element.appendChild(docLink);\n",
              "      }\n",
              "    </script>\n",
              "  </div>\n",
              "\n",
              "\n",
              "<div id=\"df-ee4fbeda-89f8-4ea4-9eb1-84d1effaed74\">\n",
              "  <button class=\"colab-df-quickchart\" onclick=\"quickchart('df-ee4fbeda-89f8-4ea4-9eb1-84d1effaed74')\"\n",
              "            title=\"Suggest charts\"\n",
              "            style=\"display:none;\">\n",
              "\n",
              "<svg xmlns=\"http://www.w3.org/2000/svg\" height=\"24px\"viewBox=\"0 0 24 24\"\n",
              "     width=\"24px\">\n",
              "    <g>\n",
              "        <path d=\"M19 3H5c-1.1 0-2 .9-2 2v14c0 1.1.9 2 2 2h14c1.1 0 2-.9 2-2V5c0-1.1-.9-2-2-2zM9 17H7v-7h2v7zm4 0h-2V7h2v10zm4 0h-2v-4h2v4z\"/>\n",
              "    </g>\n",
              "</svg>\n",
              "  </button>\n",
              "\n",
              "<style>\n",
              "  .colab-df-quickchart {\n",
              "      --bg-color: #E8F0FE;\n",
              "      --fill-color: #1967D2;\n",
              "      --hover-bg-color: #E2EBFA;\n",
              "      --hover-fill-color: #174EA6;\n",
              "      --disabled-fill-color: #AAA;\n",
              "      --disabled-bg-color: #DDD;\n",
              "  }\n",
              "\n",
              "  [theme=dark] .colab-df-quickchart {\n",
              "      --bg-color: #3B4455;\n",
              "      --fill-color: #D2E3FC;\n",
              "      --hover-bg-color: #434B5C;\n",
              "      --hover-fill-color: #FFFFFF;\n",
              "      --disabled-bg-color: #3B4455;\n",
              "      --disabled-fill-color: #666;\n",
              "  }\n",
              "\n",
              "  .colab-df-quickchart {\n",
              "    background-color: var(--bg-color);\n",
              "    border: none;\n",
              "    border-radius: 50%;\n",
              "    cursor: pointer;\n",
              "    display: none;\n",
              "    fill: var(--fill-color);\n",
              "    height: 32px;\n",
              "    padding: 0;\n",
              "    width: 32px;\n",
              "  }\n",
              "\n",
              "  .colab-df-quickchart:hover {\n",
              "    background-color: var(--hover-bg-color);\n",
              "    box-shadow: 0 1px 2px rgba(60, 64, 67, 0.3), 0 1px 3px 1px rgba(60, 64, 67, 0.15);\n",
              "    fill: var(--button-hover-fill-color);\n",
              "  }\n",
              "\n",
              "  .colab-df-quickchart-complete:disabled,\n",
              "  .colab-df-quickchart-complete:disabled:hover {\n",
              "    background-color: var(--disabled-bg-color);\n",
              "    fill: var(--disabled-fill-color);\n",
              "    box-shadow: none;\n",
              "  }\n",
              "\n",
              "  .colab-df-spinner {\n",
              "    border: 2px solid var(--fill-color);\n",
              "    border-color: transparent;\n",
              "    border-bottom-color: var(--fill-color);\n",
              "    animation:\n",
              "      spin 1s steps(1) infinite;\n",
              "  }\n",
              "\n",
              "  @keyframes spin {\n",
              "    0% {\n",
              "      border-color: transparent;\n",
              "      border-bottom-color: var(--fill-color);\n",
              "      border-left-color: var(--fill-color);\n",
              "    }\n",
              "    20% {\n",
              "      border-color: transparent;\n",
              "      border-left-color: var(--fill-color);\n",
              "      border-top-color: var(--fill-color);\n",
              "    }\n",
              "    30% {\n",
              "      border-color: transparent;\n",
              "      border-left-color: var(--fill-color);\n",
              "      border-top-color: var(--fill-color);\n",
              "      border-right-color: var(--fill-color);\n",
              "    }\n",
              "    40% {\n",
              "      border-color: transparent;\n",
              "      border-right-color: var(--fill-color);\n",
              "      border-top-color: var(--fill-color);\n",
              "    }\n",
              "    60% {\n",
              "      border-color: transparent;\n",
              "      border-right-color: var(--fill-color);\n",
              "    }\n",
              "    80% {\n",
              "      border-color: transparent;\n",
              "      border-right-color: var(--fill-color);\n",
              "      border-bottom-color: var(--fill-color);\n",
              "    }\n",
              "    90% {\n",
              "      border-color: transparent;\n",
              "      border-bottom-color: var(--fill-color);\n",
              "    }\n",
              "  }\n",
              "</style>\n",
              "\n",
              "  <script>\n",
              "    async function quickchart(key) {\n",
              "      const quickchartButtonEl =\n",
              "        document.querySelector('#' + key + ' button');\n",
              "      quickchartButtonEl.disabled = true;  // To prevent multiple clicks.\n",
              "      quickchartButtonEl.classList.add('colab-df-spinner');\n",
              "      try {\n",
              "        const charts = await google.colab.kernel.invokeFunction(\n",
              "            'suggestCharts', [key], {});\n",
              "      } catch (error) {\n",
              "        console.error('Error during call to suggestCharts:', error);\n",
              "      }\n",
              "      quickchartButtonEl.classList.remove('colab-df-spinner');\n",
              "      quickchartButtonEl.classList.add('colab-df-quickchart-complete');\n",
              "    }\n",
              "    (() => {\n",
              "      let quickchartButtonEl =\n",
              "        document.querySelector('#df-ee4fbeda-89f8-4ea4-9eb1-84d1effaed74 button');\n",
              "      quickchartButtonEl.style.display =\n",
              "        google.colab.kernel.accessAllowed ? 'block' : 'none';\n",
              "    })();\n",
              "  </script>\n",
              "</div>\n",
              "\n",
              "    </div>\n",
              "  </div>\n"
            ],
            "application/vnd.google.colaboratory.intrinsic+json": {
              "type": "dataframe",
              "variable_name": "prices"
            }
          },
          "metadata": {},
          "execution_count": 4
        }
      ],
      "source": [
        "prices.head(2)"
      ],
      "id": "kaEOhkvgiOpW"
    },
    {
      "cell_type": "markdown",
      "metadata": {
        "tags": [],
        "id": "6OdmB4p4iOpX"
      },
      "source": [
        "## Part A (Basic strategy)\n",
        "\n",
        "**Assumptions**\n",
        "\n",
        "- Trades can be executed immediately (no delay)\n",
        "- No transaction costs\n",
        "- Naked short sales are possible\n",
        "- You always have enough USD available on the exchanges for your purchases\n",
        "- No bid-ask spread, i.e. we can trade in both directions at the given price\n",
        "- No limits to arbitrage, e.g. slippage / price impact\n",
        "- Trades are only executed in 2023, i.e. you cannot trade in 2022 or 2024\n",
        "\n",
        "---\n",
        "\n",
        "1. What was the highest price observed in 2023?\n",
        "  *Hint: You can use the [max method](https://pandas.pydata.org/pandas-docs/stable/reference/api/pandas.DataFrame.max.html) of DataFrames*\n",
        "2. What was the lowest price observed in 2023? On which exchange was it?\n",
        "  *Hint: You can use the [min](https://pandas.pydata.org/pandas-docs/stable/reference/api/pandas.DataFrame.min.html) and [idxmin](https://pandas.pydata.org/pandas-docs/stable/reference/api/pandas.DataFrame.idxmin.html) methods of DataFrames*\n",
        "3. What was the maximum price difference between the cheapest and most expensive price on each exchange? Use DataFrame methods to solve this!\n",
        "4. What was the cheapest price in each minute? Show the first 10 minutes. *Hint: The min and max methods have an 'axis' keyword. You can use [iloc](https://pandas.pydata.org/pandas-docs/stable/reference/api/pandas.DataFrame.iloc.html) to get the first ten rows.*\n",
        "5. What was the average price in 2023 on Gemini? *Hint: Look up the pandas documentation for something along the lines of average or mean. You can also look for the documentation on the 'loc' method.*\n",
        "6. Write a function that takes an exchange as an argument and prints the average price in 2023. An example result should be \"The average price on bitstamp was USD 100\". Test the function with bitstamp. *Hint: Info on [functions](https://www.geeksforgeeks.org/python-functions/). Use an [f-string](https://www.geeksforgeeks.org/formatted-string-literals-f-strings-python/) for printing.*\n",
        "7. Use a [for loop](https://www.geeksforgeeks.org/python-for-loops/) to run your function from part 6 for all three exchanges. *Hint: You can get the exchanges from the [column names](https://pandas.pydata.org/pandas-docs/stable/reference/api/pandas.DataFrame.columns.html) of the DataFrame.*\n",
        "8. Your trading strategy is (in each minute) to sell one unit on the most expensive exchange and at the same time buy one unit on the cheapest exchange.\n",
        "  How much profit can you make over the entire year? Use the DataFrame methods from part 1 and 2. Do not use a loop.\n",
        "9. Make a second DataFrame called `prices_first_10` by using the knowledge from part 4. Then, use a comparison to show which values are greater than or equal to `1196`. Store the result in `high_prices` and take a look at it. *Hint: Use a [boolean comparison](https://pandas.pydata.org/pandas-docs/stable/reference/api/pandas.DataFrame.ge.html)*\n",
        "10. Do the same for low prices below `1195`. Store it in `low_prices`.\n",
        "11. Multiply the high_prices with 1 and the low_prices with -1. What do you notice compared to the orginal DataFrames from parts 9 and 10? Overwrite the DataFrames with your newly multiplied versions. *Hint: You can use the [multiply method](https://pandas.pydata.org/pandas-docs/stable/reference/api/pandas.DataFrame.multiply.html)*\n",
        "12. Combine the two DataFrames by adding them. Store the result in a variable called `prices_first_10_mask`.\n",
        "13. Now multiply `prices_first_10` with `prices_first_10_mask`. What do you notice? What happened to the elements?\n",
        "14. A mask, called `prices_first_10_signal` is provided below. Verify that this mask has a row-wise sum of 0. Multiply this mask with `prices_first_10` and obtain the sum of the row-wise sums. What is the economic interpretation of what you calculated? How does this relate to part 8?\n"
      ],
      "id": "6OdmB4p4iOpX"
    },
    {
      "cell_type": "markdown",
      "source": [
        "### 1) Highest price"
      ],
      "metadata": {
        "id": "OOORTqvVBGhl"
      },
      "id": "OOORTqvVBGhl"
    },
    {
      "cell_type": "markdown",
      "source": [
        "### 2) Lowest price"
      ],
      "metadata": {
        "id": "QEZK6tKqCHNj"
      },
      "id": "QEZK6tKqCHNj"
    },
    {
      "cell_type": "markdown",
      "source": [
        "### 3) Largest difference"
      ],
      "metadata": {
        "id": "a13YjLscDV_S"
      },
      "id": "a13YjLscDV_S"
    },
    {
      "cell_type": "markdown",
      "source": [
        "### 4) Lowest price in the first 10 minutes"
      ],
      "metadata": {
        "id": "0-XFj0htD2Em"
      },
      "id": "0-XFj0htD2Em"
    },
    {
      "cell_type": "markdown",
      "source": [
        "### 5) Average price on Gemini"
      ],
      "metadata": {
        "id": "dshkhcruFj7T"
      },
      "id": "dshkhcruFj7T"
    },
    {
      "cell_type": "markdown",
      "source": [
        "### 6) Function to print average price"
      ],
      "metadata": {
        "id": "oE-RWth0H8-S"
      },
      "id": "oE-RWth0H8-S"
    },
    {
      "cell_type": "markdown",
      "source": [
        "### 7) Loop over all exchanges"
      ],
      "metadata": {
        "id": "JR2RIJtIImgZ"
      },
      "id": "JR2RIJtIImgZ"
    },
    {
      "cell_type": "markdown",
      "metadata": {
        "id": "0071a96a-eaa1-481f-a491-8bbc7e02dc29",
        "tags": []
      },
      "source": [
        "### 8) Baseline profit"
      ],
      "id": "0071a96a-eaa1-481f-a491-8bbc7e02dc29"
    },
    {
      "cell_type": "markdown",
      "source": [
        "### 9) Get mask of high prices\n"
      ],
      "metadata": {
        "id": "KYVJShXWKst8"
      },
      "id": "KYVJShXWKst8"
    },
    {
      "cell_type": "markdown",
      "source": [
        "### 10) Get mask of low prices"
      ],
      "metadata": {
        "id": "01f4MTFqOBA6"
      },
      "id": "01f4MTFqOBA6"
    },
    {
      "cell_type": "markdown",
      "source": [
        "### 11) Multiply with 1 and -1"
      ],
      "metadata": {
        "id": "93PISg_UPfgf"
      },
      "id": "93PISg_UPfgf"
    },
    {
      "cell_type": "markdown",
      "source": [
        "### 12) Add the DataFrames together"
      ],
      "metadata": {
        "id": "u09Xqyy_QFjY"
      },
      "id": "u09Xqyy_QFjY"
    },
    {
      "cell_type": "markdown",
      "source": [
        "### 13) Apply mask to prices_first_10"
      ],
      "metadata": {
        "id": "5vzRJa1LSsQx"
      },
      "id": "5vzRJa1LSsQx"
    },
    {
      "cell_type": "markdown",
      "source": [
        "### 14) Trading signals"
      ],
      "metadata": {
        "id": "-M79Uk8aiOpe"
      },
      "id": "-M79Uk8aiOpe"
    },
    {
      "cell_type": "code",
      "source": [
        "#@title Data for part 14\n",
        "# This code initializes a mask with a row-wise sum of 0.\n",
        "# It represents buys (1) and sells (-1)\n",
        "prices_first_10_signal = pd.DataFrame(\n",
        "    {\n",
        "        \"binance\": {\n",
        "            pd.Timestamp(\"2023-01-01 00:00:00\"): -1,\n",
        "            pd.Timestamp(\"2023-01-01 00:01:00\"): -1,\n",
        "            pd.Timestamp(\"2023-01-01 00:02:00\"): -1,\n",
        "            pd.Timestamp(\"2023-01-01 00:03:00\"): -1,\n",
        "            pd.Timestamp(\"2023-01-01 00:04:00\"): -1,\n",
        "            pd.Timestamp(\"2023-01-01 00:05:00\"): -1,\n",
        "            pd.Timestamp(\"2023-01-01 00:06:00\"): -1,\n",
        "            pd.Timestamp(\"2023-01-01 00:07:00\"): -1,\n",
        "            pd.Timestamp(\"2023-01-01 00:08:00\"): -1,\n",
        "            pd.Timestamp(\"2023-01-01 00:09:00\"): -1,\n",
        "        },\n",
        "        \"gemini\": {\n",
        "            pd.Timestamp(\"2023-01-01 00:00:00\"): 1,\n",
        "            pd.Timestamp(\"2023-01-01 00:01:00\"): 0,\n",
        "            pd.Timestamp(\"2023-01-01 00:02:00\"): 1,\n",
        "            pd.Timestamp(\"2023-01-01 00:03:00\"): 1,\n",
        "            pd.Timestamp(\"2023-01-01 00:04:00\"): 1,\n",
        "            pd.Timestamp(\"2023-01-01 00:05:00\"): 1,\n",
        "            pd.Timestamp(\"2023-01-01 00:06:00\"): 1,\n",
        "            pd.Timestamp(\"2023-01-01 00:07:00\"): 1,\n",
        "            pd.Timestamp(\"2023-01-01 00:08:00\"): 1,\n",
        "            pd.Timestamp(\"2023-01-01 00:09:00\"): 1,\n",
        "        },\n",
        "        \"bitstamp\": {\n",
        "            pd.Timestamp(\"2023-01-01 00:00:00\"): 0,\n",
        "            pd.Timestamp(\"2023-01-01 00:01:00\"): 1,\n",
        "            pd.Timestamp(\"2023-01-01 00:02:00\"): 0,\n",
        "            pd.Timestamp(\"2023-01-01 00:03:00\"): 0,\n",
        "            pd.Timestamp(\"2023-01-01 00:04:00\"): 0,\n",
        "            pd.Timestamp(\"2023-01-01 00:05:00\"): 0,\n",
        "            pd.Timestamp(\"2023-01-01 00:06:00\"): 0,\n",
        "            pd.Timestamp(\"2023-01-01 00:07:00\"): 0,\n",
        "            pd.Timestamp(\"2023-01-01 00:08:00\"): 0,\n",
        "            pd.Timestamp(\"2023-01-01 00:09:00\"): 0,\n",
        "        },\n",
        "    }\n",
        ")\n"
      ],
      "metadata": {
        "cellView": "form",
        "id": "p2uzh_yViOpe"
      },
      "execution_count": null,
      "outputs": [],
      "id": "p2uzh_yViOpe"
    },
    {
      "cell_type": "code",
      "source": [
        "# You now have the variable \"prices_first_10_signal\"\n",
        "prices_first_10_signal.head()"
      ],
      "metadata": {
        "id": "ZkbZaThLjQ44"
      },
      "id": "ZkbZaThLjQ44",
      "execution_count": null,
      "outputs": []
    },
    {
      "cell_type": "markdown",
      "metadata": {
        "tags": [],
        "id": "cSb7CPcCiOpe"
      },
      "source": [
        "## Part B (Delayed execution)\n",
        "\n",
        "**Assumptions**\n",
        "\n",
        "- ~~Trades can be executed immediately (no delay)~~ \\[As specified\\]\n",
        "- No transaction costs\n",
        "- Naked short sales are possible\n",
        "- You always have enough USD available on the exchanges for your purchases\n",
        "- No bid-ask spread, i.e. we can trade in both directions at the given price\n",
        "- No limits to arbitrage, e.g. slippage / price impact\n",
        "- Trades are only executed in 2023, i.e. you cannot trade in 2022 or 2024\n",
        "\n",
        "---\n",
        "\n",
        "A general note: Creating a DataFrame with the same rows and columns as the `prices`-DataFrame, but with buy and sell directions might be very useful.\n",
        "Elementwise multiplication can then be done using the [multiply method](https://pandas.pydata.org/pandas-docs/stable/reference/api/pandas.DataFrame.multiply.html).\n",
        "\n",
        "\n",
        "It might look like this (let's call it `signal` DataFrame):\n",
        "\n",
        "| date                |  binance |     gemini |   bitstamp |\n",
        "|:--------------------|---------:|-----------:|-----------:|\n",
        "| 2023-01-01 00:00:00 |        1 |          0 |         -1 |\n",
        "| 2023-01-01 00:01:00 |        0 |          1 |         -1 |\n",
        "\n",
        "\n",
        "You should keep in mind that the signal DataFrame can represent USD or ETH trade directions. You should ensure that if you want to calculate USD profits, your signal DataFrame is set up appropriately. In that case, you should represent buying with -1 (since you have a USD outflow to pay for the Ether) and selling with 1 (since you have a USD inflow).\n",
        "\n",
        "\n",
        "---\n",
        "\n",
        "1. Now assume that your trading software takes 1 minute to execute a trade.\n",
        "    This means that once you commit to your trade, you will get the next period's prices (for both buy and sell).\n",
        "    Think about your expectations: What would you expect to happen to your profit when you increase the delay?\n",
        "    Now calculate the profit: Is your strategy still profitable and what would the potential profit / loss be?\n",
        "    Make the delay a variable in minutes.\n",
        "    *Hint: The [shift method](https://pandas.pydata.org/pandas-docs/stable/reference/api/pandas.DataFrame.shift.html) might be useful*\n",
        "\n",
        "2. Calculate the profit of your strategy for delays in the range from 1 to 60 (exclude 0) and show them in a line chart.\n",
        "    Interpret your result and provide potential explanations for your observation.\n",
        "    *Hint: Use a '[for loop](https://www.geeksforgeeks.org/python-for-loops/)' to go over a '[range](https://www.geeksforgeeks.org/python-range-function/)' of values; you can use [plot](https://pandas.pydata.org/pandas-docs/stable/reference/api/pandas.DataFrame.plot.html) for the chart*\n",
        "\n",
        "3. Your colleagues mention that as you are adding a larger delay, you are losing trades as you are shifting more and more trades into 2024, which will never be executed.\n",
        "    *Explanation: With a delay of 10 minutes, you spend the first 10 minutes of 2023 doing nothing, just waiting for your software. So you essentially generate an overhang of trades that you would like to execute in 2024. By assumption, these trades will never execute -> yield a zero profit -> you lose potentially profitable trades -> with a greater delay, you mechanically see lower absolute profit.*\n",
        "    \n",
        "    They ask you to calculate the average profit per trade (in USD) instead and plot it dependent on the delay as in part 2. Calculate the profit for delays from 1 DAY to 60 DAYS in steps of 1 day.\n",
        "    *Hint: You can use the [step size of the range function](https://www.geeksforgeeks.org/python-range-function/)*."
      ],
      "id": "cSb7CPcCiOpe"
    },
    {
      "cell_type": "markdown",
      "metadata": {
        "id": "cb6dec2a-ec67-41b9-b385-80fa9ff312f5",
        "tags": []
      },
      "source": [
        "### 1) Profit with delay 1 minute\n",
        "Now assume that your trading software takes 1 minute to execute a trade.\n",
        "This means that once you commit to your trade, you will get the next period's prices.\n",
        "Think about your expectations: What would you expect to happen when you increase the delay?\n",
        "Now calculate the profit: Is your strategy still profitable and what would the potential profit / loss be?\n",
        "Make the delay a variable in minutes."
      ],
      "id": "cb6dec2a-ec67-41b9-b385-80fa9ff312f5"
    },
    {
      "cell_type": "markdown",
      "metadata": {
        "id": "b3e03762-b77a-4455-be0b-c8ff5dd9eb51",
        "tags": []
      },
      "source": [
        "### 2) Profit with delays in range 1 to 60 (chart)\n",
        "Calculate the profit of your strategy for delays in the range from 1 to 60 (exclude 0) and show them in a line chart.\n",
        "Interpret your result and provide potential explanations for your observation."
      ],
      "id": "b3e03762-b77a-4455-be0b-c8ff5dd9eb51"
    },
    {
      "cell_type": "markdown",
      "metadata": {
        "id": "feccf009-f0d7-4238-a805-203dc66e8066",
        "tags": []
      },
      "source": [
        "### 3) Average profit per trade by delay (chart)\n",
        "Your colleagues mention that as you are adding a larger delay, you are losing observations as you are shifting more and more trades into 2024, which will never be executed.\n",
        "\n",
        "They ask you to calculate the average profit per trade (in USD) instead and plot it dependent on the delay as in part 2. Calculate the profit for delays from 1 DAY to 60 DAYS in steps of 1 day."
      ],
      "id": "feccf009-f0d7-4238-a805-203dc66e8066"
    },
    {
      "cell_type": "markdown",
      "metadata": {
        "tags": [],
        "id": "6Ahx7VHZiOpg"
      },
      "source": [
        "## Part C (Transaction costs)\n",
        "\n",
        "**Assumptions**\n",
        "\n",
        "- Trades can be executed immediately (no delay)\n",
        "- ~~No transaction costs~~ \\[As specified\\]\n",
        "- Naked short sales are possible\n",
        "- You always have enough USD available on the exchanges for your purchases\n",
        "- No bid-ask spread, i.e. we can trade in both directions at the given price\n",
        "- No limits to arbitrage, e.g. slippage / price impact\n",
        "- Trades are only executed in 2023, i.e. you cannot trade in 2022 or 2024\n",
        "\n",
        "---\n",
        "\n",
        "\n",
        "1. After trading for a while, you realize that transaction costs are eating into your profits.\n",
        "    Assume again that your software does not incur any delay and that you are trading exactly as before, i.e. ignore any transaction costs in your *decision making*.\n",
        "    With transaction costs of [0.4%](https://www.bitstamp.net/fee-schedule/) for each transaction (buy and sell), how much of your profit is left?\n",
        "    *Hint: You can directly incorporate the transaction costs in the 'signal' DataFrame that we created in part B.*\n",
        "\n",
        "2. What is the break even amount of transaction costs (in %) before your trading strategy becomes unprofitable?\n",
        "    *Hint: You can use `from scipy.optimize import bisect`. See the [manual](https://docs.scipy.org/doc/scipy/reference/generated/scipy.optimize.bisect.html) for details. Important: You need to give it a __function__ to optimize*\n",
        "    \n",
        "3. You think that you will be better off if you take transaction costs into account when making a trading decision.\n",
        "    Now, you only trade when your ex-ante expected profit (with transaction costs as of part 1) is positive.\n",
        "    How much profit do you make?\n",
        "\n",
        "4. So far, we have ignored the bid-ask spread.\n",
        "    Briefly describe how a non-zero bid-ask spread could affect your results.\n",
        "    Also discuss slippage and the fundamental difference to transaction costs and the bid-ask spread."
      ],
      "id": "6Ahx7VHZiOpg"
    },
    {
      "cell_type": "code",
      "execution_count": null,
      "metadata": {
        "id": "0398b0d6-070c-4aa9-8b98-286bcf92fa63"
      },
      "outputs": [],
      "source": [
        "transaction_costs = 0.4  # = 0.4%"
      ],
      "id": "0398b0d6-070c-4aa9-8b98-286bcf92fa63"
    },
    {
      "cell_type": "markdown",
      "metadata": {
        "id": "fc3effc4-8d2b-4099-8ed5-aad947b114ad",
        "tags": []
      },
      "source": [
        "### 1) Basic transaction costs\n",
        "After trading for a while, you realize that transaction costs are eating into your profits.\n",
        "Assume again that your software does not incur any delay and that you are trading exactly as before, i.e. ignore any transaction costs in your *decision making*.\n",
        "With transaction costs of [0.4%](https://www.bitstamp.net/fee-schedule/) for each transaction (buy and sell), how much of your profit is left?"
      ],
      "id": "fc3effc4-8d2b-4099-8ed5-aad947b114ad"
    },
    {
      "cell_type": "markdown",
      "metadata": {
        "id": "8d87fe05-a381-4447-beda-8cfeb68a0594",
        "tags": []
      },
      "source": [
        "### 2) Break even transaction costs\n",
        "What is the break even amount of transaction costs (in %) before your trading strategy becomes unprofitable?"
      ],
      "id": "8d87fe05-a381-4447-beda-8cfeb68a0594"
    },
    {
      "cell_type": "markdown",
      "metadata": {
        "id": "484d1c67-7bb0-428d-adbf-b45b913a8dce",
        "tags": []
      },
      "source": [
        "### 3) Ex-ante positive profit trades only\n",
        "You think that you will be better off if you take transaction costs into account when making a trading decision.\n",
        "Now, you only trade when your ex-ante expected profit (with transaction costs as of part 1) is positive.\n",
        "How much profit do you make?"
      ],
      "id": "484d1c67-7bb0-428d-adbf-b45b913a8dce"
    },
    {
      "cell_type": "markdown",
      "metadata": {
        "id": "ce1961a0-c508-4dd1-b8ec-bf612c09f2c8",
        "tags": []
      },
      "source": [
        "### 4) Bid-ask spread and slippage\n",
        "So far, we have ignored the bid-ask spread.\n",
        "Briefly describe how a non-zero bid-ask spread could affect your results.\n",
        "Also discuss slippage and the fundamental difference to transaction costs and the bid-ask spread."
      ],
      "id": "ce1961a0-c508-4dd1-b8ec-bf612c09f2c8"
    },
    {
      "cell_type": "markdown",
      "metadata": {
        "tags": [],
        "id": "Wfu3TrYUiOpi"
      },
      "source": [
        "## Part D (Trade balance visualizations)\n",
        "\n",
        "**Assumptions**\n",
        "\n",
        "- Trades can be executed immediately (no delay)\n",
        "- No transaction costs\n",
        "- Naked short sales are possible\n",
        "- You always have enough USD available on the exchanges for your purchases\n",
        "- No bid-ask spread, i.e. we can trade in both directions at the given price\n",
        "- No limits to arbitrage, e.g. slippage / price impact\n",
        "- Trades are only executed in 2023, i.e. you cannot trade in 2022 or 2024\n",
        "\n",
        "---\n",
        "\n",
        "\n",
        "Background knowledge:\n",
        "Transferring ETH between exchanges is far from instant.\n",
        "When sending funds, the current overall Ethereum network load and the transaction costs you are willing to pay determine how fast your transaction goes through.\n",
        "Because the receiving exchange will only allow you to trade with the received ETH once a certain number of \"confirmations\" are received, you will have to wait until several Ethereum miners confirm the transaction.\n",
        "According to [this source](https://blog.tezro.com/cryptocurrency-transaction-speeds/), in 2023, the average confirmation time for Ethereum was 6 minutes, and thus far away from instant.\n",
        "\n",
        "To circumvent this bottleneck, you have a few ideas:\n",
        "\n",
        "\n",
        "1. You decide to keep a balance of the cryptocurrency on each exchange (in addition to the (assumed) USD you keep on the exchange).\n",
        "    Which potential types of risk are you now exposed to?\n",
        "    How do (or would) funds handle these risks on stock exchanges?\n",
        "    Why or why not could this still be considered arbitrage in the classic sense?\n",
        "\n",
        "2. To get a feeling for this risk, you want to visualize the balance of your account (**in ETH**) after 14 days of trading at `2023-01-15 00:00:00` given an initial investment of USD 1,000,000 (that you use to buy ETH with), which is split equally across all exchanges (\\$333,333 deposited on each exchange).\n",
        "    No rebalancing is being done.\n",
        "    Show the information in a bar chart. The exchanges should be on the x-axis, the current balance on the y-axis. Add a horizontal line denoting the initial balance.\n",
        "    What do you notice? Interpret your results.\n",
        "    *Hint: The [cumsum method](https://pandas.pydata.org/pandas-docs/stable/reference/api/pandas.DataFrame.cumsum.html) might be useful*.\n",
        "    \n",
        "3. Your colleagues mention that the time dimension is missing.\n",
        "    They think a line chart showing the balance on each of the exchanges over the full year would give them a better overview."
      ],
      "id": "Wfu3TrYUiOpi"
    },
    {
      "cell_type": "markdown",
      "metadata": {
        "id": "9a0a564e"
      },
      "source": [
        "### 1) Potential risks\n",
        "You decide to keep a balance of the cryptocurrency on each exchange (in addition to the USD you keep on the exchange).\n",
        "Which potential types of risk are you now exposed to?\n",
        "How do (or would) funds handle these risks on stock exchanges?\n",
        "Why or why not could this still be considered arbitrage in the classic sense?"
      ],
      "id": "9a0a564e"
    },
    {
      "cell_type": "markdown",
      "metadata": {
        "id": "86fd6e34-c5e4-4153-97de-c44eb1f4b1aa",
        "tags": []
      },
      "source": [
        "### 2) Balance snapshot at a specific point in time\n",
        "\n",
        "To get a feeling for this risk, you want to visualize the balance of your account (in ETH) after 14 days of trading at `2023-01-15 00:00:00` given an initial investment of USD 1,000,000 (that you use to buy ETH with), which is split equally across all exchanges (\\$333,333 deposited on each exchange).\n",
        "No rebalancing is being done.\n",
        "Show the information in a bar chart. The exchanges should be on the x-axis, the current balance on the y-axis. Add a horizontal line denoting the initial balance.\n",
        "What do you notice? Interpret your results."
      ],
      "id": "86fd6e34-c5e4-4153-97de-c44eb1f4b1aa"
    },
    {
      "cell_type": "code",
      "execution_count": null,
      "metadata": {
        "id": "b93a2125-4410-45c9-8a9d-e90e60e7bf72"
      },
      "outputs": [],
      "source": [
        "initial_investment = 1_000_000"
      ],
      "id": "b93a2125-4410-45c9-8a9d-e90e60e7bf72"
    },
    {
      "cell_type": "markdown",
      "metadata": {
        "id": "717c881b-9437-45a1-8a93-21490953846e",
        "tags": []
      },
      "source": [
        "### 3) Balance over time\n",
        "Your colleagues mention that the time dimension is missing.\n",
        "They think a line chart showing the balance on each of the exchanges over the full year would give them a better overview."
      ],
      "id": "717c881b-9437-45a1-8a93-21490953846e"
    },
    {
      "cell_type": "markdown",
      "metadata": {
        "tags": [],
        "id": "3Q67k-yriOpj"
      },
      "source": [
        "## Part E (Redistribution)\n",
        "\n",
        "**Assumptions**\n",
        "\n",
        "- Trades can be executed immediately (no delay)\n",
        "- No transaction costs **for trades. Withdrawal fees and transfer costs apply as specified in the task**\n",
        "- ~~Naked short sales are possible~~\n",
        "- You always have enough USD available on the exchanges for your purchases\n",
        "- No bid-ask spread, i.e. we can trade in both directions at the given price\n",
        "- No limits to arbitrage, e.g. slippage / price impact\n",
        "- Trades are only executed in 2023, i.e. you cannot trade in 2022 or 2024\n",
        "\n",
        "---\n",
        "\n",
        "We assume that you cannot sell crypto assets if you have a zero balance on an exchange (i.e. no naked short sales).\n",
        "Thus, you need to redistribute periodically in order to have enough ETH on each exchange.\n",
        "    \n",
        "    \n",
        "You decide to redistribute whenever your ETH balance on an exchange falls **below** 50 ETH.\n",
        "As in part d, you initially purchase ETH worth USD 1,000,000 split across the three exchanges.\n",
        "Costs are expected to be 0.01 ETH for the withdrawal and the transfer fees (per-transaction, i.e. independent of value).\n",
        "No fees are expected for deposits.\n",
        "Redistributed funds are available in the next period.\n",
        "\n",
        "You redistribute in such a way that you have the same number of ETH on each exchange (before transfer costs).\n",
        "This is to say that if you hold 0 ETH on A, 1 ETH on B and 2 ETH on C, you would want a 1 / 1 / 1 split after redistributing.\n",
        "For simplicitly, we say that we will transfer 1 ETH from C to A, paying 0.01 ETH in fees on C, such that we end up with 1 / 1 / 0.99 (If you find it easier to implement the transfer fees to be paid on the receiving exchange, feel free to do it that way). Assume that you always need 2 transactions per redistribution (i.e. no exchange is perfectly balanced).\n",
        "    \n",
        "1. In the worst case, how many minutes could you still trade before you run out of ETH to sell after the balance falls below the rebalancing threshold? No code required for this part.\n",
        "\n",
        "2. How often do you redistribute (number of redistributions in 2023) and which costs do you incur in USD (value of the crypto assets at the initiation time of the rebalancing transaction as priced at the sending exchange)?\n",
        "    *Hint: If you solve this with a loop, while you are trying to find the solution, limit the data to e.g. January to ensure faster computation.*"
      ],
      "id": "3Q67k-yriOpj"
    },
    {
      "cell_type": "markdown",
      "metadata": {
        "id": "6e7545ca",
        "tags": []
      },
      "source": [
        "### 1) Time left\n",
        "In the worst case, how many minutes could you still trade before you run out of ETH to sell after the balance falls below the rebalancing threshold?"
      ],
      "id": "6e7545ca"
    },
    {
      "cell_type": "markdown",
      "metadata": {
        "id": "69abd1f1-0c82-42ce-b022-3925a0dc00a9",
        "tags": []
      },
      "source": [
        "### 2) Number and cost of redistributions\n",
        "How often do you redistribute (number of redistributions in 2023) and which costs do you incur in USD (value of the crypto assets at the initiation time of the rebalancing transaction as priced at the sending exchange)?"
      ],
      "id": "69abd1f1-0c82-42ce-b022-3925a0dc00a9"
    },
    {
      "cell_type": "code",
      "execution_count": null,
      "metadata": {
        "id": "79fe1a77-44cc-4fb4-803b-79340c61bbf0"
      },
      "outputs": [],
      "source": [
        "rebalancing_threshold = 50  # in ETH\n",
        "withdrawal_fee = 0.01"
      ],
      "id": "79fe1a77-44cc-4fb4-803b-79340c61bbf0"
    }
  ],
  "metadata": {
    "celltoolbar": "Slideshow",
    "colab": {
      "collapsed_sections": [
        "4ea1c5ab-087f-4e20-a644-b9cf52da19fc"
      ],
      "provenance": [],
      "include_colab_link": true
    },
    "kernelspec": {
      "display_name": "Python 3 (ipykernel)",
      "language": "python",
      "name": "python3"
    },
    "language_info": {
      "codemirror_mode": {
        "name": "ipython",
        "version": 3
      },
      "file_extension": ".py",
      "mimetype": "text/x-python",
      "name": "python",
      "nbconvert_exporter": "python",
      "pygments_lexer": "ipython3",
      "version": "3.9.10"
    },
    "rise": {
      "enable_chalkboard": true,
      "height": "100%",
      "scroll": true,
      "width": "90%"
    }
  },
  "nbformat": 4,
  "nbformat_minor": 5
}