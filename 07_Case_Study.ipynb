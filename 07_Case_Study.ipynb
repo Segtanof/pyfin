{
  "nbformat": 4,
  "nbformat_minor": 0,
  "metadata": {
    "colab": {
      "provenance": [],
      "include_colab_link": true
    },
    "kernelspec": {
      "name": "python3",
      "display_name": "Python 3"
    },
    "language_info": {
      "name": "python"
    }
  },
  "cells": [
    {
      "cell_type": "markdown",
      "metadata": {
        "id": "view-in-github",
        "colab_type": "text"
      },
      "source": [
        "<a href=\"https://colab.research.google.com/github/Segtanof/pyfin/blob/main/07_Case_Study.ipynb\" target=\"_parent\"><img src=\"https://colab.research.google.com/assets/colab-badge.svg\" alt=\"Open In Colab\"/></a>"
      ]
    },
    {
      "cell_type": "markdown",
      "source": [
        "# Case Study"
      ],
      "metadata": {
        "id": "jXAr29bzpFU2"
      }
    },
    {
      "cell_type": "markdown",
      "source": [
        "The idea is that you will work on a case study to deepen (and expand!) your knowledge of Python, WRDS databases and all other concepts we have learned in the course up to this point.\n",
        "\n",
        "Unless the task explicitly says \"manually\" do something, you should solve all questions with code.\n",
        "\n",
        "The case study is similar to the take-home exam."
      ],
      "metadata": {
        "id": "BR0eSDc1pFU3"
      }
    },
    {
      "cell_type": "markdown",
      "source": [
        "## Imports\n",
        "\n",
        "Please collect all imports in the cells below and do not import more packages further down in the notebook."
      ],
      "metadata": {
        "id": "zfqBY81MpFU3"
      }
    },
    {
      "cell_type": "code",
      "source": [
        "!pip install pingouin"
      ],
      "metadata": {
        "colab": {
          "base_uri": "https://localhost:8080/"
        },
        "collapsed": true,
        "id": "9mZYCwAKfZmd",
        "outputId": "7b703b07-b68c-4da2-d41b-fbd6f408c5ea"
      },
      "execution_count": null,
      "outputs": [
        {
          "output_type": "stream",
          "name": "stdout",
          "text": [
            "Collecting pingouin\n",
            "  Downloading pingouin-0.5.5-py3-none-any.whl.metadata (19 kB)\n",
            "Requirement already satisfied: matplotlib in /usr/local/lib/python3.10/dist-packages (from pingouin) (3.8.0)\n",
            "Requirement already satisfied: numpy in /usr/local/lib/python3.10/dist-packages (from pingouin) (1.26.4)\n",
            "Requirement already satisfied: pandas>=1.5 in /usr/local/lib/python3.10/dist-packages (from pingouin) (2.2.2)\n",
            "Collecting pandas-flavor (from pingouin)\n",
            "  Downloading pandas_flavor-0.6.0-py3-none-any.whl.metadata (6.3 kB)\n",
            "Requirement already satisfied: scikit-learn>=1.2 in /usr/local/lib/python3.10/dist-packages (from pingouin) (1.5.2)\n",
            "Requirement already satisfied: scipy in /usr/local/lib/python3.10/dist-packages (from pingouin) (1.13.1)\n",
            "Requirement already satisfied: seaborn in /usr/local/lib/python3.10/dist-packages (from pingouin) (0.13.2)\n",
            "Requirement already satisfied: statsmodels in /usr/local/lib/python3.10/dist-packages (from pingouin) (0.14.4)\n",
            "Requirement already satisfied: tabulate in /usr/local/lib/python3.10/dist-packages (from pingouin) (0.9.0)\n",
            "Requirement already satisfied: python-dateutil>=2.8.2 in /usr/local/lib/python3.10/dist-packages (from pandas>=1.5->pingouin) (2.8.2)\n",
            "Requirement already satisfied: pytz>=2020.1 in /usr/local/lib/python3.10/dist-packages (from pandas>=1.5->pingouin) (2024.2)\n",
            "Requirement already satisfied: tzdata>=2022.7 in /usr/local/lib/python3.10/dist-packages (from pandas>=1.5->pingouin) (2024.2)\n",
            "Requirement already satisfied: joblib>=1.2.0 in /usr/local/lib/python3.10/dist-packages (from scikit-learn>=1.2->pingouin) (1.4.2)\n",
            "Requirement already satisfied: threadpoolctl>=3.1.0 in /usr/local/lib/python3.10/dist-packages (from scikit-learn>=1.2->pingouin) (3.5.0)\n",
            "Requirement already satisfied: contourpy>=1.0.1 in /usr/local/lib/python3.10/dist-packages (from matplotlib->pingouin) (1.3.0)\n",
            "Requirement already satisfied: cycler>=0.10 in /usr/local/lib/python3.10/dist-packages (from matplotlib->pingouin) (0.12.1)\n",
            "Requirement already satisfied: fonttools>=4.22.0 in /usr/local/lib/python3.10/dist-packages (from matplotlib->pingouin) (4.54.1)\n",
            "Requirement already satisfied: kiwisolver>=1.0.1 in /usr/local/lib/python3.10/dist-packages (from matplotlib->pingouin) (1.4.7)\n",
            "Requirement already satisfied: packaging>=20.0 in /usr/local/lib/python3.10/dist-packages (from matplotlib->pingouin) (24.2)\n",
            "Requirement already satisfied: pillow>=6.2.0 in /usr/local/lib/python3.10/dist-packages (from matplotlib->pingouin) (11.0.0)\n",
            "Requirement already satisfied: pyparsing>=2.3.1 in /usr/local/lib/python3.10/dist-packages (from matplotlib->pingouin) (3.2.0)\n",
            "Requirement already satisfied: xarray in /usr/local/lib/python3.10/dist-packages (from pandas-flavor->pingouin) (2024.10.0)\n",
            "Requirement already satisfied: patsy>=0.5.6 in /usr/local/lib/python3.10/dist-packages (from statsmodels->pingouin) (0.5.6)\n",
            "Requirement already satisfied: six in /usr/local/lib/python3.10/dist-packages (from patsy>=0.5.6->statsmodels->pingouin) (1.16.0)\n",
            "Downloading pingouin-0.5.5-py3-none-any.whl (204 kB)\n",
            "\u001b[2K   \u001b[90m━━━━━━━━━━━━━━━━━━━━━━━━━━━━━━━━━━━━━━━━\u001b[0m \u001b[32m204.4/204.4 kB\u001b[0m \u001b[31m7.9 MB/s\u001b[0m eta \u001b[36m0:00:00\u001b[0m\n",
            "\u001b[?25hDownloading pandas_flavor-0.6.0-py3-none-any.whl (7.2 kB)\n",
            "Installing collected packages: pandas-flavor, pingouin\n",
            "Successfully installed pandas-flavor-0.6.0 pingouin-0.5.5\n"
          ]
        }
      ]
    },
    {
      "cell_type": "code",
      "execution_count": null,
      "metadata": {
        "id": "78XukefBpFU4"
      },
      "outputs": [],
      "source": [
        "import pandas as pd\n",
        "import numpy as np\n",
        "import seaborn as sns\n",
        "import pingouin as pg"
      ]
    },
    {
      "cell_type": "code",
      "source": [
        "from google.colab import drive\n",
        "drive.mount('/content/drive')"
      ],
      "metadata": {
        "id": "0GTKqiWdpFU4"
      },
      "execution_count": null,
      "outputs": []
    },
    {
      "cell_type": "markdown",
      "source": [
        "## Introductory exercises"
      ],
      "metadata": {
        "id": "6KnrxC_IpFU4"
      }
    },
    {
      "cell_type": "markdown",
      "source": [
        "In the following, you have a list of tickers.\n",
        "\n",
        "- Manually comment out the ticker with length 3.\n",
        "- How many tickers are in the list?\n",
        "- Collect the second-to-last character of all tickers in a list.\n",
        "- Collect all tickers in a list that contain the letter \"i\" (case insensitive).\n",
        "- How many letters \"S\" are in all of the tickers together?\n",
        "- Make a list that has tuples as elements. The first element in each tuple should be the ticker. The second element in each tuple should be the index position of the ticker in the list, squared."
      ],
      "metadata": {
        "id": "9KRNXrnppFU4"
      }
    },
    {
      "cell_type": "code",
      "source": [
        "list_of_tickers = [\n",
        "    'ISDS',\n",
        "    'ISDX',\n",
        "    'FLSA',\n",
        "    'GTiP',\n",
        "    'BSDE',\n",
        "    'XKCP',\n",
        "    'SWI',\n",
        "]\n"
      ],
      "metadata": {
        "id": "CQHV_oq3pFU4"
      },
      "execution_count": null,
      "outputs": []
    },
    {
      "cell_type": "markdown",
      "source": [
        "## Downloading and preparing data"
      ],
      "metadata": {
        "id": "uZQWblMmpFU5"
      }
    },
    {
      "cell_type": "markdown",
      "source": [
        "Download CRSP data from WRDS. Download daily stock price data for the period from 2019-01-01 to 2019-12-31 for all companies.\n",
        "\n",
        "Select the following columns:\n",
        "- permco\n",
        "- ticker\n",
        "- siccd\n",
        "- prc\n",
        "- ret\n",
        "- shrout\n",
        "- vwretd\n",
        "\n",
        "Note that permno (a share class identifier) will be downloaded automatically.\n",
        "\n",
        "- Upload it to your Google Drive.\n",
        "- Load it into Colab.\n",
        "- Clean the column names by converting them to lowercase.\n",
        "\n",
        "**IF YOU DO NOT (YET) HAVE ACCESS TO WRDS**\n",
        "\n",
        "Uncomment the lines below to load provided data.\n",
        "\n",
        "- [Variable descriptions](https://drive.google.com/file/d/1TRNV8KZBMk6bwHFJgDxtFdUHMPHLYerE/view?usp=sharing)\n",
        "- [shrout details](https://drive.google.com/file/d/1puGQXoAnRdu3rfpYg3KPWZXuLGUokARB/view?usp=sharing)"
      ],
      "metadata": {
        "id": "KoVBvhSApFU5"
      }
    },
    {
      "cell_type": "code",
      "source": [
        "crsp_file = \"/content/drive/MyDrive/Colab Notebooks/Python course 2024-11/data/crsp_casestudy.csv.gz\"\n",
        "\n",
        "# If you do not have access to WRDS yet, uncomment the following lines\n",
        "# !gdown 163Xu08XdGnFeMxCf7yOeirm3Uj_Mx2W5\n",
        "# crsp_file = \"/content/crsp_casestudy.csv.gz\""
      ],
      "metadata": {
        "colab": {
          "base_uri": "https://localhost:8080/"
        },
        "outputId": "ee619c73-e583-4adf-b670-d5e89b29b6a9",
        "id": "1nJPAoC_pFU5"
      },
      "execution_count": null,
      "outputs": [
        {
          "output_type": "stream",
          "name": "stdout",
          "text": [
            "Downloading...\n",
            "From: https://drive.google.com/uc?id=163Xu08XdGnFeMxCf7yOeirm3Uj_Mx2W5\n",
            "To: /content/crsp_casestudy.csv.gz\n",
            "100% 26.2M/26.2M [00:00<00:00, 55.2MB/s]\n"
          ]
        }
      ]
    },
    {
      "cell_type": "markdown",
      "source": [
        "Ensure we have numeric datatypes for the relevant variables."
      ],
      "metadata": {
        "id": "AIe0WFC4pFU6"
      }
    },
    {
      "cell_type": "markdown",
      "source": [
        "Show the first 3 rows"
      ],
      "metadata": {
        "id": "0NoegJfipFU6"
      }
    },
    {
      "cell_type": "markdown",
      "source": [
        "## Adding market capitalization and industry"
      ],
      "metadata": {
        "id": "saRkLYX4pFU6"
      }
    },
    {
      "cell_type": "markdown",
      "source": [
        "### Industry"
      ],
      "metadata": {
        "id": "3h4C_-B3pFU7"
      }
    },
    {
      "cell_type": "markdown",
      "source": [
        "Add the 2-digit SIC code industry as a column to your data.\n",
        "\n",
        "A 2-digit SIC code industry means that the first 2 numbers in the SIC code are considered to be the same industry.\n",
        "\n",
        "Note that these should be strings!"
      ],
      "metadata": {
        "id": "rBmv-4EwpFU7"
      }
    },
    {
      "cell_type": "markdown",
      "source": [
        "### Market capitalization"
      ],
      "metadata": {
        "id": "gLsYGKzopFU7"
      }
    },
    {
      "cell_type": "markdown",
      "source": [
        "Calculate the market capitalization `mcap` from `prc` and `shrout` and add it to the DataFrame as a new column.\n",
        "\n",
        "Check the variable description of `shrout` to avoid mistakes."
      ],
      "metadata": {
        "id": "KIC08z5MpFU7"
      }
    },
    {
      "cell_type": "markdown",
      "source": [
        "## Getting an overview"
      ],
      "metadata": {
        "id": "uEc63OpcpFU7"
      }
    },
    {
      "cell_type": "markdown",
      "source": [
        "How many unique companies do we have? Print it in a nice format with a comma `,` as the thousands separator."
      ],
      "metadata": {
        "id": "RcVxwy98pFU7"
      }
    },
    {
      "cell_type": "markdown",
      "source": [
        "How many share classes `permno` does each company have on average? Print it in a nice format rounded to two decimal places."
      ],
      "metadata": {
        "id": "jezVRU3zpFU7"
      }
    },
    {
      "cell_type": "markdown",
      "source": [
        "Plot a bar chart that shows how many companies are in each 2-digit SIC code industry. Plot only industries with more than 50 companies. Sort the values, so that the industry with the most companies is on the left."
      ],
      "metadata": {
        "id": "XAbfX97lpFU8"
      }
    },
    {
      "cell_type": "markdown",
      "source": [
        "## Price plot"
      ],
      "metadata": {
        "id": "OwExxBFFpFU8"
      }
    },
    {
      "cell_type": "markdown",
      "source": [
        "Consider data as of 2019-05-16. Get the companies that satisfy the following conditions:\n",
        "- Market cap greater or equal to USD 2.5 billion\n",
        "- Not in the industry \"99\"\n",
        "- Return greater than 0.05\n",
        "\n",
        "How many are there?\n",
        "\n",
        "**For the rest of the case study, we will only work with these companies.**\n",
        "\n",
        "If you can't solve it, pick 10 companies however you like and work with them going forward."
      ],
      "metadata": {
        "id": "jgpl6GmDpFU8"
      }
    },
    {
      "cell_type": "markdown",
      "source": [
        "Plot these companies' share price development over the entire year."
      ],
      "metadata": {
        "id": "lqIfpI33pFU9"
      }
    },
    {
      "cell_type": "markdown",
      "source": [
        "## Analyzing the data"
      ],
      "metadata": {
        "id": "sqbtYvG5pFU9"
      }
    },
    {
      "cell_type": "markdown",
      "source": [
        "Now `pivot` (hint!) the (filtered) data to get the `ret` as values, the `date` as index and the `ticker` in the columns."
      ],
      "metadata": {
        "id": "GAvZAtTUpFU9"
      }
    },
    {
      "cell_type": "markdown",
      "source": [
        "Calculate the return correlations of the companies."
      ],
      "metadata": {
        "id": "uIRkA_6mpFU9"
      }
    },
    {
      "cell_type": "markdown",
      "source": [
        "Since that's hard to grasp quickly, plot a heatmap. Choose a diverging colormap from the [available ones](https://seaborn.pydata.org/tutorial/color_palettes.html)."
      ],
      "metadata": {
        "id": "cBmo28z4pFU-"
      }
    },
    {
      "cell_type": "markdown",
      "source": [
        "Which company pair has the highest correlation? Get it via code. Ignore correlations of the companies with themselves. [Difficult task!]"
      ],
      "metadata": {
        "id": "xyZwVN-FpFU-"
      }
    },
    {
      "cell_type": "markdown",
      "source": [
        "## Portfolio weighting schemes"
      ],
      "metadata": {
        "id": "T0c4EA6hpFU_"
      }
    },
    {
      "cell_type": "markdown",
      "source": [
        "In many scenarios, we want to build portfolios of companies. When combining them, a choice has to be made on how to weight them.\n",
        "\n",
        "The easiest way is equal weighting. A very popular way is value weighting."
      ],
      "metadata": {
        "id": "nG6j4W8GpFU_"
      }
    },
    {
      "cell_type": "markdown",
      "source": [
        "In the following, we will want to convert from returns to prices in order to plot meaningful stock price developments. Write a function that takes a return column as input and returns a column of prices as output.\n",
        "\n",
        "The function should have a keyword argument `initial_value` that is set to `100` by default and is the amount of money invested in the first period."
      ],
      "metadata": {
        "id": "PEX3fV3ypFU_"
      }
    },
    {
      "cell_type": "code",
      "source": [
        "# Test your function with these returns\n",
        "test_returns = pd.Series([0.1, -0.1, 0.2, -0.2])"
      ],
      "metadata": {
        "id": "NunxCPwWpFU_"
      },
      "execution_count": null,
      "outputs": []
    },
    {
      "cell_type": "markdown",
      "source": [
        "### Equal weighting"
      ],
      "metadata": {
        "id": "fXxGfEggpFU_"
      }
    },
    {
      "cell_type": "markdown",
      "source": [
        "Equal weighting means that all stocks in a portfolio have the same weight.\n",
        "\n",
        "Calculate an equal weighted portfolio return and plot it over the year."
      ],
      "metadata": {
        "id": "KU0O6-8epFU_"
      }
    },
    {
      "cell_type": "markdown",
      "source": [
        "### Value weighting"
      ],
      "metadata": {
        "id": "yxejdykgpFVA"
      }
    },
    {
      "cell_type": "markdown",
      "source": [
        "Value weighting means that stocks are weighted proportionally to their market capitalization. Thus, we need to calculate their percentage of the total market cap at each point in time. This does not require a loop!\n",
        "\n",
        "Hint: We can split the problem into two parts. A returns DataFrame and a weights DataFrame, which we can then multiply with each other.\n",
        "\n"
      ],
      "metadata": {
        "id": "JTHA5jBspFVA"
      }
    },
    {
      "cell_type": "markdown",
      "source": [
        "*Hint: Get a market capitalization DataFrame similar to the returns data via `pivot`.*"
      ],
      "metadata": {
        "id": "a0ZwtaBb0p7Y"
      }
    },
    {
      "cell_type": "markdown",
      "source": [
        "Plot a stacked barchart that shows the average proportion invested in each company in each month."
      ],
      "metadata": {
        "id": "njqdgDjOpFVA"
      }
    },
    {
      "cell_type": "markdown",
      "source": [
        "Check the documentation for [pd.Grouper](https://pandas.pydata.org/docs/reference/api/pandas.Grouper.html), which is used for advanced grouping. It is particularly useful for grouping based on time frequencies."
      ],
      "metadata": {
        "id": "3vB5ZlSZpFVA"
      }
    },
    {
      "cell_type": "markdown",
      "source": [
        "Plot the performance of the value weighted portfolio over the year."
      ],
      "metadata": {
        "id": "KAdKxc-MpFVB"
      }
    },
    {
      "cell_type": "markdown",
      "source": [
        "### Comparison"
      ],
      "metadata": {
        "id": "IdQOIhlwpFVB"
      }
    },
    {
      "cell_type": "markdown",
      "source": [
        "It's hard to tell the difference between the performance and the equal-weighted portfolio and the value-weighted porfolio, so let's plot both lines in one chart and label them accordingly. Hint: Use `pd.concat` for this."
      ],
      "metadata": {
        "id": "LHQG0OrBpFVB"
      }
    },
    {
      "cell_type": "markdown",
      "source": [
        "Which one performs better?"
      ],
      "metadata": {
        "id": "0krIH_wVpFVE"
      }
    },
    {
      "cell_type": "markdown",
      "source": [
        "## Statistical tests"
      ],
      "metadata": {
        "id": "r2bTToTGfJmS"
      }
    },
    {
      "cell_type": "markdown",
      "source": [
        "Extract the values from the `vwretd` column of the data and merge them with the equal-weighted and value-weighted returns into one dataframe that has 3 columns, `['ewret','vwret','vwretd']`.\n",
        "Look at WRDS to find out what the `vwretd` column means.\n",
        "\n",
        "We now have the returns of 3 different portfolios in one dataframe."
      ],
      "metadata": {
        "id": "SsbET9vxjxHt"
      }
    },
    {
      "cell_type": "markdown",
      "source": [
        "What is the mean return for each portfolio?"
      ],
      "metadata": {
        "id": "oZbdIfc4kOga"
      }
    },
    {
      "cell_type": "markdown",
      "source": [
        "Run pairwise ttests for equality of means between all column combinations. Which portfolio combination is the most likely to have similar means (check manually).\n",
        "\n",
        "*Hint: Check the documentation, there is a shortcut.*"
      ],
      "metadata": {
        "id": "seWQjFsFkFQQ"
      }
    },
    {
      "cell_type": "markdown",
      "source": [
        "Check whether the return correlation between the different portfolios is statistically significant."
      ],
      "metadata": {
        "id": "0Tc5iwJrkxJ5"
      }
    }
  ]
}