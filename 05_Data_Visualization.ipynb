{
  "nbformat": 4,
  "nbformat_minor": 0,
  "metadata": {
    "colab": {
      "provenance": [],
      "include_colab_link": true
    },
    "kernelspec": {
      "name": "python3",
      "display_name": "Python 3"
    },
    "language_info": {
      "name": "python"
    }
  },
  "cells": [
    {
      "cell_type": "markdown",
      "metadata": {
        "id": "view-in-github",
        "colab_type": "text"
      },
      "source": [
        "<a href=\"https://colab.research.google.com/github/Segtanof/pyfin/blob/main/05_Data_Visualization.ipynb\" target=\"_parent\"><img src=\"https://colab.research.google.com/assets/colab-badge.svg\" alt=\"Open In Colab\"/></a>"
      ]
    },
    {
      "cell_type": "markdown",
      "source": [
        "# Data Visualization\n",
        "Now that we learned to import and work with data(frames) we can look at some visualization tools. We will discuss pandas and seaborn plots. However, Python has a lot more libraries for data visualizations. Another famous one besides these two is [matplotlib](https://matplotlib.org/). It is often used in combination with the other two."
      ],
      "metadata": {
        "id": "yX8n8Jhfjj8h"
      }
    },
    {
      "cell_type": "markdown",
      "source": [
        "## Python is an object-oriented programming language\n",
        "\n",
        "What does that mean? Every \"thing\" (e.g. integers, floats, lists, dicts, DataFrames) is an \"object\". We have seen that some objects have methods (e.g. DataFrame**.sum()**, list**.append()**, string**.lower()**), which are essentially functions associated with that specific object.\n",
        "\n",
        "Objects can also have attributes (e.g. DataFrame**.shape**), which is essentially a property of that object.\n",
        "\n",
        "Therefore, when we create a DataFrame via `pd.DataFrame`, we don't actually call a *function*, we instantiate an object of the type `DataFrame`. The correct term for this is creating an instance of the `DataFrame` **`class`**. How this works is however beyond the scope of this course.\n",
        "\n",
        "The key thing to remember is that `DataFrame`s and other objects can keep state. I.e. if you add rows to a DataFrame, it will store the rows. A function on the other hand only returns its value and disappears together with all the variables in the local name space."
      ],
      "metadata": {
        "id": "_5YZdUukr9HZ"
      }
    },
    {
      "cell_type": "markdown",
      "source": [
        "## Pandas Plots\n",
        "Pandas allows us to make simple plots very quickly and easily."
      ],
      "metadata": {
        "id": "VlmRNEvajncm"
      }
    },
    {
      "cell_type": "code",
      "execution_count": null,
      "metadata": {
        "id": "KASFssP5jSid"
      },
      "outputs": [],
      "source": [
        "import pandas as pd"
      ]
    },
    {
      "cell_type": "markdown",
      "source": [
        "Let's use some real world data. The authors of the paper Jensen, T., Kelly, B., and Pedersen, L. “Is There a Replication Crisis in Finance?” Journal of Finance (2023) provide [replication data](https://jkpfactors.com/factor-returns?country=usa&theme=all_factors&frequency=monthly&weight=vw_cap#) on [their website](https://jkpfactors.com/?country=usa&factor=all_factors).\n",
        "\n",
        "`pandas` can directly import zipped CSV files from web links, which is very convenient. Let's try it."
      ],
      "metadata": {
        "id": "L40yAiwMeU92"
      }
    },
    {
      "cell_type": "code",
      "source": [
        "df = pd.read_csv(\n",
        "    \"https://jkpfactors.s3.amazonaws.com/public/%5Busa%5D_%5Ball_factors%5D_%5Bmonthly%5D_%5Bvw_cap%5D.zip\",\n",
        "    parse_dates=[\"date\"] # Note that we are attempting to parse the dates in the column named 'date'\n",
        ")"
      ],
      "metadata": {
        "id": "K-MB5UU2eFum"
      },
      "execution_count": null,
      "outputs": []
    },
    {
      "cell_type": "code",
      "source": [
        "# Let's check a random sample of rows\n",
        "df.sample(5)"
      ],
      "metadata": {
        "id": "xShGHzd4eMbr"
      },
      "execution_count": null,
      "outputs": []
    },
    {
      "cell_type": "markdown",
      "source": [
        "Let's assume we don't like the column name `name`, and we want to rename it to `factor`. We can do that using the `.rename()` method. Because we want to rename a column, we use the keyword argument `columns`:"
      ],
      "metadata": {
        "id": "rpF-TlUU3coX"
      }
    },
    {
      "cell_type": "code",
      "source": [
        "df = df.rename(columns = {'name':'factor'})\n",
        "df.head()"
      ],
      "metadata": {
        "id": "aiJIk14q3b7G"
      },
      "execution_count": null,
      "outputs": []
    },
    {
      "cell_type": "markdown",
      "source": [
        "For now, we only want to work with a single factor: `cash_at`. So we use the `query` method to filter the data:"
      ],
      "metadata": {
        "id": "WJoSSBLje4un"
      }
    },
    {
      "cell_type": "code",
      "source": [
        "input_data = df.query(\"factor=='cash_at'\")"
      ],
      "metadata": {
        "id": "O4WJq43ue3n5"
      },
      "execution_count": null,
      "outputs": []
    },
    {
      "cell_type": "code",
      "source": [
        "input_data.head()"
      ],
      "metadata": {
        "id": "GufAUfSUzaEs"
      },
      "execution_count": null,
      "outputs": []
    },
    {
      "cell_type": "markdown",
      "source": [
        "We can make a chart (or a \"plot\") by calling the `plot` method."
      ],
      "metadata": {
        "id": "fsAXlyEdgYWK"
      }
    },
    {
      "cell_type": "code",
      "source": [
        "input_data.plot()"
      ],
      "metadata": {
        "id": "uZ-itE3wggm0"
      },
      "execution_count": null,
      "outputs": []
    },
    {
      "cell_type": "markdown",
      "source": [
        "Well... it's a chart, but we can improve it by focusing on the relevant things. Let's only look at the number of stocks:"
      ],
      "metadata": {
        "id": "GhfnVDpBgkUW"
      }
    },
    {
      "cell_type": "code",
      "source": [
        "input_data['n_stocks'].plot()"
      ],
      "metadata": {
        "id": "esS_Dw_cgK1Q"
      },
      "execution_count": null,
      "outputs": []
    },
    {
      "cell_type": "markdown",
      "source": [
        "Better! The x-axis still looks not like what we would want. Why is that? It's the index of the data. But we want to use the date as the x-axis. So let's manually fix the x-axis and plot it again. Instead of taking out a single column and plotting it, we are taking the full DataFrame and telling pandas which columns should go where. Let's plot both `n_stocks` and `n_stocks_min`."
      ],
      "metadata": {
        "id": "B6ONIJ_dhK1k"
      }
    },
    {
      "cell_type": "code",
      "source": [
        "input_data.plot(x='date', y=['n_stocks', 'n_stocks_min'])"
      ],
      "metadata": {
        "id": "3DcKoc3ffGHJ"
      },
      "execution_count": null,
      "outputs": []
    },
    {
      "cell_type": "markdown",
      "source": [
        "Now that looks a lot better!"
      ],
      "metadata": {
        "id": "3fNaH0bKh9Xf"
      }
    },
    {
      "cell_type": "markdown",
      "source": [
        "**Quick exercise**\n",
        "\n",
        "Plot the `n_stocks_min` against `n_stocks` as a scatterplot. Set the title to `Scatterplot` and use log-scaling for the y-axis. Check [the documentation](https://pandas.pydata.org/docs/reference/api/pandas.DataFrame.plot.html) for hints."
      ],
      "metadata": {
        "id": "W-thPc5Fi0Cj"
      }
    },
    {
      "cell_type": "markdown",
      "source": [
        "## Seaborn Plots\n",
        "The pandas library is very nice to use for some quick-and-dirty plots. For plots that you might want to put into your thesis, and some special types of plots, seaborn is the better choice.\n",
        "\n",
        "To make them look nicer, we can choose styles. You can look [here](https://python-charts.com/seaborn/themes/) for some examples."
      ],
      "metadata": {
        "id": "TbgYrjx4jqi2"
      }
    },
    {
      "cell_type": "code",
      "source": [
        "import seaborn as sns\n",
        "sns.set_style(\"darkgrid\") # This is important for making it look nicer!"
      ],
      "metadata": {
        "id": "30hV-pBZ3EKN"
      },
      "execution_count": null,
      "outputs": []
    },
    {
      "cell_type": "markdown",
      "source": [
        "In seaborn, we can simply use `pd.DataFrame` objects as data arguments to the plot functions. Using  [`lineplot`](https://seaborn.pydata.org/generated/seaborn.lineplot.html) we can create lineplots.\n",
        "\n",
        "To pass data to the plot, we use the `data` argument:"
      ],
      "metadata": {
        "id": "m8b7BKzs3ETb"
      }
    },
    {
      "cell_type": "code",
      "source": [
        "sns.lineplot(x=\"date\",y=\"n_stocks\",data=input_data)"
      ],
      "metadata": {
        "id": "zkg4SP7OkcWI"
      },
      "execution_count": null,
      "outputs": []
    },
    {
      "cell_type": "markdown",
      "source": [
        "using [`histplot`](https://seaborn.pydata.org/generated/seaborn.histplot.html) we can create histograms"
      ],
      "metadata": {
        "id": "EvYA9ce62vk_"
      }
    },
    {
      "cell_type": "code",
      "source": [
        "sns.histplot(\n",
        "    x='n_stocks',\n",
        "    data = input_data,\n",
        ")"
      ],
      "metadata": {
        "id": "mGneNYAYzl3x"
      },
      "execution_count": null,
      "outputs": []
    },
    {
      "cell_type": "markdown",
      "source": [
        "And using [`scatterplot`](https://seaborn.pydata.org/generated/seaborn.scatterplot.html) we can create scatter plots. To color the dots based on their return (column `ret`), we can set the `hue` argument."
      ],
      "metadata": {
        "id": "5bPZrdqQ25Gf"
      }
    },
    {
      "cell_type": "code",
      "source": [
        "sns.scatterplot(x=\"n_stocks_min\", y=\"n_stocks\", hue='ret', data=input_data)"
      ],
      "metadata": {
        "id": "DXNKcuX21BZi"
      },
      "execution_count": null,
      "outputs": []
    },
    {
      "cell_type": "markdown",
      "source": [
        "Another very useful type of plots is the [`heatmap`](https://seaborn.pydata.org/generated/seaborn.heatmap.html). We can use it for example to show a visual representatio of a correlation matrix."
      ],
      "metadata": {
        "id": "ZS8jlKBS9FkG"
      }
    },
    {
      "cell_type": "code",
      "source": [
        "correlation_matrix = input_data[['ret','n_stocks','n_stocks_min']].corr()\n",
        "correlation_matrix"
      ],
      "metadata": {
        "id": "e6mhreDdrasy"
      },
      "execution_count": null,
      "outputs": []
    },
    {
      "cell_type": "code",
      "source": [
        "sns.heatmap(correlation_matrix, annot=True, vmin=-1, vmax=1, cmap=\"crest\")"
      ],
      "metadata": {
        "id": "snfLAKYMsC45"
      },
      "execution_count": null,
      "outputs": []
    },
    {
      "cell_type": "markdown",
      "source": [
        "**Quick exercise**\n",
        "\n",
        "- Check out available [color palettes](https://seaborn.pydata.org/tutorial/color_palettes.html) for seaborn.\n",
        "- Plot the correlation heatmap using a diverging color palette."
      ],
      "metadata": {
        "id": "VVaQGnvlyQ02"
      }
    },
    {
      "cell_type": "markdown",
      "source": [
        "## When to use matplotlib\n",
        "\n",
        "matplotlib is the underlying package that pandas and seaborn rely on. They simply make it nicer and easier to use.\n",
        "\n",
        "For some features, matplotlib still comes in very handy.\n",
        "\n",
        "For example to plot a horizontal or vertical line at a specific point."
      ],
      "metadata": {
        "id": "r-9GL6CI6Ir7"
      }
    },
    {
      "cell_type": "code",
      "source": [
        "fig = sns.scatterplot(x=\"n_stocks_min\", y=\"n_stocks\", hue='ret', data=input_data) # We need to store the plot into a variable that we can then modify and add features to\n",
        "\n",
        "fig.axhline(y=1000, color='r')\n",
        "\n",
        "fig.axvline(x=1000, color='b')"
      ],
      "metadata": {
        "id": "tNs3XsbU6jPg"
      },
      "execution_count": null,
      "outputs": []
    },
    {
      "cell_type": "markdown",
      "source": [
        "## Exercises"
      ],
      "metadata": {
        "id": "nfy0548NJoQ8"
      }
    },
    {
      "cell_type": "markdown",
      "source": [
        "a)\n",
        "Filter the `df` dataframe so that it includes rows where \"factor\" is either \"cash_at\" or \"debt_me\".\n",
        "\n",
        "- Create a seaborn plot of the n_stocks over time for each factor.\n",
        "- Draw a seaborn histogram for the distribution of n_stocks for each of the two \"factor\".\n",
        "- Create a seaborn scatterplot of \"ret\" (on x) and \"n_stocks\" (on y). Ensure that we have different markers and colors for the two different \"factor\". Use an appropriate type of color palette for this.\n"
      ],
      "metadata": {
        "id": "7eKwWZzmJpYk"
      }
    },
    {
      "cell_type": "markdown",
      "source": [
        "b)\n",
        "- Take a random sample of 5 \"factor\"\n",
        "- Filter the dataframe to rows corresponding to that \"factor\". Check the help for `query`. It tells you how to access variables.\n",
        "- `pivot` the data, so that index is `date`, columns are `factor`, values are `ret`.\n",
        "- Calculate the return correlation\n",
        "- Plot it as heatmap; use an appropriate color palette"
      ],
      "metadata": {
        "id": "w4mucLiMOPe2"
      }
    },
    {
      "cell_type": "markdown",
      "source": [
        "c)\n",
        "- Take the simple lineplot from part a).\n",
        "- Save the output to a PDF file. Check the type and then use the internet to find help.\n",
        "- Download it to your computer and take a look.\n",
        "- Turn your code for saving the plot into a function, which allows you to specify the filename."
      ],
      "metadata": {
        "id": "90utUNGD7jTq"
      }
    }
  ]
}